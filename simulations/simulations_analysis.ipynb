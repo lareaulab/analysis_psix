{
 "cells": [
  {
   "cell_type": "code",
   "execution_count": 1,
   "metadata": {},
   "outputs": [],
   "source": [
    "import numpy as np\n",
    "import pandas as pd\n",
    "from matplotlib import pyplot as plt\n",
    "import os\n",
    "import sys\n",
    "from tqdm import tqdm\n",
    "sys.path.insert(0, '/mnt/lareaulab/cfbuenabadn/psix_project/psix/psix/')\n",
    "import psix"
   ]
  },
  {
   "cell_type": "code",
   "execution_count": 201,
   "metadata": {},
   "outputs": [
    {
     "name": "stdout",
     "output_type": "stream",
     "text": [
      "Obtaining psi tables...\n",
      "Reading TPM and transforming to mRNA counts...\n"
     ]
    },
    {
     "name": "stderr",
     "output_type": "stream",
     "text": [
      "100%|██████████| 1000/1000 [00:20<00:00, 49.49it/s]\n",
      "100%|██████████| 1000/1000 [00:00<00:00, 8271.48it/s]"
     ]
    },
    {
     "name": "stdout",
     "output_type": "stream",
     "text": [
      "Successfully processed RNA-seq data\n",
      "cell-cell metric not found. Computing metric...\n",
      "Successfully computed cell-cell metric\n",
      "Computing Psix score in 3486 exons\n"
     ]
    },
    {
     "name": "stderr",
     "output_type": "stream",
     "text": [
      "\n",
      "100%|██████████| 3486/3486 [00:34<00:00, 100.39it/s] \n"
     ]
    },
    {
     "name": "stdout",
     "output_type": "stream",
     "text": [
      "Successfully computed Psix score of exons.\n",
      "...\n",
      "\n",
      "Estimating p-values. This might take a while...\n"
     ]
    },
    {
     "name": "stderr",
     "output_type": "stream",
     "text": [
      "100%|██████████| 25/25 [41:12<00:00, 98.91s/it]   \n"
     ]
    },
    {
     "name": "stdout",
     "output_type": "stream",
     "text": [
      "Successfully estimated p-values\n"
     ]
    }
   ],
   "source": [
    "psix_single_lineage = psix.Psix()\n",
    "psix_single_lineage.process_rnaseq(\n",
    "        'single_lineage/processed_tables/SE_counts_0.1.tab.gz',\n",
    "        'single_lineage/processed_tables/constitutive_introns_0.1.tab.gz',\n",
    "        'single_lineage/processed_tables/tpm_0.1.tab.gz',\n",
    "        minJR = 1,\n",
    "        minCell=1,\n",
    "        min_observed = 0.25)\n",
    "\n",
    "psix_single_lineage.compute_psix_scores(latent='single_lineage/processed_tables/pc2_rd.tab.gz', n_jobs=25, \n",
    "                                n_random_exons=10000, n_neighbors=100)\n"
   ]
  },
  {
   "cell_type": "code",
   "execution_count": 3,
   "metadata": {},
   "outputs": [],
   "source": [
    "from scipy.stats import kruskal\n",
    "from statsmodels.stats.multitest import multipletests\n",
    "\n",
    "\n",
    "def run_kw(exon_psi, labels):\n",
    "    kw_input = []\n",
    "    for l in labels:\n",
    "        kw_input.append(list(exon_psi[l]))\n",
    "        \n",
    "    if len(labels) == 2:\n",
    "        return kruskal(kw_input[0], kw_input[1], nan_policy='omit')\n",
    "    if len(labels) == 3:\n",
    "        return kruskal(kw_input[0], kw_input[1], kw_input[2], nan_policy='omit')\n",
    "    if len(labels) == 4:\n",
    "        return kruskal(kw_input[0], kw_input[1], kw_input[2], kw_input[3], nan_policy='omit')\n",
    "    if len(labels) == 5:\n",
    "        return kruskal(kw_input[0], kw_input[1], kw_input[2], kw_input[3], kw_input[4], nan_policy='omit')\n",
    "    if len(labels) == 6:\n",
    "        return kruskal(kw_input[0], kw_input[1], kw_input[2], kw_input[3], kw_input[4], kw_input[5], nan_policy='omit')\n",
    "    if len(labels) == 7:\n",
    "        return kruskal(kw_input[0], kw_input[1], kw_input[2], kw_input[3], kw_input[4], kw_input[5], kw_input[6], nan_policy='omit')\n",
    "    if len(labels) == 8:\n",
    "        return kruskal(kw_input[0], kw_input[1], kw_input[2], kw_input[3], kw_input[4], kw_input[5], kw_input[6], kw_input[7], nan_policy='omit')\n",
    "    \n",
    "def run_kw_dset(psi_table, labels, exon_list):\n",
    "    kw_output = pd.DataFrame()\n",
    "    kw_score = []\n",
    "    pvals = []\n",
    "    for exon in tqdm(exon_list, position=0, leave=True):\n",
    "        score, p = run_kw(psi_table.loc[exon], labels)\n",
    "        kw_score.append(score)\n",
    "        pvals.append(p)\n",
    "    kw_output['KW_score'] = kw_score\n",
    "    kw_output['pvals'] = pvals\n",
    "    kw_output['qvals'] = multipletests(pvals, method='fdr_bh')[1]\n",
    "    kw_output.index = exon_list\n",
    "    return kw_output\n",
    "\n",
    "# tiklova_kw = run_kw_dset(tiklova_PSI, tiklova_labels, tiklova_psix.index)"
   ]
  },
  {
   "cell_type": "code",
   "execution_count": 4,
   "metadata": {},
   "outputs": [],
   "source": [
    "meta = pd.read_csv('single_lineage/sim_output/meta.tab', sep='\\t')\n",
    "meta.index=['cell_'+str(i+1) for i in range(1000)]"
   ]
  },
  {
   "cell_type": "code",
   "execution_count": 88,
   "metadata": {},
   "outputs": [],
   "source": [
    "from sklearn.cluster import AgglomerativeClustering\n",
    "ac = AgglomerativeClustering(8)\n",
    "\n",
    "rd = pd.read_csv('single_lineage/processed_tables/pc2_rd.tab.gz', sep='\\t', index_col=0)\n",
    "labels_ac = ac.fit_predict(rd)\n",
    "\n",
    "labels = [rd.loc[labels_ac==0].index, rd.loc[labels_ac==1].index, rd.loc[labels_ac==2].index,\n",
    "          rd.loc[labels_ac==3].index, rd.loc[labels_ac==4].index, rd.loc[labels_ac==5].index,\n",
    "         rd.loc[labels_ac==6].index, rd.loc[labels_ac==7].index]"
   ]
  },
  {
   "cell_type": "code",
   "execution_count": 73,
   "metadata": {},
   "outputs": [
    {
     "data": {
      "text/html": [
       "<div>\n",
       "<style scoped>\n",
       "    .dataframe tbody tr th:only-of-type {\n",
       "        vertical-align: middle;\n",
       "    }\n",
       "\n",
       "    .dataframe tbody tr th {\n",
       "        vertical-align: top;\n",
       "    }\n",
       "\n",
       "    .dataframe thead th {\n",
       "        text-align: right;\n",
       "    }\n",
       "</style>\n",
       "<table border=\"1\" class=\"dataframe\">\n",
       "  <thead>\n",
       "    <tr style=\"text-align: right;\">\n",
       "      <th></th>\n",
       "      <th>PC_1</th>\n",
       "      <th>PC_2</th>\n",
       "    </tr>\n",
       "  </thead>\n",
       "  <tbody>\n",
       "  </tbody>\n",
       "</table>\n",
       "</div>"
      ],
      "text/plain": [
       "Empty DataFrame\n",
       "Columns: [PC_1, PC_2]\n",
       "Index: []"
      ]
     },
     "execution_count": 73,
     "metadata": {},
     "output_type": "execute_result"
    }
   ],
   "source": [
    "rd.loc[labels_ac==5]"
   ]
  },
  {
   "cell_type": "code",
   "execution_count": 5,
   "metadata": {},
   "outputs": [],
   "source": [
    "pop_1 = meta.loc[meta['pop'] == '3_1'].index\n",
    "pop_2 = meta.loc[meta['pop'] == '3_2'].index\n",
    "labels = [pop_1, pop_2]"
   ]
  },
  {
   "cell_type": "code",
   "execution_count": 202,
   "metadata": {},
   "outputs": [],
   "source": [
    "psix_results = psix_single_lineage.psix_results"
   ]
  },
  {
   "cell_type": "code",
   "execution_count": 7,
   "metadata": {},
   "outputs": [
    {
     "data": {
      "text/plain": [
       "(array([1446.,  174.,  145.,  116.,  131.,  102.,  104.,  101.,   80.,\n",
       "          85.,   91.,   96.,   93.,  125.,   89.,   99.,  100.,   96.,\n",
       "         106.,  107.]),\n",
       " array([4.99750125e-04, 5.04747626e-02, 1.00449775e-01, 1.50424788e-01,\n",
       "        2.00399800e-01, 2.50374813e-01, 3.00349825e-01, 3.50324838e-01,\n",
       "        4.00299850e-01, 4.50274863e-01, 5.00249875e-01, 5.50224888e-01,\n",
       "        6.00199900e-01, 6.50174913e-01, 7.00149925e-01, 7.50124938e-01,\n",
       "        8.00099950e-01, 8.50074963e-01, 9.00049975e-01, 9.50024988e-01,\n",
       "        1.00000000e+00]),\n",
       " <a list of 20 Patch objects>)"
      ]
     },
     "execution_count": 7,
     "metadata": {},
     "output_type": "execute_result"
    },
    {
     "data": {
      "image/png": "[encoded data removed]",
      "text/plain": [
       "<Figure size 432x288 with 1 Axes>"
      ]
     },
     "metadata": {
      "needs_background": "light"
     },
     "output_type": "display_data"
    }
   ],
   "source": [
    "plt.hist(psix_single_lineage.psix_results.pvals, bins=20)#.index"
   ]
  },
  {
   "cell_type": "code",
   "execution_count": 8,
   "metadata": {},
   "outputs": [
    {
     "name": "stderr",
     "output_type": "stream",
     "text": [
      "100%|██████████| 3486/3486 [00:26<00:00, 130.21it/s]\n"
     ]
    }
   ],
   "source": [
    "tiklova_kw = run_kw_dset(psix_single_lineage.adata.uns['psi'][psix_single_lineage.psix_results.index].T, \n",
    "                         labels, psix_single_lineage.psix_results.index)"
   ]
  },
  {
   "cell_type": "code",
   "execution_count": 11,
   "metadata": {},
   "outputs": [],
   "source": [
    "pos = pd.Index(['gene' + str(i) for i in range(1, 2501)]) & psix_results.index\n",
    "neg = pd.Index(['gene' + str(i) for i in range(2501, 5001)]) & psix_results.index\n",
    "labels = [1]*len(pos) + [0]*len(neg)\n",
    "order = list(pos) + list(neg)"
   ]
  },
  {
   "cell_type": "code",
   "execution_count": 12,
   "metadata": {},
   "outputs": [],
   "source": [
    "platonic_psi = pd.read_csv('single_lineage/sim_output/psi_platonic.tab', sep='\\t', \n",
    "                           names = ['cell_'+str(i+1) for i in range(1000)])\n",
    "platonic_psi.index = ['gene' + str(i+1) for i in range(5000)]\n",
    "\n",
    "from scipy.special import logit, expit\n",
    "platonic_psi = expit(platonic_psi)"
   ]
  },
  {
   "cell_type": "code",
   "execution_count": 85,
   "metadata": {},
   "outputs": [],
   "source": [
    "y_ = list(((platonic_psi.max(axis=1) - platonic_psi.min(axis=1)) >= 0.01).astype(int).loc[order])"
   ]
  },
  {
   "cell_type": "code",
   "execution_count": 86,
   "metadata": {},
   "outputs": [],
   "source": [
    "from sklearn.metrics import precision_recall_curve\n",
    "\n",
    "pre, rec, thres = precision_recall_curve(y_, psix_results.loc[order].psix_score)\n",
    "pre_kw, rec_kw, thres_kw = precision_recall_curve(y_, tiklova_kw.loc[order].KW_score)\n",
    "pre_h, rec_h, thres_h = precision_recall_curve(y_, hs_results.loc[order].Z)"
   ]
  },
  {
   "cell_type": "code",
   "execution_count": 8,
   "metadata": {},
   "outputs": [],
   "source": []
  },
  {
   "cell_type": "code",
   "execution_count": 203,
   "metadata": {},
   "outputs": [],
   "source": [
    "from sklearn.metrics import precision_recall_curve\n",
    "from sklearn.metrics import precision_score\n",
    "from sklearn.metrics import recall_score\n",
    "from sklearn.metrics import f1_score\n",
    "\n",
    "\n",
    "pre, rec, thres = precision_recall_curve(labels, psix_results.loc[order].psix_score)\n",
    "pre_kw, rec_kw, thres_kw = precision_recall_curve(labels, tiklova_kw.loc[order].KW_score)\n",
    "pre_h, rec_h, thres_h = precision_recall_curve(labels, hs_results.loc[order].Z)"
   ]
  },
  {
   "cell_type": "code",
   "execution_count": null,
   "metadata": {},
   "outputs": [],
   "source": []
  },
  {
   "cell_type": "code",
   "execution_count": 204,
   "metadata": {},
   "outputs": [
    {
     "data": {
      "text/plain": [
       "[<matplotlib.lines.Line2D at 0x7f6ecb63e310>]"
      ]
     },
     "execution_count": 204,
     "metadata": {},
     "output_type": "execute_result"
    },
    {
     "data": {
      "image/png": "[encoded data removed]",
      "text/plain": [
       "<Figure size 432x288 with 1 Axes>"
      ]
     },
     "metadata": {
      "needs_background": "light"
     },
     "output_type": "display_data"
    }
   ],
   "source": [
    "plt.plot(rec, pre)\n",
    "plt.plot(rec_kw, pre_kw)\n",
    "plt.plot(rec_h, pre_h)"
   ]
  },
  {
   "cell_type": "code",
   "execution_count": 89,
   "metadata": {},
   "outputs": [
    {
     "data": {
      "text/plain": [
       "0.5024687772291606"
      ]
     },
     "execution_count": 89,
     "metadata": {},
     "output_type": "execute_result"
    }
   ],
   "source": [
    "precision_score(y_, hs_results.FDR <= 0.05)"
   ]
  },
  {
   "cell_type": "code",
   "execution_count": 94,
   "metadata": {},
   "outputs": [
    {
     "data": {
      "text/plain": [
       "0.7630057803468208"
      ]
     },
     "execution_count": 94,
     "metadata": {},
     "output_type": "execute_result"
    }
   ],
   "source": [
    "recall_score(y_, tiklova_kw.loc[order].qvals <= 0.05)"
   ]
  },
  {
   "cell_type": "code",
   "execution_count": 95,
   "metadata": {},
   "outputs": [
    {
     "data": {
      "text/plain": [
       "0.738728323699422"
      ]
     },
     "execution_count": 95,
     "metadata": {},
     "output_type": "execute_result"
    }
   ],
   "source": [
    "recall_score(y_, psix_results.qvals <= 0.05)"
   ]
  },
  {
   "cell_type": "code",
   "execution_count": 199,
   "metadata": {},
   "outputs": [
    {
     "name": "stderr",
     "output_type": "stream",
     "text": [
      "100%|██████████| 3486/3486 [00:00<00:00, 5487.77it/s]\n"
     ]
    }
   ],
   "source": [
    "import hotspot\n",
    "rd = pd.read_csv('single_lineage/processed_tables/pc2_rd.tab.gz', sep='\\t', index_col=0)\n",
    "\n",
    "psi_table = psix_single_lineage.adata.uns['psi'][psix_single_lineage.psix_results.index].T\n",
    "psi_tab_imputed = psi_table.T.fillna(psi_table.T.mean(axis=0)).T\n",
    "hs = hotspot.Hotspot(psi_tab_imputed, model='none', latent=rd, umi_counts=np.ones(len(psi_table.columns)))\n",
    "hs.create_knn_graph(weighted_graph=False, n_neighbors=100)\n",
    "hs_results = hs.compute_autocorrelations()"
   ]
  },
  {
   "cell_type": "code",
   "execution_count": 43,
   "metadata": {},
   "outputs": [
    {
     "data": {
      "text/html": [
       "<div>\n",
       "<style scoped>\n",
       "    .dataframe tbody tr th:only-of-type {\n",
       "        vertical-align: middle;\n",
       "    }\n",
       "\n",
       "    .dataframe tbody tr th {\n",
       "        vertical-align: top;\n",
       "    }\n",
       "\n",
       "    .dataframe thead th {\n",
       "        text-align: right;\n",
       "    }\n",
       "</style>\n",
       "<table border=\"1\" class=\"dataframe\">\n",
       "  <thead>\n",
       "    <tr style=\"text-align: right;\">\n",
       "      <th></th>\n",
       "      <th>cell_1</th>\n",
       "      <th>cell_2</th>\n",
       "      <th>cell_3</th>\n",
       "      <th>cell_4</th>\n",
       "      <th>cell_5</th>\n",
       "      <th>cell_6</th>\n",
       "      <th>cell_7</th>\n",
       "      <th>cell_8</th>\n",
       "      <th>cell_9</th>\n",
       "      <th>cell_10</th>\n",
       "      <th>...</th>\n",
       "      <th>cell_991</th>\n",
       "      <th>cell_992</th>\n",
       "      <th>cell_993</th>\n",
       "      <th>cell_994</th>\n",
       "      <th>cell_995</th>\n",
       "      <th>cell_996</th>\n",
       "      <th>cell_997</th>\n",
       "      <th>cell_998</th>\n",
       "      <th>cell_999</th>\n",
       "      <th>cell_1000</th>\n",
       "    </tr>\n",
       "  </thead>\n",
       "  <tbody>\n",
       "    <tr>\n",
       "      <th>gene1128</th>\n",
       "      <td>1.000000</td>\n",
       "      <td>0.200000</td>\n",
       "      <td>1.000000</td>\n",
       "      <td>1.000000</td>\n",
       "      <td>0.529412</td>\n",
       "      <td>0.846154</td>\n",
       "      <td>1.000000</td>\n",
       "      <td>1.000000</td>\n",
       "      <td>0.000000</td>\n",
       "      <td>0.764706</td>\n",
       "      <td>...</td>\n",
       "      <td>0.538129</td>\n",
       "      <td>0.000000</td>\n",
       "      <td>0.538129</td>\n",
       "      <td>0.000000</td>\n",
       "      <td>0.000000</td>\n",
       "      <td>0.000000</td>\n",
       "      <td>0.538129</td>\n",
       "      <td>0.272727</td>\n",
       "      <td>0.538129</td>\n",
       "      <td>0.000000</td>\n",
       "    </tr>\n",
       "    <tr>\n",
       "      <th>gene1880</th>\n",
       "      <td>0.128205</td>\n",
       "      <td>0.000000</td>\n",
       "      <td>0.176471</td>\n",
       "      <td>0.000000</td>\n",
       "      <td>0.333333</td>\n",
       "      <td>0.414634</td>\n",
       "      <td>0.000000</td>\n",
       "      <td>0.381428</td>\n",
       "      <td>0.381428</td>\n",
       "      <td>0.111111</td>\n",
       "      <td>...</td>\n",
       "      <td>1.000000</td>\n",
       "      <td>1.000000</td>\n",
       "      <td>0.606061</td>\n",
       "      <td>0.381428</td>\n",
       "      <td>0.600000</td>\n",
       "      <td>1.000000</td>\n",
       "      <td>1.000000</td>\n",
       "      <td>1.000000</td>\n",
       "      <td>0.600000</td>\n",
       "      <td>1.000000</td>\n",
       "    </tr>\n",
       "    <tr>\n",
       "      <th>gene2332</th>\n",
       "      <td>0.500000</td>\n",
       "      <td>1.000000</td>\n",
       "      <td>0.750000</td>\n",
       "      <td>0.846154</td>\n",
       "      <td>0.714286</td>\n",
       "      <td>0.531915</td>\n",
       "      <td>0.625000</td>\n",
       "      <td>0.733333</td>\n",
       "      <td>1.000000</td>\n",
       "      <td>0.529412</td>\n",
       "      <td>...</td>\n",
       "      <td>1.000000</td>\n",
       "      <td>1.000000</td>\n",
       "      <td>0.818182</td>\n",
       "      <td>1.000000</td>\n",
       "      <td>1.000000</td>\n",
       "      <td>1.000000</td>\n",
       "      <td>1.000000</td>\n",
       "      <td>1.000000</td>\n",
       "      <td>0.769231</td>\n",
       "      <td>0.846154</td>\n",
       "    </tr>\n",
       "    <tr>\n",
       "      <th>gene705</th>\n",
       "      <td>0.534922</td>\n",
       "      <td>0.534922</td>\n",
       "      <td>0.000000</td>\n",
       "      <td>0.534922</td>\n",
       "      <td>0.534922</td>\n",
       "      <td>0.000000</td>\n",
       "      <td>0.000000</td>\n",
       "      <td>0.534922</td>\n",
       "      <td>0.534922</td>\n",
       "      <td>0.534922</td>\n",
       "      <td>...</td>\n",
       "      <td>0.534922</td>\n",
       "      <td>0.534922</td>\n",
       "      <td>1.000000</td>\n",
       "      <td>1.000000</td>\n",
       "      <td>1.000000</td>\n",
       "      <td>1.000000</td>\n",
       "      <td>0.629630</td>\n",
       "      <td>0.534922</td>\n",
       "      <td>0.534922</td>\n",
       "      <td>1.000000</td>\n",
       "    </tr>\n",
       "    <tr>\n",
       "      <th>gene1878</th>\n",
       "      <td>0.000000</td>\n",
       "      <td>0.000000</td>\n",
       "      <td>0.000000</td>\n",
       "      <td>0.000000</td>\n",
       "      <td>0.250000</td>\n",
       "      <td>0.015873</td>\n",
       "      <td>0.125000</td>\n",
       "      <td>0.166667</td>\n",
       "      <td>0.333333</td>\n",
       "      <td>0.000000</td>\n",
       "      <td>...</td>\n",
       "      <td>1.000000</td>\n",
       "      <td>1.000000</td>\n",
       "      <td>1.000000</td>\n",
       "      <td>1.000000</td>\n",
       "      <td>1.000000</td>\n",
       "      <td>0.750000</td>\n",
       "      <td>1.000000</td>\n",
       "      <td>0.349769</td>\n",
       "      <td>0.250000</td>\n",
       "      <td>0.600000</td>\n",
       "    </tr>\n",
       "    <tr>\n",
       "      <th>...</th>\n",
       "      <td>...</td>\n",
       "      <td>...</td>\n",
       "      <td>...</td>\n",
       "      <td>...</td>\n",
       "      <td>...</td>\n",
       "      <td>...</td>\n",
       "      <td>...</td>\n",
       "      <td>...</td>\n",
       "      <td>...</td>\n",
       "      <td>...</td>\n",
       "      <td>...</td>\n",
       "      <td>...</td>\n",
       "      <td>...</td>\n",
       "      <td>...</td>\n",
       "      <td>...</td>\n",
       "      <td>...</td>\n",
       "      <td>...</td>\n",
       "      <td>...</td>\n",
       "      <td>...</td>\n",
       "      <td>...</td>\n",
       "      <td>...</td>\n",
       "    </tr>\n",
       "    <tr>\n",
       "      <th>gene4900</th>\n",
       "      <td>1.000000</td>\n",
       "      <td>0.000000</td>\n",
       "      <td>0.250000</td>\n",
       "      <td>0.000000</td>\n",
       "      <td>0.000000</td>\n",
       "      <td>0.000000</td>\n",
       "      <td>0.103153</td>\n",
       "      <td>0.103153</td>\n",
       "      <td>0.103153</td>\n",
       "      <td>0.000000</td>\n",
       "      <td>...</td>\n",
       "      <td>0.000000</td>\n",
       "      <td>0.103153</td>\n",
       "      <td>0.103153</td>\n",
       "      <td>0.103153</td>\n",
       "      <td>0.103153</td>\n",
       "      <td>0.000000</td>\n",
       "      <td>0.103153</td>\n",
       "      <td>0.103153</td>\n",
       "      <td>0.000000</td>\n",
       "      <td>0.103153</td>\n",
       "    </tr>\n",
       "    <tr>\n",
       "      <th>gene3637</th>\n",
       "      <td>0.483050</td>\n",
       "      <td>0.483050</td>\n",
       "      <td>0.483050</td>\n",
       "      <td>0.483050</td>\n",
       "      <td>0.483050</td>\n",
       "      <td>0.483050</td>\n",
       "      <td>0.483050</td>\n",
       "      <td>0.483050</td>\n",
       "      <td>0.483050</td>\n",
       "      <td>0.483050</td>\n",
       "      <td>...</td>\n",
       "      <td>0.483050</td>\n",
       "      <td>0.483050</td>\n",
       "      <td>1.000000</td>\n",
       "      <td>0.483050</td>\n",
       "      <td>0.483050</td>\n",
       "      <td>0.483050</td>\n",
       "      <td>0.483050</td>\n",
       "      <td>0.483050</td>\n",
       "      <td>0.483050</td>\n",
       "      <td>0.000000</td>\n",
       "    </tr>\n",
       "    <tr>\n",
       "      <th>gene3293</th>\n",
       "      <td>0.300331</td>\n",
       "      <td>0.300331</td>\n",
       "      <td>1.000000</td>\n",
       "      <td>0.300331</td>\n",
       "      <td>0.300331</td>\n",
       "      <td>1.000000</td>\n",
       "      <td>0.300331</td>\n",
       "      <td>0.300331</td>\n",
       "      <td>0.300331</td>\n",
       "      <td>1.000000</td>\n",
       "      <td>...</td>\n",
       "      <td>1.000000</td>\n",
       "      <td>0.300331</td>\n",
       "      <td>0.300331</td>\n",
       "      <td>0.300331</td>\n",
       "      <td>0.300331</td>\n",
       "      <td>0.300331</td>\n",
       "      <td>0.000000</td>\n",
       "      <td>0.300331</td>\n",
       "      <td>0.300331</td>\n",
       "      <td>0.300331</td>\n",
       "    </tr>\n",
       "    <tr>\n",
       "      <th>gene2372</th>\n",
       "      <td>0.327466</td>\n",
       "      <td>0.327466</td>\n",
       "      <td>0.090909</td>\n",
       "      <td>0.000000</td>\n",
       "      <td>0.327466</td>\n",
       "      <td>0.327466</td>\n",
       "      <td>0.000000</td>\n",
       "      <td>0.327466</td>\n",
       "      <td>0.327466</td>\n",
       "      <td>0.327466</td>\n",
       "      <td>...</td>\n",
       "      <td>0.327466</td>\n",
       "      <td>0.200000</td>\n",
       "      <td>0.327466</td>\n",
       "      <td>0.000000</td>\n",
       "      <td>0.327466</td>\n",
       "      <td>0.327466</td>\n",
       "      <td>0.000000</td>\n",
       "      <td>0.327466</td>\n",
       "      <td>0.327466</td>\n",
       "      <td>0.327466</td>\n",
       "    </tr>\n",
       "    <tr>\n",
       "      <th>gene2807</th>\n",
       "      <td>0.000000</td>\n",
       "      <td>0.706501</td>\n",
       "      <td>0.706501</td>\n",
       "      <td>1.000000</td>\n",
       "      <td>1.000000</td>\n",
       "      <td>0.846154</td>\n",
       "      <td>0.706501</td>\n",
       "      <td>0.706501</td>\n",
       "      <td>0.706501</td>\n",
       "      <td>0.333333</td>\n",
       "      <td>...</td>\n",
       "      <td>1.000000</td>\n",
       "      <td>1.000000</td>\n",
       "      <td>0.706501</td>\n",
       "      <td>0.706501</td>\n",
       "      <td>0.706501</td>\n",
       "      <td>0.706501</td>\n",
       "      <td>0.706501</td>\n",
       "      <td>0.581395</td>\n",
       "      <td>0.333333</td>\n",
       "      <td>0.706501</td>\n",
       "    </tr>\n",
       "  </tbody>\n",
       "</table>\n",
       "<p>3486 rows × 1000 columns</p>\n",
       "</div>"
      ],
      "text/plain": [
       "            cell_1    cell_2    cell_3    cell_4    cell_5    cell_6  \\\n",
       "gene1128  1.000000  0.200000  1.000000  1.000000  0.529412  0.846154   \n",
       "gene1880  0.128205  0.000000  0.176471  0.000000  0.333333  0.414634   \n",
       "gene2332  0.500000  1.000000  0.750000  0.846154  0.714286  0.531915   \n",
       "gene705   0.534922  0.534922  0.000000  0.534922  0.534922  0.000000   \n",
       "gene1878  0.000000  0.000000  0.000000  0.000000  0.250000  0.015873   \n",
       "...            ...       ...       ...       ...       ...       ...   \n",
       "gene4900  1.000000  0.000000  0.250000  0.000000  0.000000  0.000000   \n",
       "gene3637  0.483050  0.483050  0.483050  0.483050  0.483050  0.483050   \n",
       "gene3293  0.300331  0.300331  1.000000  0.300331  0.300331  1.000000   \n",
       "gene2372  0.327466  0.327466  0.090909  0.000000  0.327466  0.327466   \n",
       "gene2807  0.000000  0.706501  0.706501  1.000000  1.000000  0.846154   \n",
       "\n",
       "            cell_7    cell_8    cell_9   cell_10  ...  cell_991  cell_992  \\\n",
       "gene1128  1.000000  1.000000  0.000000  0.764706  ...  0.538129  0.000000   \n",
       "gene1880  0.000000  0.381428  0.381428  0.111111  ...  1.000000  1.000000   \n",
       "gene2332  0.625000  0.733333  1.000000  0.529412  ...  1.000000  1.000000   \n",
       "gene705   0.000000  0.534922  0.534922  0.534922  ...  0.534922  0.534922   \n",
       "gene1878  0.125000  0.166667  0.333333  0.000000  ...  1.000000  1.000000   \n",
       "...            ...       ...       ...       ...  ...       ...       ...   \n",
       "gene4900  0.103153  0.103153  0.103153  0.000000  ...  0.000000  0.103153   \n",
       "gene3637  0.483050  0.483050  0.483050  0.483050  ...  0.483050  0.483050   \n",
       "gene3293  0.300331  0.300331  0.300331  1.000000  ...  1.000000  0.300331   \n",
       "gene2372  0.000000  0.327466  0.327466  0.327466  ...  0.327466  0.200000   \n",
       "gene2807  0.706501  0.706501  0.706501  0.333333  ...  1.000000  1.000000   \n",
       "\n",
       "          cell_993  cell_994  cell_995  cell_996  cell_997  cell_998  \\\n",
       "gene1128  0.538129  0.000000  0.000000  0.000000  0.538129  0.272727   \n",
       "gene1880  0.606061  0.381428  0.600000  1.000000  1.000000  1.000000   \n",
       "gene2332  0.818182  1.000000  1.000000  1.000000  1.000000  1.000000   \n",
       "gene705   1.000000  1.000000  1.000000  1.000000  0.629630  0.534922   \n",
       "gene1878  1.000000  1.000000  1.000000  0.750000  1.000000  0.349769   \n",
       "...            ...       ...       ...       ...       ...       ...   \n",
       "gene4900  0.103153  0.103153  0.103153  0.000000  0.103153  0.103153   \n",
       "gene3637  1.000000  0.483050  0.483050  0.483050  0.483050  0.483050   \n",
       "gene3293  0.300331  0.300331  0.300331  0.300331  0.000000  0.300331   \n",
       "gene2372  0.327466  0.000000  0.327466  0.327466  0.000000  0.327466   \n",
       "gene2807  0.706501  0.706501  0.706501  0.706501  0.706501  0.581395   \n",
       "\n",
       "          cell_999  cell_1000  \n",
       "gene1128  0.538129   0.000000  \n",
       "gene1880  0.600000   1.000000  \n",
       "gene2332  0.769231   0.846154  \n",
       "gene705   0.534922   1.000000  \n",
       "gene1878  0.250000   0.600000  \n",
       "...            ...        ...  \n",
       "gene4900  0.000000   0.103153  \n",
       "gene3637  0.483050   0.000000  \n",
       "gene3293  0.300331   0.300331  \n",
       "gene2372  0.327466   0.327466  \n",
       "gene2807  0.333333   0.706501  \n",
       "\n",
       "[3486 rows x 1000 columns]"
      ]
     },
     "execution_count": 43,
     "metadata": {},
     "output_type": "execute_result"
    }
   ],
   "source": [
    "psi_tab_imputed"
   ]
  },
  {
   "cell_type": "code",
   "execution_count": 29,
   "metadata": {},
   "outputs": [],
   "source": [
    "psi_tab_imputed = psi_table.T.fillna(psi_table.T.mean(axis=0)).T"
   ]
  },
  {
   "cell_type": "code",
   "execution_count": 39,
   "metadata": {},
   "outputs": [
    {
     "data": {
      "text/html": [
       "<div>\n",
       "<style scoped>\n",
       "    .dataframe tbody tr th:only-of-type {\n",
       "        vertical-align: middle;\n",
       "    }\n",
       "\n",
       "    .dataframe tbody tr th {\n",
       "        vertical-align: top;\n",
       "    }\n",
       "\n",
       "    .dataframe thead th {\n",
       "        text-align: right;\n",
       "    }\n",
       "</style>\n",
       "<table border=\"1\" class=\"dataframe\">\n",
       "  <thead>\n",
       "    <tr style=\"text-align: right;\">\n",
       "      <th></th>\n",
       "      <th>cell_1</th>\n",
       "      <th>cell_2</th>\n",
       "      <th>cell_3</th>\n",
       "      <th>cell_4</th>\n",
       "      <th>cell_5</th>\n",
       "      <th>cell_6</th>\n",
       "      <th>cell_7</th>\n",
       "      <th>cell_8</th>\n",
       "      <th>cell_9</th>\n",
       "      <th>cell_10</th>\n",
       "      <th>...</th>\n",
       "      <th>cell_991</th>\n",
       "      <th>cell_992</th>\n",
       "      <th>cell_993</th>\n",
       "      <th>cell_994</th>\n",
       "      <th>cell_995</th>\n",
       "      <th>cell_996</th>\n",
       "      <th>cell_997</th>\n",
       "      <th>cell_998</th>\n",
       "      <th>cell_999</th>\n",
       "      <th>cell_1000</th>\n",
       "    </tr>\n",
       "  </thead>\n",
       "  <tbody>\n",
       "    <tr>\n",
       "      <th>gene1128</th>\n",
       "      <td>1.000000</td>\n",
       "      <td>0.200000</td>\n",
       "      <td>1.000000</td>\n",
       "      <td>1.000000</td>\n",
       "      <td>0.529412</td>\n",
       "      <td>0.846154</td>\n",
       "      <td>1.00000</td>\n",
       "      <td>1.000000</td>\n",
       "      <td>0.000000</td>\n",
       "      <td>0.764706</td>\n",
       "      <td>...</td>\n",
       "      <td>0.56129</td>\n",
       "      <td>0.000000</td>\n",
       "      <td>0.551298</td>\n",
       "      <td>0.000000</td>\n",
       "      <td>0.000000</td>\n",
       "      <td>0.000000</td>\n",
       "      <td>0.544963</td>\n",
       "      <td>0.272727</td>\n",
       "      <td>0.563838</td>\n",
       "      <td>0.000000</td>\n",
       "    </tr>\n",
       "    <tr>\n",
       "      <th>gene1880</th>\n",
       "      <td>0.128205</td>\n",
       "      <td>0.000000</td>\n",
       "      <td>0.176471</td>\n",
       "      <td>0.000000</td>\n",
       "      <td>0.333333</td>\n",
       "      <td>0.414634</td>\n",
       "      <td>0.00000</td>\n",
       "      <td>0.558837</td>\n",
       "      <td>0.569369</td>\n",
       "      <td>0.111111</td>\n",
       "      <td>...</td>\n",
       "      <td>1.00000</td>\n",
       "      <td>1.000000</td>\n",
       "      <td>0.606061</td>\n",
       "      <td>0.547775</td>\n",
       "      <td>0.600000</td>\n",
       "      <td>1.000000</td>\n",
       "      <td>1.000000</td>\n",
       "      <td>1.000000</td>\n",
       "      <td>0.600000</td>\n",
       "      <td>1.000000</td>\n",
       "    </tr>\n",
       "    <tr>\n",
       "      <th>gene2332</th>\n",
       "      <td>0.500000</td>\n",
       "      <td>1.000000</td>\n",
       "      <td>0.750000</td>\n",
       "      <td>0.846154</td>\n",
       "      <td>0.714286</td>\n",
       "      <td>0.531915</td>\n",
       "      <td>0.62500</td>\n",
       "      <td>0.733333</td>\n",
       "      <td>1.000000</td>\n",
       "      <td>0.529412</td>\n",
       "      <td>...</td>\n",
       "      <td>1.00000</td>\n",
       "      <td>1.000000</td>\n",
       "      <td>0.818182</td>\n",
       "      <td>1.000000</td>\n",
       "      <td>1.000000</td>\n",
       "      <td>1.000000</td>\n",
       "      <td>1.000000</td>\n",
       "      <td>1.000000</td>\n",
       "      <td>0.769231</td>\n",
       "      <td>0.846154</td>\n",
       "    </tr>\n",
       "    <tr>\n",
       "      <th>gene705</th>\n",
       "      <td>0.580330</td>\n",
       "      <td>0.567572</td>\n",
       "      <td>0.000000</td>\n",
       "      <td>0.580164</td>\n",
       "      <td>0.559434</td>\n",
       "      <td>0.000000</td>\n",
       "      <td>0.00000</td>\n",
       "      <td>0.558837</td>\n",
       "      <td>0.569369</td>\n",
       "      <td>0.563204</td>\n",
       "      <td>...</td>\n",
       "      <td>0.56129</td>\n",
       "      <td>0.558171</td>\n",
       "      <td>1.000000</td>\n",
       "      <td>1.000000</td>\n",
       "      <td>1.000000</td>\n",
       "      <td>1.000000</td>\n",
       "      <td>0.629630</td>\n",
       "      <td>0.561325</td>\n",
       "      <td>0.563838</td>\n",
       "      <td>1.000000</td>\n",
       "    </tr>\n",
       "    <tr>\n",
       "      <th>gene1878</th>\n",
       "      <td>0.000000</td>\n",
       "      <td>0.000000</td>\n",
       "      <td>0.000000</td>\n",
       "      <td>0.000000</td>\n",
       "      <td>0.250000</td>\n",
       "      <td>0.015873</td>\n",
       "      <td>0.12500</td>\n",
       "      <td>0.166667</td>\n",
       "      <td>0.333333</td>\n",
       "      <td>0.000000</td>\n",
       "      <td>...</td>\n",
       "      <td>1.00000</td>\n",
       "      <td>1.000000</td>\n",
       "      <td>1.000000</td>\n",
       "      <td>1.000000</td>\n",
       "      <td>1.000000</td>\n",
       "      <td>0.750000</td>\n",
       "      <td>1.000000</td>\n",
       "      <td>0.561325</td>\n",
       "      <td>0.250000</td>\n",
       "      <td>0.600000</td>\n",
       "    </tr>\n",
       "    <tr>\n",
       "      <th>...</th>\n",
       "      <td>...</td>\n",
       "      <td>...</td>\n",
       "      <td>...</td>\n",
       "      <td>...</td>\n",
       "      <td>...</td>\n",
       "      <td>...</td>\n",
       "      <td>...</td>\n",
       "      <td>...</td>\n",
       "      <td>...</td>\n",
       "      <td>...</td>\n",
       "      <td>...</td>\n",
       "      <td>...</td>\n",
       "      <td>...</td>\n",
       "      <td>...</td>\n",
       "      <td>...</td>\n",
       "      <td>...</td>\n",
       "      <td>...</td>\n",
       "      <td>...</td>\n",
       "      <td>...</td>\n",
       "      <td>...</td>\n",
       "      <td>...</td>\n",
       "    </tr>\n",
       "    <tr>\n",
       "      <th>gene4900</th>\n",
       "      <td>1.000000</td>\n",
       "      <td>0.000000</td>\n",
       "      <td>0.250000</td>\n",
       "      <td>0.000000</td>\n",
       "      <td>0.000000</td>\n",
       "      <td>0.000000</td>\n",
       "      <td>0.58382</td>\n",
       "      <td>0.558837</td>\n",
       "      <td>0.569369</td>\n",
       "      <td>0.000000</td>\n",
       "      <td>...</td>\n",
       "      <td>0.00000</td>\n",
       "      <td>0.558171</td>\n",
       "      <td>0.551298</td>\n",
       "      <td>0.547775</td>\n",
       "      <td>0.564819</td>\n",
       "      <td>0.000000</td>\n",
       "      <td>0.544963</td>\n",
       "      <td>0.561325</td>\n",
       "      <td>0.000000</td>\n",
       "      <td>0.565714</td>\n",
       "    </tr>\n",
       "    <tr>\n",
       "      <th>gene3637</th>\n",
       "      <td>0.580330</td>\n",
       "      <td>0.567572</td>\n",
       "      <td>0.566302</td>\n",
       "      <td>0.580164</td>\n",
       "      <td>0.559434</td>\n",
       "      <td>0.563984</td>\n",
       "      <td>0.58382</td>\n",
       "      <td>0.558837</td>\n",
       "      <td>0.569369</td>\n",
       "      <td>0.563204</td>\n",
       "      <td>...</td>\n",
       "      <td>0.56129</td>\n",
       "      <td>0.558171</td>\n",
       "      <td>1.000000</td>\n",
       "      <td>0.547775</td>\n",
       "      <td>0.564819</td>\n",
       "      <td>0.575388</td>\n",
       "      <td>0.544963</td>\n",
       "      <td>0.561325</td>\n",
       "      <td>0.563838</td>\n",
       "      <td>0.000000</td>\n",
       "    </tr>\n",
       "    <tr>\n",
       "      <th>gene3293</th>\n",
       "      <td>0.580330</td>\n",
       "      <td>0.567572</td>\n",
       "      <td>1.000000</td>\n",
       "      <td>0.580164</td>\n",
       "      <td>0.559434</td>\n",
       "      <td>1.000000</td>\n",
       "      <td>0.58382</td>\n",
       "      <td>0.558837</td>\n",
       "      <td>0.569369</td>\n",
       "      <td>1.000000</td>\n",
       "      <td>...</td>\n",
       "      <td>1.00000</td>\n",
       "      <td>0.558171</td>\n",
       "      <td>0.551298</td>\n",
       "      <td>0.547775</td>\n",
       "      <td>0.564819</td>\n",
       "      <td>0.575388</td>\n",
       "      <td>0.000000</td>\n",
       "      <td>0.561325</td>\n",
       "      <td>0.563838</td>\n",
       "      <td>0.565714</td>\n",
       "    </tr>\n",
       "    <tr>\n",
       "      <th>gene2372</th>\n",
       "      <td>0.580330</td>\n",
       "      <td>0.567572</td>\n",
       "      <td>0.090909</td>\n",
       "      <td>0.000000</td>\n",
       "      <td>0.559434</td>\n",
       "      <td>0.563984</td>\n",
       "      <td>0.00000</td>\n",
       "      <td>0.558837</td>\n",
       "      <td>0.569369</td>\n",
       "      <td>0.563204</td>\n",
       "      <td>...</td>\n",
       "      <td>0.56129</td>\n",
       "      <td>0.200000</td>\n",
       "      <td>0.551298</td>\n",
       "      <td>0.000000</td>\n",
       "      <td>0.564819</td>\n",
       "      <td>0.575388</td>\n",
       "      <td>0.000000</td>\n",
       "      <td>0.561325</td>\n",
       "      <td>0.563838</td>\n",
       "      <td>0.565714</td>\n",
       "    </tr>\n",
       "    <tr>\n",
       "      <th>gene2807</th>\n",
       "      <td>0.000000</td>\n",
       "      <td>0.567572</td>\n",
       "      <td>0.566302</td>\n",
       "      <td>1.000000</td>\n",
       "      <td>1.000000</td>\n",
       "      <td>0.846154</td>\n",
       "      <td>0.58382</td>\n",
       "      <td>0.558837</td>\n",
       "      <td>0.569369</td>\n",
       "      <td>0.333333</td>\n",
       "      <td>...</td>\n",
       "      <td>1.00000</td>\n",
       "      <td>1.000000</td>\n",
       "      <td>0.551298</td>\n",
       "      <td>0.547775</td>\n",
       "      <td>0.564819</td>\n",
       "      <td>0.575388</td>\n",
       "      <td>0.544963</td>\n",
       "      <td>0.581395</td>\n",
       "      <td>0.333333</td>\n",
       "      <td>0.565714</td>\n",
       "    </tr>\n",
       "  </tbody>\n",
       "</table>\n",
       "<p>3486 rows × 1000 columns</p>\n",
       "</div>"
      ],
      "text/plain": [
       "            cell_1    cell_2    cell_3    cell_4    cell_5    cell_6   cell_7  \\\n",
       "gene1128  1.000000  0.200000  1.000000  1.000000  0.529412  0.846154  1.00000   \n",
       "gene1880  0.128205  0.000000  0.176471  0.000000  0.333333  0.414634  0.00000   \n",
       "gene2332  0.500000  1.000000  0.750000  0.846154  0.714286  0.531915  0.62500   \n",
       "gene705   0.580330  0.567572  0.000000  0.580164  0.559434  0.000000  0.00000   \n",
       "gene1878  0.000000  0.000000  0.000000  0.000000  0.250000  0.015873  0.12500   \n",
       "...            ...       ...       ...       ...       ...       ...      ...   \n",
       "gene4900  1.000000  0.000000  0.250000  0.000000  0.000000  0.000000  0.58382   \n",
       "gene3637  0.580330  0.567572  0.566302  0.580164  0.559434  0.563984  0.58382   \n",
       "gene3293  0.580330  0.567572  1.000000  0.580164  0.559434  1.000000  0.58382   \n",
       "gene2372  0.580330  0.567572  0.090909  0.000000  0.559434  0.563984  0.00000   \n",
       "gene2807  0.000000  0.567572  0.566302  1.000000  1.000000  0.846154  0.58382   \n",
       "\n",
       "            cell_8    cell_9   cell_10  ...  cell_991  cell_992  cell_993  \\\n",
       "gene1128  1.000000  0.000000  0.764706  ...   0.56129  0.000000  0.551298   \n",
       "gene1880  0.558837  0.569369  0.111111  ...   1.00000  1.000000  0.606061   \n",
       "gene2332  0.733333  1.000000  0.529412  ...   1.00000  1.000000  0.818182   \n",
       "gene705   0.558837  0.569369  0.563204  ...   0.56129  0.558171  1.000000   \n",
       "gene1878  0.166667  0.333333  0.000000  ...   1.00000  1.000000  1.000000   \n",
       "...            ...       ...       ...  ...       ...       ...       ...   \n",
       "gene4900  0.558837  0.569369  0.000000  ...   0.00000  0.558171  0.551298   \n",
       "gene3637  0.558837  0.569369  0.563204  ...   0.56129  0.558171  1.000000   \n",
       "gene3293  0.558837  0.569369  1.000000  ...   1.00000  0.558171  0.551298   \n",
       "gene2372  0.558837  0.569369  0.563204  ...   0.56129  0.200000  0.551298   \n",
       "gene2807  0.558837  0.569369  0.333333  ...   1.00000  1.000000  0.551298   \n",
       "\n",
       "          cell_994  cell_995  cell_996  cell_997  cell_998  cell_999  \\\n",
       "gene1128  0.000000  0.000000  0.000000  0.544963  0.272727  0.563838   \n",
       "gene1880  0.547775  0.600000  1.000000  1.000000  1.000000  0.600000   \n",
       "gene2332  1.000000  1.000000  1.000000  1.000000  1.000000  0.769231   \n",
       "gene705   1.000000  1.000000  1.000000  0.629630  0.561325  0.563838   \n",
       "gene1878  1.000000  1.000000  0.750000  1.000000  0.561325  0.250000   \n",
       "...            ...       ...       ...       ...       ...       ...   \n",
       "gene4900  0.547775  0.564819  0.000000  0.544963  0.561325  0.000000   \n",
       "gene3637  0.547775  0.564819  0.575388  0.544963  0.561325  0.563838   \n",
       "gene3293  0.547775  0.564819  0.575388  0.000000  0.561325  0.563838   \n",
       "gene2372  0.000000  0.564819  0.575388  0.000000  0.561325  0.563838   \n",
       "gene2807  0.547775  0.564819  0.575388  0.544963  0.581395  0.333333   \n",
       "\n",
       "          cell_1000  \n",
       "gene1128   0.000000  \n",
       "gene1880   1.000000  \n",
       "gene2332   0.846154  \n",
       "gene705    1.000000  \n",
       "gene1878   0.600000  \n",
       "...             ...  \n",
       "gene4900   0.565714  \n",
       "gene3637   0.000000  \n",
       "gene3293   0.565714  \n",
       "gene2372   0.565714  \n",
       "gene2807   0.565714  \n",
       "\n",
       "[3486 rows x 1000 columns]"
      ]
     },
     "execution_count": 39,
     "metadata": {},
     "output_type": "execute_result"
    }
   ],
   "source": [
    "psi_tab_imputed"
   ]
  },
  {
   "cell_type": "code",
   "execution_count": 97,
   "metadata": {},
   "outputs": [
    {
     "data": {
      "text/plain": [
       "<matplotlib.collections.PathCollection at 0x7f6eedbbb210>"
      ]
     },
     "execution_count": 97,
     "metadata": {},
     "output_type": "execute_result"
    },
    {
     "data": {
      "image/png": "[encoded data removed]",
      "text/plain": [
       "<Figure size 432x288 with 1 Axes>"
      ]
     },
     "metadata": {
      "needs_background": "light"
     },
     "output_type": "display_data"
    }
   ],
   "source": [
    "plt.scatter(rd.PC_1, rd.PC_2, c=psi_table.loc['gene1128'])"
   ]
  },
  {
   "cell_type": "code",
   "execution_count": 106,
   "metadata": {},
   "outputs": [
    {
     "data": {
      "text/plain": [
       "<matplotlib.collections.PathCollection at 0x7f6eedbe7d90>"
      ]
     },
     "execution_count": 106,
     "metadata": {},
     "output_type": "execute_result"
    },
    {
     "data": {
      "image/png": "[encoded data removed]",
      "text/plain": [
       "<Figure size 432x288 with 1 Axes>"
      ]
     },
     "metadata": {
      "needs_background": "light"
     },
     "output_type": "display_data"
    }
   ],
   "source": [
    "plt.scatter(rd.PC_1, rd.PC_2, c=psi_table.loc['gene1426'])"
   ]
  },
  {
   "cell_type": "code",
   "execution_count": 100,
   "metadata": {},
   "outputs": [
    {
     "data": {
      "text/plain": [
       "0.8300561863800547"
      ]
     },
     "execution_count": 100,
     "metadata": {},
     "output_type": "execute_result"
    }
   ],
   "source": [
    "platonic_psi.loc['gene1128'].max() - platonic_psi.loc['gene1128'].min()"
   ]
  },
  {
   "cell_type": "code",
   "execution_count": 107,
   "metadata": {},
   "outputs": [
    {
     "data": {
      "text/plain": [
       "0.312481289703649"
      ]
     },
     "execution_count": 107,
     "metadata": {},
     "output_type": "execute_result"
    }
   ],
   "source": [
    "platonic_psi.loc['gene1426'].max() - platonic_psi.loc['gene1426'].min()"
   ]
  },
  {
   "cell_type": "code",
   "execution_count": 115,
   "metadata": {},
   "outputs": [
    {
     "data": {
      "text/plain": [
       "Index(['gene2378', 'gene1545', 'gene202', 'gene3991', 'gene2879', 'gene1423',\n",
       "       'gene1045', 'gene1458', 'gene2049', 'gene332', 'gene1329', 'gene4233',\n",
       "       'gene4605', 'gene2747', 'gene3515', 'gene220', 'gene3034', 'gene4529',\n",
       "       'gene2741', 'gene1608', 'gene1947', 'gene825', 'gene583', 'gene3172',\n",
       "       'gene4590', 'gene3011', 'gene1667', 'gene751', 'gene3794', 'gene926',\n",
       "       'gene2764', 'gene2196', 'gene3489', 'gene4062', 'gene460', 'gene3275',\n",
       "       'gene4136', 'gene4189', 'gene57', 'gene2763', 'gene1459', 'gene1505',\n",
       "       'gene3221', 'gene3112', 'gene4322', 'gene4988', 'gene4933', 'gene2505',\n",
       "       'gene959', 'gene3959', 'gene2709', 'gene4005', 'gene3737', 'gene2975',\n",
       "       'gene3284', 'gene2958', 'gene3229', 'gene4342', 'gene2563', 'gene3116',\n",
       "       'gene4452', 'gene3062'],\n",
       "      dtype='object')"
      ]
     },
     "execution_count": 115,
     "metadata": {},
     "output_type": "execute_result"
    }
   ],
   "source": [
    "psix_results.loc[(psix_results.qvals>= 0.2)].index & tiklova_kw.loc[(tiklova_kw.qvals<= 0.001)].index "
   ]
  },
  {
   "cell_type": "code",
   "execution_count": 119,
   "metadata": {},
   "outputs": [
    {
     "data": {
      "text/plain": [
       "<matplotlib.collections.PathCollection at 0x7f6eedb7e750>"
      ]
     },
     "execution_count": 119,
     "metadata": {},
     "output_type": "execute_result"
    },
    {
     "data": {
      "image/png": "[encoded data removed]",
      "text/plain": [
       "<Figure size 432x288 with 1 Axes>"
      ]
     },
     "metadata": {
      "needs_background": "light"
     },
     "output_type": "display_data"
    }
   ],
   "source": [
    "plt.scatter(rd.PC_1, rd.PC_2, c=psi_table.loc['gene4452'])"
   ]
  },
  {
   "cell_type": "code",
   "execution_count": 223,
   "metadata": {},
   "outputs": [
    {
     "data": {
      "text/plain": [
       "psix_score   -0.017740\n",
       "pvals         0.720928\n",
       "qvals         0.854642\n",
       "Name: gene2505, dtype: float64"
      ]
     },
     "execution_count": 223,
     "metadata": {},
     "output_type": "execute_result"
    }
   ],
   "source": [
    "psix_results.loc['gene2505']"
   ]
  },
  {
   "cell_type": "code",
   "execution_count": 224,
   "metadata": {},
   "outputs": [
    {
     "data": {
      "text/plain": [
       "KW_score    21.527603\n",
       "pvals        0.000003\n",
       "qvals        0.000014\n",
       "Name: gene2505, dtype: float64"
      ]
     },
     "execution_count": 224,
     "metadata": {},
     "output_type": "execute_result"
    }
   ],
   "source": [
    "tiklova_kw.loc['gene2505']"
   ]
  },
  {
   "cell_type": "code",
   "execution_count": 225,
   "metadata": {},
   "outputs": [
    {
     "data": {
      "text/plain": [
       "<matplotlib.collections.PathCollection at 0x7f6ecb53d810>"
      ]
     },
     "execution_count": 225,
     "metadata": {},
     "output_type": "execute_result"
    },
    {
     "data": {
      "image/png": "[encoded data removed]",
      "text/plain": [
       "<Figure size 432x288 with 1 Axes>"
      ]
     },
     "metadata": {
      "needs_background": "light"
     },
     "output_type": "display_data"
    }
   ],
   "source": [
    "plt.scatter(rd.PC_1, rd.PC_2, c=psi_table.loc['gene2505'])"
   ]
  },
  {
   "cell_type": "code",
   "execution_count": 222,
   "metadata": {},
   "outputs": [
    {
     "data": {
      "text/html": [
       "<div>\n",
       "<style scoped>\n",
       "    .dataframe tbody tr th:only-of-type {\n",
       "        vertical-align: middle;\n",
       "    }\n",
       "\n",
       "    .dataframe tbody tr th {\n",
       "        vertical-align: top;\n",
       "    }\n",
       "\n",
       "    .dataframe thead th {\n",
       "        text-align: right;\n",
       "    }\n",
       "</style>\n",
       "<table border=\"1\" class=\"dataframe\">\n",
       "  <thead>\n",
       "    <tr style=\"text-align: right;\">\n",
       "      <th></th>\n",
       "      <th>KW_score</th>\n",
       "      <th>pvals</th>\n",
       "      <th>qvals</th>\n",
       "    </tr>\n",
       "  </thead>\n",
       "  <tbody>\n",
       "    <tr>\n",
       "      <th>gene2505</th>\n",
       "      <td>21.527603</td>\n",
       "      <td>0.000003</td>\n",
       "      <td>0.000014</td>\n",
       "    </tr>\n",
       "    <tr>\n",
       "      <th>gene2533</th>\n",
       "      <td>8.666785</td>\n",
       "      <td>0.003241</td>\n",
       "      <td>0.009016</td>\n",
       "    </tr>\n",
       "    <tr>\n",
       "      <th>gene2563</th>\n",
       "      <td>13.292369</td>\n",
       "      <td>0.000266</td>\n",
       "      <td>0.000859</td>\n",
       "    </tr>\n",
       "    <tr>\n",
       "      <th>gene2709</th>\n",
       "      <td>20.083463</td>\n",
       "      <td>0.000007</td>\n",
       "      <td>0.000028</td>\n",
       "    </tr>\n",
       "    <tr>\n",
       "      <th>gene2741</th>\n",
       "      <td>16.848423</td>\n",
       "      <td>0.000040</td>\n",
       "      <td>0.000144</td>\n",
       "    </tr>\n",
       "    <tr>\n",
       "      <th>...</th>\n",
       "      <td>...</td>\n",
       "      <td>...</td>\n",
       "      <td>...</td>\n",
       "    </tr>\n",
       "    <tr>\n",
       "      <th>gene4671</th>\n",
       "      <td>10.024418</td>\n",
       "      <td>0.001545</td>\n",
       "      <td>0.004488</td>\n",
       "    </tr>\n",
       "    <tr>\n",
       "      <th>gene4711</th>\n",
       "      <td>11.422341</td>\n",
       "      <td>0.000726</td>\n",
       "      <td>0.002219</td>\n",
       "    </tr>\n",
       "    <tr>\n",
       "      <th>gene4745</th>\n",
       "      <td>10.706572</td>\n",
       "      <td>0.001068</td>\n",
       "      <td>0.003189</td>\n",
       "    </tr>\n",
       "    <tr>\n",
       "      <th>gene4933</th>\n",
       "      <td>20.152511</td>\n",
       "      <td>0.000007</td>\n",
       "      <td>0.000027</td>\n",
       "    </tr>\n",
       "    <tr>\n",
       "      <th>gene4988</th>\n",
       "      <td>16.230605</td>\n",
       "      <td>0.000056</td>\n",
       "      <td>0.000195</td>\n",
       "    </tr>\n",
       "  </tbody>\n",
       "</table>\n",
       "<p>72 rows × 3 columns</p>\n",
       "</div>"
      ],
      "text/plain": [
       "           KW_score     pvals     qvals\n",
       "gene2505  21.527603  0.000003  0.000014\n",
       "gene2533   8.666785  0.003241  0.009016\n",
       "gene2563  13.292369  0.000266  0.000859\n",
       "gene2709  20.083463  0.000007  0.000028\n",
       "gene2741  16.848423  0.000040  0.000144\n",
       "...             ...       ...       ...\n",
       "gene4671  10.024418  0.001545  0.004488\n",
       "gene4711  11.422341  0.000726  0.002219\n",
       "gene4745  10.706572  0.001068  0.003189\n",
       "gene4933  20.152511  0.000007  0.000027\n",
       "gene4988  16.230605  0.000056  0.000195\n",
       "\n",
       "[72 rows x 3 columns]"
      ]
     },
     "execution_count": 222,
     "metadata": {},
     "output_type": "execute_result"
    }
   ],
   "source": [
    "tiklova_kw.loc[neg].loc[tiklova_kw.loc[neg].qvals <= 0.01]"
   ]
  },
  {
   "cell_type": "code",
   "execution_count": 161,
   "metadata": {},
   "outputs": [],
   "source": [
    "from scipy.stats import probplot\n",
    "from scipy import stats"
   ]
  },
  {
   "cell_type": "code",
   "execution_count": 205,
   "metadata": {},
   "outputs": [],
   "source": [
    "psix_probplot = probplot(-np.log10(psix_results.loc[neg].pvals), dist='norm')"
   ]
  },
  {
   "cell_type": "code",
   "execution_count": 206,
   "metadata": {},
   "outputs": [
    {
     "data": {
      "text/plain": [
       "<matplotlib.collections.PathCollection at 0x7f6eda2c5690>"
      ]
     },
     "execution_count": 206,
     "metadata": {},
     "output_type": "execute_result"
    },
    {
     "data": {
      "image/png": "[encoded data removed]",
      "text/plain": [
       "<Figure size 432x288 with 1 Axes>"
      ]
     },
     "metadata": {
      "needs_background": "light"
     },
     "output_type": "display_data"
    }
   ],
   "source": [
    "plt.scatter(psix_probplot[0][0], psix_probplot[0][1])"
   ]
  },
  {
   "cell_type": "code",
   "execution_count": 207,
   "metadata": {},
   "outputs": [
    {
     "data": {
      "text/plain": [
       "(0.0, 5.0)"
      ]
     },
     "execution_count": 207,
     "metadata": {},
     "output_type": "execute_result"
    },
    {
     "data": {
      "image/png": "[encoded data removed]",
      "text/plain": [
       "<Figure size 432x288 with 1 Axes>"
      ]
     },
     "metadata": {
      "needs_background": "light"
     },
     "output_type": "display_data"
    }
   ],
   "source": [
    "plt.scatter(sorted(-np.log10(np.arange(0+(1/len(neg)), 1+(1/len(neg)), step = 1/len(neg)))),\n",
    "            sorted(-np.log10(psix_results.loc[neg].pvals)))\n",
    "\n",
    "plt.scatter(sorted(-np.log10(np.arange(0+(1/len(neg)), 1+(1/len(neg)), step = 1/len(neg)))),\n",
    "            sorted(-np.log10(tiklova_kw.loc[neg].pvals)))\n",
    "\n",
    "plt.scatter(sorted(-np.log10(np.arange(0+(1/len(neg)), 1+(1/len(neg)), step = 1/len(neg)))),\n",
    "            sorted(-np.log10(hs_results.loc[neg].Pval)))\n",
    "\n",
    "\n",
    "plt.scatter(sorted(-np.log10(np.arange(0+(1/1149), 1+(1/1149), step = 1/1149))),\n",
    "            sorted(-np.log10(gearyc.loc[gearyc.loc[gearyc.C_score > 0].index & pd.Index(neg)].pvals)))\n",
    "\n",
    "plt.plot(sorted(-np.log10(np.arange(0+(1/len(neg)), 1+(1/len(neg)), step = 1/len(neg)))),\n",
    "            sorted(-np.log10(np.arange(0+(1/len(neg)), 1+(1/len(neg)), step = 1/len(neg)))), c='darkred')\n",
    "\n",
    "plt.ylim((0, 5))"
   ]
  },
  {
   "cell_type": "code",
   "execution_count": 191,
   "metadata": {},
   "outputs": [
    {
     "data": {
      "text/html": [
       "<div>\n",
       "<style scoped>\n",
       "    .dataframe tbody tr th:only-of-type {\n",
       "        vertical-align: middle;\n",
       "    }\n",
       "\n",
       "    .dataframe tbody tr th {\n",
       "        vertical-align: top;\n",
       "    }\n",
       "\n",
       "    .dataframe thead th {\n",
       "        text-align: right;\n",
       "    }\n",
       "</style>\n",
       "<table border=\"1\" class=\"dataframe\">\n",
       "  <thead>\n",
       "    <tr style=\"text-align: right;\">\n",
       "      <th></th>\n",
       "      <th>C_score</th>\n",
       "      <th>pvals</th>\n",
       "    </tr>\n",
       "  </thead>\n",
       "  <tbody>\n",
       "    <tr>\n",
       "      <th>gene2505</th>\n",
       "      <td>0.030616</td>\n",
       "      <td>0.321339</td>\n",
       "    </tr>\n",
       "    <tr>\n",
       "      <th>gene2510</th>\n",
       "      <td>0.031922</td>\n",
       "      <td>0.014993</td>\n",
       "    </tr>\n",
       "    <tr>\n",
       "      <th>gene2513</th>\n",
       "      <td>0.031868</td>\n",
       "      <td>0.350825</td>\n",
       "    </tr>\n",
       "    <tr>\n",
       "      <th>gene2515</th>\n",
       "      <td>0.033919</td>\n",
       "      <td>0.412794</td>\n",
       "    </tr>\n",
       "    <tr>\n",
       "      <th>gene2516</th>\n",
       "      <td>0.017164</td>\n",
       "      <td>0.128436</td>\n",
       "    </tr>\n",
       "    <tr>\n",
       "      <th>...</th>\n",
       "      <td>...</td>\n",
       "      <td>...</td>\n",
       "    </tr>\n",
       "    <tr>\n",
       "      <th>gene4993</th>\n",
       "      <td>0.085988</td>\n",
       "      <td>0.004498</td>\n",
       "    </tr>\n",
       "    <tr>\n",
       "      <th>gene4994</th>\n",
       "      <td>0.012187</td>\n",
       "      <td>0.254373</td>\n",
       "    </tr>\n",
       "    <tr>\n",
       "      <th>gene4997</th>\n",
       "      <td>0.019676</td>\n",
       "      <td>0.032484</td>\n",
       "    </tr>\n",
       "    <tr>\n",
       "      <th>gene4998</th>\n",
       "      <td>0.011024</td>\n",
       "      <td>0.307846</td>\n",
       "    </tr>\n",
       "    <tr>\n",
       "      <th>gene5000</th>\n",
       "      <td>0.014713</td>\n",
       "      <td>0.089455</td>\n",
       "    </tr>\n",
       "  </tbody>\n",
       "</table>\n",
       "<p>1149 rows × 2 columns</p>\n",
       "</div>"
      ],
      "text/plain": [
       "           C_score     pvals\n",
       "gene2505  0.030616  0.321339\n",
       "gene2510  0.031922  0.014993\n",
       "gene2513  0.031868  0.350825\n",
       "gene2515  0.033919  0.412794\n",
       "gene2516  0.017164  0.128436\n",
       "...            ...       ...\n",
       "gene4993  0.085988  0.004498\n",
       "gene4994  0.012187  0.254373\n",
       "gene4997  0.019676  0.032484\n",
       "gene4998  0.011024  0.307846\n",
       "gene5000  0.014713  0.089455\n",
       "\n",
       "[1149 rows x 2 columns]"
      ]
     },
     "execution_count": 191,
     "metadata": {},
     "output_type": "execute_result"
    }
   ],
   "source": [
    "gearyc.loc[gearyc.loc[gearyc.C_score > 0].index & pd.Index(neg)]"
   ]
  },
  {
   "cell_type": "code",
   "execution_count": null,
   "metadata": {},
   "outputs": [],
   "source": []
  },
  {
   "cell_type": "code",
   "execution_count": 129,
   "metadata": {},
   "outputs": [
    {
     "data": {
      "text/plain": [
       "(array([252.,  84.,  79.,  68.,  48.,  52.,  56.,  44.,  45.,  47.,  51.,\n",
       "         36.,  41.,  37.,  46.,  45.,  26.,  31.,  37., 631.]),\n",
       " array([4.99750125e-04, 5.04747626e-02, 1.00449775e-01, 1.50424788e-01,\n",
       "        2.00399800e-01, 2.50374813e-01, 3.00349825e-01, 3.50324838e-01,\n",
       "        4.00299850e-01, 4.50274863e-01, 5.00249875e-01, 5.50224888e-01,\n",
       "        6.00199900e-01, 6.50174913e-01, 7.00149925e-01, 7.50124938e-01,\n",
       "        8.00099950e-01, 8.50074963e-01, 9.00049975e-01, 9.50024988e-01,\n",
       "        1.00000000e+00]),\n",
       " <a list of 20 Patch objects>)"
      ]
     },
     "execution_count": 129,
     "metadata": {},
     "output_type": "execute_result"
    },
    {
     "data": {
      "image/png": "[encoded data removed]",
      "text/plain": [
       "<Figure size 432x288 with 1 Axes>"
      ]
     },
     "metadata": {
      "needs_background": "light"
     },
     "output_type": "display_data"
    }
   ],
   "source": [
    "plt.hist(gearyc.loc[neg].pvals, bins=20)"
   ]
  },
  {
   "cell_type": "code",
   "execution_count": 123,
   "metadata": {},
   "outputs": [
    {
     "data": {
      "text/plain": [
       "(array([259., 120., 106.,  84.,  86.,  75.,  95.,  85.,  87.,  70.,  69.,\n",
       "         60.,  64.,  83.,  65.,  76.,  55.,  69.,  65.,  83.]),\n",
       " array([1.65358777e-18, 4.99674433e-02, 9.99348865e-02, 1.49902330e-01,\n",
       "        1.99869773e-01, 2.49837216e-01, 2.99804660e-01, 3.49772103e-01,\n",
       "        3.99739546e-01, 4.49706989e-01, 4.99674433e-01, 5.49641876e-01,\n",
       "        5.99609319e-01, 6.49576762e-01, 6.99544206e-01, 7.49511649e-01,\n",
       "        7.99479092e-01, 8.49446535e-01, 8.99413979e-01, 9.49381422e-01,\n",
       "        9.99348865e-01]),\n",
       " <a list of 20 Patch objects>)"
      ]
     },
     "execution_count": 123,
     "metadata": {},
     "output_type": "execute_result"
    },
    {
     "data": {
      "image/png": "[encoded data removed]",
      "text/plain": [
       "<Figure size 432x288 with 1 Axes>"
      ]
     },
     "metadata": {
      "needs_background": "light"
     },
     "output_type": "display_data"
    }
   ],
   "source": [
    "plt.hist(tiklova_kw.loc[neg].pvals, bins=20)"
   ]
  },
  {
   "cell_type": "code",
   "execution_count": null,
   "metadata": {},
   "outputs": [],
   "source": []
  },
  {
   "cell_type": "code",
   "execution_count": 126,
   "metadata": {},
   "outputs": [],
   "source": [
    "psix_single_lineage.adata.uns['psi'].T.to_csv('single_lineage/processed_tables/psi.tab.gz', \n",
    "                                              sep='\\t', index=True, header=True)"
   ]
  },
  {
   "cell_type": "code",
   "execution_count": 193,
   "metadata": {},
   "outputs": [],
   "source": [
    "gearyc = pd.read_csv('single_lineage/gearyc_output.tab.gz', sep='\\t', index_col=0)"
   ]
  },
  {
   "cell_type": "code",
   "execution_count": 194,
   "metadata": {},
   "outputs": [
    {
     "data": {
      "text/html": [
       "<div>\n",
       "<style scoped>\n",
       "    .dataframe tbody tr th:only-of-type {\n",
       "        vertical-align: middle;\n",
       "    }\n",
       "\n",
       "    .dataframe tbody tr th {\n",
       "        vertical-align: top;\n",
       "    }\n",
       "\n",
       "    .dataframe thead th {\n",
       "        text-align: right;\n",
       "    }\n",
       "</style>\n",
       "<table border=\"1\" class=\"dataframe\">\n",
       "  <thead>\n",
       "    <tr style=\"text-align: right;\">\n",
       "      <th></th>\n",
       "      <th>C_score</th>\n",
       "      <th>pvals</th>\n",
       "    </tr>\n",
       "  </thead>\n",
       "  <tbody>\n",
       "    <tr>\n",
       "      <th>gene1</th>\n",
       "      <td>0.158189</td>\n",
       "      <td>0.000500</td>\n",
       "    </tr>\n",
       "    <tr>\n",
       "      <th>gene3</th>\n",
       "      <td>0.028023</td>\n",
       "      <td>0.011494</td>\n",
       "    </tr>\n",
       "    <tr>\n",
       "      <th>gene4</th>\n",
       "      <td>0.333843</td>\n",
       "      <td>0.000500</td>\n",
       "    </tr>\n",
       "    <tr>\n",
       "      <th>gene5</th>\n",
       "      <td>0.063359</td>\n",
       "      <td>0.001000</td>\n",
       "    </tr>\n",
       "    <tr>\n",
       "      <th>gene7</th>\n",
       "      <td>0.399201</td>\n",
       "      <td>0.000500</td>\n",
       "    </tr>\n",
       "    <tr>\n",
       "      <th>...</th>\n",
       "      <td>...</td>\n",
       "      <td>...</td>\n",
       "    </tr>\n",
       "    <tr>\n",
       "      <th>gene4994</th>\n",
       "      <td>0.012187</td>\n",
       "      <td>0.254373</td>\n",
       "    </tr>\n",
       "    <tr>\n",
       "      <th>gene4996</th>\n",
       "      <td>-0.003716</td>\n",
       "      <td>1.000000</td>\n",
       "    </tr>\n",
       "    <tr>\n",
       "      <th>gene4997</th>\n",
       "      <td>0.019676</td>\n",
       "      <td>0.032484</td>\n",
       "    </tr>\n",
       "    <tr>\n",
       "      <th>gene4998</th>\n",
       "      <td>0.011024</td>\n",
       "      <td>0.307846</td>\n",
       "    </tr>\n",
       "    <tr>\n",
       "      <th>gene5000</th>\n",
       "      <td>0.014713</td>\n",
       "      <td>0.089455</td>\n",
       "    </tr>\n",
       "  </tbody>\n",
       "</table>\n",
       "<p>3486 rows × 2 columns</p>\n",
       "</div>"
      ],
      "text/plain": [
       "           C_score     pvals\n",
       "gene1     0.158189  0.000500\n",
       "gene3     0.028023  0.011494\n",
       "gene4     0.333843  0.000500\n",
       "gene5     0.063359  0.001000\n",
       "gene7     0.399201  0.000500\n",
       "...            ...       ...\n",
       "gene4994  0.012187  0.254373\n",
       "gene4996 -0.003716  1.000000\n",
       "gene4997  0.019676  0.032484\n",
       "gene4998  0.011024  0.307846\n",
       "gene5000  0.014713  0.089455\n",
       "\n",
       "[3486 rows x 2 columns]"
      ]
     },
     "execution_count": 194,
     "metadata": {},
     "output_type": "execute_result"
    }
   ],
   "source": [
    "gearyc"
   ]
  },
  {
   "cell_type": "code",
   "execution_count": 106,
   "metadata": {},
   "outputs": [],
   "source": [
    "from sklearn.metrics import precision_recall_curve\n",
    "\n",
    "pre, rec, thres = precision_recall_curve(labels, psix_results.loc[order].psix_score)\n",
    "pre_kw, rec_kw, thres_kw = precision_recall_curve(labels, tiklova_kw.loc[order].KW_score)\n",
    "pre_c, rec_c, thres_c = precision_recall_curve(labels, gearyc.loc[order].C_score)"
   ]
  },
  {
   "cell_type": "code",
   "execution_count": 107,
   "metadata": {},
   "outputs": [
    {
     "data": {
      "text/plain": [
       "[<matplotlib.lines.Line2D at 0x7f487b2913d0>]"
      ]
     },
     "execution_count": 107,
     "metadata": {},
     "output_type": "execute_result"
    },
    {
     "data": {
      "image/png": "[encoded data removed]",
      "text/plain": [
       "<Figure size 432x288 with 1 Axes>"
      ]
     },
     "metadata": {
      "needs_background": "light"
     },
     "output_type": "display_data"
    }
   ],
   "source": [
    "plt.plot(rec, pre)\n",
    "plt.plot(rec_kw, pre_kw)\n",
    "plt.plot(rec_c, pre_c)"
   ]
  },
  {
   "cell_type": "code",
   "execution_count": 220,
   "metadata": {},
   "outputs": [
    {
     "name": "stdout",
     "output_type": "stream",
     "text": [
      "Obtaining psi tables...\n",
      "Reading TPM and transforming to mRNA counts...\n"
     ]
    },
    {
     "name": "stderr",
     "output_type": "stream",
     "text": [
      "100%|██████████| 2000/2000 [00:39<00:00, 50.09it/s]\n",
      " 17%|█▋        | 349/2000 [00:00<00:00, 3489.95it/s]"
     ]
    },
    {
     "name": "stdout",
     "output_type": "stream",
     "text": [
      "Successfully processed RNA-seq data\n",
      "cell-cell metric not found. Computing metric...\n"
     ]
    },
    {
     "name": "stderr",
     "output_type": "stream",
     "text": [
      "100%|██████████| 2000/2000 [00:00<00:00, 3447.00it/s]"
     ]
    },
    {
     "name": "stdout",
     "output_type": "stream",
     "text": [
      "Successfully computed cell-cell metric\n",
      "Computing Psix score in 3316 exons\n"
     ]
    },
    {
     "name": "stderr",
     "output_type": "stream",
     "text": [
      "\n",
      "100%|██████████| 3316/3316 [01:00<00:00, 54.77it/s]   \n"
     ]
    },
    {
     "name": "stdout",
     "output_type": "stream",
     "text": [
      "Successfully computed Psix score of exons.\n",
      "...\n",
      "\n",
      "Estimating p-values. This might take a while...\n"
     ]
    },
    {
     "name": "stderr",
     "output_type": "stream",
     "text": [
      "100%|██████████| 25/25 [16:42<00:00, 40.10s/it]   \n"
     ]
    },
    {
     "name": "stdout",
     "output_type": "stream",
     "text": [
      "Successfully estimated p-values\n"
     ]
    }
   ],
   "source": [
    "psix_three_lineage = psix.Psix()\n",
    "psix_three_lineage.process_rnaseq(\n",
    "        'three_lineages/processed_tables/SE_counts_0.1.tab.gz',\n",
    "        'three_lineages/processed_tables/constitutive_introns_0.1.tab.gz',\n",
    "        'three_lineages/processed_tables/tpm_0.1.tab.gz',\n",
    "        minJR = 1,\n",
    "        minCell=1,\n",
    "        min_observed = 0.25)\n",
    "\n",
    "psix_three_lineage.compute_psix_scores(latent='three_lineages/processed_tables/pc3_rd.tab.gz', n_jobs=25, \n",
    "                                n_random_exons=2000, n_neighbors=200)\n"
   ]
  },
  {
   "cell_type": "code",
   "execution_count": 110,
   "metadata": {},
   "outputs": [],
   "source": [
    "psix_three_lineage.adata.uns['psi'].T.to_csv('three_lineages/processed_tables/psi.tab.gz', \n",
    "                                              sep='\\t', index=True, header=True)"
   ]
  },
  {
   "cell_type": "code",
   "execution_count": 115,
   "metadata": {},
   "outputs": [
    {
     "name": "stderr",
     "output_type": "stream",
     "text": [
      "100%|██████████| 3316/3316 [00:43<00:00, 77.05it/s] \n"
     ]
    }
   ],
   "source": [
    "meta = pd.read_csv('three_lineages/sim_output/meta.tab', sep='\\t')\n",
    "meta.index=['cell_'+str(i+1) for i in range(2000)]\n",
    "\n",
    "pop_1 = meta.loc[meta['pop'] == '4_1'].index\n",
    "pop_2 = meta.loc[meta['pop'] == '4_5'].index\n",
    "pop_3 = meta.loc[meta['pop'] == '5_2'].index\n",
    "pop_4 = meta.loc[meta['pop'] == '5_3'].index\n",
    "labels = [pop_1, pop_2, pop_3, pop_4]\n",
    "\n",
    "three_kw = run_kw_dset(psix_three_lineage.adata.uns['psi'][psix_three_lineage.psix_results.index].T, \n",
    "                         labels, psix_three_lineage.psix_results.index)"
   ]
  },
  {
   "cell_type": "code",
   "execution_count": 126,
   "metadata": {},
   "outputs": [],
   "source": [
    "l1 = []\n",
    "with open('three_lineages/sim_output/l1_diff.txt', 'r') as l1_file:\n",
    "    for i in l1_file:\n",
    "        l1.append(int(i.rstrip()))\n",
    "        \n",
    "l2 = []\n",
    "with open('three_lineages/sim_output/l2_diff.txt', 'r') as l2_file:\n",
    "    for i in l2_file:\n",
    "        l2.append(int(i.rstrip()))\n",
    "        \n",
    "l3 = []\n",
    "with open('three_lineages/sim_output/l3_diff.txt', 'r') as l3_file:\n",
    "    for i in l3_file:\n",
    "        l3.append(int(i.rstrip()))\n",
    "        \n",
    "l1 = np.array(l1)\n",
    "l2 = np.array(l2)\n",
    "l3 = np.array(l3)\n",
    "\n",
    "ds = ((l1 + l2 + l3)>0).astype(int)\n",
    "\n",
    "gearyc_3l = pd.read_csv('three_lineages/gearyc_output.tab.gz', sep='\\t', index_col=0)"
   ]
  },
  {
   "cell_type": "code",
   "execution_count": 221,
   "metadata": {},
   "outputs": [],
   "source": [
    "psix_results = psix_three_lineage.psix_results"
   ]
  },
  {
   "cell_type": "code",
   "execution_count": 234,
   "metadata": {},
   "outputs": [],
   "source": [
    "y = []\n",
    "order = []\n",
    "for i in range(5000):\n",
    "    if ('gene'+str(i+1)) in psix_results.index:\n",
    "        \n",
    "        if (platonic_psi.loc['gene'+str(i+1)].max() - platonic_psi.loc['gene'+str(i+1)].min()) >= 0.1:\n",
    "            y.append(1)   \n",
    "        else:\n",
    "            y.append(0)\n",
    "#         y.append(int(ds[i]))\n",
    "        order.append('gene'+str(i+1))"
   ]
  },
  {
   "cell_type": "code",
   "execution_count": 235,
   "metadata": {},
   "outputs": [],
   "source": [
    "from sklearn.metrics import precision_recall_curve\n",
    "from sklearn.metrics import auc\n",
    "\n",
    "pre, rec, thres = precision_recall_curve(y, psix_results.loc[order].psix_score)\n",
    "pre_kw, rec_kw, thres_kw = precision_recall_curve(y, three_kw.loc[order].KW_score)\n",
    "pre_c, rec_c, thres_c = precision_recall_curve(y, gearyc_3l.loc[order].C_score)"
   ]
  },
  {
   "cell_type": "code",
   "execution_count": 236,
   "metadata": {},
   "outputs": [
    {
     "name": "stdout",
     "output_type": "stream",
     "text": [
      "0.9807142187658805\n",
      "0.9696686810932461\n",
      "0.9576338247320152\n"
     ]
    }
   ],
   "source": [
    "print(auc(rec, pre))\n",
    "print(auc(rec_kw, pre_kw))\n",
    "print(auc(rec_c, pre_c))"
   ]
  },
  {
   "cell_type": "code",
   "execution_count": 237,
   "metadata": {},
   "outputs": [
    {
     "data": {
      "text/plain": [
       "[<matplotlib.lines.Line2D at 0x7f4871bd2410>]"
      ]
     },
     "execution_count": 237,
     "metadata": {},
     "output_type": "execute_result"
    },
    {
     "data": {
      "image/png": "[encoded data removed]",
      "text/plain": [
       "<Figure size 432x288 with 1 Axes>"
      ]
     },
     "metadata": {
      "needs_background": "light"
     },
     "output_type": "display_data"
    }
   ],
   "source": [
    "plt.plot(rec, pre)\n",
    "plt.plot(rec_kw, pre_kw)\n",
    "plt.plot(rec_c, pre_c)"
   ]
  },
  {
   "cell_type": "code",
   "execution_count": 139,
   "metadata": {},
   "outputs": [],
   "source": [
    "platonic_psi = pd.read_csv('three_lineages/sim_output/psi_platonic.tab', sep='\\t', \n",
    "                           names = ['cell_'+str(i+1) for i in range(2000)])\n",
    "platonic_psi.index = ['gene' + str(i+1) for i in range(5000)]"
   ]
  },
  {
   "cell_type": "code",
   "execution_count": 145,
   "metadata": {},
   "outputs": [],
   "source": [
    "from scipy.special import expit, logit\n",
    "platonic_psi = expit(platonic_psi.loc[order])"
   ]
  },
  {
   "cell_type": "code",
   "execution_count": 149,
   "metadata": {},
   "outputs": [
    {
     "data": {
      "text/plain": [
       "gene1       False\n",
       "gene2        True\n",
       "gene3       False\n",
       "gene4       False\n",
       "gene7        True\n",
       "            ...  \n",
       "gene4995     True\n",
       "gene4996    False\n",
       "gene4997    False\n",
       "gene4998    False\n",
       "gene5000     True\n",
       "Length: 3316, dtype: bool"
      ]
     },
     "execution_count": 149,
     "metadata": {},
     "output_type": "execute_result"
    }
   ],
   "source": [
    "(platonic_psi.max(axis=1) - platonic_psi.min(axis=1)) >= 0.2"
   ]
  },
  {
   "cell_type": "code",
   "execution_count": null,
   "metadata": {},
   "outputs": [],
   "source": []
  }
 ],
 "metadata": {
  "kernelspec": {
   "display_name": "Python 3",
   "language": "python",
   "name": "python3"
  },
  "language_info": {
   "codemirror_mode": {
    "name": "ipython",
    "version": 3
   },
   "file_extension": ".py",
   "mimetype": "text/x-python",
   "name": "python",
   "nbconvert_exporter": "python",
   "pygments_lexer": "ipython3",
   "version": "3.7.6"
  }
 },
 "nbformat": 4,
 "nbformat_minor": 4
}
