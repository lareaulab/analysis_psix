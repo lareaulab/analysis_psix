{
 "cells": [
  {
   "cell_type": "code",
   "execution_count": 1,
   "metadata": {},
   "outputs": [],
   "source": [
    "import numpy as np\n",
    "import pandas as pd\n",
    "from matplotlib import pyplot as plt\n",
    "import os\n",
    "import sys\n",
    "from tqdm import tqdm\n",
    "import psix\n",
    "from matplotlib.gridspec import GridSpec\n",
    "\n",
    "cm = 1/2.54\n",
    "\n",
    "plt.rcParams[\"axes.edgecolor\"] = \"black\"\n",
    "plt.rcParams[\"axes.linewidth\"] = 1\n",
    "plt.rcParams[\"axes.facecolor\"] = 'white'\n",
    "\n",
    "import matplotlib as mpl\n",
    "import numpy as np\n",
    "from matplotlib import pyplot as plt\n",
    "\n",
    "mpl.rcParams[\"mathtext.fontset\"] = \"stix\"\n",
    "mpl.rcParams['pdf.fonttype'] = 42"
   ]
  },
  {
   "cell_type": "markdown",
   "metadata": {},
   "source": [
    "For guidance, Nature’s standard figure sizes are 89 mm (single column) and 183 mm (double column) and the full depth of the page is 247 mm."
   ]
  },
  {
   "cell_type": "code",
   "execution_count": 2,
   "metadata": {},
   "outputs": [],
   "source": [
    "meta = pd.read_csv('sim_output/meta.tab.gz', sep='\\t')\n",
    "meta.index=['cell_'+str(i+1) for i in range(1000)]\n",
    "\n",
    "pop_1 = meta.loc[meta['pop'] == '3_1'].index\n",
    "pop_2 = meta.loc[meta['pop'] == '3_2'].index\n",
    "labels = [pop_1, pop_2]"
   ]
  },
  {
   "cell_type": "code",
   "execution_count": 3,
   "metadata": {},
   "outputs": [],
   "source": [
    "from scipy.stats import kruskal\n",
    "from statsmodels.stats.multitest import multipletests\n",
    "\n",
    "\n",
    "def run_kw(exon_psi, labels):\n",
    "    kw_input = []\n",
    "    for l in labels:\n",
    "        kw_input.append(list(exon_psi[l]))\n",
    "        \n",
    "    if len(labels) == 2:\n",
    "        return kruskal(kw_input[0], kw_input[1], nan_policy='omit')\n",
    "    if len(labels) == 3:\n",
    "        return kruskal(kw_input[0], kw_input[1], kw_input[2], nan_policy='omit')\n",
    "    if len(labels) == 4:\n",
    "        return kruskal(kw_input[0], kw_input[1], kw_input[2], kw_input[3], nan_policy='omit')\n",
    "    if len(labels) == 5:\n",
    "        return kruskal(kw_input[0], kw_input[1], kw_input[2], kw_input[3], kw_input[4], nan_policy='omit')\n",
    "    if len(labels) == 6:\n",
    "        return kruskal(kw_input[0], kw_input[1], kw_input[2], kw_input[3], kw_input[4], kw_input[5], nan_policy='omit')\n",
    "    if len(labels) == 7:\n",
    "        return kruskal(kw_input[0], kw_input[1], kw_input[2], kw_input[3], kw_input[4], kw_input[5], kw_input[6], nan_policy='omit')\n",
    "    if len(labels) == 8:\n",
    "        return kruskal(kw_input[0], kw_input[1], kw_input[2], kw_input[3], kw_input[4], kw_input[5], kw_input[6], kw_input[7], nan_policy='omit')\n",
    "    \n",
    "def run_kw_dset(psi_table, labels, exon_list):\n",
    "    kw_output = pd.DataFrame()\n",
    "    kw_score = []\n",
    "    pvals = []\n",
    "    for exon in tqdm(exon_list, position=0, leave=True):\n",
    "        score, p = run_kw(psi_table.loc[exon], labels)\n",
    "        kw_score.append(score)\n",
    "        pvals.append(p)\n",
    "    kw_output['KW_score'] = kw_score\n",
    "    kw_output['pvals'] = pvals\n",
    "    kw_output['qvals'] = multipletests(pvals, method='fdr_bh')[1]\n",
    "    kw_output.index = exon_list\n",
    "    return kw_output\n",
    "\n"
   ]
  },
  {
   "cell_type": "code",
   "execution_count": 4,
   "metadata": {},
   "outputs": [
    {
     "name": "stdout",
     "output_type": "stream",
     "text": [
      "Collecting splice junctions....\n",
      "Obtaining PSI tables...\n",
      "Reading TPM and transforming to mRNA counts...\n"
     ]
    },
    {
     "name": "stderr",
     "output_type": "stream",
     "text": [
      "100%|██████████| 1000/1000 [00:25<00:00, 39.20it/s]\n"
     ]
    },
    {
     "name": "stdout",
     "output_type": "stream",
     "text": [
      "Successfully processed RNA-seq data\n",
      "Computing cell-cell metric...\n"
     ]
    },
    {
     "name": "stderr",
     "output_type": "stream",
     "text": [
      "100%|██████████| 1000/1000 [00:00<00:00, 2591.19it/s]"
     ]
    },
    {
     "name": "stdout",
     "output_type": "stream",
     "text": [
      "Successfully computed cell-cell metric\n",
      "Computing Psix score in 3486 exons\n"
     ]
    },
    {
     "name": "stderr",
     "output_type": "stream",
     "text": [
      "\n",
      "100%|██████████| 3486/3486 [00:35<00:00, 98.91it/s]  "
     ]
    },
    {
     "name": "stdout",
     "output_type": "stream",
     "text": [
      "Successfully computed Psix score of exons.\n",
      "Estimating p-values. This might take a while...\n"
     ]
    },
    {
     "name": "stderr",
     "output_type": "stream",
     "text": [
      "\n",
      "100%|██████████| 25/25 [08:24<00:00, 20.16s/it]  \n"
     ]
    },
    {
     "name": "stdout",
     "output_type": "stream",
     "text": [
      "Successfully estimated p-values\n"
     ]
    },
    {
     "name": "stderr",
     "output_type": "stream",
     "text": [
      "100%|██████████| 3486/3486 [00:32<00:00, 108.03it/s]\n"
     ]
    }
   ],
   "source": [
    "psix_single_lineage_1 = psix.Psix()\n",
    "psix_single_lineage_1.junctions2psi(\n",
    "        'processed_tables/splice_junction_counts_0.1.tab.gz',\n",
    "        '',\n",
    "        'processed_tables/tpm_0.1.tab.gz',\n",
    "        save_files_in='psix_output/psix_object_0.1/')\n",
    "\n",
    "psix_single_lineage_1.run_psix(latent='processed_tables/pc2_rd.tab.gz', n_jobs=25,\n",
    "                                n_random_exons=2000, n_neighbors=100)\n",
    "\n",
    "psix_results_1 = psix_single_lineage_1.psix_results\n",
    "\n",
    "kw_1 = run_kw_dset(psix_single_lineage_1.adata.uns['psi'][psix_results_1.index].T, \n",
    "                         labels, psix_results_1.index)\n",
    "\n",
    "gearyc_1 = pd.read_csv('gearyc/gearyc_0.1.tab.gz', sep='\\t', index_col=0)\n",
    "gearyc_1['qvals'] = multipletests(gearyc_1.pvals, method='fdr_bh')[1]"
   ]
  },
  {
   "cell_type": "code",
   "execution_count": 5,
   "metadata": {},
   "outputs": [
    {
     "name": "stdout",
     "output_type": "stream",
     "text": [
      "Collecting splice junctions....\n",
      "Obtaining PSI tables...\n",
      "Reading TPM and transforming to mRNA counts...\n"
     ]
    },
    {
     "name": "stderr",
     "output_type": "stream",
     "text": [
      "100%|██████████| 1000/1000 [00:22<00:00, 44.07it/s]\n"
     ]
    },
    {
     "name": "stdout",
     "output_type": "stream",
     "text": [
      "Successfully processed RNA-seq data\n",
      "Computing cell-cell metric...\n"
     ]
    },
    {
     "name": "stderr",
     "output_type": "stream",
     "text": [
      "100%|██████████| 1000/1000 [00:00<00:00, 7989.62it/s]"
     ]
    },
    {
     "name": "stdout",
     "output_type": "stream",
     "text": [
      "Successfully computed cell-cell metric\n",
      "Computing Psix score in 3244 exons\n"
     ]
    },
    {
     "name": "stderr",
     "output_type": "stream",
     "text": [
      "\n",
      "100%|██████████| 3244/3244 [00:32<00:00, 101.15it/s] "
     ]
    },
    {
     "name": "stdout",
     "output_type": "stream",
     "text": [
      "Successfully computed Psix score of exons.\n",
      "Estimating p-values. This might take a while...\n"
     ]
    },
    {
     "name": "stderr",
     "output_type": "stream",
     "text": [
      "\n",
      "100%|██████████| 25/25 [08:28<00:00, 20.35s/it]  \n"
     ]
    },
    {
     "name": "stdout",
     "output_type": "stream",
     "text": [
      "Successfully estimated p-values\n"
     ]
    },
    {
     "name": "stderr",
     "output_type": "stream",
     "text": [
      "100%|██████████| 3244/3244 [00:29<00:00, 111.71it/s]\n"
     ]
    }
   ],
   "source": [
    "psix_single_lineage_05 = psix.Psix()\n",
    "psix_single_lineage_05.junctions2psi(\n",
    "        'processed_tables/splice_junction_counts_0.05.tab.gz',\n",
    "        '',\n",
    "        'processed_tables/tpm_0.05.tab.gz',\n",
    "        save_files_in='psix_output/psix_object_0.05/')\n",
    "\n",
    "\n",
    "psix_single_lineage_05.run_psix(latent='processed_tables/pc2_rd.tab.gz', n_jobs=25,\n",
    "                                n_random_exons=2000, n_neighbors=100)\n",
    "\n",
    "psix_results_05 = psix_single_lineage_05.psix_results\n",
    "\n",
    "kw_05 = run_kw_dset(psix_single_lineage_05.adata.uns['psi'][psix_results_05.index].T, \n",
    "                         labels, psix_results_05.index)\n",
    "\n",
    "gearyc_05 = pd.read_csv('gearyc/gearyc_0.05.tab.gz', sep='\\t', index_col=0)"
   ]
  },
  {
   "cell_type": "code",
   "execution_count": 6,
   "metadata": {},
   "outputs": [
    {
     "name": "stdout",
     "output_type": "stream",
     "text": [
      "Collecting splice junctions....\n",
      "Obtaining PSI tables...\n",
      "Reading TPM and transforming to mRNA counts...\n"
     ]
    },
    {
     "name": "stderr",
     "output_type": "stream",
     "text": [
      "100%|██████████| 1000/1000 [00:17<00:00, 56.87it/s]\n"
     ]
    },
    {
     "name": "stdout",
     "output_type": "stream",
     "text": [
      "Successfully processed RNA-seq data\n",
      "Computing cell-cell metric...\n"
     ]
    },
    {
     "name": "stderr",
     "output_type": "stream",
     "text": [
      "100%|██████████| 1000/1000 [00:00<00:00, 8418.61it/s]"
     ]
    },
    {
     "name": "stdout",
     "output_type": "stream",
     "text": [
      "Successfully computed cell-cell metric\n",
      "Computing Psix score in 2097 exons\n"
     ]
    },
    {
     "name": "stderr",
     "output_type": "stream",
     "text": [
      "\n",
      "100%|██████████| 2097/2097 [00:17<00:00, 121.66it/s]"
     ]
    },
    {
     "name": "stdout",
     "output_type": "stream",
     "text": [
      "Successfully computed Psix score of exons.\n",
      "Estimating p-values. This might take a while...\n"
     ]
    },
    {
     "name": "stderr",
     "output_type": "stream",
     "text": [
      "\n",
      "100%|██████████| 25/25 [07:47<00:00, 18.68s/it]  \n"
     ]
    },
    {
     "name": "stdout",
     "output_type": "stream",
     "text": [
      "Successfully estimated p-values\n"
     ]
    },
    {
     "name": "stderr",
     "output_type": "stream",
     "text": [
      "100%|██████████| 2097/2097 [00:14<00:00, 144.88it/s]\n"
     ]
    }
   ],
   "source": [
    "psix_single_lineage_01 = psix.Psix()\n",
    "psix_single_lineage_01.junctions2psi(\n",
    "        'processed_tables/splice_junction_counts_0.01.tab.gz',\n",
    "        '',\n",
    "        'processed_tables/tpm_0.01.tab.gz',\n",
    "        save_files_in='psix_output/psix_object_0.01/')\n",
    "\n",
    "\n",
    "psix_single_lineage_01.run_psix(latent='processed_tables/pc2_rd.tab.gz', n_jobs=25,\n",
    "                                n_random_exons=2000, n_neighbors=100)\n",
    "\n",
    "psix_results_01 = psix_single_lineage_01.psix_results\n",
    "\n",
    "kw_01 = run_kw_dset(psix_single_lineage_01.adata.uns['psi'][psix_results_01.index].T, \n",
    "                         labels, psix_results_01.index)\n",
    "\n",
    "gearyc_01 = pd.read_csv('gearyc/gearyc_0.01.tab.gz', sep='\\t', index_col=0)"
   ]
  },
  {
   "cell_type": "code",
   "execution_count": 7,
   "metadata": {},
   "outputs": [],
   "source": [
    "from scipy.special import logit, expit\n",
    "from sklearn.metrics import precision_recall_curve\n",
    "from sklearn.metrics import recall_score\n",
    "from sklearn.metrics import f1_score\n",
    "from sklearn.metrics import auc\n",
    "\n",
    "\n",
    "\n",
    "\n",
    "platonic_psi = pd.read_csv('sim_output/psi_platonic.tab.gz', sep='\\t', \n",
    "                               names = ['cell_'+str(i+1) for i in range(1000)])\n",
    "platonic_psi.index = ['gene' + str(i+1) for i in range(5000)]\n",
    "\n",
    "platonic_psi = expit(platonic_psi)\n",
    "\n",
    "\n",
    "def get_random_samples(psix_results, kw, gearyc):\n",
    "    \n",
    "    pos = pd.Index(['gene' + str(i) for i in range(1, 2501)]) & psix_results.index\n",
    "    neg = pd.Index(['gene' + str(i) for i in range(2501, 5001)]) & psix_results.index\n",
    "\n",
    "    psix_auc = []\n",
    "    kw_auc = []\n",
    "    gearyc_auc = []\n",
    "\n",
    "    for i in tqdm(range(200)):\n",
    "\n",
    "        pos_sample = np.random.choice(pos, int(len(pos)*0.2), replace=False)\n",
    "        neg_sample = np.random.choice(neg, int(len(neg)*0.2), replace=False)\n",
    "\n",
    "        labels = [1]*len(pos_sample) + [0]*len(neg_sample)\n",
    "        order = list(pos_sample) + list(neg_sample)\n",
    "\n",
    "\n",
    "        y_ = list(((platonic_psi.max(axis=1) - platonic_psi.min(axis=1)) >= 0.2).astype(int).loc[order])\n",
    "\n",
    "\n",
    "        pre, rec, thres = precision_recall_curve(y_, psix_results.loc[order].psix_score)\n",
    "        pre_kw, rec_kw, thres_kw = precision_recall_curve(y_, kw.loc[order].KW_score)\n",
    "        pre_c, rec_c, thres_c = precision_recall_curve(y_, gearyc.loc[order].C_score)\n",
    "\n",
    "        psix_auc.append(auc(rec, pre))\n",
    "        kw_auc.append(auc(rec_kw, pre_kw))\n",
    "        gearyc_auc.append(auc(rec_c, pre_c))\n",
    "        \n",
    "    return psix_auc, kw_auc, gearyc_auc"
   ]
  },
  {
   "cell_type": "code",
   "execution_count": 8,
   "metadata": {},
   "outputs": [
    {
     "name": "stderr",
     "output_type": "stream",
     "text": [
      "100%|██████████| 200/200 [00:06<00:00, 32.88it/s]\n",
      "100%|██████████| 200/200 [00:06<00:00, 32.33it/s]\n",
      "100%|██████████| 200/200 [00:06<00:00, 32.79it/s]\n"
     ]
    }
   ],
   "source": [
    "psix_1_auc, kw_1_auc, gearyc_1_auc = get_random_samples(psix_results_1, kw_1, gearyc_1)\n",
    "psix_05_auc, kw_05_auc, gearyc_05_auc = get_random_samples(psix_results_05, kw_05, gearyc_05)\n",
    "psix_01_auc, kw_01_auc, gearyc_01_auc = get_random_samples(psix_results_01, kw_01, gearyc_01)"
   ]
  },
  {
   "cell_type": "code",
   "execution_count": 9,
   "metadata": {},
   "outputs": [
    {
     "data": {
      "image/png": "[encoded data removed]",
      "text/plain": [
       "<Figure size 180x120 with 1 Axes>"
      ]
     },
     "metadata": {
      "needs_background": "light"
     },
     "output_type": "display_data"
    }
   ],
   "source": [
    "fig = plt.figure(figsize=(6/2.4, 4/2.4))\n",
    "# gs = GridSpec(1,7)\n",
    "# gs.update(wspace=0.05, hspace=0.10)\n",
    "ax = fig.add_subplot(111)\n",
    "# ax_2 = fig.add_subplot(gs[0,4:7])# option 1, specify props dictionaries\n",
    "\n",
    "ax.boxplot([psix_1_auc, psix_05_auc, psix_01_auc], positions=[1,5,9], notch=True, patch_artist=True,\n",
    "            boxprops=dict(facecolor='skyblue', color='navy'),\n",
    "            capprops=dict(color='black'),\n",
    "            whiskerprops=dict(color='black'),\n",
    "            flierprops=dict(color='black', markeredgecolor='black'),\n",
    "            medianprops=dict(color='navy'), showfliers=False\n",
    "            )\n",
    "\n",
    "ax.boxplot([kw_1_auc, kw_05_auc, kw_01_auc], positions=[1.75,5.75,9.75], notch=True, patch_artist=True,\n",
    "            boxprops=dict(facecolor='darkorange', color='darkred'),\n",
    "            capprops=dict(color='black'),\n",
    "            whiskerprops=dict(color='black'),\n",
    "            flierprops=dict(color='black', markeredgecolor='black'),\n",
    "            medianprops=dict(color='darkred'), showfliers=False\n",
    "            )\n",
    "\n",
    "ax.boxplot([gearyc_1_auc, gearyc_05_auc, gearyc_01_auc], positions=[2.5,6.5,10.5], notch=True, patch_artist=True,\n",
    "            boxprops=dict(facecolor='limegreen', color='darkgreen'),\n",
    "            capprops=dict(color='black'),\n",
    "            whiskerprops=dict(color='black'),\n",
    "            flierprops=dict(color='black', markeredgecolor='black'),\n",
    "            medianprops=dict(color='darkgreen'), showfliers=False\n",
    "            )\n",
    "\n",
    "ax.set_xticks([1.75, 5.75, 9.75])\n",
    "ax.set_xticklabels(['0.1', '0.05', '0.01'], size=8)\n",
    "ax.set_xlabel('Capture efficiency', size=8)\n",
    "\n",
    "ax.set_yticks([0.85, 0.9, 0.95])\n",
    "ax.set_yticklabels(['0.85', '0.90', '0.95'], size=8)\n",
    "ax.set_ylabel('Precision-recall AUC', size=8)\n",
    "\n",
    "ax.spines[\"right\"].set_visible(False)\n",
    "ax.spines[\"top\"].set_visible(False)\n",
    "\n",
    "ax.set_xlim([-0.5, 12])\n",
    "\n",
    "plt.savefig('/mnt/lareaulab/cfbuenabadn/plots_pdf/single_lineage_auc.pdf', bbox_inches='tight', res=20000, dpi =2000)\n",
    "# plt.show()"
   ]
  },
  {
   "cell_type": "code",
   "execution_count": 10,
   "metadata": {},
   "outputs": [
    {
     "data": {
      "image/png": "[encoded data removed]",
      "text/plain": [
       "<Figure size 180x120 with 1 Axes>"
      ]
     },
     "metadata": {
      "needs_background": "light"
     },
     "output_type": "display_data"
    }
   ],
   "source": [
    "pos = pd.Index(['gene' + str(i) for i in range(1, 2501)]) & psix_results_1.index\n",
    "neg = pd.Index(['gene' + str(i) for i in range(2501, 5001)]) & psix_results_1.index\n",
    "\n",
    "\n",
    "fig = plt.figure(figsize=(6/2.4, 4/2.4))\n",
    "\n",
    "ax = fig.add_subplot(111)\n",
    "ax.plot(sorted(np.arange(0+(1/len(neg)), 1+(1/len(neg)), step = 1/len(neg))),\n",
    "            sorted(np.arange(0+(1/len(neg)), 1+(1/len(neg)), step = 1/len(neg))), c='red',\n",
    "        linestyle='--')\n",
    "\n",
    "ax.plot(sorted(np.arange(0+(1/len(neg)), 1+(1/len(neg)), step = 1/len(neg))),\n",
    "            sorted(psix_results_1.loc[neg].pvals), label='Psix', linewidth=2, c='royalblue')\n",
    "\n",
    "ax.plot(sorted(np.arange(0+(1/len(neg)), 1+(1/len(neg)), step = 1/len(neg))),\n",
    "            sorted(kw_1.loc[neg].pvals), label='Kruskal-Wallis', linewidth=2, c='darkorange')\n",
    "\n",
    "ax.plot(sorted(np.arange(0+(1/len(neg)), 1+(1/len(neg)), step = 1/len(neg))),\n",
    "            sorted(gearyc_1.loc[neg].pvals), label=\"Geary's C\", linewidth=2, c='forestgreen')\n",
    "\n",
    "\n",
    "ax.set_xticks([0, 0.25, 0.5, 0.75, 1])\n",
    "ax.set_xticklabels(['0.0', '0.25', '0.5', '0.75', '1.0'], size=8)\n",
    "ax.set_xlabel('Quantiles', size=8)\n",
    "\n",
    "ax.set_yticks([0, 0.25, 0.5, 0.75, 1])\n",
    "ax.set_yticklabels(['0.0', '0.25', '0.5', '0.75', '1.0'], size=8)\n",
    "ax.set_ylabel('p-values (null)', size=8)\n",
    "\n",
    "ax.spines[\"right\"].set_visible(False)\n",
    "ax.spines[\"top\"].set_visible(False)\n",
    "\n",
    "ax.legend(frameon=False, fontsize=8)\n",
    "\n",
    "plt.savefig('/mnt/lareaulab/cfbuenabadn/plots_pdf/single_lineage_pvals.pdf', bbox_inches='tight', res=20000, dpi =2000)"
   ]
  },
  {
   "cell_type": "code",
   "execution_count": 25,
   "metadata": {},
   "outputs": [
    {
     "data": {
      "image/png": "[encoded data removed]",
      "text/plain": [
       "<Figure size 75x75 with 2 Axes>"
      ]
     },
     "metadata": {
      "needs_background": "light"
     },
     "output_type": "display_data"
    }
   ],
   "source": [
    "rd = pd.read_csv('processed_tables/pc2_rd.tab.gz', sep='\\t', index_col=0)\n",
    "\n",
    "fig = plt.figure(figsize=(2.5/2.4, 2.5/2.4))\n",
    "ax = fig.add_subplot(111)\n",
    "\n",
    "sc = ax.scatter(-rd.PC_1, -rd.PC_2, c=meta.lineage_depth, cmap='inferno', vmin=0, s=20, linewidth=0)\n",
    "cb = plt.colorbar(sc, shrink = 0.8, aspect=10, orientation=\"horizontal\")\n",
    "cb.set_label(label='Pseudotime',size=8)\n",
    "cb.outline.set_visible(False)\n",
    "cb.ax.tick_params(labelsize=0, length=0)\n",
    "\n",
    "plt.tick_params(\n",
    "    axis='both',          # changes apply to the x-axis\n",
    "    which='both',      # both major and minor ticks are affected\n",
    "    bottom=False,\n",
    "    left = False,\n",
    "    right = False, # ticks along the bottom edge are off\n",
    "    top=False,         # ticks along the top edge are off\n",
    "    labelbottom=False,\n",
    "labelleft=False)\n",
    "\n",
    "ax.spines[\"right\"].set_visible(False)\n",
    "ax.spines[\"top\"].set_visible(False)\n",
    "\n",
    "plt.savefig('../plots/single_lineage.png', bbox_inches='tight', res=20000, dpi =2000)"
   ]
  },
  {
   "cell_type": "code",
   "execution_count": 28,
   "metadata": {},
   "outputs": [],
   "source": [
    "underlying_psi = pd.read_csv('sim_output/psi_underlying.tab.gz', sep='\\t', \n",
    "                               names = ['cell_'+str(i+1) for i in range(1000)])\n",
    "underlying_psi.index = ['gene' + str(i+1) for i in range(5000)]\n",
    "underlying_psi = expit(underlying_psi)"
   ]
  },
  {
   "cell_type": "code",
   "execution_count": 30,
   "metadata": {},
   "outputs": [
    {
     "data": {
      "image/png": "[encoded data removed]",
      "text/plain": [
       "<Figure size 75x75 with 2 Axes>"
      ]
     },
     "metadata": {
      "needs_background": "light"
     },
     "output_type": "display_data"
    }
   ],
   "source": [
    "rd = pd.read_csv('processed_tables/pc2_rd.tab.gz', sep='\\t', index_col=0)\n",
    "\n",
    "# pos = pd.Index(['gene' + str(i) for i in range(1, 2501)]) & psix_results_1.index\n",
    "# neg = pd.Index(['gene' + str(i) for i in range(2501, 5001)]) & psix_results_1.index\n",
    "\n",
    "\n",
    "fig = plt.figure(figsize=(2.5/2.4, 2.5/2.4))\n",
    "ax = fig.add_subplot(111)\n",
    "\n",
    "sc = ax.scatter(-rd.PC_1, -rd.PC_2, c=psix_single_lineage_1.adata.uns['psi']['gene316'], vmin=0, vmax=1, s=10, linewidth=0)\n",
    "cb = plt.colorbar(sc, shrink = 0.8, aspect=10, orientation=\"horizontal\")\n",
    "cb.set_label(label='$\\Psi$',size=8)\n",
    "cb.outline.set_visible(False)\n",
    "cb.ax.tick_params(labelsize=8, length=2)\n",
    "\n",
    "\n",
    "# plt.title('Positives')\n",
    "# ax.tick_params(labelsize=8, length=1)\n",
    "\n",
    "plt.tick_params(\n",
    "    axis='both',          # changes apply to the x-axis\n",
    "    which='both',      # both major and minor ticks are affected\n",
    "    bottom=False,\n",
    "    left = False,\n",
    "    right = False, # ticks along the bottom edge are off\n",
    "    top=False,         # ticks along the top edge are off\n",
    "    labelbottom=False,\n",
    "labelleft=False)\n",
    "\n",
    "\n",
    "ax.spines[\"right\"].set_visible(False)\n",
    "ax.spines[\"top\"].set_visible(False)\n",
    "\n",
    "plt.savefig('../plots/positive_pca.png', bbox_inches='tight', res=20000, dpi =2000)"
   ]
  },
  {
   "cell_type": "code",
   "execution_count": 31,
   "metadata": {},
   "outputs": [
    {
     "data": {
      "image/png": "[encoded data removed]",
      "text/plain": [
       "<Figure size 75x75 with 2 Axes>"
      ]
     },
     "metadata": {
      "needs_background": "light"
     },
     "output_type": "display_data"
    }
   ],
   "source": [
    "rd = pd.read_csv('processed_tables/pc2_rd.tab.gz', sep='\\t', index_col=0)\n",
    "\n",
    "pos = pd.Index(['gene' + str(i) for i in range(1, 2501)]) & psix_results_1.index\n",
    "neg = pd.Index(['gene' + str(i) for i in range(2501, 5001)]) & psix_results_1.index\n",
    "\n",
    "\n",
    "fig = plt.figure(figsize=(2.5/2.4, 2.5/2.4))\n",
    "ax = fig.add_subplot(111)\n",
    "\n",
    "sc = ax.scatter(-rd.PC_1, -rd.PC_2, c=psix_single_lineage_1.adata.uns['psi']['gene4452'], vmin=0, vmax=1, s=10, linewidth=0)\n",
    "cb = plt.colorbar(sc, shrink = 0.8, aspect=10, orientation=\"horizontal\")\n",
    "cb.set_label(label='$\\Psi$',size=8)\n",
    "cb.outline.set_visible(False)\n",
    "cb.ax.tick_params(labelsize=8, length=2)\n",
    "\n",
    "\n",
    "# plt.title('Positives')\n",
    "# ax.tick_params(labelsize=8, length=1)\n",
    "\n",
    "plt.tick_params(\n",
    "    axis='both',          # changes apply to the x-axis\n",
    "    which='both',      # both major and minor ticks are affected\n",
    "    bottom=False,\n",
    "    left = False,\n",
    "    right = False, # ticks along the bottom edge are off\n",
    "    top=False,         # ticks along the top edge are off\n",
    "    labelbottom=False,\n",
    "labelleft=False)\n",
    "\n",
    "\n",
    "ax.spines[\"right\"].set_visible(False)\n",
    "ax.spines[\"top\"].set_visible(False)\n",
    "\n",
    "plt.savefig('../plots/negative_pca.png', bbox_inches='tight', res=20000, dpi =2000)"
   ]
  },
  {
   "cell_type": "code",
   "execution_count": 32,
   "metadata": {},
   "outputs": [
    {
     "data": {
      "image/png": "[encoded data removed]",
      "text/plain": [
       "<Figure size 75x60 with 1 Axes>"
      ]
     },
     "metadata": {},
     "output_type": "display_data"
    }
   ],
   "source": [
    "# rd = pd.read_csv('single_lineage/processed_tables/pc2_rd.tab.gz', sep='\\t', index_col=0)\n",
    "\n",
    "# pos = pd.Index(['gene' + str(i) for i in range(1, 2501)]) & psix_results_1.index\n",
    "# neg = pd.Index(['gene' + str(i) for i in range(2501, 5001)]) & psix_results_1.index\n",
    "\n",
    "\n",
    "fig = plt.figure(figsize=(2.5/2.4, 2/2.4))\n",
    "ax = fig.add_subplot(111)\n",
    "\n",
    "ax.scatter(meta.lineage_depth, underlying_psi.loc['gene316'], c='steelblue', s=5, linewidth=0)\n",
    "ax.plot(meta.sort_values('lineage_depth').lineage_depth, \n",
    "        platonic_psi.loc['gene316', meta.sort_values('lineage_depth').index], c='darkred')\n",
    "\n",
    "\n",
    "ax.set_xlabel('Lineage', size=8)\n",
    "ax.set_ylabel('exon $\\Psi$', size=8)\n",
    "# ax.tick_params(labelsize=8, length=1)\n",
    "\n",
    "plt.tick_params(\n",
    "    axis='both',          # changes apply to the x-axis\n",
    "    which='both',      # both major and minor ticks are affected\n",
    "    bottom=False,\n",
    "    left = False,\n",
    "    right = False, # ticks along the bottom edge are off\n",
    "    top=False,         # ticks along the top edge are off\n",
    "    labelbottom=False,\n",
    "labelleft=False)\n",
    "\n",
    "\n",
    "ax.spines[\"right\"].set_visible(False)\n",
    "ax.spines[\"top\"].set_visible(False)\n",
    "ax.set_ylim(-0.05, 1.05)\n",
    "\n",
    "plt.savefig('../plots/positive_psi.png', bbox_inches='tight', res=20000, dpi =2000)"
   ]
  },
  {
   "cell_type": "code",
   "execution_count": 33,
   "metadata": {},
   "outputs": [
    {
     "data": {
      "image/png": "[encoded data removed]",
      "text/plain": [
       "<Figure size 75x60 with 1 Axes>"
      ]
     },
     "metadata": {},
     "output_type": "display_data"
    }
   ],
   "source": [
    "# rd = pd.read_csv('single_lineage/processed_tables/pc2_rd.tab.gz', sep='\\t', index_col=0)\n",
    "\n",
    "# pos = pd.Index(['gene' + str(i) for i in range(1, 2501)]) & psix_results_1.index\n",
    "# neg = pd.Index(['gene' + str(i) for i in range(2501, 5001)]) & psix_results_1.index\n",
    "\n",
    "\n",
    "fig = plt.figure(figsize=(2.5/2.4, 2/2.4))\n",
    "ax = fig.add_subplot(111)\n",
    "\n",
    "ax.scatter(meta.lineage_depth, underlying_psi.loc['gene4452'], c='steelblue', s=5, linewidth=0)\n",
    "ax.plot(meta.sort_values('lineage_depth').lineage_depth, \n",
    "        platonic_psi.loc['gene4452', meta.sort_values('lineage_depth').index], c='darkred')\n",
    "\n",
    "\n",
    "ax.set_xlabel('Lineage', size=8)\n",
    "ax.set_ylabel('exon $\\Psi$', size=8)\n",
    "# ax.tick_params(labelsize=8, length=1)\n",
    "\n",
    "plt.tick_params(\n",
    "    axis='both',          # changes apply to the x-axis\n",
    "    which='both',      # both major and minor ticks are affected\n",
    "    bottom=False,\n",
    "    left = False,\n",
    "    right = False, # ticks along the bottom edge are off\n",
    "    top=False,         # ticks along the top edge are off\n",
    "    labelbottom=False,\n",
    "labelleft=False)\n",
    "\n",
    "\n",
    "ax.spines[\"right\"].set_visible(False)\n",
    "ax.spines[\"top\"].set_visible(False)\n",
    "ax.set_ylim(-0.05, 1.05)\n",
    "\n",
    "\n",
    "plt.savefig('../plots/negative_psi.png', bbox_inches='tight', res=20000, dpi =2000)"
   ]
  },
  {
   "cell_type": "code",
   "execution_count": 34,
   "metadata": {},
   "outputs": [],
   "source": [
    "gene_expression = pd.read_csv('sim_output/gene_counts.tab.gz', sep='\\t', \n",
    "                               names = ['cell_'+str(i+1) for i in range(1000)])\n",
    "gene_expression.index = ['gene' + str(i+1) for i in range(5000)]\n",
    "\n",
    "# gene_expression = expit(ungene_expression)\n"
   ]
  },
  {
   "cell_type": "code",
   "execution_count": 35,
   "metadata": {},
   "outputs": [
    {
     "data": {
      "image/png": "[encoded data removed]",
      "text/plain": [
       "<Figure size 75x60 with 1 Axes>"
      ]
     },
     "metadata": {},
     "output_type": "display_data"
    }
   ],
   "source": [
    "\n",
    "# pos = pd.Index(['gene' + str(i) for i in range(1, 2501)]) & psix_results_1.index\n",
    "# neg = pd.Index(['gene' + str(i) for i in range(2501, 5001)]) & psix_results_1.index\n",
    "\n",
    "\n",
    "fig = plt.figure(figsize=(2.5/2.4, 2/2.4))\n",
    "ax = fig.add_subplot(111)\n",
    "\n",
    "ax.scatter(meta.lineage_depth, np.log1p(gene_expression.loc['gene316']), c='steelblue', s=5, linewidth=0)\n",
    "# ax.plot(meta.sort_values('lineage_depth').lineage_depth, \n",
    "#        gene_expression.loc['gene316', meta.sort_values('lineage_depth').index], c='darkred')\n",
    "\n",
    "\n",
    "ax.set_xlabel('Lineage', size=8)\n",
    "ax.set_ylabel('gene expression', size=8)\n",
    "# ax.tick_params(labelsize=8, length=1)\n",
    "\n",
    "plt.tick_params(\n",
    "    axis='both',          # changes apply to the x-axis\n",
    "    which='both',      # both major and minor ticks are affected\n",
    "    bottom=False,\n",
    "    left = False,\n",
    "    right = False, # ticks along the bottom edge are off\n",
    "    top=False,         # ticks along the top edge are off\n",
    "    labelbottom=False,\n",
    "labelleft=False)\n",
    "\n",
    "\n",
    "ax.spines[\"right\"].set_visible(False)\n",
    "ax.spines[\"top\"].set_visible(False)\n",
    "# ax.set_ylim(-0.05, 1.05)\n",
    "\n",
    "plt.savefig('../plots/positive_gene.png', bbox_inches='tight', res=20000, dpi =2000)"
   ]
  },
  {
   "cell_type": "code",
   "execution_count": 36,
   "metadata": {},
   "outputs": [
    {
     "data": {
      "image/png": "[encoded data removed]",
      "text/plain": [
       "<Figure size 75x60 with 1 Axes>"
      ]
     },
     "metadata": {},
     "output_type": "display_data"
    }
   ],
   "source": [
    "\n",
    "# pos = pd.Index(['gene' + str(i) for i in range(1, 2501)]) & psix_results_1.index\n",
    "# neg = pd.Index(['gene' + str(i) for i in range(2501, 5001)]) & psix_results_1.index\n",
    "\n",
    "\n",
    "fig = plt.figure(figsize=(2.5/2.4, 2/2.4))\n",
    "ax = fig.add_subplot(111)\n",
    "\n",
    "ax.scatter(meta.lineage_depth, np.log1p(gene_expression.loc['gene4452']), c='steelblue', s=5, linewidth=0)\n",
    "# ax.plot(meta.sort_values('lineage_depth').lineage_depth, \n",
    "#        gene_expression.loc['gene316', meta.sort_values('lineage_depth').index], c='darkred')\n",
    "\n",
    "\n",
    "ax.set_xlabel('Lineage', size=8)\n",
    "ax.set_ylabel('gene expression', size=8)\n",
    "# ax.tick_params(labelsize=8, length=1)\n",
    "\n",
    "plt.tick_params(\n",
    "    axis='both',          # changes apply to the x-axis\n",
    "    which='both',      # both major and minor ticks are affected\n",
    "    bottom=False,\n",
    "    left = False,\n",
    "    right = False, # ticks along the bottom edge are off\n",
    "    top=False,         # ticks along the top edge are off\n",
    "    labelbottom=False,\n",
    "labelleft=False)\n",
    "\n",
    "\n",
    "ax.spines[\"right\"].set_visible(False)\n",
    "ax.spines[\"top\"].set_visible(False)\n",
    "# ax.set_ylim(-0.05, 1.05)\n",
    "\n",
    "plt.savefig('../plots/negative_gene.png', bbox_inches='tight', res=20000, dpi =2000)"
   ]
  },
  {
   "cell_type": "code",
   "execution_count": 39,
   "metadata": {},
   "outputs": [],
   "source": [
    "import os \n",
    "\n",
    "# psix_single_lineage_1.run_psix(latent='processed_tables/pc2_rd.tab.gz', n_jobs=25,\n",
    "#                                 n_random_exons=2000, n_neighbors=5)\n",
    "# psix_single_lineage_1.psix_results.to_csv('k_sensitivity/k_5.tab.gz', sep='\\t', index=True, header=True)\n",
    "\n",
    "# psix_single_lineage_1.run_psix(latent='processed_tables/pc2_rd.tab.gz', n_jobs=25,\n",
    "#                                 n_random_exons=2000, n_neighbors=10)\n",
    "# psix_single_lineage_1.psix_results.to_csv('k_sensitivity/k_10.tab.gz', sep='\\t', index=True, header=True)\n",
    "\n",
    "\n",
    "# psix_single_lineage_1.run_psix(latent='processed_tables/pc2_rd.tab.gz', n_jobs=25,\n",
    "#                                 n_random_exons=2000, n_neighbors=20)\n",
    "# psix_single_lineage_1.psix_results.to_csv('k_sensitivity/k_20.tab.gz', sep='\\t', index=True, header=True)\n",
    "\n",
    "\n",
    "# psix_single_lineage_1.run_psix(latent='processed_tables/pc2_rd.tab.gz', n_jobs=25,\n",
    "#                                 n_random_exons=2000, n_neighbors=30)\n",
    "# psix_single_lineage_1.psix_results.to_csv('k_sensitivity/k_30.tab.gz', sep='\\t', index=True, header=True)\n",
    "\n",
    "# psix_single_lineage_1.run_psix(latent='processed_tables/pc2_rd.tab.gz', n_jobs=25,\n",
    "#                                 n_random_exons=2000, n_neighbors=50)\n",
    "# psix_single_lineage_1.psix_results.to_csv('k_sensitivity/k_50.tab.gz', sep='\\t', index=True, header=True)\n",
    "\n",
    "# psix_single_lineage_1.run_psix(latent='processed_tables/pc2_rd.tab.gz', n_jobs=25,\n",
    "#                                 n_random_exons=2000, n_neighbors=100)\n",
    "# psix_single_lineage_1.psix_results.to_csv('k_sensitivity/k_100.tab.gz', sep='\\t', index=True, header=True)\n",
    "\n",
    "# psix_single_lineage_1.run_psix(latent='processed_tables/pc2_rd.tab.gz', n_jobs=25,\n",
    "#                                 n_random_exons=2000, n_neighbors=150)\n",
    "# psix_single_lineage_1.psix_results.to_csv('k_sensitivity/k_150.tab.gz', sep='\\t', index=True, header=True)\n",
    "\n",
    "# psix_single_lineage_1.run_psix(latent='processed_tables/pc2_rd.tab.gz', n_jobs=25,\n",
    "#                                 n_random_exons=2000, n_neighbors=200)\n",
    "# psix_single_lineage_1.psix_results.to_csv('k_sensitivity/k_200.tab.gz', sep='\\t', index=True, header=True)\n",
    "\n",
    "# psix_single_lineage_1.run_psix(latent='processed_tables/pc2_rd.tab.gz', n_jobs=25,\n",
    "#                                 n_random_exons=2000, n_neighbors=250)\n",
    "# psix_single_lineage_1.psix_results.to_csv('k_sensitivity/k_250.tab.gz', sep='\\t', index=True, header=True)\n",
    "\n",
    "# psix_single_lineage_1.run_psix(latent='processed_tables/pc2_rd.tab.gz', n_jobs=25,\n",
    "#                                 n_random_exons=2000, n_neighbors=300)\n",
    "# psix_single_lineage_1.psix_results.to_csv('k_sensitivity/k_300.tab.gz', sep='\\t', index=True, header=True)\n",
    "\n",
    "# psix_single_lineage_1.run_psix(latent='processed_tables/pc2_rd.tab.gz', n_jobs=25,\n",
    "#                                 n_random_exons=2000, n_neighbors=400)\n",
    "# psix_single_lineage_1.psix_results.to_csv('k_sensitivity/k_400.tab.gz', sep='\\t', index=True, header=True)\n",
    "\n",
    "# psix_single_lineage_1.run_psix(latent='processed_tables/pc2_rd.tab.gz', n_jobs=25,\n",
    "#                                 n_random_exons=2000, n_neighbors=500)\n",
    "# psix_single_lineage_1.psix_results.to_csv('k_sensitivity/k_500.tab.gz', sep='\\t', index=True, header=True)\n"
   ]
  },
  {
   "cell_type": "code",
   "execution_count": 49,
   "metadata": {},
   "outputs": [
    {
     "data": {
      "image/png": "[encoded data removed]",
      "text/plain": [
       "<Figure size 180x120 with 1 Axes>"
      ]
     },
     "metadata": {
      "needs_background": "light"
     },
     "output_type": "display_data"
    }
   ],
   "source": [
    "psix_5 = pd.read_csv('k_sensitivity/k_5.tab.gz', sep='\\t', index_col=0)\n",
    "psix_10 = pd.read_csv('k_sensitivity/k_10.tab.gz', sep='\\t', index_col=0)\n",
    "psix_20 = pd.read_csv('k_sensitivity/k_20.tab.gz', sep='\\t', index_col=0)\n",
    "psix_30 = pd.read_csv('k_sensitivity/k_30.tab.gz', sep='\\t', index_col=0)\n",
    "psix_50 = pd.read_csv('k_sensitivity/k_50.tab.gz', sep='\\t', index_col=0)\n",
    "psix_100 = pd.read_csv('k_sensitivity/k_100.tab.gz', sep='\\t', index_col=0)\n",
    "psix_150 = pd.read_csv('k_sensitivity/k_150.tab.gz', sep='\\t', index_col=0)\n",
    "psix_200 = pd.read_csv('k_sensitivity/k_200.tab.gz', sep='\\t', index_col=0)\n",
    "psix_300 = pd.read_csv('k_sensitivity/k_300.tab.gz', sep='\\t', index_col=0)\n",
    "psix_400 = pd.read_csv('k_sensitivity/k_400.tab.gz', sep='\\t', index_col=0)\n",
    "psix_500 = pd.read_csv('k_sensitivity/k_500.tab.gz', sep='\\t', index_col=0)\n",
    "\n",
    "pos = []\n",
    "neg = []\n",
    "for i in range(5000):\n",
    "    if ('gene'+str(i+1)) in psix_5.index:\n",
    "\n",
    "        if (platonic_psi.loc['gene'+str(i+1)].max() - platonic_psi.loc['gene'+str(i+1)].min()) >= 0.2:\n",
    "            pos.append('gene'+str(i+1))\n",
    "        else:\n",
    "        #elif ds[i] == 0:\n",
    "            neg.append('gene'+str(i+1))\n",
    "\n",
    "    \n",
    "labels = [1]*len(pos) + [0]*len(neg)\n",
    "order = list(pos) + list(neg)\n",
    "\n",
    "    \n",
    "y_ = list(((platonic_psi.max(axis=1) - platonic_psi.min(axis=1)) >= 0.2).astype(int).loc[order])\n",
    "\n",
    "boxplot_list = []\n",
    "for x in [psix_5, psix_10, psix_20, psix_30, psix_50, psix_100, psix_150, psix_200, psix_300, psix_400, psix_500]:\n",
    "    \n",
    "    box = []\n",
    "    for i in range(200):\n",
    "        \n",
    "        pos_sample = np.random.choice(pos, int(len(pos)*0.2), replace=False)\n",
    "        neg_sample = np.random.choice(neg, int(len(neg)*0.2), replace=False)\n",
    "\n",
    "        labels = [1]*len(pos_sample) + [0]*len(neg_sample)\n",
    "        order = list(pos_sample) + list(neg_sample)\n",
    "\n",
    "\n",
    "        y_ = list(((platonic_psi.max(axis=1) - platonic_psi.min(axis=1)) >= 0.2).astype(int).loc[order])\n",
    "        \n",
    "        \n",
    "        pre, rec, thres = precision_recall_curve(y_, x.loc[order].psix_score)\n",
    "    \n",
    "        box.append(auc(rec, pre))\n",
    "\n",
    "    boxplot_list.append(box)\n",
    "\n",
    "    \n",
    "\n",
    "names = pd.Index(['gene' + str(i) for i in range(1, 5001)]) & psix_5.index\n",
    "\n",
    "pos = []\n",
    "neg = []\n",
    "order = []\n",
    "y = []\n",
    "for i in range(5000):\n",
    "    if ('gene'+str(i+1)) in psix_5.index:\n",
    "\n",
    "        if (platonic_psi.loc['gene'+str(i+1)].max() - platonic_psi.loc['gene'+str(i+1)].min()) >= 0.2:\n",
    "            y.append(1)\n",
    "            pos.append('gene'+str(i+1))\n",
    "            order.append('gene'+str(i+1))\n",
    "        else:\n",
    "#         elif ds[i] == 0:\n",
    "            neg.append('gene'+str(i+1))\n",
    "            y.append(0)\n",
    "            order.append('gene'+str(i+1))\n",
    "    \n",
    "    \n",
    "recall_list = []\n",
    "for x in [psix_5, psix_10, psix_20, psix_30, psix_50, psix_100, psix_150, psix_200, psix_300, psix_400, psix_500]:\n",
    "    pre, rec, thres = precision_recall_curve(y, x.loc[order].psix_score)\n",
    "    \n",
    "    recall_list.append(auc(rec, pre))\n",
    "\n",
    "\n",
    "fig = plt.figure(figsize=(6/2.4, 4/2.4))\n",
    "ax = fig.add_subplot(111)\n",
    "\n",
    "ax.fill_between(np.log10(np.array([0.5, 1, 2, 3, 5, 10, 15, 20, 30, 40, 50])), [np.quantile(x, 0.05) for x in boxplot_list], \n",
    "                 [np.quantile(x, 0.95) for x in boxplot_list], color='skyblue')\n",
    "\n",
    "ax.plot([1, 1], [np.quantile(boxplot_list[0], 0.05), recall_list[5]], linestyle='--', c='gray')\n",
    "\n",
    "ax.scatter(np.log10(np.array([0.5, 1, 2, 3, 5, 10, 15, 20, 30, 40, 50])), recall_list, c='navy', zorder=20, s=20)\n",
    "\n",
    "ax.plot(np.log10(np.array([0.5, 1, 2, 3, 5, 10, 15, 20, 30, 40, 50])), recall_list, c='navy', zorder=20)\n",
    "\n",
    "ax.set_xticks(np.log10(np.array([0.5, 1, 2, 5, 10, 20, 50])))\n",
    "\n",
    "ax.set_xticklabels(['0.5%', '1%', '2%', '5%', '10%', '20%', '50%'], size=8)\n",
    "\n",
    "ax.set_xlabel('Neighborhood size - population percent', size=8)\n",
    "\n",
    "ax.set_yticks([0.7, 0.8, 0.9])\n",
    "ax.set_yticklabels(['0.7', '0.8', '0.9'], size=8)\n",
    "ax.set_ylabel('Precision-recall AUC', size=8)\n",
    "\n",
    "ax.spines[\"right\"].set_visible(False)\n",
    "ax.spines[\"top\"].set_visible(False)\n",
    "\n",
    "# ax.set_xlim([-0.5, 12])\n",
    "\n",
    "plt.savefig('../plots/single_lineage_kauc.png', bbox_inches='tight', res=20000, dpi =2000)\n"
   ]
  },
  {
   "cell_type": "code",
   "execution_count": null,
   "metadata": {},
   "outputs": [],
   "source": []
  },
  {
   "cell_type": "code",
   "execution_count": 25,
   "metadata": {},
   "outputs": [
    {
     "data": {
      "text/plain": [
       "<matplotlib.legend.Legend at 0x7f9718f05fd0>"
      ]
     },
     "execution_count": 25,
     "metadata": {},
     "output_type": "execute_result"
    },
    {
     "data": {
      "image/png": "[encoded data removed]",
      "text/plain": [
       "<Figure size 576x288 with 2 Axes>"
      ]
     },
     "metadata": {
      "needs_background": "light"
     },
     "output_type": "display_data"
    }
   ],
   "source": [
    "fig = plt.figure(figsize=(8, 4))\n",
    "gs = GridSpec(1,7)\n",
    "gs.update(wspace=0.05, hspace=0.10)\n",
    "ax = fig.add_subplot(gs[0,0:4])\n",
    "ax_2 = fig.add_subplot(gs[0,4:7])# option 1, specify props dictionaries\n",
    "\n",
    "ax.boxplot([psix_1_auc, psix_05_auc, psix_01_auc], positions=[1,7,13], notch=True, patch_artist=True,\n",
    "            boxprops=dict(facecolor='skyblue', color='navy'),\n",
    "            capprops=dict(color='black'),\n",
    "            whiskerprops=dict(color='black'),\n",
    "            flierprops=dict(color='black', markeredgecolor='black'),\n",
    "            medianprops=dict(color='navy'), showfliers=False\n",
    "            )\n",
    "\n",
    "ax.boxplot([psix_1_auc_, psix_05_auc_, psix_01_auc_], positions=[1.75,7.75,13.75], notch=True, patch_artist=True,\n",
    "            boxprops=dict(facecolor='royalblue', color='navy'),\n",
    "            capprops=dict(color='black'),\n",
    "            whiskerprops=dict(color='black'),\n",
    "            flierprops=dict(color='black', markeredgecolor='black'),\n",
    "            medianprops=dict(color='navy'), showfliers=False\n",
    "            )\n",
    "\n",
    "ax.boxplot([kw_1_auc, kw_05_auc, kw_01_auc], positions=[2.5,8.5,14.5], notch=True, patch_artist=True,\n",
    "            boxprops=dict(facecolor='orange', color='darkred'),\n",
    "            capprops=dict(color='black'),\n",
    "            whiskerprops=dict(color='black'),\n",
    "            flierprops=dict(color='black', markeredgecolor='black'),\n",
    "            medianprops=dict(color='darkred'), showfliers=False\n",
    "            )\n",
    "\n",
    "ax.boxplot([kw_1_auc_, kw_05_auc_, kw_01_auc_], positions=[3.25,9.25,15.25], notch=True, patch_artist=True,\n",
    "            boxprops=dict(facecolor='darkorange', color='darkred'),\n",
    "            capprops=dict(color='black'),\n",
    "            whiskerprops=dict(color='black'),\n",
    "            flierprops=dict(color='black', markeredgecolor='black'),\n",
    "            medianprops=dict(color='darkred'), showfliers=False\n",
    "            )\n",
    "\n",
    "ax.boxplot([gearyc_1_auc, gearyc_05_auc, gearyc_01_auc], positions=[4,10,16], notch=True, patch_artist=True,\n",
    "            boxprops=dict(facecolor='limegreen', color='darkgreen'),\n",
    "            capprops=dict(color='black'),\n",
    "            whiskerprops=dict(color='black'),\n",
    "            flierprops=dict(color='black', markeredgecolor='black'),\n",
    "            medianprops=dict(color='darkgreen'), showfliers=False\n",
    "            )\n",
    "\n",
    "ax.boxplot([gearyc_1_auc_, gearyc_05_auc_, gearyc_01_auc_], positions=[4.75,10.75,16.75], notch=True, patch_artist=True,\n",
    "            boxprops=dict(facecolor='forestgreen', color='darkgreen'),\n",
    "            capprops=dict(color='black'),\n",
    "            whiskerprops=dict(color='black'),\n",
    "            flierprops=dict(color='black', markeredgecolor='black'),\n",
    "            medianprops=dict(color='darkgreen'), showfliers=False\n",
    "            )\n",
    "\n",
    "ax.set_xticks([1.75, 8.75, 14.75])\n",
    "ax.set_xticklabels(['0.1', '0.05', '0.01'], size=18)\n",
    "ax.set_xlabel('Capture efficiency', size=18)\n",
    "\n",
    "ax.set_yticks([0.85, 0.9, 0.95])\n",
    "ax.set_yticklabels(['0.85', '0.90', '0.95'], size=18)\n",
    "ax.set_ylabel('AU Pre-Rec curve', size=18)\n",
    "\n",
    "ax.spines[\"right\"].set_visible(False)\n",
    "ax.spines[\"top\"].set_visible(False)\n",
    "\n",
    "ax_2.set_xlim([0, 0])\n",
    "\n",
    "ax_2.hist([-1, -1], color='skyblue', label='Psix')\n",
    "ax_2.hist([-1, -1], color='darkorange', label='Kruskal-Wallis')\n",
    "ax_2.hist([-1, -1], color='limegreen', label=\"Geary's C\")\n",
    "\n",
    "ax_2.spines[\"bottom\"].set_visible(False)\n",
    "ax_2.spines[\"top\"].set_visible(False)\n",
    "ax_2.spines[\"right\"].set_visible(False)\n",
    "ax_2.spines[\"left\"].set_visible(False)\n",
    "\n",
    "ax_2.tick_params(\n",
    "    axis='both',          # changes apply to the x-axis\n",
    "    which='both',      # both major and minor ticks are affected\n",
    "    bottom=False,      # ticks along the bottom edge are off\n",
    "    top=False,  \n",
    "    right=False,\n",
    "    left=False, # ticks along the top edge are off\n",
    "    labelleft=False,\n",
    "    labelbottom=False)\n",
    "\n",
    "ax_2.legend(frameon=False, fontsize=14)"
   ]
  },
  {
   "cell_type": "code",
   "execution_count": null,
   "metadata": {},
   "outputs": [],
   "source": []
  },
  {
   "cell_type": "code",
   "execution_count": null,
   "metadata": {},
   "outputs": [],
   "source": []
  },
  {
   "cell_type": "markdown",
   "metadata": {},
   "source": [
    "# Psix performance in differentially expressed genes\n",
    "\n",
    "We run slingshot on the simulated gene trajectory to obtain a lineage pseudotime. Then we run tradeseq to get differentially expressed genes.\n",
    "\n",
    "This code is on ```run_slingshot.Rmd```. The output of tradeseq is on ```processed_tables/ATres.tab```."
   ]
  },
  {
   "cell_type": "code",
   "execution_count": 11,
   "metadata": {},
   "outputs": [],
   "source": [
    "from statsmodels.stats.multitest import multipletests\n",
    "\n",
    "ATres = pd.read_csv('processed_tables/ATres.tab.gz', sep='\\t', index_col=0)\n",
    "\n",
    "idx = [int(x.split('gene')[1]) for x in psix_results_1.index]\n",
    "ATres['FDR'] = multipletests(ATres.pvalue)[1]\n",
    "ATres = ATres.loc[idx]\n",
    "ATres['significant'] = (ATres.loc[idx].FDR < 0.05) & (ATres.loc[idx].meanLogFC >= 0.25)\n"
   ]
  },
  {
   "cell_type": "code",
   "execution_count": 12,
   "metadata": {},
   "outputs": [
    {
     "data": {
      "text/html": [
       "<div>\n",
       "<style scoped>\n",
       "    .dataframe tbody tr th:only-of-type {\n",
       "        vertical-align: middle;\n",
       "    }\n",
       "\n",
       "    .dataframe tbody tr th {\n",
       "        vertical-align: top;\n",
       "    }\n",
       "\n",
       "    .dataframe thead th {\n",
       "        text-align: right;\n",
       "    }\n",
       "</style>\n",
       "<table border=\"1\" class=\"dataframe\">\n",
       "  <thead>\n",
       "    <tr style=\"text-align: right;\">\n",
       "      <th></th>\n",
       "      <th>waldStat</th>\n",
       "      <th>df</th>\n",
       "      <th>pvalue</th>\n",
       "      <th>meanLogFC</th>\n",
       "      <th>FDR</th>\n",
       "      <th>significant</th>\n",
       "    </tr>\n",
       "  </thead>\n",
       "  <tbody>\n",
       "    <tr>\n",
       "      <th>1128</th>\n",
       "      <td>0.535707</td>\n",
       "      <td>4</td>\n",
       "      <td>9.699331e-01</td>\n",
       "      <td>0.012144</td>\n",
       "      <td>1.000000e+00</td>\n",
       "      <td>False</td>\n",
       "    </tr>\n",
       "    <tr>\n",
       "      <th>1880</th>\n",
       "      <td>27.276286</td>\n",
       "      <td>4</td>\n",
       "      <td>1.747897e-05</td>\n",
       "      <td>0.404205</td>\n",
       "      <td>3.295231e-02</td>\n",
       "      <td>True</td>\n",
       "    </tr>\n",
       "    <tr>\n",
       "      <th>2332</th>\n",
       "      <td>15.913010</td>\n",
       "      <td>4</td>\n",
       "      <td>3.138140e-03</td>\n",
       "      <td>0.124870</td>\n",
       "      <td>9.883284e-01</td>\n",
       "      <td>False</td>\n",
       "    </tr>\n",
       "    <tr>\n",
       "      <th>705</th>\n",
       "      <td>537.670351</td>\n",
       "      <td>4</td>\n",
       "      <td>0.000000e+00</td>\n",
       "      <td>0.645671</td>\n",
       "      <td>0.000000e+00</td>\n",
       "      <td>True</td>\n",
       "    </tr>\n",
       "    <tr>\n",
       "      <th>1878</th>\n",
       "      <td>69.716086</td>\n",
       "      <td>4</td>\n",
       "      <td>2.609024e-14</td>\n",
       "      <td>0.132263</td>\n",
       "      <td>7.498335e-11</td>\n",
       "      <td>False</td>\n",
       "    </tr>\n",
       "  </tbody>\n",
       "</table>\n",
       "</div>"
      ],
      "text/plain": [
       "        waldStat  df        pvalue  meanLogFC           FDR  significant\n",
       "1128    0.535707   4  9.699331e-01   0.012144  1.000000e+00        False\n",
       "1880   27.276286   4  1.747897e-05   0.404205  3.295231e-02         True\n",
       "2332   15.913010   4  3.138140e-03   0.124870  9.883284e-01        False\n",
       "705   537.670351   4  0.000000e+00   0.645671  0.000000e+00         True\n",
       "1878   69.716086   4  2.609024e-14   0.132263  7.498335e-11        False"
      ]
     },
     "execution_count": 12,
     "metadata": {},
     "output_type": "execute_result"
    }
   ],
   "source": [
    "ATres.head(5)"
   ]
  },
  {
   "cell_type": "code",
   "execution_count": 13,
   "metadata": {},
   "outputs": [],
   "source": [
    "DE = ATres.loc[ATres.significant].index\n",
    "nonDE = ATres.loc[~ATres.significant].index"
   ]
  },
  {
   "cell_type": "code",
   "execution_count": 14,
   "metadata": {},
   "outputs": [],
   "source": [
    "psi_platonic = pd.read_csv('sim_output/psi_platonic.tab.gz', sep='\\t',\n",
    "                          names = range(1000))\n",
    "psi_platonic.index = range(1, 5001)\n",
    "psi_platonic = psi_platonic.loc[np.array(idx)]"
   ]
  },
  {
   "cell_type": "code",
   "execution_count": 15,
   "metadata": {},
   "outputs": [],
   "source": [
    "nonDS = psi_platonic.loc[\n",
    "    (psi_platonic.var(axis=1) <= 10e-20) | ((psi_platonic.max(axis=1) - psi_platonic.min(axis=1)) < 0.2)].index\n",
    "DS = psi_platonic.loc[\n",
    "    (psi_platonic.var(axis=1) >= 10e-20) & ((psi_platonic.max(axis=1) - psi_platonic.min(axis=1)) >= 0.2)].index"
   ]
  },
  {
   "cell_type": "code",
   "execution_count": 16,
   "metadata": {},
   "outputs": [],
   "source": [
    "DE_nonDS = DE.intersection(nonDS)\n",
    "DE_DS = DE.intersection(DS)\n",
    "\n",
    "nonDE_nonDS = nonDE.intersection(nonDS)\n",
    "nonDE_DS = nonDE.intersection(DS)"
   ]
  },
  {
   "cell_type": "code",
   "execution_count": 17,
   "metadata": {},
   "outputs": [
    {
     "data": {
      "text/plain": [
       "0.48129359543436906"
      ]
     },
     "execution_count": 17,
     "metadata": {},
     "output_type": "execute_result"
    }
   ],
   "source": [
    "len(DE_DS)/len(DE)"
   ]
  },
  {
   "cell_type": "code",
   "execution_count": 18,
   "metadata": {},
   "outputs": [
    {
     "data": {
      "text/plain": [
       "0.01589242053789731"
      ]
     },
     "execution_count": 18,
     "metadata": {},
     "output_type": "execute_result"
    }
   ],
   "source": [
    "(psix_results_1.loc[['gene'+str(x) for x in DE_nonDS]].qvals <= 0.05).mean()"
   ]
  },
  {
   "cell_type": "code",
   "execution_count": 45,
   "metadata": {},
   "outputs": [
    {
     "data": {
      "text/plain": [
       "0.14792176039119803"
      ]
     },
     "execution_count": 45,
     "metadata": {},
     "output_type": "execute_result"
    }
   ],
   "source": [
    "(kw_1.loc[['gene'+str(x) for x in DE_nonDS]].qvals <= 0.05).mean()"
   ]
  },
  {
   "cell_type": "code",
   "execution_count": 46,
   "metadata": {},
   "outputs": [
    {
     "data": {
      "text/plain": [
       "0.6324110671936759"
      ]
     },
     "execution_count": 46,
     "metadata": {},
     "output_type": "execute_result"
    }
   ],
   "source": [
    "(psix_results_1.loc[['gene'+str(x) for x in DE_DS]].qvals <= 0.01).mean()"
   ]
  },
  {
   "cell_type": "code",
   "execution_count": 47,
   "metadata": {},
   "outputs": [
    {
     "data": {
      "text/plain": [
       "0.7852437417654808"
      ]
     },
     "execution_count": 47,
     "metadata": {},
     "output_type": "execute_result"
    }
   ],
   "source": [
    "(kw_1.loc[['gene'+str(x) for x in DE_DS]].qvals <= 0.05).mean()"
   ]
  },
  {
   "cell_type": "code",
   "execution_count": 48,
   "metadata": {},
   "outputs": [
    {
     "data": {
      "text/plain": [
       "0.7033985581874357"
      ]
     },
     "execution_count": 48,
     "metadata": {},
     "output_type": "execute_result"
    }
   ],
   "source": [
    "(psix_results_1.loc[['gene'+str(x) for x in nonDE_DS]].qvals <= 0.05).mean()"
   ]
  },
  {
   "cell_type": "code",
   "execution_count": 49,
   "metadata": {},
   "outputs": [
    {
     "data": {
      "text/plain": [
       "0.7456230690010298"
      ]
     },
     "execution_count": 49,
     "metadata": {},
     "output_type": "execute_result"
    }
   ],
   "source": [
    "(kw_1.loc[['gene'+str(x) for x in nonDE_DS]].qvals <= 0.05).mean()"
   ]
  },
  {
   "cell_type": "code",
   "execution_count": 50,
   "metadata": {},
   "outputs": [
    {
     "data": {
      "text/plain": [
       "0.013859275053304905"
      ]
     },
     "execution_count": 50,
     "metadata": {},
     "output_type": "execute_result"
    }
   ],
   "source": [
    "(psix_results_1.loc[['gene'+str(x) for x in nonDE_nonDS]].qvals <= 0.05).mean()"
   ]
  },
  {
   "cell_type": "code",
   "execution_count": 51,
   "metadata": {},
   "outputs": [
    {
     "data": {
      "text/plain": [
       "0.04797441364605544"
      ]
     },
     "execution_count": 51,
     "metadata": {},
     "output_type": "execute_result"
    }
   ],
   "source": [
    "(kw_1.loc[['gene'+str(x) for x in nonDE_nonDS]].qvals <= 0.05).mean()"
   ]
  },
  {
   "cell_type": "code",
   "execution_count": 19,
   "metadata": {},
   "outputs": [],
   "source": [
    "from scipy.special import logit, expit\n",
    "from sklearn.metrics import precision_recall_curve\n",
    "from sklearn.metrics import recall_score\n",
    "from sklearn.metrics import f1_score\n",
    "from sklearn.metrics import auc\n",
    "\n",
    "\n",
    "\n",
    "\n",
    "platonic_psi = pd.read_csv('sim_output/psi_platonic.tab.gz', sep='\\t', \n",
    "                               names = ['cell_'+str(i+1) for i in range(1000)])\n",
    "platonic_psi.index = ['gene' + str(i+1) for i in range(5000)]\n",
    "\n",
    "platonic_psi = expit(platonic_psi)\n",
    "\n",
    "\n",
    "def get_random_samples(psix_results, kw, gearyc):\n",
    "    \n",
    "    pos = pd.Index(['gene' + str(i) for i in range(1, 2501)]) & psix_results.index\n",
    "    neg = pd.Index(['gene' + str(i) for i in range(2501, 5001)]) & psix_results.index\n",
    "\n",
    "    psix_auc = []\n",
    "    kw_auc = []\n",
    "    gearyc_auc = []\n",
    "\n",
    "    for i in tqdm(range(200)):\n",
    "\n",
    "        pos_sample = np.random.choice(pos, int(len(pos)*0.2), replace=False)\n",
    "        neg_sample = np.random.choice(neg, int(len(neg)*0.2), replace=False)\n",
    "\n",
    "        labels = [1]*len(pos_sample) + [0]*len(neg_sample)\n",
    "        order = list(pos_sample) + list(neg_sample)\n",
    "\n",
    "\n",
    "        y_ = list(((platonic_psi.max(axis=1) - platonic_psi.min(axis=1)) >= 0.2).astype(int).loc[order])\n",
    "\n",
    "\n",
    "        pre, rec, thres = precision_recall_curve(y_, psix_results.loc[order].psix_score)\n",
    "        pre_kw, rec_kw, thres_kw = precision_recall_curve(y_, kw.loc[order].KW_score)\n",
    "        pre_c, rec_c, thres_c = precision_recall_curve(y_, gearyc.loc[order].C_score)\n",
    "\n",
    "        psix_auc.append(auc(rec, pre))\n",
    "        kw_auc.append(auc(rec_kw, pre_kw))\n",
    "        gearyc_auc.append(auc(rec_c, pre_c))\n",
    "        \n",
    "    return psix_auc, kw_auc, gearyc_auc"
   ]
  },
  {
   "cell_type": "code",
   "execution_count": 20,
   "metadata": {},
   "outputs": [
    {
     "name": "stderr",
     "output_type": "stream",
     "text": [
      "100%|██████████| 200/200 [00:06<00:00, 32.29it/s]\n",
      "100%|██████████| 200/200 [00:05<00:00, 33.90it/s]\n",
      "100%|██████████| 200/200 [00:06<00:00, 32.53it/s]\n"
     ]
    }
   ],
   "source": [
    "psix_auc, kw_auc, gearyc_auc = get_random_samples(psix_results_1, kw_1, gearyc_1)\n",
    "\n",
    "psix_DE_auc, kw_DE_auc, gearyc_DE_auc = get_random_samples(psix_results_1.loc[['gene'+str(x) for x in DE]], \n",
    "                                                        kw_1.loc[['gene'+str(x) for x in DE]], \n",
    "                                                        gearyc_1.loc[['gene'+str(x) for x in DE]])\n",
    "\n",
    "psix_nonDE_auc, kw_nonDE_auc, gearyc_nonDE_auc = get_random_samples(psix_results_1.loc[['gene'+str(x) for x in nonDE]], \n",
    "                                                        kw_1.loc[['gene'+str(x) for x in nonDE]], \n",
    "                                                        gearyc_1.loc[['gene'+str(x) for x in nonDE]])\n"
   ]
  },
  {
   "cell_type": "code",
   "execution_count": 21,
   "metadata": {},
   "outputs": [],
   "source": [
    "from scipy.stats import f_oneway, ranksums"
   ]
  },
  {
   "cell_type": "code",
   "execution_count": 22,
   "metadata": {},
   "outputs": [
    {
     "data": {
      "text/plain": [
       "RanksumsResult(statistic=-4.407759197952194, pvalue=1.0444557229165906e-05)"
      ]
     },
     "execution_count": 22,
     "metadata": {},
     "output_type": "execute_result"
    }
   ],
   "source": [
    "ranksums(psix_nonDE_auc, psix_DE_auc)"
   ]
  },
  {
   "cell_type": "code",
   "execution_count": 23,
   "metadata": {},
   "outputs": [
    {
     "name": "stdout",
     "output_type": "stream",
     "text": [
      "0.9468263193958526\n",
      "0.8843380467136673\n",
      "0.8891371324999124\n"
     ]
    }
   ],
   "source": [
    "pos = pd.Index(['gene' + str(i) for i in range(1, 2501)]) & psix_results_1.loc[['gene'+str(x) for x in DE]].index\n",
    "neg = pd.Index(['gene' + str(i) for i in range(2501, 5001)]) & psix_results_1.loc[['gene'+str(x) for x in DE]].index\n",
    "\n",
    "    \n",
    "labels = [1]*len(pos) + [0]*len(neg)\n",
    "order = list(pos) + list(neg)\n",
    "\n",
    "y_ = list(((platonic_psi.max(axis=1) - platonic_psi.min(axis=1)) >= 0.2).astype(int).loc[order])\n",
    "\n",
    "\n",
    "pre, rec, thres = precision_recall_curve(y_, psix_results_1.loc[order].psix_score)\n",
    "pre_kw, rec_kw, thres_kw = precision_recall_curve(y_, kw_1.loc[order].KW_score)\n",
    "pre_c, rec_c, thres_c = precision_recall_curve(y_, gearyc_1.loc[order].C_score)\n",
    "\n",
    "\n",
    "print(auc(rec, pre))\n",
    "print(auc(rec_kw, pre_kw))\n",
    "print(auc(rec_c, pre_c))"
   ]
  },
  {
   "cell_type": "code",
   "execution_count": 24,
   "metadata": {},
   "outputs": [
    {
     "data": {
      "text/plain": [
       "0.9425429215687996"
      ]
     },
     "execution_count": 24,
     "metadata": {},
     "output_type": "execute_result"
    }
   ],
   "source": [
    "np.mean(psix_nonDE_auc)"
   ]
  },
  {
   "cell_type": "code",
   "execution_count": 25,
   "metadata": {},
   "outputs": [
    {
     "data": {
      "text/plain": [
       "0.9472976054035357"
      ]
     },
     "execution_count": 25,
     "metadata": {},
     "output_type": "execute_result"
    }
   ],
   "source": [
    "np.mean(psix_DE_auc)"
   ]
  },
  {
   "cell_type": "code",
   "execution_count": 26,
   "metadata": {},
   "outputs": [
    {
     "data": {
      "image/png": "[encoded data removed]",
      "text/plain": [
       "<Figure size 180x120 with 1 Axes>"
      ]
     },
     "metadata": {
      "needs_background": "light"
     },
     "output_type": "display_data"
    }
   ],
   "source": [
    "fig = plt.figure(figsize=(6/2.4, 4/2.4))\n",
    "# gs = GridSpec(1,7)\n",
    "# gs.update(wspace=0.05, hspace=0.10)\n",
    "ax = fig.add_subplot(111)\n",
    "# ax_2 = fig.add_subplot(gs[0,4:7])# option 1, specify props dictionaries\n",
    "\n",
    "ax.boxplot([psix_auc, psix_nonDE_auc, psix_DE_auc], positions=[1,5, 9], notch=True, patch_artist=True,\n",
    "            boxprops=dict(facecolor='skyblue', color='navy'),\n",
    "            capprops=dict(color='black'),\n",
    "            whiskerprops=dict(color='black'),\n",
    "            flierprops=dict(color='black', markeredgecolor='black'),\n",
    "            medianprops=dict(color='navy'), showfliers=False\n",
    "            )\n",
    "\n",
    "ax.boxplot([kw_auc, kw_nonDE_auc, kw_DE_auc], positions=[1.75,5.75, 9.75], notch=True, patch_artist=True,\n",
    "            boxprops=dict(facecolor='darkorange', color='darkred'),\n",
    "            capprops=dict(color='black'),\n",
    "            whiskerprops=dict(color='black'),\n",
    "            flierprops=dict(color='black', markeredgecolor='black'),\n",
    "            medianprops=dict(color='darkred'), showfliers=False\n",
    "            )\n",
    "\n",
    "ax.boxplot([gearyc_auc, gearyc_nonDE_auc, gearyc_DE_auc], positions=[2.5,6.5, 10.5], notch=True, patch_artist=True,\n",
    "            boxprops=dict(facecolor='limegreen', color='darkgreen'),\n",
    "            capprops=dict(color='black'),\n",
    "            whiskerprops=dict(color='black'),\n",
    "            flierprops=dict(color='black', markeredgecolor='black'),\n",
    "            medianprops=dict(color='darkgreen'), showfliers=False\n",
    "            )\n",
    "\n",
    "ax.set_xticks([1.75, 5.75, 9.75])\n",
    "ax.set_xticklabels(['all', 'nonDE', 'DE'], size=8)\n",
    "ax.set_xlabel('Gene expression', size=8)\n",
    "\n",
    "ax.set_yticks([0.85, 0.9, 0.95])\n",
    "ax.set_yticklabels(['0.85', '0.90', '0.95'], size=8)\n",
    "ax.set_ylabel('Precision-recall AUC', size=8)\n",
    "\n",
    "ax.spines[\"right\"].set_visible(False)\n",
    "ax.spines[\"top\"].set_visible(False)\n",
    "\n",
    "ax.set_xlim([0, 12])\n",
    "\n",
    "plt.savefig('/mnt/lareaulab/cfbuenabadn/plots_pdf/single_lineage_auc_DEvnonDE.pdf', bbox_inches='tight', res=20000, dpi =2000)\n",
    "plt.show()"
   ]
  },
  {
   "cell_type": "code",
   "execution_count": 18,
   "metadata": {},
   "outputs": [
    {
     "data": {
      "text/plain": [
       "(0.0, 8.0)"
      ]
     },
     "execution_count": 18,
     "metadata": {},
     "output_type": "execute_result"
    },
    {
     "data": {
      "image/png": "[encoded data removed]",
      "text/plain": [
       "<Figure size 180x120 with 1 Axes>"
      ]
     },
     "metadata": {
      "needs_background": "light"
     },
     "output_type": "display_data"
    }
   ],
   "source": [
    "fig = plt.figure(figsize=(6/2.4, 4/2.4))\n",
    "# gs = GridSpec(1,7)\n",
    "# gs.update(wspace=0.05, hspace=0.10)\n",
    "ax = fig.add_subplot(111)\n",
    "# ax_2 = fig.add_subplot(gs[0,4:7])# option 1, specify props dictionaries\n",
    "\n",
    "ax.boxplot([psix_nonDE_auc, psix_DE_auc], positions=[1,5], notch=True, patch_artist=True,\n",
    "            boxprops=dict(facecolor='skyblue', color='navy'),\n",
    "            capprops=dict(color='black'),\n",
    "            whiskerprops=dict(color='black'),\n",
    "            flierprops=dict(color='black', markeredgecolor='black'),\n",
    "            medianprops=dict(color='navy'), showfliers=False\n",
    "            )\n",
    "\n",
    "ax.boxplot([kw_nonDE_auc, kw_DE_auc], positions=[1.75,5.75], notch=True, patch_artist=True,\n",
    "            boxprops=dict(facecolor='darkorange', color='darkred'),\n",
    "            capprops=dict(color='black'),\n",
    "            whiskerprops=dict(color='black'),\n",
    "            flierprops=dict(color='black', markeredgecolor='black'),\n",
    "            medianprops=dict(color='darkred'), showfliers=False\n",
    "            )\n",
    "\n",
    "ax.boxplot([gearyc_nonDE_auc, gearyc_DE_auc], positions=[2.5,6.5], notch=True, patch_artist=True,\n",
    "            boxprops=dict(facecolor='limegreen', color='darkgreen'),\n",
    "            capprops=dict(color='black'),\n",
    "            whiskerprops=dict(color='black'),\n",
    "            flierprops=dict(color='black', markeredgecolor='black'),\n",
    "            medianprops=dict(color='darkgreen'), showfliers=False\n",
    "            )\n",
    "\n",
    "ax.set_xticks([1.75, 5.75])\n",
    "ax.set_xticklabels(['non DE', 'DE'], size=8)\n",
    "ax.set_xlabel('Gene expression', size=8)\n",
    "ax.set_title('Simulated data', size=8)\n",
    "\n",
    "ax.set_yticks([0.85, 0.9, 0.95])\n",
    "ax.set_yticklabels(['0.85', '0.90', '0.95'], size=8)\n",
    "ax.set_ylabel('Precision-recall AUC', size=8)\n",
    "\n",
    "ax.spines[\"right\"].set_visible(False)\n",
    "ax.spines[\"top\"].set_visible(False)\n",
    "\n",
    "ax.set_xlim([0, 8])\n",
    "\n",
    "# plt.savefig('../plots/single_lineage_auc_DEvnonDE.png', bbox_inches='tight', res=20000, dpi =2000)\n",
    "# plt.show()"
   ]
  },
  {
   "cell_type": "code",
   "execution_count": 18,
   "metadata": {},
   "outputs": [
    {
     "name": "stderr",
     "output_type": "stream",
     "text": [
      "100%|██████████| 200/200 [00:05<00:00, 37.08it/s]\n",
      "100%|██████████| 200/200 [00:05<00:00, 35.21it/s]\n",
      "100%|██████████| 200/200 [00:05<00:00, 34.67it/s]\n"
     ]
    }
   ],
   "source": [
    "midDE = ATres.loc[(ATres.loc[idx].FDR < 0.05) & (ATres.loc[idx].meanLogFC >= 0.25) & (ATres.loc[idx].meanLogFC < 0.75)].index\n",
    "bigDE = ATres.loc[(ATres.loc[idx].FDR < 0.05) & (ATres.loc[idx].meanLogFC >= 0.75)].index\n",
    "nDE = ATres.loc[(ATres.loc[idx].FDR > 0.05) | (ATres.loc[idx].meanLogFC < 0.25)].index\n",
    "\n",
    "\n",
    "psix_bigDE_auc, kw_bigDE_auc, gearyc_bigDE_auc = get_random_samples(psix_results_1.loc[['gene'+str(x) for x in bigDE]], \n",
    "                                                        kw_1.loc[['gene'+str(x) for x in bigDE]], \n",
    "                                                        gearyc_1.loc[['gene'+str(x) for x in bigDE]])\n",
    "\n",
    "psix_midDE_auc, kw_midDE_auc, gearyc_midDE_auc = get_random_samples(psix_results_1.loc[['gene'+str(x) for x in midDE]], \n",
    "                                                        kw_1.loc[['gene'+str(x) for x in midDE]], \n",
    "                                                        gearyc_1.loc[['gene'+str(x) for x in midDE]])\n",
    "\n",
    "psix_nDE_auc, kw_nDE_auc, gearyc_nDE_auc = get_random_samples(psix_results_1.loc[['gene'+str(x) for x in nDE]], \n",
    "                                                        kw_1.loc[['gene'+str(x) for x in nDE]], \n",
    "                                                        gearyc_1.loc[['gene'+str(x) for x in nDE]])\n"
   ]
  },
  {
   "cell_type": "code",
   "execution_count": 19,
   "metadata": {},
   "outputs": [
    {
     "data": {
      "image/png": "[encoded data removed]",
      "text/plain": [
       "<Figure size 180x120 with 1 Axes>"
      ]
     },
     "metadata": {
      "needs_background": "light"
     },
     "output_type": "display_data"
    }
   ],
   "source": [
    "fig = plt.figure(figsize=(6/2.4, 4/2.4))\n",
    "# gs = GridSpec(1,7)\n",
    "# gs.update(wspace=0.05, hspace=0.10)\n",
    "ax = fig.add_subplot(111)\n",
    "# ax_2 = fig.add_subplot(gs[0,4:7])# option 1, specify props dictionaries\n",
    "\n",
    "ax.boxplot([psix_nDE_auc, psix_midDE_auc, psix_bigDE_auc], positions=[1,5, 9], notch=True, patch_artist=True,\n",
    "            boxprops=dict(facecolor='skyblue', color='navy'),\n",
    "            capprops=dict(color='black'),\n",
    "            whiskerprops=dict(color='black'),\n",
    "            flierprops=dict(color='black', markeredgecolor='black'),\n",
    "            medianprops=dict(color='navy'), showfliers=False\n",
    "            )\n",
    "\n",
    "ax.boxplot([kw_nDE_auc, kw_midDE_auc, kw_bigDE_auc], positions=[1.75,5.75, 9.75], notch=True, patch_artist=True,\n",
    "            boxprops=dict(facecolor='darkorange', color='darkred'),\n",
    "            capprops=dict(color='black'),\n",
    "            whiskerprops=dict(color='black'),\n",
    "            flierprops=dict(color='black', markeredgecolor='black'),\n",
    "            medianprops=dict(color='darkred'), showfliers=False\n",
    "            )\n",
    "\n",
    "ax.boxplot([gearyc_nDE_auc, gearyc_midDE_auc, gearyc_bigDE_auc], positions=[2.5,6.5, 10.5], notch=True, patch_artist=True,\n",
    "            boxprops=dict(facecolor='limegreen', color='darkgreen'),\n",
    "            capprops=dict(color='black'),\n",
    "            whiskerprops=dict(color='black'),\n",
    "            flierprops=dict(color='black', markeredgecolor='black'),\n",
    "            medianprops=dict(color='darkgreen'), showfliers=False\n",
    "            )\n",
    "\n",
    "ax.set_xticks([1.75, 5.75, 9.75])\n",
    "ax.set_xticklabels(['nonDE', 'midDE', 'bigDE'], size=8)\n",
    "ax.set_xlabel('Gene expression', size=8)\n",
    "\n",
    "ax.set_yticks([0.6, 0.7, 0.8, 0.9, 1])\n",
    "ax.set_yticklabels(['0.6', '0.7', '0.8', '0.9', '1.0'], size=8)\n",
    "ax.set_ylabel('Precision-recall AUC', size=8)\n",
    "\n",
    "ax.spines[\"right\"].set_visible(False)\n",
    "ax.spines[\"top\"].set_visible(False)\n",
    "\n",
    "ax.set_xlim([0, 12])\n",
    "\n",
    "plt.savefig('../plots/single_lineage_auc_bigDE_v_midDE_v_nonDE.png', bbox_inches='tight', res=20000, dpi =2000)\n",
    "# plt.show()"
   ]
  },
  {
   "cell_type": "code",
   "execution_count": null,
   "metadata": {},
   "outputs": [],
   "source": []
  },
  {
   "cell_type": "code",
   "execution_count": null,
   "metadata": {},
   "outputs": [],
   "source": []
  },
  {
   "cell_type": "code",
   "execution_count": 61,
   "metadata": {},
   "outputs": [],
   "source": [
    "from scipy.special import logit, expit\n",
    "from sklearn.metrics import precision_recall_curve\n",
    "from sklearn.metrics import recall_score, precision_score\n",
    "from sklearn.metrics import f1_score\n",
    "from sklearn.metrics import auc\n",
    "\n",
    "\n",
    "\n",
    "\n",
    "platonic_psi = pd.read_csv('sim_output/psi_platonic.tab.gz', sep='\\t', \n",
    "                               names = ['cell_'+str(i+1) for i in range(1000)])\n",
    "platonic_psi.index = ['gene' + str(i+1) for i in range(5000)]\n",
    "\n",
    "platonic_psi = expit(platonic_psi)\n",
    "\n",
    "\n",
    "def get_random_samples(psix_results, kw, gearyc):\n",
    "    \n",
    "    pos = pd.Index(['gene' + str(i) for i in range(1, 2501)]) & psix_results.index\n",
    "    neg = pd.Index(['gene' + str(i) for i in range(2501, 5001)]) & psix_results.index\n",
    "\n",
    "    psix_auc = []\n",
    "    kw_auc = []\n",
    "    gearyc_auc = []\n",
    "\n",
    "    for i in tqdm(range(200)):\n",
    "\n",
    "        pos_sample = np.random.choice(pos, int(len(pos)*0.2), replace=False)\n",
    "        neg_sample = np.random.choice(neg, int(len(neg)*0.2), replace=False)\n",
    "\n",
    "        labels = [1]*len(pos_sample) + [0]*len(neg_sample)\n",
    "        order = list(pos_sample) + list(neg_sample)\n",
    "\n",
    "\n",
    "        y_ = list(((platonic_psi.max(axis=1) - platonic_psi.min(axis=1)) >= 0.2).astype(int).loc[order])\n",
    "\n",
    "\n",
    "        rec = precision_score(y_, psix_results.loc[order].qvals<=0.05)\n",
    "        rec_kw = precision_score(y_, kw.loc[order].qvals<=0.05)\n",
    "        rec_c = precision_score(y_, gearyc.loc[order].qvals<=0.05)\n",
    "\n",
    "        psix_auc.append(rec)\n",
    "        kw_auc.append(rec_kw)\n",
    "        gearyc_auc.append(rec_c)\n",
    "        \n",
    "    return psix_auc, kw_auc, gearyc_auc"
   ]
  },
  {
   "cell_type": "code",
   "execution_count": 62,
   "metadata": {},
   "outputs": [
    {
     "name": "stderr",
     "output_type": "stream",
     "text": [
      "100%|██████████| 200/200 [00:06<00:00, 30.65it/s]\n",
      "100%|██████████| 200/200 [00:06<00:00, 32.97it/s]\n",
      "100%|██████████| 200/200 [00:06<00:00, 32.69it/s]\n"
     ]
    }
   ],
   "source": [
    "psix_auc, kw_auc, gearyc_auc = get_random_samples(psix_results_1, kw_1, gearyc_1)\n",
    "\n",
    "psix_DE_auc, kw_DE_auc, gearyc_DE_auc = get_random_samples(psix_results_1.loc[['gene'+str(x) for x in DE]], \n",
    "                                                        kw_1.loc[['gene'+str(x) for x in DE]], \n",
    "                                                        gearyc_1.loc[['gene'+str(x) for x in DE]])\n",
    "\n",
    "psix_nonDE_auc, kw_nonDE_auc, gearyc_nonDE_auc = get_random_samples(psix_results_1.loc[['gene'+str(x) for x in nonDE]], \n",
    "                                                        kw_1.loc[['gene'+str(x) for x in nonDE]], \n",
    "                                                        gearyc_1.loc[['gene'+str(x) for x in nonDE]])\n"
   ]
  },
  {
   "cell_type": "code",
   "execution_count": 63,
   "metadata": {},
   "outputs": [
    {
     "data": {
      "image/png": "[encoded data removed]",
      "text/plain": [
       "<Figure size 180x120 with 1 Axes>"
      ]
     },
     "metadata": {
      "needs_background": "light"
     },
     "output_type": "display_data"
    }
   ],
   "source": [
    "fig = plt.figure(figsize=(6/2.4, 4/2.4))\n",
    "# gs = GridSpec(1,7)\n",
    "# gs.update(wspace=0.05, hspace=0.10)\n",
    "ax = fig.add_subplot(111)\n",
    "# ax_2 = fig.add_subplot(gs[0,4:7])# option 1, specify props dictionaries\n",
    "\n",
    "ax.boxplot([psix_auc, psix_nonDE_auc, psix_DE_auc], positions=[1,5, 9], notch=True, patch_artist=True,\n",
    "            boxprops=dict(facecolor='skyblue', color='navy'),\n",
    "            capprops=dict(color='black'),\n",
    "            whiskerprops=dict(color='black'),\n",
    "            flierprops=dict(color='black', markeredgecolor='black'),\n",
    "            medianprops=dict(color='navy'), showfliers=False\n",
    "            )\n",
    "\n",
    "ax.boxplot([kw_auc, kw_nonDE_auc, kw_DE_auc], positions=[1.75,5.75, 9.75], notch=True, patch_artist=True,\n",
    "            boxprops=dict(facecolor='darkorange', color='darkred'),\n",
    "            capprops=dict(color='black'),\n",
    "            whiskerprops=dict(color='black'),\n",
    "            flierprops=dict(color='black', markeredgecolor='black'),\n",
    "            medianprops=dict(color='darkred'), showfliers=False\n",
    "            )\n",
    "\n",
    "ax.boxplot([gearyc_auc, gearyc_nonDE_auc, gearyc_DE_auc], positions=[2.5,6.5, 10.5], notch=True, patch_artist=True,\n",
    "            boxprops=dict(facecolor='limegreen', color='darkgreen'),\n",
    "            capprops=dict(color='black'),\n",
    "            whiskerprops=dict(color='black'),\n",
    "            flierprops=dict(color='black', markeredgecolor='black'),\n",
    "            medianprops=dict(color='darkgreen'), showfliers=False\n",
    "            )\n",
    "\n",
    "ax.set_xticks([1.75, 5.75, 9.75])\n",
    "ax.set_xticklabels(['all', 'non DE', 'DE'], size=8)\n",
    "ax.set_xlabel('Gene expression', size=8)\n",
    "\n",
    "# ax.set_yticks([0.85, 0.9, 0.95])\n",
    "# ax.set_yticklabels(['0.85', '0.90', '0.95'], size=8)\n",
    "ax.set_ylabel('Precision', size=8)\n",
    "\n",
    "ax.spines[\"right\"].set_visible(False)\n",
    "ax.spines[\"top\"].set_visible(False)\n",
    "\n",
    "ax.set_xlim([0, 12])\n",
    "\n",
    "plt.savefig('../plots/single_lineage_precision_DEvnonDE.png', bbox_inches='tight', res=20000, dpi =2000)\n",
    "# plt.show()"
   ]
  },
  {
   "cell_type": "code",
   "execution_count": 64,
   "metadata": {},
   "outputs": [
    {
     "name": "stderr",
     "output_type": "stream",
     "text": [
      "100%|██████████| 200/200 [00:06<00:00, 29.97it/s]\n",
      "100%|██████████| 200/200 [00:06<00:00, 32.59it/s]\n",
      "100%|██████████| 200/200 [00:06<00:00, 32.56it/s]\n"
     ]
    },
    {
     "data": {
      "image/png": "[encoded data removed]",
      "text/plain": [
       "<Figure size 180x120 with 1 Axes>"
      ]
     },
     "metadata": {
      "needs_background": "light"
     },
     "output_type": "display_data"
    }
   ],
   "source": [
    "from scipy.special import logit, expit\n",
    "from sklearn.metrics import precision_recall_curve\n",
    "from sklearn.metrics import recall_score, precision_score\n",
    "from sklearn.metrics import f1_score\n",
    "from sklearn.metrics import auc\n",
    "\n",
    "\n",
    "\n",
    "\n",
    "platonic_psi = pd.read_csv('sim_output/psi_platonic.tab.gz', sep='\\t', \n",
    "                               names = ['cell_'+str(i+1) for i in range(1000)])\n",
    "platonic_psi.index = ['gene' + str(i+1) for i in range(5000)]\n",
    "\n",
    "platonic_psi = expit(platonic_psi)\n",
    "\n",
    "\n",
    "def get_random_samples(psix_results, kw, gearyc):\n",
    "    \n",
    "    pos = pd.Index(['gene' + str(i) for i in range(1, 2501)]) & psix_results.index\n",
    "    neg = pd.Index(['gene' + str(i) for i in range(2501, 5001)]) & psix_results.index\n",
    "\n",
    "    psix_auc = []\n",
    "    kw_auc = []\n",
    "    gearyc_auc = []\n",
    "\n",
    "    for i in tqdm(range(200)):\n",
    "\n",
    "        pos_sample = np.random.choice(pos, int(len(pos)*0.2), replace=False)\n",
    "        neg_sample = np.random.choice(neg, int(len(neg)*0.2), replace=False)\n",
    "\n",
    "        labels = [1]*len(pos_sample) + [0]*len(neg_sample)\n",
    "        order = list(pos_sample) + list(neg_sample)\n",
    "\n",
    "\n",
    "        y_ = list(((platonic_psi.max(axis=1) - platonic_psi.min(axis=1)) >= 0.2).astype(int).loc[order])\n",
    "\n",
    "\n",
    "        rec = recall_score(y_, psix_results.loc[order].qvals<=0.05)\n",
    "        rec_kw = recall_score(y_, kw.loc[order].qvals<=0.05)\n",
    "        rec_c = recall_score(y_, gearyc.loc[order].qvals<=0.05)\n",
    "\n",
    "        psix_auc.append(rec)\n",
    "        kw_auc.append(rec_kw)\n",
    "        gearyc_auc.append(rec_c)\n",
    "        \n",
    "    return psix_auc, kw_auc, gearyc_auc\n",
    "\n",
    "psix_auc, kw_auc, gearyc_auc = get_random_samples(psix_results_1, kw_1, gearyc_1)\n",
    "\n",
    "psix_DE_auc, kw_DE_auc, gearyc_DE_auc = get_random_samples(psix_results_1.loc[['gene'+str(x) for x in DE]], \n",
    "                                                        kw_1.loc[['gene'+str(x) for x in DE]], \n",
    "                                                        gearyc_1.loc[['gene'+str(x) for x in DE]])\n",
    "\n",
    "psix_nonDE_auc, kw_nonDE_auc, gearyc_nonDE_auc = get_random_samples(psix_results_1.loc[['gene'+str(x) for x in nonDE]], \n",
    "                                                        kw_1.loc[['gene'+str(x) for x in nonDE]], \n",
    "                                                        gearyc_1.loc[['gene'+str(x) for x in nonDE]])\n",
    "\n",
    "\n",
    "fig = plt.figure(figsize=(6/2.4, 4/2.4))\n",
    "# gs = GridSpec(1,7)\n",
    "# gs.update(wspace=0.05, hspace=0.10)\n",
    "ax = fig.add_subplot(111)\n",
    "# ax_2 = fig.add_subplot(gs[0,4:7])# option 1, specify props dictionaries\n",
    "\n",
    "ax.boxplot([psix_auc, psix_nonDE_auc, psix_DE_auc], positions=[1,5, 9], notch=True, patch_artist=True,\n",
    "            boxprops=dict(facecolor='skyblue', color='navy'),\n",
    "            capprops=dict(color='black'),\n",
    "            whiskerprops=dict(color='black'),\n",
    "            flierprops=dict(color='black', markeredgecolor='black'),\n",
    "            medianprops=dict(color='navy'), showfliers=False\n",
    "            )\n",
    "\n",
    "ax.boxplot([kw_auc, kw_nonDE_auc, kw_DE_auc], positions=[1.75,5.75, 9.75], notch=True, patch_artist=True,\n",
    "            boxprops=dict(facecolor='darkorange', color='darkred'),\n",
    "            capprops=dict(color='black'),\n",
    "            whiskerprops=dict(color='black'),\n",
    "            flierprops=dict(color='black', markeredgecolor='black'),\n",
    "            medianprops=dict(color='darkred'), showfliers=False\n",
    "            )\n",
    "\n",
    "ax.boxplot([gearyc_auc, gearyc_nonDE_auc, gearyc_DE_auc], positions=[2.5,6.5, 10.5], notch=True, patch_artist=True,\n",
    "            boxprops=dict(facecolor='limegreen', color='darkgreen'),\n",
    "            capprops=dict(color='black'),\n",
    "            whiskerprops=dict(color='black'),\n",
    "            flierprops=dict(color='black', markeredgecolor='black'),\n",
    "            medianprops=dict(color='darkgreen'), showfliers=False\n",
    "            )\n",
    "\n",
    "ax.set_xticks([1.75, 5.75, 9.75])\n",
    "ax.set_xticklabels(['all', 'non DE', 'DE'], size=8)\n",
    "ax.set_xlabel('Gene expression', size=8)\n",
    "\n",
    "# ax.set_yticks([0.85, 0.9, 0.95])\n",
    "# ax.set_yticklabels(['0.85', '0.90', '0.95'], size=8)\n",
    "ax.set_ylabel('Recall', size=8)\n",
    "\n",
    "ax.spines[\"right\"].set_visible(False)\n",
    "ax.spines[\"top\"].set_visible(False)\n",
    "\n",
    "ax.set_xlim([0, 12])\n",
    "\n",
    "plt.savefig('../plots/single_lineage_recall_DEvnonDE.png', bbox_inches='tight', res=20000, dpi =2000)\n",
    "# plt.show()"
   ]
  },
  {
   "cell_type": "code",
   "execution_count": 41,
   "metadata": {},
   "outputs": [
    {
     "name": "stdout",
     "output_type": "stream",
     "text": [
      "0.8134328358208955\n",
      "0.936426116838488\n",
      "0.781433607520564\n",
      "0.9554597701149425\n"
     ]
    }
   ],
   "source": [
    "psix_de = psix_results_1.index.intersection(pd.Index(['gene'+str(x) for x in DE]))\n",
    "psix_nonde = psix_results_1.index.intersection(pd.Index(['gene'+str(x) for x in nonDE]))\n",
    "\n",
    "y_ = list(((platonic_psi.max(axis=1) - platonic_psi.min(axis=1)) >= 0.2).astype(int).loc[psix_de])\n",
    "psix_rec_DE = recall_score(y_, psix_results_1.loc[psix_de].qvals<=0.05)\n",
    "psix_pre_DE = precision_score(y_, psix_results_1.loc[psix_de].qvals<=0.05)\n",
    "\n",
    "print(psix_rec_DE)\n",
    "print(psix_pre_DE)\n",
    "\n",
    "y_ = list(((platonic_psi.max(axis=1) - platonic_psi.min(axis=1)) >= 0.2).astype(int).loc[psix_nonde])\n",
    "psix_rec_nonDE = recall_score(y_, psix_results_1.loc[psix_nonde].qvals<=0.05)\n",
    "psix_pre_nonDE = precision_score(y_, psix_results_1.loc[psix_nonde].qvals<=0.05)\n",
    "\n",
    "\n",
    "print(psix_rec_nonDE)\n",
    "print(psix_pre_nonDE)"
   ]
  },
  {
   "cell_type": "code",
   "execution_count": 45,
   "metadata": {},
   "outputs": [
    {
     "name": "stdout",
     "output_type": "stream",
     "text": [
      "0.8208955223880597\n",
      "0.7670850767085077\n",
      "0.7931844888366627\n",
      "0.8777633289986996\n"
     ]
    }
   ],
   "source": [
    "kw_de = kw_1.index.intersection(pd.Index(['gene'+str(x) for x in DE]))\n",
    "kw_nonde = kw_1.index.intersection(pd.Index(['gene'+str(x) for x in nonDE]))\n",
    "\n",
    "y_ = list(((platonic_psi.max(axis=1) - platonic_psi.min(axis=1)) >= 0.2).astype(int).loc[kw_de])\n",
    "kw_rec_DE = recall_score(y_, kw_1.loc[kw_de].qvals<=0.05)\n",
    "kw_pre_DE = precision_score(y_, kw_1.loc[kw_de].qvals<=0.05)\n",
    "\n",
    "y_ = list(((platonic_psi.max(axis=1) - platonic_psi.min(axis=1)) >= 0.2).astype(int).loc[kw_nonde])\n",
    "kw_rec_nonDE = recall_score(y_, kw_1.loc[kw_nonde].qvals<=0.05)\n",
    "kw_pre_nonDE = precision_score(y_, kw_1.loc[kw_nonde].qvals<=0.05)\n",
    "\n",
    "\n",
    "print(kw_rec_DE)\n",
    "print(kw_pre_DE)\n",
    "print(kw_rec_nonDE)\n",
    "print(kw_pre_nonDE)"
   ]
  },
  {
   "cell_type": "code",
   "execution_count": 46,
   "metadata": {},
   "outputs": [
    {
     "name": "stdout",
     "output_type": "stream",
     "text": [
      "0.8835820895522388\n",
      "0.7072879330943848\n",
      "0.8108108108108109\n",
      "0.9090909090909091\n"
     ]
    }
   ],
   "source": [
    "gearyc_de = gearyc_1.index.intersection(pd.Index(['gene'+str(x) for x in DE]))\n",
    "gearyc_nonde = gearyc_1.index.intersection(pd.Index(['gene'+str(x) for x in nonDE]))\n",
    "\n",
    "y_ = list(((platonic_psi.max(axis=1) - platonic_psi.min(axis=1)) >= 0.2).astype(int).loc[gearyc_de])\n",
    "gearyc_rec_DE = recall_score(y_, gearyc_1.loc[gearyc_de].qvals<=0.05)\n",
    "gearyc_pre_DE = precision_score(y_, gearyc_1.loc[gearyc_de].qvals<=0.05)\n",
    "\n",
    "y_ = list(((platonic_psi.max(axis=1) - platonic_psi.min(axis=1)) >= 0.2).astype(int).loc[gearyc_nonde])\n",
    "gearyc_rec_nonDE = recall_score(y_, gearyc_1.loc[gearyc_nonde].qvals<=0.05)\n",
    "gearyc_pre_nonDE = precision_score(y_, gearyc_1.loc[gearyc_nonde].qvals<=0.05)\n",
    "\n",
    "\n",
    "print(gearyc_rec_DE)\n",
    "print(gearyc_pre_DE)\n",
    "print(gearyc_rec_nonDE)\n",
    "print(gearyc_pre_nonDE)"
   ]
  },
  {
   "cell_type": "code",
   "execution_count": 55,
   "metadata": {},
   "outputs": [
    {
     "data": {
      "text/plain": [
       "Text(0, 0.5, 'Precision')"
      ]
     },
     "execution_count": 55,
     "metadata": {},
     "output_type": "execute_result"
    },
    {
     "data": {
      "image/png": "[encoded data removed]",
      "text/plain": [
       "<Figure size 180x120 with 1 Axes>"
      ]
     },
     "metadata": {
      "needs_background": "light"
     },
     "output_type": "display_data"
    }
   ],
   "source": [
    "fig = plt.figure(figsize=(6/2.4, 4/2.4))\n",
    "ax = fig.add_subplot(111)\n",
    "\n",
    "ax.scatter([psix_rec_nonDE], [psix_pre_nonDE], marker='v', c='navy')\n",
    "ax.scatter([psix_rec_DE], [psix_pre_DE], marker='^', c='navy')\n",
    "\n",
    "ax.scatter([kw_rec_nonDE], [kw_pre_nonDE], marker='v', c='darkorange')\n",
    "ax.scatter([kw_rec_DE], [kw_pre_DE], marker='^', c='darkorange')\n",
    "\n",
    "ax.scatter([gearyc_rec_nonDE], [gearyc_pre_nonDE], marker='v', c='forestgreen')\n",
    "ax.scatter([gearyc_rec_DE], [gearyc_pre_DE], marker='^', c='forestgreen')\n",
    "\n",
    "\n",
    "ax.spines[\"right\"].set_visible(False)\n",
    "ax.spines[\"top\"].set_visible(False)\n",
    "\n",
    "ax.set_xlim([0.5, 1])\n",
    "ax.set_ylim([0.5, 1])\n",
    "\n",
    "\n",
    "ax.set_xlabel('Recall', size=8)\n",
    "ax.set_ylabel('Precision', size=8)\n"
   ]
  },
  {
   "cell_type": "code",
   "execution_count": null,
   "metadata": {},
   "outputs": [],
   "source": []
  },
  {
   "cell_type": "code",
   "execution_count": null,
   "metadata": {},
   "outputs": [],
   "source": []
  },
  {
   "cell_type": "code",
   "execution_count": null,
   "metadata": {},
   "outputs": [],
   "source": []
  },
  {
   "cell_type": "code",
   "execution_count": null,
   "metadata": {},
   "outputs": [],
   "source": []
  },
  {
   "cell_type": "code",
   "execution_count": 27,
   "metadata": {},
   "outputs": [],
   "source": [
    "from scipy.special import logit, expit\n",
    "from sklearn.metrics import recall_score\n",
    "from sklearn.metrics import precision_score"
   ]
  },
  {
   "cell_type": "code",
   "execution_count": 28,
   "metadata": {},
   "outputs": [],
   "source": [
    "deltaPSI = expit(psi_platonic).max(axis=1) - expit(psi_platonic).min(axis=1)"
   ]
  },
  {
   "cell_type": "code",
   "execution_count": 29,
   "metadata": {},
   "outputs": [],
   "source": [
    "bin_0 = deltaPSI.loc[(deltaPSI <= 0.01)].index\n",
    "bin_0_20 = deltaPSI.loc[(deltaPSI > 0.01) & (deltaPSI <= 0.2)].index\n",
    "bin_20_40 = deltaPSI.loc[(deltaPSI > 0.2) & (deltaPSI <= 0.4)].index\n",
    "bin_40_60 = deltaPSI.loc[(deltaPSI > 0.4) & (deltaPSI <= 0.6)].index\n",
    "bin_60_80 = deltaPSI.loc[(deltaPSI > 0.6) & (deltaPSI <= 0.8)].index\n",
    "bin_80 = deltaPSI.loc[(deltaPSI > 0.8)].index"
   ]
  },
  {
   "cell_type": "code",
   "execution_count": 30,
   "metadata": {},
   "outputs": [],
   "source": [
    "def get_recall(predict, exon_bin):\n",
    "    return recall_score(([True]*len(exon_bin)), predict.loc[['gene'+str(x) for x in exon_bin]])\n",
    "\n",
    "\n",
    "def get_precision(predict, deltaPSI, cutoff):\n",
    "    delta_pos = ['gene'+str(x) for x in deltaPSI.loc[deltaPSI >= cutoff].index]\n",
    "    delta_neg = ['gene'+str(x) for x in deltaPSI.loc[deltaPSI < 0.01].index]\n",
    "    \n",
    "    delta_y = [True]*len(delta_pos) + [False]*len(delta_neg)\n",
    "    \n",
    "    print(len(delta_y))\n",
    "    \n",
    "    return precision_score(delta_y, predict.loc[delta_pos + delta_neg])"
   ]
  },
  {
   "cell_type": "code",
   "execution_count": 31,
   "metadata": {},
   "outputs": [
    {
     "data": {
      "image/png": "[encoded data removed]",
      "text/plain": [
       "<Figure size 180x120 with 1 Axes>"
      ]
     },
     "metadata": {
      "needs_background": "light"
     },
     "output_type": "display_data"
    }
   ],
   "source": [
    "fig = plt.figure(figsize=(6/2.4, 4/2.4))\n",
    "ax = fig.add_subplot(111)\n",
    "\n",
    "plt.plot([ 0.4, 0.6, 0.8, 1.0],\n",
    "     [#get_recall((psix_results_1.qvals <= 0.05), bin_0_20),\n",
    "      get_recall((psix_results_1.qvals <= 0.05), bin_20_40),\n",
    "      get_recall((psix_results_1.qvals <= 0.05), bin_40_60),\n",
    "      get_recall((psix_results_1.qvals <= 0.05), bin_60_80),\n",
    "      get_recall((psix_results_1.qvals <= 0.05), bin_80)],\n",
    "        c='navy', linewidth=3)\n",
    "\n",
    "plt.scatter([ 0.4, 0.6, 0.8, 1.0],\n",
    "     [#get_recall((psix_results_1.qvals <= 0.05), bin_0_20),\n",
    "      get_recall((psix_results_1.qvals <= 0.05), bin_20_40),\n",
    "      get_recall((psix_results_1.qvals <= 0.05), bin_40_60),\n",
    "      get_recall((psix_results_1.qvals <= 0.05), bin_60_80),\n",
    "      get_recall((psix_results_1.qvals <= 0.05), bin_80)],\n",
    "            s=30, c='navy', linewidth=3)\n",
    "\n",
    "plt.xlabel(r'Simulated $\\Delta \\Psi$', fontsize=8)\n",
    "plt.ylabel('Recall', fontsize=8)\n",
    "ax.set_xticks([ 0.4, 0.6, 0.8, 1.0])\n",
    "ax.set_xticklabels(['(0.2-0.4]', '(0.4-0.6]', '(0.6-0.8]', '(0.8-1.0]'])\n",
    "ax.spines[\"right\"].set_visible(False)\n",
    "ax.spines[\"top\"].set_visible(False)\n",
    "plt.ylim([-0.05, 1.05])\n",
    "\n",
    "ax.tick_params(axis='both', which='major', labelsize=8)\n",
    "plt.savefig('/mnt/lareaulab/cfbuenabadn/plots_pdf/delta_psi_psix_recall.pdf', bbox_inches='tight', res=20000, dpi =2000)\n",
    "plt.show()"
   ]
  },
  {
   "cell_type": "code",
   "execution_count": 32,
   "metadata": {},
   "outputs": [
    {
     "data": {
      "text/plain": [
       "0.94679186228482"
      ]
     },
     "execution_count": 32,
     "metadata": {},
     "output_type": "execute_result"
    }
   ],
   "source": [
    "precision_score(deltaPSI >= 0.2, (psix_results_1.loc[['gene'+str(x) for x in deltaPSI.index]].qvals <= 0.05))"
   ]
  },
  {
   "cell_type": "code",
   "execution_count": 30,
   "metadata": {},
   "outputs": [],
   "source": [
    "from sklearn.metrics import precision_score, recall_score, f1_score"
   ]
  },
  {
   "cell_type": "code",
   "execution_count": null,
   "metadata": {},
   "outputs": [],
   "source": [
    "def get_stats(x, pos, neg):\n",
    "    \n",
    "    pos = x.index.intersection(pos)\n",
    "    neg = x.index.intersection(neg)\n",
    "          \n",
    "    labels = [1]*len(pos) + [0]*len(neg)\n",
    "    pred = list(x.loc[pos]) + list(x.loc[neg])\n",
    "    \n",
    "    stats_dict = {}\n",
    "    \n",
    "    stats_dict.update({'precision':precision_score(labels, pred)})\n",
    "    stats_dict.update({'recall':recall_score(labels, pred)})\n",
    "    stats_dict.update({'f1_score':f1_score(labels, pred)})\n",
    "          \n",
    "    return stats_dict\n",
    "          \n",
    "    \n",
    "def get_stats_DE(x, pos, neg, isDE):\n",
    "    \n",
    "    pos_DE = pos.intersection(isDE.loc[isDE].index)\n",
    "    neg_DE = neg.intersection(isDE.loc[isDE].index)\n",
    "    \n",
    "    pos_nonDE = pos.intersection(isDE.loc[~isDE].index)\n",
    "    neg_nonDE = neg.intersection(isDE.loc[~isDE].index)\n",
    "    \n",
    "    stats_dict = {}\n",
    "    \n",
    "    stats_dict.update({'all':get_stats(x, pos, neg)})\n",
    "    stats_dict.update({'DE':get_stats(x, pos_DE, neg_DE)})\n",
    "    stats_dict.update({'nonDE':get_stats(x, pos_nonDE, neg_nonDE)})\n",
    "    \n",
    "    return stats_dict\n",
    "\n",
    "\n",
    "\n"
   ]
  },
  {
   "cell_type": "code",
   "execution_count": null,
   "metadata": {},
   "outputs": [],
   "source": [
    "# ATres.index = ['gene'+str(x) for x in ATres.index]\n",
    "# nonDS = pd.Index(['gene' + str(x) for x in nonDS])\n",
    "# DS = pd.Index(['gene' + str(x) for x in DS])"
   ]
  },
  {
   "cell_type": "code",
   "execution_count": null,
   "metadata": {},
   "outputs": [],
   "source": [
    "psix_stats =[]\n",
    "kw_stats = []\n",
    "gearyc_stats = []\n",
    "for i in tqdm(range(200), position=0, leave=True):\n",
    "    psix_stats.append(get_stats_DE(psix_results_1.qvals <= 0.05, \n",
    "                              pd.Index(np.random.choice(weyn_pos.intersection(psix_results_1.index), int(len(weyn_pos.intersection(psix_results_1.index))*0.2), replace=False)), \n",
    "                              pd.Index(np.random.choice(weyn_neg.intersection(psix_results_1.index), int(len(weyn_neg.intersection(psix_results_1.index))*0.2), replace=False)), \n",
    "                              ATres.significant))\n",
    "    \n",
    "    kw_stats.append(get_stats_DE(kw_1.qvals <= 0.05, \n",
    "                              pd.Index(np.random.choice(weyn_pos.intersection(kw_1.index), int(len(weyn_pos.intersection(kw_1.index))*0.2), replace=False)), \n",
    "                              pd.Index(np.random.choice(weyn_neg.intersection(kw_1.index), int(len(weyn_neg.intersection(kw_1.index))*0.2), replace=False)), \n",
    "                              ATres.significant))\n",
    "    \n",
    "    gearyc_stats.append(get_stats_DE(gearyc_1.qvals <= 0.05, \n",
    "                              pd.Index(np.random.choice(weyn_pos.intersection(gearyc_1.index), int(len(weyn_pos.intersection(gearyc_1.index))*0.2), replace=False)), \n",
    "                              pd.Index(np.random.choice(weyn_neg.intersection(gearyc_1.index), int(len(weyn_neg.intersection(gearyc_1.index))*0.2), replace=False)), \n",
    "                              ATres.significant))"
   ]
  },
  {
   "cell_type": "code",
   "execution_count": null,
   "metadata": {},
   "outputs": [],
   "source": [
    "all_psix_stats = get_stats_DE(psix_results_1.qvals <= 0.05, DS, nonDS, ATres.significant)\n",
    "all_kw_stats = get_stats_DE(kw_1.qvals <= 0.05, DS, nonDS, ATres.significant)\n",
    "all_gearyc_stats = get_stats_DE(gearyc_1.qvals <= 0.05, DS, nonDS, ATres.significant)"
   ]
  },
  {
   "cell_type": "code",
   "execution_count": null,
   "metadata": {},
   "outputs": [],
   "source": [
    "fig = plt.figure(figsize=(6/2.4, 4/2.4))\n",
    "ax = fig.add_subplot(111)\n",
    "\n",
    "ax.scatter([all_psix_stats['DE']['recall']], [all_psix_stats['DE']['precision']], c='navy', marker='^')\n",
    "ax.scatter([all_psix_stats['nonDE']['recall']], [all_psix_stats['nonDE']['precision']], c='navy', marker='v')\n",
    "\n",
    "\n",
    "ax.scatter([all_kw_stats['DE']['recall']], [all_kw_stats['DE']['precision']], c='darkorange', marker='^')\n",
    "ax.scatter([all_kw_stats['nonDE']['recall']], [all_kw_stats['nonDE']['precision']], c='darkorange', marker='v')\n",
    "\n",
    "ax.scatter([all_gearyc_stats['DE']['recall']], [all_gearyc_stats['DE']['precision']], c='forestgreen', marker='^')\n",
    "ax.scatter([all_gearyc_stats['nonDE']['recall']], [all_gearyc_stats['nonDE']['precision']], c='forestgreen', marker='v')\n",
    "ax.set_xlim([-0.05, 1.01])\n",
    "ax.set_ylim([-0.05, 1.01])\n",
    "\n",
    "\n",
    "plt.xlabel('Recall', fontsize=12)\n",
    "plt.ylabel('Precision', fontsize=12)\n",
    "ax.spines[\"right\"].set_visible(False)\n",
    "ax.spines[\"top\"].set_visible(False)\n",
    "\n",
    "ax.tick_params(axis='both', which='major', labelsize=8)\n",
    "\n",
    "plt.savefig('../plots/pre_rec_scatter.png', dpi=1000)"
   ]
  },
  {
   "cell_type": "code",
   "execution_count": null,
   "metadata": {},
   "outputs": [],
   "source": []
  },
  {
   "cell_type": "code",
   "execution_count": null,
   "metadata": {},
   "outputs": [],
   "source": []
  },
  {
   "cell_type": "code",
   "execution_count": 85,
   "metadata": {},
   "outputs": [
    {
     "data": {
      "text/plain": [
       "0.010298867659163628"
      ]
     },
     "execution_count": 85,
     "metadata": {},
     "output_type": "execute_result"
    }
   ],
   "source": [
    "np.std([x['nonDE']['precision'] for x in psix_stats])"
   ]
  },
  {
   "cell_type": "code",
   "execution_count": 79,
   "metadata": {},
   "outputs": [
    {
     "data": {
      "text/plain": [
       "1756"
      ]
     },
     "execution_count": 79,
     "metadata": {},
     "output_type": "execute_result"
    }
   ],
   "source": [
    "len(nonDS)"
   ]
  },
  {
   "cell_type": "code",
   "execution_count": null,
   "metadata": {},
   "outputs": [],
   "source": []
  },
  {
   "cell_type": "code",
   "execution_count": null,
   "metadata": {},
   "outputs": [],
   "source": []
  },
  {
   "cell_type": "code",
   "execution_count": null,
   "metadata": {},
   "outputs": [],
   "source": []
  },
  {
   "cell_type": "code",
   "execution_count": 31,
   "metadata": {},
   "outputs": [],
   "source": [
    "# deltaPSI = expit(psi_platonic).max(axis=1) - expit(psi_platonic).min(axis=1)\n",
    "\n",
    "bin_0 = deltaPSI.loc[(deltaPSI <= 0.01)].index\n",
    "bin_0_20 = deltaPSI.loc[(deltaPSI > 0.01) & (deltaPSI <= 0.2)].index\n",
    "bin_20_40 = deltaPSI.loc[(deltaPSI > 0.2) & (deltaPSI <= 0.4)].index\n",
    "bin_40_60 = deltaPSI.loc[(deltaPSI > 0.4) & (deltaPSI <= 0.6)].index\n",
    "bin_60_80 = deltaPSI.loc[(deltaPSI > 0.6) & (deltaPSI <= 0.8)].index\n",
    "bin_80 = deltaPSI.loc[(deltaPSI > 0.8)].index"
   ]
  },
  {
   "cell_type": "code",
   "execution_count": 32,
   "metadata": {},
   "outputs": [],
   "source": [
    "def get_recall(predict, exon_bin):\n",
    "    return recall_score(([True]*len(exon_bin)), predict.loc[[str(x) for x in exon_bin]])\n",
    "\n",
    "\n",
    "def get_precision(predict, deltaPSI, cutoff):\n",
    "    delta_pos = [str(x) for x in deltaPSI.loc[deltaPSI >= cutoff].index]\n",
    "    delta_neg = [str(x) for x in deltaPSI.loc[deltaPSI < 0.01].index]\n",
    "    \n",
    "    delta_y = [True]*len(delta_pos) + [False]*len(delta_neg)\n",
    "    \n",
    "    print(len(delta_y))\n",
    "    \n",
    "    return precision_score(delta_y, predict.loc[delta_pos + delta_neg])\n",
    "\n",
    "def plot_recall(x, y, color, label):\n",
    "    plt.plot(x, y, c=color, linewidth=3)\n",
    "    plt.scatter(x, y, s=80, facecolors='white', edgecolors=color, linewidth=3, label=label)"
   ]
  },
  {
   "cell_type": "code",
   "execution_count": 33,
   "metadata": {},
   "outputs": [
    {
     "data": {
      "text/html": [
       "<div>\n",
       "<style scoped>\n",
       "    .dataframe tbody tr th:only-of-type {\n",
       "        vertical-align: middle;\n",
       "    }\n",
       "\n",
       "    .dataframe tbody tr th {\n",
       "        vertical-align: top;\n",
       "    }\n",
       "\n",
       "    .dataframe thead th {\n",
       "        text-align: right;\n",
       "    }\n",
       "</style>\n",
       "<table border=\"1\" class=\"dataframe\">\n",
       "  <thead>\n",
       "    <tr style=\"text-align: right;\">\n",
       "      <th></th>\n",
       "      <th>psix_score</th>\n",
       "      <th>pvals</th>\n",
       "      <th>qvals</th>\n",
       "    </tr>\n",
       "  </thead>\n",
       "  <tbody>\n",
       "    <tr>\n",
       "      <th>gene1128</th>\n",
       "      <td>1.515963</td>\n",
       "      <td>0.000500</td>\n",
       "      <td>0.001716</td>\n",
       "    </tr>\n",
       "    <tr>\n",
       "      <th>gene1880</th>\n",
       "      <td>1.364254</td>\n",
       "      <td>0.000500</td>\n",
       "      <td>0.001716</td>\n",
       "    </tr>\n",
       "    <tr>\n",
       "      <th>gene2332</th>\n",
       "      <td>1.325777</td>\n",
       "      <td>0.000500</td>\n",
       "      <td>0.001716</td>\n",
       "    </tr>\n",
       "    <tr>\n",
       "      <th>gene705</th>\n",
       "      <td>1.319631</td>\n",
       "      <td>0.000500</td>\n",
       "      <td>0.001716</td>\n",
       "    </tr>\n",
       "    <tr>\n",
       "      <th>gene1878</th>\n",
       "      <td>1.233293</td>\n",
       "      <td>0.000500</td>\n",
       "      <td>0.001716</td>\n",
       "    </tr>\n",
       "    <tr>\n",
       "      <th>...</th>\n",
       "      <td>...</td>\n",
       "      <td>...</td>\n",
       "      <td>...</td>\n",
       "    </tr>\n",
       "    <tr>\n",
       "      <th>gene4900</th>\n",
       "      <td>-0.075527</td>\n",
       "      <td>1.000000</td>\n",
       "      <td>1.000000</td>\n",
       "    </tr>\n",
       "    <tr>\n",
       "      <th>gene3637</th>\n",
       "      <td>-0.081095</td>\n",
       "      <td>0.991004</td>\n",
       "      <td>0.998666</td>\n",
       "    </tr>\n",
       "    <tr>\n",
       "      <th>gene3293</th>\n",
       "      <td>-0.084103</td>\n",
       "      <td>0.994003</td>\n",
       "      <td>0.999739</td>\n",
       "    </tr>\n",
       "    <tr>\n",
       "      <th>gene2372</th>\n",
       "      <td>-0.099092</td>\n",
       "      <td>1.000000</td>\n",
       "      <td>1.000000</td>\n",
       "    </tr>\n",
       "    <tr>\n",
       "      <th>gene2807</th>\n",
       "      <td>-0.100722</td>\n",
       "      <td>1.000000</td>\n",
       "      <td>1.000000</td>\n",
       "    </tr>\n",
       "  </tbody>\n",
       "</table>\n",
       "<p>3486 rows × 3 columns</p>\n",
       "</div>"
      ],
      "text/plain": [
       "          psix_score     pvals     qvals\n",
       "gene1128    1.515963  0.000500  0.001716\n",
       "gene1880    1.364254  0.000500  0.001716\n",
       "gene2332    1.325777  0.000500  0.001716\n",
       "gene705     1.319631  0.000500  0.001716\n",
       "gene1878    1.233293  0.000500  0.001716\n",
       "...              ...       ...       ...\n",
       "gene4900   -0.075527  1.000000  1.000000\n",
       "gene3637   -0.081095  0.991004  0.998666\n",
       "gene3293   -0.084103  0.994003  0.999739\n",
       "gene2372   -0.099092  1.000000  1.000000\n",
       "gene2807   -0.100722  1.000000  1.000000\n",
       "\n",
       "[3486 rows x 3 columns]"
      ]
     },
     "execution_count": 33,
     "metadata": {},
     "output_type": "execute_result"
    }
   ],
   "source": [
    "psix_results_1"
   ]
  },
  {
   "cell_type": "code",
   "execution_count": 34,
   "metadata": {},
   "outputs": [
    {
     "ename": "KeyError",
     "evalue": "\"None of [Index(['3328', '2860', '3276', '3527', '4876', '3972', '4621', '3331', '3483',\\n       '2868',\\n       ...\\n       '2851', '4789', '3013', '4659', '3031', '3828', '4900', '3637', '3293',\\n       '2807'],\\n      dtype='object', length=1756)] are in the [index]\"",
     "output_type": "error",
     "traceback": [
      "\u001b[0;31m---------------------------------------------------------------------------\u001b[0m",
      "\u001b[0;31mKeyError\u001b[0m                                  Traceback (most recent call last)",
      "\u001b[0;32m<ipython-input-34-efb5fc3caf8e>\u001b[0m in \u001b[0;36m<module>\u001b[0;34m\u001b[0m\n\u001b[1;32m     17\u001b[0m \u001b[0;34m\u001b[0m\u001b[0m\n\u001b[1;32m     18\u001b[0m plot_recall([0, 0.2, 0.4, 0.6, 0.8, 1.0],\n\u001b[0;32m---> 19\u001b[0;31m      [get_recall((psix_results_1.qvals <= 0.05), bin_0),\n\u001b[0m\u001b[1;32m     20\u001b[0m       \u001b[0mget_recall\u001b[0m\u001b[0;34m(\u001b[0m\u001b[0;34m(\u001b[0m\u001b[0mpsix_results_1\u001b[0m\u001b[0;34m.\u001b[0m\u001b[0mqvals\u001b[0m \u001b[0;34m<=\u001b[0m \u001b[0;36m0.05\u001b[0m\u001b[0;34m)\u001b[0m\u001b[0;34m,\u001b[0m \u001b[0mbin_0_20\u001b[0m\u001b[0;34m)\u001b[0m\u001b[0;34m,\u001b[0m\u001b[0;34m\u001b[0m\u001b[0;34m\u001b[0m\u001b[0m\n\u001b[1;32m     21\u001b[0m       \u001b[0mget_recall\u001b[0m\u001b[0;34m(\u001b[0m\u001b[0;34m(\u001b[0m\u001b[0mpsix_results_1\u001b[0m\u001b[0;34m.\u001b[0m\u001b[0mqvals\u001b[0m \u001b[0;34m<=\u001b[0m \u001b[0;36m0.05\u001b[0m\u001b[0;34m)\u001b[0m\u001b[0;34m,\u001b[0m \u001b[0mbin_20_40\u001b[0m\u001b[0;34m)\u001b[0m\u001b[0;34m,\u001b[0m\u001b[0;34m\u001b[0m\u001b[0;34m\u001b[0m\u001b[0m\n",
      "\u001b[0;32m<ipython-input-32-9708cb5b6c66>\u001b[0m in \u001b[0;36mget_recall\u001b[0;34m(predict, exon_bin)\u001b[0m\n\u001b[1;32m      1\u001b[0m \u001b[0;32mdef\u001b[0m \u001b[0mget_recall\u001b[0m\u001b[0;34m(\u001b[0m\u001b[0mpredict\u001b[0m\u001b[0;34m,\u001b[0m \u001b[0mexon_bin\u001b[0m\u001b[0;34m)\u001b[0m\u001b[0;34m:\u001b[0m\u001b[0;34m\u001b[0m\u001b[0;34m\u001b[0m\u001b[0m\n\u001b[0;32m----> 2\u001b[0;31m     \u001b[0;32mreturn\u001b[0m \u001b[0mrecall_score\u001b[0m\u001b[0;34m(\u001b[0m\u001b[0;34m(\u001b[0m\u001b[0;34m[\u001b[0m\u001b[0;32mTrue\u001b[0m\u001b[0;34m]\u001b[0m\u001b[0;34m*\u001b[0m\u001b[0mlen\u001b[0m\u001b[0;34m(\u001b[0m\u001b[0mexon_bin\u001b[0m\u001b[0;34m)\u001b[0m\u001b[0;34m)\u001b[0m\u001b[0;34m,\u001b[0m \u001b[0mpredict\u001b[0m\u001b[0;34m.\u001b[0m\u001b[0mloc\u001b[0m\u001b[0;34m[\u001b[0m\u001b[0;34m[\u001b[0m\u001b[0mstr\u001b[0m\u001b[0;34m(\u001b[0m\u001b[0mx\u001b[0m\u001b[0;34m)\u001b[0m \u001b[0;32mfor\u001b[0m \u001b[0mx\u001b[0m \u001b[0;32min\u001b[0m \u001b[0mexon_bin\u001b[0m\u001b[0;34m]\u001b[0m\u001b[0;34m]\u001b[0m\u001b[0;34m)\u001b[0m\u001b[0;34m\u001b[0m\u001b[0;34m\u001b[0m\u001b[0m\n\u001b[0m\u001b[1;32m      3\u001b[0m \u001b[0;34m\u001b[0m\u001b[0m\n\u001b[1;32m      4\u001b[0m \u001b[0;34m\u001b[0m\u001b[0m\n\u001b[1;32m      5\u001b[0m \u001b[0;32mdef\u001b[0m \u001b[0mget_precision\u001b[0m\u001b[0;34m(\u001b[0m\u001b[0mpredict\u001b[0m\u001b[0;34m,\u001b[0m \u001b[0mdeltaPSI\u001b[0m\u001b[0;34m,\u001b[0m \u001b[0mcutoff\u001b[0m\u001b[0;34m)\u001b[0m\u001b[0;34m:\u001b[0m\u001b[0;34m\u001b[0m\u001b[0;34m\u001b[0m\u001b[0m\n",
      "\u001b[0;32m~/.local/lib/python3.7/site-packages/pandas/core/indexing.py\u001b[0m in \u001b[0;36m__getitem__\u001b[0;34m(self, key)\u001b[0m\n\u001b[1;32m   1766\u001b[0m \u001b[0;34m\u001b[0m\u001b[0m\n\u001b[1;32m   1767\u001b[0m             \u001b[0mmaybe_callable\u001b[0m \u001b[0;34m=\u001b[0m \u001b[0mcom\u001b[0m\u001b[0;34m.\u001b[0m\u001b[0mapply_if_callable\u001b[0m\u001b[0;34m(\u001b[0m\u001b[0mkey\u001b[0m\u001b[0;34m,\u001b[0m \u001b[0mself\u001b[0m\u001b[0;34m.\u001b[0m\u001b[0mobj\u001b[0m\u001b[0;34m)\u001b[0m\u001b[0;34m\u001b[0m\u001b[0;34m\u001b[0m\u001b[0m\n\u001b[0;32m-> 1768\u001b[0;31m             \u001b[0;32mreturn\u001b[0m \u001b[0mself\u001b[0m\u001b[0;34m.\u001b[0m\u001b[0m_getitem_axis\u001b[0m\u001b[0;34m(\u001b[0m\u001b[0mmaybe_callable\u001b[0m\u001b[0;34m,\u001b[0m \u001b[0maxis\u001b[0m\u001b[0;34m=\u001b[0m\u001b[0maxis\u001b[0m\u001b[0;34m)\u001b[0m\u001b[0;34m\u001b[0m\u001b[0;34m\u001b[0m\u001b[0m\n\u001b[0m\u001b[1;32m   1769\u001b[0m \u001b[0;34m\u001b[0m\u001b[0m\n\u001b[1;32m   1770\u001b[0m     \u001b[0;32mdef\u001b[0m \u001b[0m_is_scalar_access\u001b[0m\u001b[0;34m(\u001b[0m\u001b[0mself\u001b[0m\u001b[0;34m,\u001b[0m \u001b[0mkey\u001b[0m\u001b[0;34m:\u001b[0m \u001b[0mTuple\u001b[0m\u001b[0;34m)\u001b[0m\u001b[0;34m:\u001b[0m\u001b[0;34m\u001b[0m\u001b[0;34m\u001b[0m\u001b[0m\n",
      "\u001b[0;32m~/.local/lib/python3.7/site-packages/pandas/core/indexing.py\u001b[0m in \u001b[0;36m_getitem_axis\u001b[0;34m(self, key, axis)\u001b[0m\n\u001b[1;32m   1952\u001b[0m                     \u001b[0;32mraise\u001b[0m \u001b[0mValueError\u001b[0m\u001b[0;34m(\u001b[0m\u001b[0;34m\"Cannot index with multidimensional key\"\u001b[0m\u001b[0;34m)\u001b[0m\u001b[0;34m\u001b[0m\u001b[0;34m\u001b[0m\u001b[0m\n\u001b[1;32m   1953\u001b[0m \u001b[0;34m\u001b[0m\u001b[0m\n\u001b[0;32m-> 1954\u001b[0;31m                 \u001b[0;32mreturn\u001b[0m \u001b[0mself\u001b[0m\u001b[0;34m.\u001b[0m\u001b[0m_getitem_iterable\u001b[0m\u001b[0;34m(\u001b[0m\u001b[0mkey\u001b[0m\u001b[0;34m,\u001b[0m \u001b[0maxis\u001b[0m\u001b[0;34m=\u001b[0m\u001b[0maxis\u001b[0m\u001b[0;34m)\u001b[0m\u001b[0;34m\u001b[0m\u001b[0;34m\u001b[0m\u001b[0m\n\u001b[0m\u001b[1;32m   1955\u001b[0m \u001b[0;34m\u001b[0m\u001b[0m\n\u001b[1;32m   1956\u001b[0m             \u001b[0;31m# nested tuple slicing\u001b[0m\u001b[0;34m\u001b[0m\u001b[0;34m\u001b[0m\u001b[0;34m\u001b[0m\u001b[0m\n",
      "\u001b[0;32m~/.local/lib/python3.7/site-packages/pandas/core/indexing.py\u001b[0m in \u001b[0;36m_getitem_iterable\u001b[0;34m(self, key, axis)\u001b[0m\n\u001b[1;32m   1593\u001b[0m         \u001b[0;32melse\u001b[0m\u001b[0;34m:\u001b[0m\u001b[0;34m\u001b[0m\u001b[0;34m\u001b[0m\u001b[0m\n\u001b[1;32m   1594\u001b[0m             \u001b[0;31m# A collection of keys\u001b[0m\u001b[0;34m\u001b[0m\u001b[0;34m\u001b[0m\u001b[0;34m\u001b[0m\u001b[0m\n\u001b[0;32m-> 1595\u001b[0;31m             \u001b[0mkeyarr\u001b[0m\u001b[0;34m,\u001b[0m \u001b[0mindexer\u001b[0m \u001b[0;34m=\u001b[0m \u001b[0mself\u001b[0m\u001b[0;34m.\u001b[0m\u001b[0m_get_listlike_indexer\u001b[0m\u001b[0;34m(\u001b[0m\u001b[0mkey\u001b[0m\u001b[0;34m,\u001b[0m \u001b[0maxis\u001b[0m\u001b[0;34m,\u001b[0m \u001b[0mraise_missing\u001b[0m\u001b[0;34m=\u001b[0m\u001b[0;32mFalse\u001b[0m\u001b[0;34m)\u001b[0m\u001b[0;34m\u001b[0m\u001b[0;34m\u001b[0m\u001b[0m\n\u001b[0m\u001b[1;32m   1596\u001b[0m             return self.obj._reindex_with_indexers(\n\u001b[1;32m   1597\u001b[0m                 \u001b[0;34m{\u001b[0m\u001b[0maxis\u001b[0m\u001b[0;34m:\u001b[0m \u001b[0;34m[\u001b[0m\u001b[0mkeyarr\u001b[0m\u001b[0;34m,\u001b[0m \u001b[0mindexer\u001b[0m\u001b[0;34m]\u001b[0m\u001b[0;34m}\u001b[0m\u001b[0;34m,\u001b[0m \u001b[0mcopy\u001b[0m\u001b[0;34m=\u001b[0m\u001b[0;32mTrue\u001b[0m\u001b[0;34m,\u001b[0m \u001b[0mallow_dups\u001b[0m\u001b[0;34m=\u001b[0m\u001b[0;32mTrue\u001b[0m\u001b[0;34m\u001b[0m\u001b[0;34m\u001b[0m\u001b[0m\n",
      "\u001b[0;32m~/.local/lib/python3.7/site-packages/pandas/core/indexing.py\u001b[0m in \u001b[0;36m_get_listlike_indexer\u001b[0;34m(self, key, axis, raise_missing)\u001b[0m\n\u001b[1;32m   1551\u001b[0m \u001b[0;34m\u001b[0m\u001b[0m\n\u001b[1;32m   1552\u001b[0m         self._validate_read_indexer(\n\u001b[0;32m-> 1553\u001b[0;31m             \u001b[0mkeyarr\u001b[0m\u001b[0;34m,\u001b[0m \u001b[0mindexer\u001b[0m\u001b[0;34m,\u001b[0m \u001b[0mo\u001b[0m\u001b[0;34m.\u001b[0m\u001b[0m_get_axis_number\u001b[0m\u001b[0;34m(\u001b[0m\u001b[0maxis\u001b[0m\u001b[0;34m)\u001b[0m\u001b[0;34m,\u001b[0m \u001b[0mraise_missing\u001b[0m\u001b[0;34m=\u001b[0m\u001b[0mraise_missing\u001b[0m\u001b[0;34m\u001b[0m\u001b[0;34m\u001b[0m\u001b[0m\n\u001b[0m\u001b[1;32m   1554\u001b[0m         )\n\u001b[1;32m   1555\u001b[0m         \u001b[0;32mreturn\u001b[0m \u001b[0mkeyarr\u001b[0m\u001b[0;34m,\u001b[0m \u001b[0mindexer\u001b[0m\u001b[0;34m\u001b[0m\u001b[0;34m\u001b[0m\u001b[0m\n",
      "\u001b[0;32m~/.local/lib/python3.7/site-packages/pandas/core/indexing.py\u001b[0m in \u001b[0;36m_validate_read_indexer\u001b[0;34m(self, key, indexer, axis, raise_missing)\u001b[0m\n\u001b[1;32m   1638\u001b[0m             \u001b[0;32mif\u001b[0m \u001b[0mmissing\u001b[0m \u001b[0;34m==\u001b[0m \u001b[0mlen\u001b[0m\u001b[0;34m(\u001b[0m\u001b[0mindexer\u001b[0m\u001b[0;34m)\u001b[0m\u001b[0;34m:\u001b[0m\u001b[0;34m\u001b[0m\u001b[0;34m\u001b[0m\u001b[0m\n\u001b[1;32m   1639\u001b[0m                 \u001b[0maxis_name\u001b[0m \u001b[0;34m=\u001b[0m \u001b[0mself\u001b[0m\u001b[0;34m.\u001b[0m\u001b[0mobj\u001b[0m\u001b[0;34m.\u001b[0m\u001b[0m_get_axis_name\u001b[0m\u001b[0;34m(\u001b[0m\u001b[0maxis\u001b[0m\u001b[0;34m)\u001b[0m\u001b[0;34m\u001b[0m\u001b[0;34m\u001b[0m\u001b[0m\n\u001b[0;32m-> 1640\u001b[0;31m                 \u001b[0;32mraise\u001b[0m \u001b[0mKeyError\u001b[0m\u001b[0;34m(\u001b[0m\u001b[0;34mf\"None of [{key}] are in the [{axis_name}]\"\u001b[0m\u001b[0;34m)\u001b[0m\u001b[0;34m\u001b[0m\u001b[0;34m\u001b[0m\u001b[0m\n\u001b[0m\u001b[1;32m   1641\u001b[0m \u001b[0;34m\u001b[0m\u001b[0m\n\u001b[1;32m   1642\u001b[0m             \u001b[0;31m# We (temporarily) allow for some missing keys with .loc, except in\u001b[0m\u001b[0;34m\u001b[0m\u001b[0;34m\u001b[0m\u001b[0;34m\u001b[0m\u001b[0m\n",
      "\u001b[0;31mKeyError\u001b[0m: \"None of [Index(['3328', '2860', '3276', '3527', '4876', '3972', '4621', '3331', '3483',\\n       '2868',\\n       ...\\n       '2851', '4789', '3013', '4659', '3031', '3828', '4900', '3637', '3293',\\n       '2807'],\\n      dtype='object', length=1756)] are in the [index]\""
     ]
    },
    {
     "data": {
      "image/png": "[encoded data removed]",
      "text/plain": [
       "<Figure size 432x288 with 1 Axes>"
      ]
     },
     "metadata": {
      "needs_background": "light"
     },
     "output_type": "display_data"
    }
   ],
   "source": [
    "fig, ax = plt.subplots()\n",
    "# plot_recall([0, 0.2, 0.4, 0.6, 0.8, 1.0],\n",
    "#      [get_recall((kw_1.qvals <= 0.05), bin_0),\n",
    "#       get_recall((kw_1.qvals <= 0.05), bin_0_20),\n",
    "#       get_recall((kw_1.qvals <= 0.05), bin_20_40),\n",
    "#       get_recall((kw_1.qvals <= 0.05), bin_40_60),\n",
    "#       get_recall((kw_1.qvals <= 0.05), bin_60_80),\n",
    "#       get_recall((kw_1.qvals <= 0.05), bin_80)], 'darkorange', 'Kruskal-Wallis')\n",
    "\n",
    "# plot_recall([0, 0.2, 0.4, 0.6, 0.8, 1.0],\n",
    "#      [get_recall((gearyc_1.qvals <= 0.05), bin_0),\n",
    "#       get_recall((gearyc_1.qvals <= 0.05), bin_0_20),\n",
    "#       get_recall((gearyc_1.qvals <= 0.05), bin_20_40),\n",
    "#       get_recall((gearyc_1.qvals <= 0.05), bin_40_60),\n",
    "#       get_recall((gearyc_1.qvals <= 0.05), bin_60_80),\n",
    "#       get_recall((gearyc_1.qvals <= 0.05), bin_80)], 'forestgreen', \"Geary's C\")\n",
    "\n",
    "plot_recall([0, 0.2, 0.4, 0.6, 0.8, 1.0],\n",
    "     [get_recall((psix_results_1.qvals <= 0.05), bin_0),\n",
    "      get_recall((psix_results_1.qvals <= 0.05), bin_0_20),\n",
    "      get_recall((psix_results_1.qvals <= 0.05), bin_20_40),\n",
    "      get_recall((psix_results_1.qvals <= 0.05), bin_40_60),\n",
    "      get_recall((psix_results_1.qvals <= 0.05), bin_60_80),\n",
    "      get_recall((psix_results_1.qvals <= 0.05), bin_80)], 'steelblue', 'Psix')\n",
    "\n",
    "plt.xlabel(r'Simulated $\\Delta \\Psi$', fontsize=14)\n",
    "plt.ylabel('Recall', fontsize=14)\n",
    "ax.set_xticklabels(['0', '0', '(0-0.2]', '(0.2-0.4]', '(0.4-0.6]', '(0.6-0.8]', '(0.8-1.0]'])\n",
    "plt.title('Simulated exons', fontsize=14)\n",
    "\n",
    "plt.legend(frameon=False, fontsize=12)"
   ]
  },
  {
   "cell_type": "code",
   "execution_count": 26,
   "metadata": {},
   "outputs": [
    {
     "data": {
      "text/plain": [
       "Int64Index([3328, 2860, 3276, 3527, 4876, 3972, 4621, 3331, 3483, 2868,\n",
       "            ...\n",
       "            2851, 4789, 3013, 4659, 3031, 3828, 4900, 3637, 3293, 2807],\n",
       "           dtype='int64', length=1756)"
      ]
     },
     "execution_count": 26,
     "metadata": {},
     "output_type": "execute_result"
    }
   ],
   "source": [
    "bin_0"
   ]
  },
  {
   "cell_type": "code",
   "execution_count": 67,
   "metadata": {},
   "outputs": [
    {
     "data": {
      "text/plain": [
       "array([<matplotlib.axes._subplots.AxesSubplot object at 0x7f2e900fd690>,\n",
       "       <matplotlib.axes._subplots.AxesSubplot object at 0x7f2e900e17d0>,\n",
       "       <matplotlib.axes._subplots.AxesSubplot object at 0x7f2e90094d90>,\n",
       "       <matplotlib.axes._subplots.AxesSubplot object at 0x7f2e90052410>,\n",
       "       <matplotlib.axes._subplots.AxesSubplot object at 0x7f2e90002a50>,\n",
       "       <matplotlib.axes._subplots.AxesSubplot object at 0x7f2e8ffbf0d0>,\n",
       "       <matplotlib.axes._subplots.AxesSubplot object at 0x7f2e8ff71710>,\n",
       "       <matplotlib.axes._subplots.AxesSubplot object at 0x7f2e8ffa3e10>,\n",
       "       <matplotlib.axes._subplots.AxesSubplot object at 0x7f2e8ff60410>,\n",
       "       <matplotlib.axes._subplots.AxesSubplot object at 0x7f2e8ff11a90>,\n",
       "       <matplotlib.axes._subplots.AxesSubplot object at 0x7f2e8fec7d90>,\n",
       "       <matplotlib.axes._subplots.AxesSubplot object at 0x7f2e8fe87350>,\n",
       "       <matplotlib.axes._subplots.AxesSubplot object at 0x7f2e8fe3c8d0>,\n",
       "       <matplotlib.axes._subplots.AxesSubplot object at 0x7f2e8fdefe50>,\n",
       "       <matplotlib.axes._subplots.AxesSubplot object at 0x7f2e8fdb4410>,\n",
       "       <matplotlib.axes._subplots.AxesSubplot object at 0x7f2e8fd68990>,\n",
       "       <matplotlib.axes._subplots.AxesSubplot object at 0x7f2e8fd9ef10>,\n",
       "       <matplotlib.axes._subplots.AxesSubplot object at 0x7f2e8fd604d0>,\n",
       "       <matplotlib.axes._subplots.AxesSubplot object at 0x7f2e8fd14a50>,\n",
       "       <matplotlib.axes._subplots.AxesSubplot object at 0x7f2e8fccbfd0>,\n",
       "       <matplotlib.axes._subplots.AxesSubplot object at 0x7f2e8fc8e590>,\n",
       "       <matplotlib.axes._subplots.AxesSubplot object at 0x7f2e8fc42b10>,\n",
       "       <matplotlib.axes._subplots.AxesSubplot object at 0x7f2e19c018d0>,\n",
       "       <matplotlib.axes._subplots.AxesSubplot object at 0x7f2e90027950>,\n",
       "       <matplotlib.axes._subplots.AxesSubplot object at 0x7f2e8ff22610>,\n",
       "       <matplotlib.axes._subplots.AxesSubplot object at 0x7f2e19628310>,\n",
       "       <matplotlib.axes._subplots.AxesSubplot object at 0x7f2e0d0339d0>,\n",
       "       <matplotlib.axes._subplots.AxesSubplot object at 0x7f2e0d063910>,\n",
       "       <matplotlib.axes._subplots.AxesSubplot object at 0x7f2e049175d0>,\n",
       "       <matplotlib.axes._subplots.AxesSubplot object at 0x7f2e04b392d0>,\n",
       "       <matplotlib.axes._subplots.AxesSubplot object at 0x7f2e04b4fbd0>,\n",
       "       <matplotlib.axes._subplots.AxesSubplot object at 0x7f2e902e6b90>,\n",
       "       <matplotlib.axes._subplots.AxesSubplot object at 0x7f2e8fbe4710>,\n",
       "       <matplotlib.axes._subplots.AxesSubplot object at 0x7f2e8fb99d50>,\n",
       "       <matplotlib.axes._subplots.AxesSubplot object at 0x7f2e8fb5c3d0>,\n",
       "       <matplotlib.axes._subplots.AxesSubplot object at 0x7f2e8fb12a10>,\n",
       "       <matplotlib.axes._subplots.AxesSubplot object at 0x7f2e8fac8f50>,\n",
       "       <matplotlib.axes._subplots.AxesSubplot object at 0x7f2e8fa896d0>,\n",
       "       <matplotlib.axes._subplots.AxesSubplot object at 0x7f2e8fa40d10>,\n",
       "       <matplotlib.axes._subplots.AxesSubplot object at 0x7f2e8fa03390>,\n",
       "       <matplotlib.axes._subplots.AxesSubplot object at 0x7f2e8f9b99d0>,\n",
       "       <matplotlib.axes._subplots.AxesSubplot object at 0x7f2e8f971f10>,\n",
       "       <matplotlib.axes._subplots.AxesSubplot object at 0x7f2e8f934690>,\n",
       "       <matplotlib.axes._subplots.AxesSubplot object at 0x7f2e8f8e9cd0>,\n",
       "       <matplotlib.axes._subplots.AxesSubplot object at 0x7f2e8f8ab350>,\n",
       "       <matplotlib.axes._subplots.AxesSubplot object at 0x7f2e8f8e1990>,\n",
       "       <matplotlib.axes._subplots.AxesSubplot object at 0x7f2e8f896fd0>,\n",
       "       <matplotlib.axes._subplots.AxesSubplot object at 0x7f2e8f85a650>,\n",
       "       <matplotlib.axes._subplots.AxesSubplot object at 0x7f2e8f80dc90>,\n",
       "       <matplotlib.axes._subplots.AxesSubplot object at 0x7f2e8f7d3310>,\n",
       "       <matplotlib.axes._subplots.AxesSubplot object at 0x7f2e8f78b950>,\n",
       "       <matplotlib.axes._subplots.AxesSubplot object at 0x7f2e8f741f90>,\n",
       "       <matplotlib.axes._subplots.AxesSubplot object at 0x7f2e8f702610>,\n",
       "       <matplotlib.axes._subplots.AxesSubplot object at 0x7f2e8f6b8c10>,\n",
       "       <matplotlib.axes._subplots.AxesSubplot object at 0x7f2e8f67b1d0>,\n",
       "       <matplotlib.axes._subplots.AxesSubplot object at 0x7f2e8f62f750>,\n",
       "       <matplotlib.axes._subplots.AxesSubplot object at 0x7f2e8f5e5cd0>,\n",
       "       <matplotlib.axes._subplots.AxesSubplot object at 0x7f2e8f5a8290>,\n",
       "       <matplotlib.axes._subplots.AxesSubplot object at 0x7f2e8f5de810>,\n",
       "       <matplotlib.axes._subplots.AxesSubplot object at 0x7f2e8f593d90>,\n",
       "       <matplotlib.axes._subplots.AxesSubplot object at 0x7f2e8f554350>,\n",
       "       <matplotlib.axes._subplots.AxesSubplot object at 0x7f2e8f50b8d0>,\n",
       "       <matplotlib.axes._subplots.AxesSubplot object at 0x7f2e8f4c0e50>,\n",
       "       <matplotlib.axes._subplots.AxesSubplot object at 0x7f2e8f481410>,\n",
       "       <matplotlib.axes._subplots.AxesSubplot object at 0x7f2e8f438990>,\n",
       "       <matplotlib.axes._subplots.AxesSubplot object at 0x7f2e8f3eef10>,\n",
       "       <matplotlib.axes._subplots.AxesSubplot object at 0x7f2e8f3b14d0>,\n",
       "       <matplotlib.axes._subplots.AxesSubplot object at 0x7f2e8f367a50>,\n",
       "       <matplotlib.axes._subplots.AxesSubplot object at 0x7f2e8f39dfd0>,\n",
       "       <matplotlib.axes._subplots.AxesSubplot object at 0x7f2e8f360590>,\n",
       "       <matplotlib.axes._subplots.AxesSubplot object at 0x7f2e8f314b10>,\n",
       "       <matplotlib.axes._subplots.AxesSubplot object at 0x7f2e8f2da0d0>,\n",
       "       <matplotlib.axes._subplots.AxesSubplot object at 0x7f2e8f28d650>,\n",
       "       <matplotlib.axes._subplots.AxesSubplot object at 0x7f2e8f23ebd0>,\n",
       "       <matplotlib.axes._subplots.AxesSubplot object at 0x7f2e8f204190>,\n",
       "       <matplotlib.axes._subplots.AxesSubplot object at 0x7f2e8f1bb710>,\n",
       "       <matplotlib.axes._subplots.AxesSubplot object at 0x7f2e8f16fc90>,\n",
       "       <matplotlib.axes._subplots.AxesSubplot object at 0x7f2e8f133250>,\n",
       "       <matplotlib.axes._subplots.AxesSubplot object at 0x7f2e8f0e77d0>,\n",
       "       <matplotlib.axes._subplots.AxesSubplot object at 0x7f2e0d045450>,\n",
       "       <matplotlib.axes._subplots.AxesSubplot object at 0x7f2e8fb29b50>,\n",
       "       <matplotlib.axes._subplots.AxesSubplot object at 0x7f2e8f9cb8d0>,\n",
       "       <matplotlib.axes._subplots.AxesSubplot object at 0x7f2e8f7ea650>,\n",
       "       <matplotlib.axes._subplots.AxesSubplot object at 0x7f2e8efe9f50>,\n",
       "       <matplotlib.axes._subplots.AxesSubplot object at 0x7f2e8efad5d0>,\n",
       "       <matplotlib.axes._subplots.AxesSubplot object at 0x7f2e8efe3c10>,\n",
       "       <matplotlib.axes._subplots.AxesSubplot object at 0x7f2e8ef25290>,\n",
       "       <matplotlib.axes._subplots.AxesSubplot object at 0x7f2e8ef5b8d0>,\n",
       "       <matplotlib.axes._subplots.AxesSubplot object at 0x7f2e8ef0ff10>,\n",
       "       <matplotlib.axes._subplots.AxesSubplot object at 0x7f2e8eed3590>,\n",
       "       <matplotlib.axes._subplots.AxesSubplot object at 0x7f2e8ee8abd0>,\n",
       "       <matplotlib.axes._subplots.AxesSubplot object at 0x7f2e8ee4d250>,\n",
       "       <matplotlib.axes._subplots.AxesSubplot object at 0x7f2e8ee03890>,\n",
       "       <matplotlib.axes._subplots.AxesSubplot object at 0x7f2e8edb8ed0>,\n",
       "       <matplotlib.axes._subplots.AxesSubplot object at 0x7f2e8ed7d550>,\n",
       "       <matplotlib.axes._subplots.AxesSubplot object at 0x7f2e8ed30b90>,\n",
       "       <matplotlib.axes._subplots.AxesSubplot object at 0x7f2e8ecf5210>,\n",
       "       <matplotlib.axes._subplots.AxesSubplot object at 0x7f2e8ecaa850>,\n",
       "       <matplotlib.axes._subplots.AxesSubplot object at 0x7f2e8ece2e90>,\n",
       "       <matplotlib.axes._subplots.AxesSubplot object at 0x7f2e8ec25510>,\n",
       "       <matplotlib.axes._subplots.AxesSubplot object at 0x7f2e8ec59b50>,\n",
       "       <matplotlib.axes._subplots.AxesSubplot object at 0x7f2e8ec1d1d0>,\n",
       "       <matplotlib.axes._subplots.AxesSubplot object at 0x7f2e88b9b810>,\n",
       "       <matplotlib.axes._subplots.AxesSubplot object at 0x7f2e88b50e50>,\n",
       "       <matplotlib.axes._subplots.AxesSubplot object at 0x7f2e88b134d0>,\n",
       "       <matplotlib.axes._subplots.AxesSubplot object at 0x7f2e88ac9b10>,\n",
       "       <matplotlib.axes._subplots.AxesSubplot object at 0x7f2e88a8e190>,\n",
       "       <matplotlib.axes._subplots.AxesSubplot object at 0x7f2e88a437d0>,\n",
       "       <matplotlib.axes._subplots.AxesSubplot object at 0x7f2e889f9e10>,\n",
       "       <matplotlib.axes._subplots.AxesSubplot object at 0x7f2e889bb490>,\n",
       "       <matplotlib.axes._subplots.AxesSubplot object at 0x7f2e88972a90>],\n",
       "      dtype=object)"
      ]
     },
     "execution_count": 67,
     "metadata": {},
     "output_type": "execute_result"
    }
   ],
   "source": [
    "ax"
   ]
  },
  {
   "cell_type": "code",
   "execution_count": 33,
   "metadata": {},
   "outputs": [
    {
     "data": {
      "text/plain": [
       "34"
      ]
     },
     "execution_count": 33,
     "metadata": {},
     "output_type": "execute_result"
    }
   ],
   "source": [
    "len(bin_80)"
   ]
  },
  {
   "cell_type": "code",
   "execution_count": 66,
   "metadata": {},
   "outputs": [
    {
     "data": {
      "text/plain": [
       "gene3067    0.000000\n",
       "gene4170    0.000000\n",
       "gene4174    0.000000\n",
       "gene4577    0.000000\n",
       "gene4764    0.000000\n",
       "              ...   \n",
       "gene1580    0.200450\n",
       "gene1112    0.202196\n",
       "gene276     0.203011\n",
       "gene483     0.203090\n",
       "gene2332    0.203364\n",
       "Length: 1909, dtype: float64"
      ]
     },
     "execution_count": 66,
     "metadata": {},
     "output_type": "execute_result"
    }
   ],
   "source": [
    "deltaPSI.loc[['gene'+str(x) for x in nonDE]].sort_values()"
   ]
  },
  {
   "cell_type": "code",
   "execution_count": 17,
   "metadata": {},
   "outputs": [
    {
     "data": {
      "image/png": "[encoded data removed]",
      "text/plain": [
       "<Figure size 180x120 with 1 Axes>"
      ]
     },
     "metadata": {
      "needs_background": "light"
     },
     "output_type": "display_data"
    }
   ],
   "source": [
    "fig = plt.figure(figsize=(6/2.4, 4/2.4))\n",
    "ax = fig.add_subplot(111)\n",
    "\n",
    "ax.hist(deltaPSI.loc[deltaPSI>0], bins=20)\n",
    "ax.set_xlim([-0.05,1.05])\n",
    "ax.set_xlabel(r'Simulated $\\Delta \\Psi$', size=8)\n",
    "ax.set_ylabel('Counts', size=8)\n",
    "\n",
    "\n",
    "ax.spines[\"right\"].set_visible(False)\n",
    "ax.spines[\"top\"].set_visible(False)\n",
    "\n",
    "ax.tick_params(axis='both', which='major', labelsize=8)\n",
    "\n",
    "plt.savefig('../plots/single_lineage_delta_PSI.png', bbox_inches='tight', res=20000, dpi =2000)"
   ]
  },
  {
   "cell_type": "code",
   "execution_count": 12,
   "metadata": {},
   "outputs": [
    {
     "name": "stdout",
     "output_type": "stream",
     "text": [
      "Collecting splice junctions....\n",
      "Obtaining PSI tables...\n",
      "Reading TPM and transforming to mRNA counts...\n"
     ]
    },
    {
     "name": "stderr",
     "output_type": "stream",
     "text": [
      "100%|██████████| 1000/1000 [00:18<00:00, 52.68it/s]\n"
     ]
    },
    {
     "name": "stdout",
     "output_type": "stream",
     "text": [
      "Successfully processed RNA-seq data\n",
      "Computing cell-cell metric...\n"
     ]
    },
    {
     "name": "stderr",
     "output_type": "stream",
     "text": [
      "100%|██████████| 1000/1000 [00:00<00:00, 7922.38it/s]"
     ]
    },
    {
     "name": "stdout",
     "output_type": "stream",
     "text": [
      "Successfully computed cell-cell metric\n",
      "Computing Psix score in 3486 exons\n"
     ]
    },
    {
     "name": "stderr",
     "output_type": "stream",
     "text": [
      "\n",
      "100%|██████████| 3486/3486 [00:32<00:00, 108.27it/s] "
     ]
    },
    {
     "name": "stdout",
     "output_type": "stream",
     "text": [
      "Successfully computed Psix score of exons.\n",
      "Estimating p-values. This might take a while...\n"
     ]
    },
    {
     "name": "stderr",
     "output_type": "stream",
     "text": [
      "\n",
      "100%|██████████| 1/1 [00:00<00:00,  1.04it/s]\n"
     ]
    },
    {
     "name": "stdout",
     "output_type": "stream",
     "text": [
      "Successfully estimated p-values\n",
      "Computing cell-cell metric...\n"
     ]
    },
    {
     "name": "stderr",
     "output_type": "stream",
     "text": [
      "100%|██████████| 1000/1000 [00:00<00:00, 7904.19it/s]"
     ]
    },
    {
     "name": "stdout",
     "output_type": "stream",
     "text": [
      "Successfully computed cell-cell metric\n",
      "Computing Psix score in 3486 exons\n"
     ]
    },
    {
     "name": "stderr",
     "output_type": "stream",
     "text": [
      "\n",
      "100%|██████████| 3486/3486 [00:32<00:00, 107.65it/s] "
     ]
    },
    {
     "name": "stdout",
     "output_type": "stream",
     "text": [
      "Successfully computed Psix score of exons.\n",
      "Estimating p-values. This might take a while...\n"
     ]
    },
    {
     "name": "stderr",
     "output_type": "stream",
     "text": [
      "\n",
      "100%|██████████| 1/1 [00:01<00:00,  1.02s/it]\n"
     ]
    },
    {
     "name": "stdout",
     "output_type": "stream",
     "text": [
      "Successfully estimated p-values\n",
      "Computing cell-cell metric...\n"
     ]
    },
    {
     "name": "stderr",
     "output_type": "stream",
     "text": [
      "100%|██████████| 1000/1000 [00:00<00:00, 6225.66it/s]"
     ]
    },
    {
     "name": "stdout",
     "output_type": "stream",
     "text": [
      "Successfully computed cell-cell metric\n",
      "Computing Psix score in 3486 exons\n"
     ]
    },
    {
     "name": "stderr",
     "output_type": "stream",
     "text": [
      "\n",
      "100%|██████████| 3486/3486 [00:32<00:00, 107.06it/s] "
     ]
    },
    {
     "name": "stdout",
     "output_type": "stream",
     "text": [
      "Successfully computed Psix score of exons.\n",
      "Estimating p-values. This might take a while...\n"
     ]
    },
    {
     "name": "stderr",
     "output_type": "stream",
     "text": [
      "\n",
      "100%|██████████| 1/1 [00:00<00:00,  1.51it/s]\n"
     ]
    },
    {
     "name": "stdout",
     "output_type": "stream",
     "text": [
      "Successfully estimated p-values\n",
      "Computing cell-cell metric...\n"
     ]
    },
    {
     "name": "stderr",
     "output_type": "stream",
     "text": [
      "100%|██████████| 1000/1000 [00:00<00:00, 7802.40it/s]"
     ]
    },
    {
     "name": "stdout",
     "output_type": "stream",
     "text": [
      "Successfully computed cell-cell metric\n",
      "Computing Psix score in 3486 exons\n"
     ]
    },
    {
     "name": "stderr",
     "output_type": "stream",
     "text": [
      "\n",
      "100%|██████████| 3486/3486 [00:34<00:00, 101.33it/s] "
     ]
    },
    {
     "name": "stdout",
     "output_type": "stream",
     "text": [
      "Successfully computed Psix score of exons.\n",
      "Estimating p-values. This might take a while...\n"
     ]
    },
    {
     "name": "stderr",
     "output_type": "stream",
     "text": [
      "\n",
      "100%|██████████| 1/1 [00:00<00:00,  1.41it/s]\n"
     ]
    },
    {
     "name": "stdout",
     "output_type": "stream",
     "text": [
      "Successfully estimated p-values\n",
      "Computing cell-cell metric...\n"
     ]
    },
    {
     "name": "stderr",
     "output_type": "stream",
     "text": [
      "100%|██████████| 1000/1000 [00:00<00:00, 7908.81it/s]"
     ]
    },
    {
     "name": "stdout",
     "output_type": "stream",
     "text": [
      "Successfully computed cell-cell metric\n",
      "Computing Psix score in 3486 exons\n"
     ]
    },
    {
     "name": "stderr",
     "output_type": "stream",
     "text": [
      "\n",
      "100%|██████████| 3486/3486 [00:31<00:00, 111.42it/s] "
     ]
    },
    {
     "name": "stdout",
     "output_type": "stream",
     "text": [
      "Successfully computed Psix score of exons.\n",
      "Estimating p-values. This might take a while...\n"
     ]
    },
    {
     "name": "stderr",
     "output_type": "stream",
     "text": [
      "\n",
      "100%|██████████| 1/1 [00:00<00:00,  1.52it/s]\n"
     ]
    },
    {
     "name": "stdout",
     "output_type": "stream",
     "text": [
      "Successfully estimated p-values\n",
      "Computing cell-cell metric...\n"
     ]
    },
    {
     "name": "stderr",
     "output_type": "stream",
     "text": [
      "100%|██████████| 1000/1000 [00:00<00:00, 6202.85it/s]"
     ]
    },
    {
     "name": "stdout",
     "output_type": "stream",
     "text": [
      "Successfully computed cell-cell metric\n",
      "Computing Psix score in 3486 exons\n"
     ]
    },
    {
     "name": "stderr",
     "output_type": "stream",
     "text": [
      "\n",
      "100%|██████████| 3486/3486 [00:34<00:00, 100.72it/s] "
     ]
    },
    {
     "name": "stdout",
     "output_type": "stream",
     "text": [
      "Successfully computed Psix score of exons.\n",
      "Estimating p-values. This might take a while...\n"
     ]
    },
    {
     "name": "stderr",
     "output_type": "stream",
     "text": [
      "\n",
      "100%|██████████| 1/1 [00:01<00:00,  1.19s/it]\n"
     ]
    },
    {
     "name": "stdout",
     "output_type": "stream",
     "text": [
      "Successfully estimated p-values\n",
      "Computing cell-cell metric...\n"
     ]
    },
    {
     "name": "stderr",
     "output_type": "stream",
     "text": [
      "100%|██████████| 1000/1000 [00:00<00:00, 6201.63it/s]"
     ]
    },
    {
     "name": "stdout",
     "output_type": "stream",
     "text": [
      "Successfully computed cell-cell metric\n",
      "Computing Psix score in 3486 exons\n"
     ]
    },
    {
     "name": "stderr",
     "output_type": "stream",
     "text": [
      "\n",
      "100%|██████████| 3486/3486 [00:33<00:00, 104.15it/s] "
     ]
    },
    {
     "name": "stdout",
     "output_type": "stream",
     "text": [
      "Successfully computed Psix score of exons.\n",
      "Estimating p-values. This might take a while...\n"
     ]
    },
    {
     "name": "stderr",
     "output_type": "stream",
     "text": [
      "\n",
      "100%|██████████| 1/1 [00:00<00:00,  1.04it/s]\n"
     ]
    },
    {
     "name": "stdout",
     "output_type": "stream",
     "text": [
      "Successfully estimated p-values\n",
      "Computing cell-cell metric...\n"
     ]
    },
    {
     "name": "stderr",
     "output_type": "stream",
     "text": [
      "100%|██████████| 1000/1000 [00:00<00:00, 6158.87it/s]"
     ]
    },
    {
     "name": "stdout",
     "output_type": "stream",
     "text": [
      "Successfully computed cell-cell metric\n",
      "Computing Psix score in 3486 exons\n"
     ]
    },
    {
     "name": "stderr",
     "output_type": "stream",
     "text": [
      "\n",
      "100%|██████████| 3486/3486 [00:34<00:00, 102.15it/s] "
     ]
    },
    {
     "name": "stdout",
     "output_type": "stream",
     "text": [
      "Successfully computed Psix score of exons.\n",
      "Estimating p-values. This might take a while...\n"
     ]
    },
    {
     "name": "stderr",
     "output_type": "stream",
     "text": [
      "\n",
      "100%|██████████| 1/1 [00:00<00:00,  1.41it/s]\n"
     ]
    },
    {
     "name": "stdout",
     "output_type": "stream",
     "text": [
      "Successfully estimated p-values\n",
      "Computing cell-cell metric...\n"
     ]
    },
    {
     "name": "stderr",
     "output_type": "stream",
     "text": [
      "100%|██████████| 1000/1000 [00:00<00:00, 5714.45it/s]"
     ]
    },
    {
     "name": "stdout",
     "output_type": "stream",
     "text": [
      "Successfully computed cell-cell metric\n",
      "Computing Psix score in 3486 exons\n"
     ]
    },
    {
     "name": "stderr",
     "output_type": "stream",
     "text": [
      "\n",
      "100%|██████████| 3486/3486 [00:34<00:00, 102.46it/s] "
     ]
    },
    {
     "name": "stdout",
     "output_type": "stream",
     "text": [
      "Successfully computed Psix score of exons.\n",
      "Estimating p-values. This might take a while...\n"
     ]
    },
    {
     "name": "stderr",
     "output_type": "stream",
     "text": [
      "\n",
      "100%|██████████| 1/1 [00:01<00:00,  1.13s/it]\n"
     ]
    },
    {
     "name": "stdout",
     "output_type": "stream",
     "text": [
      "Successfully estimated p-values\n",
      "Computing cell-cell metric...\n"
     ]
    },
    {
     "name": "stderr",
     "output_type": "stream",
     "text": [
      "100%|██████████| 1000/1000 [00:00<00:00, 6211.33it/s]"
     ]
    },
    {
     "name": "stdout",
     "output_type": "stream",
     "text": [
      "Successfully computed cell-cell metric\n",
      "Computing Psix score in 3486 exons\n"
     ]
    },
    {
     "name": "stderr",
     "output_type": "stream",
     "text": [
      "\n",
      "100%|██████████| 3486/3486 [00:37<00:00, 91.97it/s]   "
     ]
    },
    {
     "name": "stdout",
     "output_type": "stream",
     "text": [
      "Successfully computed Psix score of exons.\n",
      "Estimating p-values. This might take a while...\n"
     ]
    },
    {
     "name": "stderr",
     "output_type": "stream",
     "text": [
      "\n",
      "100%|██████████| 1/1 [00:00<00:00,  1.13it/s]\n"
     ]
    },
    {
     "name": "stdout",
     "output_type": "stream",
     "text": [
      "Successfully estimated p-values\n",
      "Computing cell-cell metric...\n"
     ]
    },
    {
     "name": "stderr",
     "output_type": "stream",
     "text": [
      "100%|██████████| 1000/1000 [00:00<00:00, 6225.09it/s]"
     ]
    },
    {
     "name": "stdout",
     "output_type": "stream",
     "text": [
      "Successfully computed cell-cell metric\n",
      "Computing Psix score in 3486 exons\n"
     ]
    },
    {
     "name": "stderr",
     "output_type": "stream",
     "text": [
      "\n",
      "100%|██████████| 3486/3486 [00:38<00:00, 91.04it/s]   "
     ]
    },
    {
     "name": "stdout",
     "output_type": "stream",
     "text": [
      "Successfully computed Psix score of exons.\n",
      "Estimating p-values. This might take a while...\n"
     ]
    },
    {
     "name": "stderr",
     "output_type": "stream",
     "text": [
      "\n",
      "100%|██████████| 1/1 [00:00<00:00,  1.07it/s]\n"
     ]
    },
    {
     "name": "stdout",
     "output_type": "stream",
     "text": [
      "Successfully estimated p-values\n"
     ]
    }
   ],
   "source": [
    "psix_single_lineage_1 = psix.Psix()\n",
    "psix_single_lineage_1.junctions2psi(\n",
    "        'processed_tables/splice_junction_counts_0.1.tab.gz',\n",
    "        '',\n",
    "        'processed_tables/tpm_0.1.tab.gz',\n",
    "        save_files_in='psix_output/psix_object_0.1/')\n",
    "\n",
    "psix_score_list = []\n",
    "\n",
    "for capture in [0.01, 0.05, 0.1, 0.15, 0.2, 0.25, 0.3, 0.35, 0.4, 0.45, 0.5]:\n",
    "\n",
    "    psix_single_lineage_1.run_psix(latent='processed_tables/pc2_rd.tab.gz',  n_jobs=25,\n",
    "                                    n_random_exons=3, n_neighbors=100, capture_efficiency = capture, pvals_bins=1)\n",
    "\n",
    "    psix_results_ =  psix_single_lineage_1.psix_results.psix_score\n",
    "    \n",
    "    psix_score_list.append(psix_results_)\n"
   ]
  },
  {
   "cell_type": "code",
   "execution_count": 15,
   "metadata": {},
   "outputs": [],
   "source": [
    "scores_df = pd.DataFrame()\n",
    "scores_df['0.5'] = psix_score_list[10]\n",
    "scores_df['0.45'] = psix_score_list[9]\n",
    "scores_df['0.4'] = psix_score_list[8]\n",
    "scores_df['0.35'] = psix_score_list[7]\n",
    "scores_df['0.3'] = psix_score_list[6]\n",
    "scores_df['0.25'] = psix_score_list[5]\n",
    "scores_df['0.2'] = psix_score_list[4]\n",
    "scores_df['0.15'] = psix_score_list[3]\n",
    "scores_df['0.1'] = psix_score_list[2]\n",
    "scores_df['0.05'] = psix_score_list[1]\n",
    "scores_df['0.01'] = psix_score_list[0]\n",
    "\n",
    "# scores_df.to_csv('psix_output/scores_different_capture_efficiency.tab.gz', sep='\\t', index=True, header=True)\n",
    "\n",
    "# psix_score_list[0]"
   ]
  },
  {
   "cell_type": "code",
   "execution_count": 17,
   "metadata": {},
   "outputs": [
    {
     "data": {
      "image/png": "[encoded data removed]",
      "text/plain": [
       "<Figure size 240x180 with 2 Axes>"
      ]
     },
     "metadata": {
      "needs_background": "light"
     },
     "output_type": "display_data"
    }
   ],
   "source": [
    "import seaborn as sns\n",
    "fig = plt.figure(figsize=(8/2.4, 6/2.4))\n",
    "\n",
    "sns.heatmap(scores_df.corr(), cbar_kws={'label': 'Pearson r'})\n",
    "plt.xlabel('Capture efficiency')\n",
    "plt.ylabel('Capture efficiency')\n",
    "\n",
    "plt.title('Psix score correlation')\n",
    "\n",
    "plt.savefig('../plots/scores_corr.png', bbox_inches='tight', res=20000, dpi =2000)\n"
   ]
  },
  {
   "cell_type": "code",
   "execution_count": null,
   "metadata": {},
   "outputs": [],
   "source": []
  }
 ],
 "metadata": {
  "kernelspec": {
   "display_name": "Python 3",
   "language": "python",
   "name": "python3"
  },
  "language_info": {
   "codemirror_mode": {
    "name": "ipython",
    "version": 3
   },
   "file_extension": ".py",
   "mimetype": "text/x-python",
   "name": "python",
   "nbconvert_exporter": "python",
   "pygments_lexer": "ipython3",
   "version": "3.7.6"
  }
 },
 "nbformat": 4,
 "nbformat_minor": 4
}
