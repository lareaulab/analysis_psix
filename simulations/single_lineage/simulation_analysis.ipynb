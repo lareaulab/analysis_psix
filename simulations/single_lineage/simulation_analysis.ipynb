{
 "cells": [
  {
   "cell_type": "code",
   "execution_count": 1,
   "metadata": {},
   "outputs": [],
   "source": [
    "import numpy as np\n",
    "import pandas as pd\n",
    "from matplotlib import pyplot as plt\n",
    "import os\n",
    "import sys\n",
    "from tqdm import tqdm\n",
    "import psix\n",
    "from matplotlib.gridspec import GridSpec\n",
    "\n",
    "\n",
    "cm = 1/2.54\n",
    "\n",
    "plt.rcParams[\"axes.edgecolor\"] = \"black\"\n",
    "plt.rcParams[\"axes.linewidth\"] = 1\n",
    "plt.rcParams[\"axes.facecolor\"] = 'white'\n",
    "\n",
    "import matplotlib as mpl\n",
    "import numpy as np\n",
    "from matplotlib import pyplot as plt\n",
    "\n",
    "mpl.rcParams[\"mathtext.fontset\"] = \"stix\"\n",
    "mpl.rcParams['pdf.fonttype'] = 42"
   ]
  },
  {
   "cell_type": "markdown",
   "metadata": {},
   "source": [
    "For guidance, Nature’s standard figure sizes are 89 mm (single column) and 183 mm (double column) and the full depth of the page is 247 mm."
   ]
  },
  {
   "cell_type": "code",
   "execution_count": 3,
   "metadata": {},
   "outputs": [],
   "source": [
    "meta = pd.read_csv('sim_output/meta.tab.gz', sep='\\t')\n",
    "meta.index=['cell_'+str(i+1) for i in range(1000)]\n",
    "\n",
    "pop_1 = meta.loc[meta['pop'] == '3_1'].index\n",
    "pop_2 = meta.loc[meta['pop'] == '3_2'].index\n",
    "labels = [pop_1, pop_2]"
   ]
  },
  {
   "cell_type": "code",
   "execution_count": 7,
   "metadata": {},
   "outputs": [],
   "source": [
    "from scipy.stats import kruskal\n",
    "from statsmodels.stats.multitest import multipletests\n",
    "\n",
    "\n",
    "def run_kw(exon_psi, labels):\n",
    "    kw_input = []\n",
    "    for l in labels:\n",
    "        kw_input.append(list(exon_psi[l]))\n",
    "        \n",
    "    if len(labels) == 2:\n",
    "        return kruskal(kw_input[0], kw_input[1], nan_policy='omit')\n",
    "    if len(labels) == 3:\n",
    "        return kruskal(kw_input[0], kw_input[1], kw_input[2], nan_policy='omit')\n",
    "    if len(labels) == 4:\n",
    "        return kruskal(kw_input[0], kw_input[1], kw_input[2], kw_input[3], nan_policy='omit')\n",
    "    if len(labels) == 5:\n",
    "        return kruskal(kw_input[0], kw_input[1], kw_input[2], kw_input[3], kw_input[4], nan_policy='omit')\n",
    "    if len(labels) == 6:\n",
    "        return kruskal(kw_input[0], kw_input[1], kw_input[2], kw_input[3], kw_input[4], kw_input[5], nan_policy='omit')\n",
    "    if len(labels) == 7:\n",
    "        return kruskal(kw_input[0], kw_input[1], kw_input[2], kw_input[3], kw_input[4], kw_input[5], kw_input[6], nan_policy='omit')\n",
    "    if len(labels) == 8:\n",
    "        return kruskal(kw_input[0], kw_input[1], kw_input[2], kw_input[3], kw_input[4], kw_input[5], kw_input[6], kw_input[7], nan_policy='omit')\n",
    "    \n",
    "def run_kw_dset(psi_table, labels, exon_list):\n",
    "    kw_output = pd.DataFrame()\n",
    "    kw_score = []\n",
    "    pvals = []\n",
    "    for exon in tqdm(exon_list, position=0, leave=True):\n",
    "        score, p = run_kw(psi_table.loc[exon], labels)\n",
    "        kw_score.append(score)\n",
    "        pvals.append(p)\n",
    "    kw_output['KW_score'] = kw_score\n",
    "    kw_output['pvals'] = pvals\n",
    "    kw_output['qvals'] = multipletests(pvals, method='fdr_bh')[1]\n",
    "    kw_output.index = exon_list\n",
    "    return kw_output\n",
    "\n"
   ]
  },
  {
   "cell_type": "code",
   "execution_count": 8,
   "metadata": {},
   "outputs": [
    {
     "name": "stderr",
     "output_type": "stream",
     "text": [
      "100%|██████████| 3486/3486 [00:25<00:00, 136.25it/s]\n"
     ]
    }
   ],
   "source": [
    "psix_single_lineage_1 = psix.Psix()\n",
    "psix_single_lineage_1.junctions2psi(\n",
    "        'processed_tables/splice_junction_counts_0.1.tab.gz',\n",
    "        '',\n",
    "        'processed_tables/tpm_0.1.tab.gz',\n",
    "        save_files_in='psix_output/psix_object_0.1/')\n",
    "\n",
    "psix_single_lineage_1.run_psix(latent='processed_tables/pc2_rd.tab.gz', n_jobs=25,\n",
    "                                n_random_exons=2000, n_neighbors=100)\n",
    "\n",
    "psix_results_1 = psix_single_lineage_1.psix_results\n",
    "\n",
    "kw_1 = run_kw_dset(psix_single_lineage_1.adata.uns['psi'][psix_results_1.index].T, \n",
    "                         labels, psix_results_1.index)\n",
    "\n",
    "gearyc_1 = pd.read_csv('gearyc/gearyc_0.1.tab.gz', sep='\\t', index_col=0)"
   ]
  },
  {
   "cell_type": "code",
   "execution_count": 9,
   "metadata": {},
   "outputs": [
    {
     "name": "stdout",
     "output_type": "stream",
     "text": [
      "Collecting splice junctions...\n",
      "Obtaining PSI tables...\n",
      "Reading TPM and transforming to mRNA counts...\n"
     ]
    },
    {
     "name": "stderr",
     "output_type": "stream",
     "text": [
      "100%|██████████| 1000/1000 [00:17<00:00, 57.93it/s]\n"
     ]
    },
    {
     "name": "stdout",
     "output_type": "stream",
     "text": [
      "Successfully processed RNA-seq data\n",
      "Computing cell-cell metric...\n"
     ]
    },
    {
     "name": "stderr",
     "output_type": "stream",
     "text": [
      "100%|██████████| 1000/1000 [00:00<00:00, 7503.62it/s]"
     ]
    },
    {
     "name": "stdout",
     "output_type": "stream",
     "text": [
      "Successfully computed cell-cell metric\n",
      "Computing Psix score in 3244 exons\n"
     ]
    },
    {
     "name": "stderr",
     "output_type": "stream",
     "text": [
      "\n",
      "100%|██████████| 3244/3244 [00:29<00:00, 109.01it/s] \n"
     ]
    },
    {
     "name": "stdout",
     "output_type": "stream",
     "text": [
      "Successfully computed Psix score of exons.\n",
      "Estimating p-values. This might take a while...\n"
     ]
    },
    {
     "name": "stderr",
     "output_type": "stream",
     "text": [
      "100%|██████████| 25/25 [09:21<00:00, 22.46s/it]  \n",
      "  0%|          | 9/3244 [00:00<00:36, 88.97it/s]"
     ]
    },
    {
     "name": "stdout",
     "output_type": "stream",
     "text": [
      "Successfully estimated p-values\n"
     ]
    },
    {
     "name": "stderr",
     "output_type": "stream",
     "text": [
      "100%|██████████| 3244/3244 [00:24<00:00, 135.01it/s]\n"
     ]
    }
   ],
   "source": [
    "psix_single_lineage_05 = psix.Psix()\n",
    "psix_single_lineage_05.junctions2psi(\n",
    "        'processed_tables/splice_junction_counts_0.05.tab.gz',\n",
    "        '',\n",
    "        'processed_tables/tpm_0.05.tab.gz',\n",
    "        save_files_in='psix_output/psix_object_0.05/')\n",
    "\n",
    "\n",
    "psix_single_lineage_05.run_psix(latent='processed_tables/pc2_rd.tab.gz', n_jobs=25,\n",
    "                                n_random_exons=2000, n_neighbors=100)\n",
    "\n",
    "psix_results_05 = psix_single_lineage_05.psix_results\n",
    "\n",
    "kw_05 = run_kw_dset(psix_single_lineage_05.adata.uns['psi'][psix_results_05.index].T, \n",
    "                         labels, psix_results_05.index)\n",
    "\n",
    "gearyc_05 = pd.read_csv('gearyc/gearyc_0.05.tab.gz', sep='\\t', index_col=0)"
   ]
  },
  {
   "cell_type": "code",
   "execution_count": 10,
   "metadata": {},
   "outputs": [
    {
     "name": "stdout",
     "output_type": "stream",
     "text": [
      "Collecting splice junctions...\n",
      "Obtaining PSI tables...\n",
      "Reading TPM and transforming to mRNA counts...\n"
     ]
    },
    {
     "name": "stderr",
     "output_type": "stream",
     "text": [
      "100%|██████████| 1000/1000 [00:13<00:00, 73.82it/s]\n"
     ]
    },
    {
     "name": "stdout",
     "output_type": "stream",
     "text": [
      "Successfully processed RNA-seq data\n",
      "Computing cell-cell metric...\n"
     ]
    },
    {
     "name": "stderr",
     "output_type": "stream",
     "text": [
      "100%|██████████| 1000/1000 [00:00<00:00, 8282.00it/s]"
     ]
    },
    {
     "name": "stdout",
     "output_type": "stream",
     "text": [
      "Successfully computed cell-cell metric\n",
      "Computing Psix score in 2097 exons\n"
     ]
    },
    {
     "name": "stderr",
     "output_type": "stream",
     "text": [
      "\n",
      "100%|██████████| 2097/2097 [00:17<00:00, 118.69it/s] \n"
     ]
    },
    {
     "name": "stdout",
     "output_type": "stream",
     "text": [
      "Successfully computed Psix score of exons.\n",
      "Estimating p-values. This might take a while...\n"
     ]
    },
    {
     "name": "stderr",
     "output_type": "stream",
     "text": [
      "100%|██████████| 25/25 [07:43<00:00, 18.53s/it]  \n",
      "  1%|          | 18/2097 [00:00<00:11, 179.43it/s]"
     ]
    },
    {
     "name": "stdout",
     "output_type": "stream",
     "text": [
      "Successfully estimated p-values\n"
     ]
    },
    {
     "name": "stderr",
     "output_type": "stream",
     "text": [
      "100%|██████████| 2097/2097 [00:12<00:00, 161.41it/s]\n"
     ]
    }
   ],
   "source": [
    "psix_single_lineage_01 = psix.Psix()\n",
    "psix_single_lineage_01.junctions2psi(\n",
    "        'processed_tables/splice_junction_counts_0.01.tab.gz',\n",
    "        '',\n",
    "        'processed_tables/tpm_0.01.tab.gz',\n",
    "        save_files_in='psix_output/psix_object_0.01/')\n",
    "\n",
    "\n",
    "psix_single_lineage_01.run_psix(latent='processed_tables/pc2_rd.tab.gz', n_jobs=25,\n",
    "                                n_random_exons=2000, n_neighbors=100)\n",
    "\n",
    "psix_results_01 = psix_single_lineage_01.psix_results\n",
    "\n",
    "kw_01 = run_kw_dset(psix_single_lineage_01.adata.uns['psi'][psix_results_01.index].T, \n",
    "                         labels, psix_results_01.index)\n",
    "\n",
    "gearyc_01 = pd.read_csv('gearyc/gearyc_0.01.tab.gz', sep='\\t', index_col=0)"
   ]
  },
  {
   "cell_type": "code",
   "execution_count": 19,
   "metadata": {},
   "outputs": [],
   "source": [
    "from scipy.special import logit, expit\n",
    "from sklearn.metrics import precision_recall_curve\n",
    "from sklearn.metrics import recall_score\n",
    "from sklearn.metrics import f1_score\n",
    "from sklearn.metrics import auc\n",
    "\n",
    "\n",
    "\n",
    "\n",
    "platonic_psi = pd.read_csv('sim_output/psi_platonic.tab.gz', sep='\\t', \n",
    "                               names = ['cell_'+str(i+1) for i in range(1000)])\n",
    "platonic_psi.index = ['gene' + str(i+1) for i in range(5000)]\n",
    "\n",
    "platonic_psi = expit(platonic_psi)\n",
    "\n",
    "\n",
    "def get_random_samples(psix_results, kw, gearyc):\n",
    "    \n",
    "    pos = pd.Index(['gene' + str(i) for i in range(1, 2501)]) & psix_results.index\n",
    "    neg = pd.Index(['gene' + str(i) for i in range(2501, 5001)]) & psix_results.index\n",
    "\n",
    "    psix_auc = []\n",
    "    kw_auc = []\n",
    "    gearyc_auc = []\n",
    "\n",
    "    for i in tqdm(range(200)):\n",
    "\n",
    "        pos_sample = np.random.choice(pos, int(len(pos)*0.2), replace=False)\n",
    "        neg_sample = np.random.choice(neg, int(len(neg)*0.2), replace=False)\n",
    "\n",
    "        labels = [1]*len(pos_sample) + [0]*len(neg_sample)\n",
    "        order = list(pos_sample) + list(neg_sample)\n",
    "\n",
    "\n",
    "        y_ = list(((platonic_psi.max(axis=1) - platonic_psi.min(axis=1)) >= 0.2).astype(int).loc[order])\n",
    "\n",
    "\n",
    "        pre, rec, thres = precision_recall_curve(y_, psix_results.loc[order].psix_score)\n",
    "        pre_kw, rec_kw, thres_kw = precision_recall_curve(y_, kw.loc[order].KW_score)\n",
    "        pre_c, rec_c, thres_c = precision_recall_curve(y_, gearyc.loc[order].C_score)\n",
    "\n",
    "        psix_auc.append(auc(rec, pre))\n",
    "        kw_auc.append(auc(rec_kw, pre_kw))\n",
    "        gearyc_auc.append(auc(rec_c, pre_c))\n",
    "        \n",
    "    return psix_auc, kw_auc, gearyc_auc"
   ]
  },
  {
   "cell_type": "code",
   "execution_count": 20,
   "metadata": {},
   "outputs": [
    {
     "name": "stderr",
     "output_type": "stream",
     "text": [
      "100%|██████████| 200/200 [00:06<00:00, 32.79it/s]\n",
      "100%|██████████| 200/200 [00:05<00:00, 33.34it/s]\n",
      "100%|██████████| 200/200 [00:06<00:00, 32.27it/s]\n"
     ]
    }
   ],
   "source": [
    "psix_1_auc, kw_1_auc, gearyc_1_auc = get_random_samples(psix_results_1, kw_1, gearyc_1)\n",
    "psix_05_auc, kw_05_auc, gearyc_05_auc = get_random_samples(psix_results_05, kw_05, gearyc_05)\n",
    "psix_01_auc, kw_01_auc, gearyc_01_auc = get_random_samples(psix_results_01, kw_01, gearyc_01)"
   ]
  },
  {
   "cell_type": "code",
   "execution_count": 22,
   "metadata": {},
   "outputs": [
    {
     "data": {
      "image/png": "[encoded data removed]",
      "text/plain": [
       "<Figure size 180x120 with 1 Axes>"
      ]
     },
     "metadata": {
      "needs_background": "light"
     },
     "output_type": "display_data"
    }
   ],
   "source": [
    "fig = plt.figure(figsize=(6/2.4, 4/2.4))\n",
    "# gs = GridSpec(1,7)\n",
    "# gs.update(wspace=0.05, hspace=0.10)\n",
    "ax = fig.add_subplot(111)\n",
    "# ax_2 = fig.add_subplot(gs[0,4:7])# option 1, specify props dictionaries\n",
    "\n",
    "ax.boxplot([psix_1_auc, psix_05_auc, psix_01_auc], positions=[1,5,9], notch=True, patch_artist=True,\n",
    "            boxprops=dict(facecolor='skyblue', color='navy'),\n",
    "            capprops=dict(color='black'),\n",
    "            whiskerprops=dict(color='black'),\n",
    "            flierprops=dict(color='black', markeredgecolor='black'),\n",
    "            medianprops=dict(color='navy'), showfliers=False\n",
    "            )\n",
    "\n",
    "ax.boxplot([kw_1_auc, kw_05_auc, kw_01_auc], positions=[1.75,5.75,9.75], notch=True, patch_artist=True,\n",
    "            boxprops=dict(facecolor='darkorange', color='darkred'),\n",
    "            capprops=dict(color='black'),\n",
    "            whiskerprops=dict(color='black'),\n",
    "            flierprops=dict(color='black', markeredgecolor='black'),\n",
    "            medianprops=dict(color='darkred'), showfliers=False\n",
    "            )\n",
    "\n",
    "ax.boxplot([gearyc_1_auc, gearyc_05_auc, gearyc_01_auc], positions=[2.5,6.5,10.5], notch=True, patch_artist=True,\n",
    "            boxprops=dict(facecolor='limegreen', color='darkgreen'),\n",
    "            capprops=dict(color='black'),\n",
    "            whiskerprops=dict(color='black'),\n",
    "            flierprops=dict(color='black', markeredgecolor='black'),\n",
    "            medianprops=dict(color='darkgreen'), showfliers=False\n",
    "            )\n",
    "\n",
    "ax.set_xticks([1.75, 5.75, 9.75])\n",
    "ax.set_xticklabels(['0.1', '0.05', '0.01'], size=8)\n",
    "ax.set_xlabel('Capture efficiency', size=8)\n",
    "\n",
    "ax.set_yticks([0.85, 0.9, 0.95])\n",
    "ax.set_yticklabels(['0.85', '0.90', '0.95'], size=8)\n",
    "ax.set_ylabel('Precision-recall AUC', size=8)\n",
    "\n",
    "ax.spines[\"right\"].set_visible(False)\n",
    "ax.spines[\"top\"].set_visible(False)\n",
    "\n",
    "ax.set_xlim([-0.5, 12])\n",
    "\n",
    "plt.savefig('../plots/single_lineage_auc.png', bbox_inches='tight', res=20000, dpi =2000)\n",
    "# plt.show()"
   ]
  },
  {
   "cell_type": "code",
   "execution_count": 23,
   "metadata": {},
   "outputs": [
    {
     "data": {
      "image/png": "[encoded data removed]",
      "text/plain": [
       "<Figure size 180x120 with 1 Axes>"
      ]
     },
     "metadata": {
      "needs_background": "light"
     },
     "output_type": "display_data"
    }
   ],
   "source": [
    "pos = pd.Index(['gene' + str(i) for i in range(1, 2501)]) & psix_results_1.index\n",
    "neg = pd.Index(['gene' + str(i) for i in range(2501, 5001)]) & psix_results_1.index\n",
    "\n",
    "\n",
    "fig = plt.figure(figsize=(6/2.4, 4/2.4))\n",
    "\n",
    "ax = fig.add_subplot(111)\n",
    "ax.plot(sorted(np.arange(0+(1/len(neg)), 1+(1/len(neg)), step = 1/len(neg))),\n",
    "            sorted(np.arange(0+(1/len(neg)), 1+(1/len(neg)), step = 1/len(neg))), c='red',\n",
    "        linestyle='--')\n",
    "\n",
    "ax.plot(sorted(np.arange(0+(1/len(neg)), 1+(1/len(neg)), step = 1/len(neg))),\n",
    "            sorted(psix_results_1.loc[neg].pvals), label='Psix', linewidth=2, c='royalblue')\n",
    "\n",
    "ax.plot(sorted(np.arange(0+(1/len(neg)), 1+(1/len(neg)), step = 1/len(neg))),\n",
    "            sorted(kw_1.loc[neg].pvals), label='Kruskal-Wallis', linewidth=2, c='darkorange')\n",
    "\n",
    "ax.plot(sorted(np.arange(0+(1/len(neg)), 1+(1/len(neg)), step = 1/len(neg))),\n",
    "            sorted(gearyc_1.loc[neg].pvals), label=\"Geary's C\", linewidth=2, c='forestgreen')\n",
    "\n",
    "\n",
    "ax.set_xticks([0, 0.25, 0.5, 0.75, 1])\n",
    "ax.set_xticklabels(['0.0', '0.25', '0.5', '0.75', '1.0'], size=8)\n",
    "ax.set_xlabel('Quantiles', size=8)\n",
    "\n",
    "ax.set_yticks([0, 0.25, 0.5, 0.75, 1])\n",
    "ax.set_yticklabels(['0.0', '0.25', '0.5', '0.75', '1.0'], size=8)\n",
    "ax.set_ylabel('p-values (null)', size=8)\n",
    "\n",
    "ax.spines[\"right\"].set_visible(False)\n",
    "ax.spines[\"top\"].set_visible(False)\n",
    "\n",
    "ax.legend(frameon=False, fontsize=8)\n",
    "\n",
    "plt.savefig('../plots/single_lineage_pvals.png', bbox_inches='tight', res=20000, dpi =2000)"
   ]
  },
  {
   "cell_type": "code",
   "execution_count": 25,
   "metadata": {},
   "outputs": [
    {
     "data": {
      "image/png": "[encoded data removed]",
      "text/plain": [
       "<Figure size 75x75 with 2 Axes>"
      ]
     },
     "metadata": {
      "needs_background": "light"
     },
     "output_type": "display_data"
    }
   ],
   "source": [
    "rd = pd.read_csv('processed_tables/pc2_rd.tab.gz', sep='\\t', index_col=0)\n",
    "\n",
    "fig = plt.figure(figsize=(2.5/2.4, 2.5/2.4))\n",
    "ax = fig.add_subplot(111)\n",
    "\n",
    "sc = ax.scatter(-rd.PC_1, -rd.PC_2, c=meta.lineage_depth, cmap='inferno', vmin=0, s=20, linewidth=0)\n",
    "cb = plt.colorbar(sc, shrink = 0.8, aspect=10, orientation=\"horizontal\")\n",
    "cb.set_label(label='Pseudotime',size=8)\n",
    "cb.outline.set_visible(False)\n",
    "cb.ax.tick_params(labelsize=0, length=0)\n",
    "\n",
    "plt.tick_params(\n",
    "    axis='both',          # changes apply to the x-axis\n",
    "    which='both',      # both major and minor ticks are affected\n",
    "    bottom=False,\n",
    "    left = False,\n",
    "    right = False, # ticks along the bottom edge are off\n",
    "    top=False,         # ticks along the top edge are off\n",
    "    labelbottom=False,\n",
    "labelleft=False)\n",
    "\n",
    "ax.spines[\"right\"].set_visible(False)\n",
    "ax.spines[\"top\"].set_visible(False)\n",
    "\n",
    "plt.savefig('../plots/single_lineage.png', bbox_inches='tight', res=20000, dpi =2000)"
   ]
  },
  {
   "cell_type": "code",
   "execution_count": 28,
   "metadata": {},
   "outputs": [],
   "source": [
    "underlying_psi = pd.read_csv('sim_output/psi_underlying.tab.gz', sep='\\t', \n",
    "                               names = ['cell_'+str(i+1) for i in range(1000)])\n",
    "underlying_psi.index = ['gene' + str(i+1) for i in range(5000)]\n",
    "underlying_psi = expit(underlying_psi)"
   ]
  },
  {
   "cell_type": "code",
   "execution_count": 30,
   "metadata": {},
   "outputs": [
    {
     "data": {
      "image/png": "[encoded data removed]",
      "text/plain": [
       "<Figure size 75x75 with 2 Axes>"
      ]
     },
     "metadata": {
      "needs_background": "light"
     },
     "output_type": "display_data"
    }
   ],
   "source": [
    "rd = pd.read_csv('processed_tables/pc2_rd.tab.gz', sep='\\t', index_col=0)\n",
    "\n",
    "# pos = pd.Index(['gene' + str(i) for i in range(1, 2501)]) & psix_results_1.index\n",
    "# neg = pd.Index(['gene' + str(i) for i in range(2501, 5001)]) & psix_results_1.index\n",
    "\n",
    "\n",
    "fig = plt.figure(figsize=(2.5/2.4, 2.5/2.4))\n",
    "ax = fig.add_subplot(111)\n",
    "\n",
    "sc = ax.scatter(-rd.PC_1, -rd.PC_2, c=psix_single_lineage_1.adata.uns['psi']['gene316'], vmin=0, vmax=1, s=10, linewidth=0)\n",
    "cb = plt.colorbar(sc, shrink = 0.8, aspect=10, orientation=\"horizontal\")\n",
    "cb.set_label(label='$\\Psi$',size=8)\n",
    "cb.outline.set_visible(False)\n",
    "cb.ax.tick_params(labelsize=8, length=2)\n",
    "\n",
    "\n",
    "# plt.title('Positives')\n",
    "# ax.tick_params(labelsize=8, length=1)\n",
    "\n",
    "plt.tick_params(\n",
    "    axis='both',          # changes apply to the x-axis\n",
    "    which='both',      # both major and minor ticks are affected\n",
    "    bottom=False,\n",
    "    left = False,\n",
    "    right = False, # ticks along the bottom edge are off\n",
    "    top=False,         # ticks along the top edge are off\n",
    "    labelbottom=False,\n",
    "labelleft=False)\n",
    "\n",
    "\n",
    "ax.spines[\"right\"].set_visible(False)\n",
    "ax.spines[\"top\"].set_visible(False)\n",
    "\n",
    "plt.savefig('../plots/positive_pca.png', bbox_inches='tight', res=20000, dpi =2000)"
   ]
  },
  {
   "cell_type": "code",
   "execution_count": 31,
   "metadata": {},
   "outputs": [
    {
     "data": {
      "image/png": "[encoded data removed]",
      "text/plain": [
       "<Figure size 75x75 with 2 Axes>"
      ]
     },
     "metadata": {
      "needs_background": "light"
     },
     "output_type": "display_data"
    }
   ],
   "source": [
    "rd = pd.read_csv('processed_tables/pc2_rd.tab.gz', sep='\\t', index_col=0)\n",
    "\n",
    "pos = pd.Index(['gene' + str(i) for i in range(1, 2501)]) & psix_results_1.index\n",
    "neg = pd.Index(['gene' + str(i) for i in range(2501, 5001)]) & psix_results_1.index\n",
    "\n",
    "\n",
    "fig = plt.figure(figsize=(2.5/2.4, 2.5/2.4))\n",
    "ax = fig.add_subplot(111)\n",
    "\n",
    "sc = ax.scatter(-rd.PC_1, -rd.PC_2, c=psix_single_lineage_1.adata.uns['psi']['gene4452'], vmin=0, vmax=1, s=10, linewidth=0)\n",
    "cb = plt.colorbar(sc, shrink = 0.8, aspect=10, orientation=\"horizontal\")\n",
    "cb.set_label(label='$\\Psi$',size=8)\n",
    "cb.outline.set_visible(False)\n",
    "cb.ax.tick_params(labelsize=8, length=2)\n",
    "\n",
    "\n",
    "# plt.title('Positives')\n",
    "# ax.tick_params(labelsize=8, length=1)\n",
    "\n",
    "plt.tick_params(\n",
    "    axis='both',          # changes apply to the x-axis\n",
    "    which='both',      # both major and minor ticks are affected\n",
    "    bottom=False,\n",
    "    left = False,\n",
    "    right = False, # ticks along the bottom edge are off\n",
    "    top=False,         # ticks along the top edge are off\n",
    "    labelbottom=False,\n",
    "labelleft=False)\n",
    "\n",
    "\n",
    "ax.spines[\"right\"].set_visible(False)\n",
    "ax.spines[\"top\"].set_visible(False)\n",
    "\n",
    "plt.savefig('../plots/negative_pca.png', bbox_inches='tight', res=20000, dpi =2000)"
   ]
  },
  {
   "cell_type": "code",
   "execution_count": 32,
   "metadata": {},
   "outputs": [
    {
     "data": {
      "image/png": "[encoded data removed]",
      "text/plain": [
       "<Figure size 75x60 with 1 Axes>"
      ]
     },
     "metadata": {},
     "output_type": "display_data"
    }
   ],
   "source": [
    "# rd = pd.read_csv('single_lineage/processed_tables/pc2_rd.tab.gz', sep='\\t', index_col=0)\n",
    "\n",
    "# pos = pd.Index(['gene' + str(i) for i in range(1, 2501)]) & psix_results_1.index\n",
    "# neg = pd.Index(['gene' + str(i) for i in range(2501, 5001)]) & psix_results_1.index\n",
    "\n",
    "\n",
    "fig = plt.figure(figsize=(2.5/2.4, 2/2.4))\n",
    "ax = fig.add_subplot(111)\n",
    "\n",
    "ax.scatter(meta.lineage_depth, underlying_psi.loc['gene316'], c='steelblue', s=5, linewidth=0)\n",
    "ax.plot(meta.sort_values('lineage_depth').lineage_depth, \n",
    "        platonic_psi.loc['gene316', meta.sort_values('lineage_depth').index], c='darkred')\n",
    "\n",
    "\n",
    "ax.set_xlabel('Lineage', size=8)\n",
    "ax.set_ylabel('exon $\\Psi$', size=8)\n",
    "# ax.tick_params(labelsize=8, length=1)\n",
    "\n",
    "plt.tick_params(\n",
    "    axis='both',          # changes apply to the x-axis\n",
    "    which='both',      # both major and minor ticks are affected\n",
    "    bottom=False,\n",
    "    left = False,\n",
    "    right = False, # ticks along the bottom edge are off\n",
    "    top=False,         # ticks along the top edge are off\n",
    "    labelbottom=False,\n",
    "labelleft=False)\n",
    "\n",
    "\n",
    "ax.spines[\"right\"].set_visible(False)\n",
    "ax.spines[\"top\"].set_visible(False)\n",
    "ax.set_ylim(-0.05, 1.05)\n",
    "\n",
    "plt.savefig('../plots/positive_psi.png', bbox_inches='tight', res=20000, dpi =2000)"
   ]
  },
  {
   "cell_type": "code",
   "execution_count": 33,
   "metadata": {},
   "outputs": [
    {
     "data": {
      "image/png": "[encoded data removed]",
      "text/plain": [
       "<Figure size 75x60 with 1 Axes>"
      ]
     },
     "metadata": {},
     "output_type": "display_data"
    }
   ],
   "source": [
    "# rd = pd.read_csv('single_lineage/processed_tables/pc2_rd.tab.gz', sep='\\t', index_col=0)\n",
    "\n",
    "# pos = pd.Index(['gene' + str(i) for i in range(1, 2501)]) & psix_results_1.index\n",
    "# neg = pd.Index(['gene' + str(i) for i in range(2501, 5001)]) & psix_results_1.index\n",
    "\n",
    "\n",
    "fig = plt.figure(figsize=(2.5/2.4, 2/2.4))\n",
    "ax = fig.add_subplot(111)\n",
    "\n",
    "ax.scatter(meta.lineage_depth, underlying_psi.loc['gene4452'], c='steelblue', s=5, linewidth=0)\n",
    "ax.plot(meta.sort_values('lineage_depth').lineage_depth, \n",
    "        platonic_psi.loc['gene4452', meta.sort_values('lineage_depth').index], c='darkred')\n",
    "\n",
    "\n",
    "ax.set_xlabel('Lineage', size=8)\n",
    "ax.set_ylabel('exon $\\Psi$', size=8)\n",
    "# ax.tick_params(labelsize=8, length=1)\n",
    "\n",
    "plt.tick_params(\n",
    "    axis='both',          # changes apply to the x-axis\n",
    "    which='both',      # both major and minor ticks are affected\n",
    "    bottom=False,\n",
    "    left = False,\n",
    "    right = False, # ticks along the bottom edge are off\n",
    "    top=False,         # ticks along the top edge are off\n",
    "    labelbottom=False,\n",
    "labelleft=False)\n",
    "\n",
    "\n",
    "ax.spines[\"right\"].set_visible(False)\n",
    "ax.spines[\"top\"].set_visible(False)\n",
    "ax.set_ylim(-0.05, 1.05)\n",
    "\n",
    "\n",
    "plt.savefig('../plots/negative_psi.png', bbox_inches='tight', res=20000, dpi =2000)"
   ]
  },
  {
   "cell_type": "code",
   "execution_count": 34,
   "metadata": {},
   "outputs": [],
   "source": [
    "gene_expression = pd.read_csv('sim_output/gene_counts.tab.gz', sep='\\t', \n",
    "                               names = ['cell_'+str(i+1) for i in range(1000)])\n",
    "gene_expression.index = ['gene' + str(i+1) for i in range(5000)]\n",
    "\n",
    "# gene_expression = expit(ungene_expression)\n"
   ]
  },
  {
   "cell_type": "code",
   "execution_count": 35,
   "metadata": {},
   "outputs": [
    {
     "data": {
      "image/png": "[encoded data removed]",
      "text/plain": [
       "<Figure size 75x60 with 1 Axes>"
      ]
     },
     "metadata": {},
     "output_type": "display_data"
    }
   ],
   "source": [
    "\n",
    "# pos = pd.Index(['gene' + str(i) for i in range(1, 2501)]) & psix_results_1.index\n",
    "# neg = pd.Index(['gene' + str(i) for i in range(2501, 5001)]) & psix_results_1.index\n",
    "\n",
    "\n",
    "fig = plt.figure(figsize=(2.5/2.4, 2/2.4))\n",
    "ax = fig.add_subplot(111)\n",
    "\n",
    "ax.scatter(meta.lineage_depth, np.log1p(gene_expression.loc['gene316']), c='steelblue', s=5, linewidth=0)\n",
    "# ax.plot(meta.sort_values('lineage_depth').lineage_depth, \n",
    "#        gene_expression.loc['gene316', meta.sort_values('lineage_depth').index], c='darkred')\n",
    "\n",
    "\n",
    "ax.set_xlabel('Lineage', size=8)\n",
    "ax.set_ylabel('gene expression', size=8)\n",
    "# ax.tick_params(labelsize=8, length=1)\n",
    "\n",
    "plt.tick_params(\n",
    "    axis='both',          # changes apply to the x-axis\n",
    "    which='both',      # both major and minor ticks are affected\n",
    "    bottom=False,\n",
    "    left = False,\n",
    "    right = False, # ticks along the bottom edge are off\n",
    "    top=False,         # ticks along the top edge are off\n",
    "    labelbottom=False,\n",
    "labelleft=False)\n",
    "\n",
    "\n",
    "ax.spines[\"right\"].set_visible(False)\n",
    "ax.spines[\"top\"].set_visible(False)\n",
    "# ax.set_ylim(-0.05, 1.05)\n",
    "\n",
    "plt.savefig('../plots/positive_gene.png', bbox_inches='tight', res=20000, dpi =2000)"
   ]
  },
  {
   "cell_type": "code",
   "execution_count": 36,
   "metadata": {},
   "outputs": [
    {
     "data": {
      "image/png": "[encoded data removed]",
      "text/plain": [
       "<Figure size 75x60 with 1 Axes>"
      ]
     },
     "metadata": {},
     "output_type": "display_data"
    }
   ],
   "source": [
    "\n",
    "# pos = pd.Index(['gene' + str(i) for i in range(1, 2501)]) & psix_results_1.index\n",
    "# neg = pd.Index(['gene' + str(i) for i in range(2501, 5001)]) & psix_results_1.index\n",
    "\n",
    "\n",
    "fig = plt.figure(figsize=(2.5/2.4, 2/2.4))\n",
    "ax = fig.add_subplot(111)\n",
    "\n",
    "ax.scatter(meta.lineage_depth, np.log1p(gene_expression.loc['gene4452']), c='steelblue', s=5, linewidth=0)\n",
    "# ax.plot(meta.sort_values('lineage_depth').lineage_depth, \n",
    "#        gene_expression.loc['gene316', meta.sort_values('lineage_depth').index], c='darkred')\n",
    "\n",
    "\n",
    "ax.set_xlabel('Lineage', size=8)\n",
    "ax.set_ylabel('gene expression', size=8)\n",
    "# ax.tick_params(labelsize=8, length=1)\n",
    "\n",
    "plt.tick_params(\n",
    "    axis='both',          # changes apply to the x-axis\n",
    "    which='both',      # both major and minor ticks are affected\n",
    "    bottom=False,\n",
    "    left = False,\n",
    "    right = False, # ticks along the bottom edge are off\n",
    "    top=False,         # ticks along the top edge are off\n",
    "    labelbottom=False,\n",
    "labelleft=False)\n",
    "\n",
    "\n",
    "ax.spines[\"right\"].set_visible(False)\n",
    "ax.spines[\"top\"].set_visible(False)\n",
    "# ax.set_ylim(-0.05, 1.05)\n",
    "\n",
    "plt.savefig('../plots/negative_gene.png', bbox_inches='tight', res=20000, dpi =2000)"
   ]
  },
  {
   "cell_type": "code",
   "execution_count": 39,
   "metadata": {},
   "outputs": [],
   "source": [
    "import os \n",
    "\n",
    "# psix_single_lineage_1.run_psix(latent='processed_tables/pc2_rd.tab.gz', n_jobs=25,\n",
    "#                                 n_random_exons=2000, n_neighbors=5)\n",
    "# psix_single_lineage_1.psix_results.to_csv('k_sensitivity/k_5.tab.gz', sep='\\t', index=True, header=True)\n",
    "\n",
    "# psix_single_lineage_1.run_psix(latent='processed_tables/pc2_rd.tab.gz', n_jobs=25,\n",
    "#                                 n_random_exons=2000, n_neighbors=10)\n",
    "# psix_single_lineage_1.psix_results.to_csv('k_sensitivity/k_10.tab.gz', sep='\\t', index=True, header=True)\n",
    "\n",
    "\n",
    "# psix_single_lineage_1.run_psix(latent='processed_tables/pc2_rd.tab.gz', n_jobs=25,\n",
    "#                                 n_random_exons=2000, n_neighbors=20)\n",
    "# psix_single_lineage_1.psix_results.to_csv('k_sensitivity/k_20.tab.gz', sep='\\t', index=True, header=True)\n",
    "\n",
    "\n",
    "# psix_single_lineage_1.run_psix(latent='processed_tables/pc2_rd.tab.gz', n_jobs=25,\n",
    "#                                 n_random_exons=2000, n_neighbors=30)\n",
    "# psix_single_lineage_1.psix_results.to_csv('k_sensitivity/k_30.tab.gz', sep='\\t', index=True, header=True)\n",
    "\n",
    "# psix_single_lineage_1.run_psix(latent='processed_tables/pc2_rd.tab.gz', n_jobs=25,\n",
    "#                                 n_random_exons=2000, n_neighbors=50)\n",
    "# psix_single_lineage_1.psix_results.to_csv('k_sensitivity/k_50.tab.gz', sep='\\t', index=True, header=True)\n",
    "\n",
    "# psix_single_lineage_1.run_psix(latent='processed_tables/pc2_rd.tab.gz', n_jobs=25,\n",
    "#                                 n_random_exons=2000, n_neighbors=100)\n",
    "# psix_single_lineage_1.psix_results.to_csv('k_sensitivity/k_100.tab.gz', sep='\\t', index=True, header=True)\n",
    "\n",
    "# psix_single_lineage_1.run_psix(latent='processed_tables/pc2_rd.tab.gz', n_jobs=25,\n",
    "#                                 n_random_exons=2000, n_neighbors=150)\n",
    "# psix_single_lineage_1.psix_results.to_csv('k_sensitivity/k_150.tab.gz', sep='\\t', index=True, header=True)\n",
    "\n",
    "# psix_single_lineage_1.run_psix(latent='processed_tables/pc2_rd.tab.gz', n_jobs=25,\n",
    "#                                 n_random_exons=2000, n_neighbors=200)\n",
    "# psix_single_lineage_1.psix_results.to_csv('k_sensitivity/k_200.tab.gz', sep='\\t', index=True, header=True)\n",
    "\n",
    "# psix_single_lineage_1.run_psix(latent='processed_tables/pc2_rd.tab.gz', n_jobs=25,\n",
    "#                                 n_random_exons=2000, n_neighbors=250)\n",
    "# psix_single_lineage_1.psix_results.to_csv('k_sensitivity/k_250.tab.gz', sep='\\t', index=True, header=True)\n",
    "\n",
    "# psix_single_lineage_1.run_psix(latent='processed_tables/pc2_rd.tab.gz', n_jobs=25,\n",
    "#                                 n_random_exons=2000, n_neighbors=300)\n",
    "# psix_single_lineage_1.psix_results.to_csv('k_sensitivity/k_300.tab.gz', sep='\\t', index=True, header=True)\n",
    "\n",
    "# psix_single_lineage_1.run_psix(latent='processed_tables/pc2_rd.tab.gz', n_jobs=25,\n",
    "#                                 n_random_exons=2000, n_neighbors=400)\n",
    "# psix_single_lineage_1.psix_results.to_csv('k_sensitivity/k_400.tab.gz', sep='\\t', index=True, header=True)\n",
    "\n",
    "# psix_single_lineage_1.run_psix(latent='processed_tables/pc2_rd.tab.gz', n_jobs=25,\n",
    "#                                 n_random_exons=2000, n_neighbors=500)\n",
    "# psix_single_lineage_1.psix_results.to_csv('k_sensitivity/k_500.tab.gz', sep='\\t', index=True, header=True)\n"
   ]
  },
  {
   "cell_type": "code",
   "execution_count": 49,
   "metadata": {},
   "outputs": [
    {
     "data": {
      "image/png": "[encoded data removed]",
      "text/plain": [
       "<Figure size 180x120 with 1 Axes>"
      ]
     },
     "metadata": {
      "needs_background": "light"
     },
     "output_type": "display_data"
    }
   ],
   "source": [
    "psix_5 = pd.read_csv('k_sensitivity/k_5.tab.gz', sep='\\t', index_col=0)\n",
    "psix_10 = pd.read_csv('k_sensitivity/k_10.tab.gz', sep='\\t', index_col=0)\n",
    "psix_20 = pd.read_csv('k_sensitivity/k_20.tab.gz', sep='\\t', index_col=0)\n",
    "psix_30 = pd.read_csv('k_sensitivity/k_30.tab.gz', sep='\\t', index_col=0)\n",
    "psix_50 = pd.read_csv('k_sensitivity/k_50.tab.gz', sep='\\t', index_col=0)\n",
    "psix_100 = pd.read_csv('k_sensitivity/k_100.tab.gz', sep='\\t', index_col=0)\n",
    "psix_150 = pd.read_csv('k_sensitivity/k_150.tab.gz', sep='\\t', index_col=0)\n",
    "psix_200 = pd.read_csv('k_sensitivity/k_200.tab.gz', sep='\\t', index_col=0)\n",
    "psix_300 = pd.read_csv('k_sensitivity/k_300.tab.gz', sep='\\t', index_col=0)\n",
    "psix_400 = pd.read_csv('k_sensitivity/k_400.tab.gz', sep='\\t', index_col=0)\n",
    "psix_500 = pd.read_csv('k_sensitivity/k_500.tab.gz', sep='\\t', index_col=0)\n",
    "\n",
    "pos = []\n",
    "neg = []\n",
    "for i in range(5000):\n",
    "    if ('gene'+str(i+1)) in psix_5.index:\n",
    "\n",
    "        if (platonic_psi.loc['gene'+str(i+1)].max() - platonic_psi.loc['gene'+str(i+1)].min()) >= 0.2:\n",
    "            pos.append('gene'+str(i+1))\n",
    "        else:\n",
    "        #elif ds[i] == 0:\n",
    "            neg.append('gene'+str(i+1))\n",
    "\n",
    "    \n",
    "labels = [1]*len(pos) + [0]*len(neg)\n",
    "order = list(pos) + list(neg)\n",
    "\n",
    "    \n",
    "y_ = list(((platonic_psi.max(axis=1) - platonic_psi.min(axis=1)) >= 0.2).astype(int).loc[order])\n",
    "\n",
    "boxplot_list = []\n",
    "for x in [psix_5, psix_10, psix_20, psix_30, psix_50, psix_100, psix_150, psix_200, psix_300, psix_400, psix_500]:\n",
    "    \n",
    "    box = []\n",
    "    for i in range(200):\n",
    "        \n",
    "        pos_sample = np.random.choice(pos, int(len(pos)*0.2), replace=False)\n",
    "        neg_sample = np.random.choice(neg, int(len(neg)*0.2), replace=False)\n",
    "\n",
    "        labels = [1]*len(pos_sample) + [0]*len(neg_sample)\n",
    "        order = list(pos_sample) + list(neg_sample)\n",
    "\n",
    "\n",
    "        y_ = list(((platonic_psi.max(axis=1) - platonic_psi.min(axis=1)) >= 0.2).astype(int).loc[order])\n",
    "        \n",
    "        \n",
    "        pre, rec, thres = precision_recall_curve(y_, x.loc[order].psix_score)\n",
    "    \n",
    "        box.append(auc(rec, pre))\n",
    "\n",
    "    boxplot_list.append(box)\n",
    "\n",
    "    \n",
    "\n",
    "names = pd.Index(['gene' + str(i) for i in range(1, 5001)]) & psix_5.index\n",
    "\n",
    "pos = []\n",
    "neg = []\n",
    "order = []\n",
    "y = []\n",
    "for i in range(5000):\n",
    "    if ('gene'+str(i+1)) in psix_5.index:\n",
    "\n",
    "        if (platonic_psi.loc['gene'+str(i+1)].max() - platonic_psi.loc['gene'+str(i+1)].min()) >= 0.2:\n",
    "            y.append(1)\n",
    "            pos.append('gene'+str(i+1))\n",
    "            order.append('gene'+str(i+1))\n",
    "        else:\n",
    "#         elif ds[i] == 0:\n",
    "            neg.append('gene'+str(i+1))\n",
    "            y.append(0)\n",
    "            order.append('gene'+str(i+1))\n",
    "    \n",
    "    \n",
    "recall_list = []\n",
    "for x in [psix_5, psix_10, psix_20, psix_30, psix_50, psix_100, psix_150, psix_200, psix_300, psix_400, psix_500]:\n",
    "    pre, rec, thres = precision_recall_curve(y, x.loc[order].psix_score)\n",
    "    \n",
    "    recall_list.append(auc(rec, pre))\n",
    "\n",
    "\n",
    "fig = plt.figure(figsize=(6/2.4, 4/2.4))\n",
    "ax = fig.add_subplot(111)\n",
    "\n",
    "ax.fill_between(np.log10(np.array([0.5, 1, 2, 3, 5, 10, 15, 20, 30, 40, 50])), [np.quantile(x, 0.05) for x in boxplot_list], \n",
    "                 [np.quantile(x, 0.95) for x in boxplot_list], color='skyblue')\n",
    "\n",
    "ax.plot([1, 1], [np.quantile(boxplot_list[0], 0.05), recall_list[5]], linestyle='--', c='gray')\n",
    "\n",
    "ax.scatter(np.log10(np.array([0.5, 1, 2, 3, 5, 10, 15, 20, 30, 40, 50])), recall_list, c='navy', zorder=20, s=20)\n",
    "\n",
    "ax.plot(np.log10(np.array([0.5, 1, 2, 3, 5, 10, 15, 20, 30, 40, 50])), recall_list, c='navy', zorder=20)\n",
    "\n",
    "ax.set_xticks(np.log10(np.array([0.5, 1, 2, 5, 10, 20, 50])))\n",
    "\n",
    "ax.set_xticklabels(['0.5%', '1%', '2%', '5%', '10%', '20%', '50%'], size=8)\n",
    "\n",
    "ax.set_xlabel('Neighborhood size - population percent', size=8)\n",
    "\n",
    "ax.set_yticks([0.7, 0.8, 0.9])\n",
    "ax.set_yticklabels(['0.7', '0.8', '0.9'], size=8)\n",
    "ax.set_ylabel('Precision-recall AUC', size=8)\n",
    "\n",
    "ax.spines[\"right\"].set_visible(False)\n",
    "ax.spines[\"top\"].set_visible(False)\n",
    "\n",
    "# ax.set_xlim([-0.5, 12])\n",
    "\n",
    "plt.savefig('../plots/single_lineage_kauc.png', bbox_inches='tight', res=20000, dpi =2000)\n"
   ]
  },
  {
   "cell_type": "code",
   "execution_count": null,
   "metadata": {},
   "outputs": [],
   "source": []
  },
  {
   "cell_type": "code",
   "execution_count": 25,
   "metadata": {},
   "outputs": [
    {
     "data": {
      "text/plain": [
       "<matplotlib.legend.Legend at 0x7f9718f05fd0>"
      ]
     },
     "execution_count": 25,
     "metadata": {},
     "output_type": "execute_result"
    },
    {
     "data": {
      "image/png": "[encoded data removed]",
      "text/plain": [
       "<Figure size 576x288 with 2 Axes>"
      ]
     },
     "metadata": {
      "needs_background": "light"
     },
     "output_type": "display_data"
    }
   ],
   "source": [
    "fig = plt.figure(figsize=(8, 4))\n",
    "gs = GridSpec(1,7)\n",
    "gs.update(wspace=0.05, hspace=0.10)\n",
    "ax = fig.add_subplot(gs[0,0:4])\n",
    "ax_2 = fig.add_subplot(gs[0,4:7])# option 1, specify props dictionaries\n",
    "\n",
    "ax.boxplot([psix_1_auc, psix_05_auc, psix_01_auc], positions=[1,7,13], notch=True, patch_artist=True,\n",
    "            boxprops=dict(facecolor='skyblue', color='navy'),\n",
    "            capprops=dict(color='black'),\n",
    "            whiskerprops=dict(color='black'),\n",
    "            flierprops=dict(color='black', markeredgecolor='black'),\n",
    "            medianprops=dict(color='navy'), showfliers=False\n",
    "            )\n",
    "\n",
    "ax.boxplot([psix_1_auc_, psix_05_auc_, psix_01_auc_], positions=[1.75,7.75,13.75], notch=True, patch_artist=True,\n",
    "            boxprops=dict(facecolor='royalblue', color='navy'),\n",
    "            capprops=dict(color='black'),\n",
    "            whiskerprops=dict(color='black'),\n",
    "            flierprops=dict(color='black', markeredgecolor='black'),\n",
    "            medianprops=dict(color='navy'), showfliers=False\n",
    "            )\n",
    "\n",
    "ax.boxplot([kw_1_auc, kw_05_auc, kw_01_auc], positions=[2.5,8.5,14.5], notch=True, patch_artist=True,\n",
    "            boxprops=dict(facecolor='orange', color='darkred'),\n",
    "            capprops=dict(color='black'),\n",
    "            whiskerprops=dict(color='black'),\n",
    "            flierprops=dict(color='black', markeredgecolor='black'),\n",
    "            medianprops=dict(color='darkred'), showfliers=False\n",
    "            )\n",
    "\n",
    "ax.boxplot([kw_1_auc_, kw_05_auc_, kw_01_auc_], positions=[3.25,9.25,15.25], notch=True, patch_artist=True,\n",
    "            boxprops=dict(facecolor='darkorange', color='darkred'),\n",
    "            capprops=dict(color='black'),\n",
    "            whiskerprops=dict(color='black'),\n",
    "            flierprops=dict(color='black', markeredgecolor='black'),\n",
    "            medianprops=dict(color='darkred'), showfliers=False\n",
    "            )\n",
    "\n",
    "ax.boxplot([gearyc_1_auc, gearyc_05_auc, gearyc_01_auc], positions=[4,10,16], notch=True, patch_artist=True,\n",
    "            boxprops=dict(facecolor='limegreen', color='darkgreen'),\n",
    "            capprops=dict(color='black'),\n",
    "            whiskerprops=dict(color='black'),\n",
    "            flierprops=dict(color='black', markeredgecolor='black'),\n",
    "            medianprops=dict(color='darkgreen'), showfliers=False\n",
    "            )\n",
    "\n",
    "ax.boxplot([gearyc_1_auc_, gearyc_05_auc_, gearyc_01_auc_], positions=[4.75,10.75,16.75], notch=True, patch_artist=True,\n",
    "            boxprops=dict(facecolor='forestgreen', color='darkgreen'),\n",
    "            capprops=dict(color='black'),\n",
    "            whiskerprops=dict(color='black'),\n",
    "            flierprops=dict(color='black', markeredgecolor='black'),\n",
    "            medianprops=dict(color='darkgreen'), showfliers=False\n",
    "            )\n",
    "\n",
    "ax.set_xticks([1.75, 8.75, 14.75])\n",
    "ax.set_xticklabels(['0.1', '0.05', '0.01'], size=18)\n",
    "ax.set_xlabel('Capture efficiency', size=18)\n",
    "\n",
    "ax.set_yticks([0.85, 0.9, 0.95])\n",
    "ax.set_yticklabels(['0.85', '0.90', '0.95'], size=18)\n",
    "ax.set_ylabel('AU Pre-Rec curve', size=18)\n",
    "\n",
    "ax.spines[\"right\"].set_visible(False)\n",
    "ax.spines[\"top\"].set_visible(False)\n",
    "\n",
    "ax_2.set_xlim([0, 0])\n",
    "\n",
    "ax_2.hist([-1, -1], color='skyblue', label='Psix')\n",
    "ax_2.hist([-1, -1], color='darkorange', label='Kruskal-Wallis')\n",
    "ax_2.hist([-1, -1], color='limegreen', label=\"Geary's C\")\n",
    "\n",
    "ax_2.spines[\"bottom\"].set_visible(False)\n",
    "ax_2.spines[\"top\"].set_visible(False)\n",
    "ax_2.spines[\"right\"].set_visible(False)\n",
    "ax_2.spines[\"left\"].set_visible(False)\n",
    "\n",
    "ax_2.tick_params(\n",
    "    axis='both',          # changes apply to the x-axis\n",
    "    which='both',      # both major and minor ticks are affected\n",
    "    bottom=False,      # ticks along the bottom edge are off\n",
    "    top=False,  \n",
    "    right=False,\n",
    "    left=False, # ticks along the top edge are off\n",
    "    labelleft=False,\n",
    "    labelbottom=False)\n",
    "\n",
    "ax_2.legend(frameon=False, fontsize=14)"
   ]
  }
 ],
 "metadata": {
  "kernelspec": {
   "display_name": "Python 3",
   "language": "python",
   "name": "python3"
  },
  "language_info": {
   "codemirror_mode": {
    "name": "ipython",
    "version": 3
   },
   "file_extension": ".py",
   "mimetype": "text/x-python",
   "name": "python",
   "nbconvert_exporter": "python",
   "pygments_lexer": "ipython3",
   "version": "3.7.6"
  }
 },
 "nbformat": 4,
 "nbformat_minor": 4
}
