{
 "cells": [
  {
   "cell_type": "code",
   "execution_count": 77,
   "metadata": {},
   "outputs": [],
   "source": [
    "import numpy as np\n",
    "import pandas as pd\n",
    "from matplotlib import pyplot as plt\n",
    "import os\n",
    "import sys\n",
    "from tqdm import tqdm\n",
    "sys.path.insert(0, '/mnt/lareaulab/cfbuenabadn/psix_project/psix/psix/')\n",
    "import psix\n",
    "from matplotlib.gridspec import GridSpec\n",
    "\n",
    "from scipy.special import logit, expit\n",
    "from sklearn.metrics import precision_recall_curve\n",
    "from sklearn.metrics import recall_score\n",
    "from sklearn.metrics import f1_score\n",
    "from sklearn.metrics import auc\n",
    "\n",
    "cm = 1/2.54\n",
    "\n",
    "plt.rcParams[\"axes.edgecolor\"] = \"black\"\n",
    "plt.rcParams[\"axes.linewidth\"] = 1\n",
    "plt.rcParams[\"axes.facecolor\"] = 'white'\n",
    "\n",
    "import matplotlib as mpl\n",
    "import numpy as np\n",
    "from matplotlib import pyplot as plt\n",
    "\n",
    "mpl.rcParams[\"mathtext.fontset\"] = \"stix\"\n",
    "mpl.rcParams['pdf.fonttype'] = 42"
   ]
  },
  {
   "cell_type": "code",
   "execution_count": 2,
   "metadata": {},
   "outputs": [],
   "source": [
    "from scipy.stats import kruskal\n",
    "from statsmodels.stats.multitest import multipletests\n",
    "\n",
    "\n",
    "def run_kw(exon_psi, labels):\n",
    "    kw_input = []\n",
    "    for l in labels:\n",
    "        kw_input.append(list(exon_psi[l]))\n",
    "        \n",
    "    if len(labels) == 2:\n",
    "        return kruskal(kw_input[0], kw_input[1], nan_policy='omit')\n",
    "    if len(labels) == 3:\n",
    "        return kruskal(kw_input[0], kw_input[1], kw_input[2], nan_policy='omit')\n",
    "    if len(labels) == 4:\n",
    "        return kruskal(kw_input[0], kw_input[1], kw_input[2], kw_input[3], nan_policy='omit')\n",
    "    if len(labels) == 5:\n",
    "        return kruskal(kw_input[0], kw_input[1], kw_input[2], kw_input[3], kw_input[4], nan_policy='omit')\n",
    "    if len(labels) == 6:\n",
    "        return kruskal(kw_input[0], kw_input[1], kw_input[2], kw_input[3], kw_input[4], kw_input[5], nan_policy='omit')\n",
    "    if len(labels) == 7:\n",
    "        return kruskal(kw_input[0], kw_input[1], kw_input[2], kw_input[3], kw_input[4], kw_input[5], kw_input[6], nan_policy='omit')\n",
    "    if len(labels) == 8:\n",
    "        return kruskal(kw_input[0], kw_input[1], kw_input[2], kw_input[3], kw_input[4], kw_input[5], kw_input[6], kw_input[7], nan_policy='omit')\n",
    "    \n",
    "def run_kw_dset(psi_table, labels, exon_list):\n",
    "    kw_output = pd.DataFrame()\n",
    "    kw_score = []\n",
    "    pvals = []\n",
    "    for exon in tqdm(exon_list, position=0, leave=True):\n",
    "        score, p = run_kw(psi_table.loc[exon], labels)\n",
    "        kw_score.append(score)\n",
    "        pvals.append(p)\n",
    "    kw_output['KW_score'] = kw_score\n",
    "    kw_output['pvals'] = pvals\n",
    "    kw_output['qvals'] = multipletests(pvals, method='fdr_bh')[1]\n",
    "    kw_output.index = exon_list\n",
    "    return kw_output\n",
    "\n"
   ]
  },
  {
   "cell_type": "code",
   "execution_count": 20,
   "metadata": {},
   "outputs": [
    {
     "name": "stderr",
     "output_type": "stream",
     "text": [
      "100%|██████████| 3354/3354 [00:27<00:00, 120.87it/s]\n",
      "100%|██████████| 3067/3067 [00:24<00:00, 124.49it/s]\n",
      "100%|██████████| 1879/1879 [00:13<00:00, 139.91it/s]\n"
     ]
    }
   ],
   "source": [
    "# psix_three_lineage_1 = psix.Psix()\n",
    "# psix_three_lineage_1.process_rnaseq(\n",
    "#         'three_lineages/processed_tables/SE_counts_0.1.tab.gz',\n",
    "#         'three_lineages/processed_tables/constitutive_introns_0.1.tab.gz',\n",
    "#         'three_lineages/processed_tables/tpm_0.1.tab.gz',\n",
    "#         minJR = 1,\n",
    "#         minCell=1,\n",
    "#         min_observed = 0.25)\n",
    "\n",
    "# psix_three_lineage_1.compute_psix_scores(latent='three_lineages/processed_tables/pc2_rd.tab.gz', n_jobs=25, \n",
    "#                                 n_random_exons=2000, n_neighbors=100)\n",
    "\n",
    "# psix_three_lineage_05 = psix.Psix()\n",
    "# psix_three_lineage_05.process_rnaseq(\n",
    "#         'three_lineages/processed_tables/SE_counts_0.05.tab.gz',\n",
    "#         'three_lineages/processed_tables/constitutive_introns_0.05.tab.gz',\n",
    "#         'three_lineages/processed_tables/tpm_0.05.tab.gz',\n",
    "#         minJR = 1,\n",
    "#         minCell=1,\n",
    "#         min_observed = 0.25)\n",
    "\n",
    "# psix_three_lineage_05.compute_psix_scores(latent='three_lineages/processed_tables/pc2_rd.tab.gz', n_jobs=25, \n",
    "#                                 n_random_exons=2000, n_neighbors=100)\n",
    "\n",
    "# psix_three_lineage_01 = psix.Psix()\n",
    "# psix_three_lineage_01.process_rnaseq(\n",
    "#         'three_lineages/processed_tables/SE_counts_0.01.tab.gz',\n",
    "#         'three_lineages/processed_tables/constitutive_introns_0.01.tab.gz',\n",
    "#         'three_lineages/processed_tables/tpm_0.01.tab.gz',\n",
    "#         minJR = 1,\n",
    "#         minCell=1,\n",
    "#         min_observed = 0.25)\n",
    "\n",
    "# psix_three_lineage_01.compute_psix_scores(latent='three_lineages/processed_tables/pc2_rd.tab.gz', n_jobs=25, \n",
    "#                                 n_random_exons=2000, n_neighbors=100)\n",
    "\n",
    "\n",
    "# meta = pd.read_csv('three_lineages/sim_output/meta.tab.gz', sep='\\t')\n",
    "# meta.index=['cell_'+str(i+1) for i in range(1000)]\n",
    "\n",
    "# #pop_1 = meta.loc[meta['pop'] == '4_1'].index\n",
    "# #pop_2 = meta.loc[meta['pop'] == '4_5'].index\n",
    "# #pop_3 = meta.loc[meta['pop'] == '5_2'].index\n",
    "# #pop_4 = meta.loc[meta['pop'] == '5_3'].index\n",
    "# #labels = [pop_1, pop_2, pop_3, pop_4]\n",
    "\n",
    "pop_1 = meta.loc[meta['pop'] == '4_1'].index\n",
    "pop_2 = meta.loc[meta['pop'] == '4_5'].index\n",
    "pop_2 = pop_2 | meta.loc[meta['pop'] == '5_2'].index\n",
    "pop_3 = meta.loc[meta['pop'] == '5_3'].index\n",
    "labels = [pop_1, pop_2, pop_3]\n",
    "\n",
    "three_kw_1 = run_kw_dset(psix_three_lineage_1.adata.uns['psi'][psix_three_lineage_1.psix_results.index].T, \n",
    "                         labels, psix_three_lineage_1.psix_results.index)\n",
    "\n",
    "three_kw_05 = run_kw_dset(psix_three_lineage_05.adata.uns['psi'][psix_three_lineage_05.psix_results.index].T, \n",
    "                         labels, psix_three_lineage_05.psix_results.index)\n",
    "\n",
    "three_kw_01 = run_kw_dset(psix_three_lineage_01.adata.uns['psi'][psix_three_lineage_01.psix_results.index].T, \n",
    "                         labels, psix_three_lineage_01.psix_results.index)\n",
    "\n",
    "l1 = []\n",
    "with open('three_lineages/sim_output/l1_diff.txt', 'r') as l1_file:\n",
    "    for i in l1_file:\n",
    "        l1.append(int(i.rstrip()))\n",
    "        \n",
    "l2 = []\n",
    "with open('three_lineages/sim_output/l2_diff.txt', 'r') as l2_file:\n",
    "    for i in l2_file:\n",
    "        l2.append(int(i.rstrip()))\n",
    "        \n",
    "l3 = []\n",
    "with open('three_lineages/sim_output/l3_diff.txt', 'r') as l3_file:\n",
    "    for i in l3_file:\n",
    "        l3.append(int(i.rstrip()))\n",
    "        \n",
    "l1 = np.array(l1)\n",
    "l2 = np.array(l2)\n",
    "l3 = np.array(l3)\n",
    "\n",
    "ds = ((l1 + l2 + l3)>0).astype(int)\n",
    "\n",
    "gearyc_3l_1 = pd.read_csv('three_lineages/gearyc_0.1.tab.gz', sep='\\t', index_col=0)\n",
    "gearyc_3l_05 = pd.read_csv('three_lineages/gearyc_0.05.tab.gz', sep='\\t', index_col=0)\n",
    "gearyc_3l_01 = pd.read_csv('three_lineages/gearyc_0.01.tab.gz', sep='\\t', index_col=0)"
   ]
  },
  {
   "cell_type": "code",
   "execution_count": 49,
   "metadata": {},
   "outputs": [
    {
     "name": "stderr",
     "output_type": "stream",
     "text": [
      "100%|██████████| 200/200 [00:08<00:00, 24.93it/s]\n"
     ]
    }
   ],
   "source": [
    "from scipy.special import logit, expit\n",
    "from sklearn.metrics import precision_recall_curve\n",
    "from sklearn.metrics import recall_score\n",
    "from sklearn.metrics import f1_score\n",
    "from sklearn.metrics import auc\n",
    "\n",
    "platonic_psi = pd.read_csv('three_lineages/sim_output/psi_platonic.tab.gz', sep='\\t', \n",
    "                               names = ['cell_'+str(i+1) for i in range(1000)])\n",
    "platonic_psi.index = ['gene' + str(i+1) for i in range(5000)]\n",
    "\n",
    "platonic_psi = expit(platonic_psi)\n",
    "\n",
    "\n",
    "psix_results_1 = psix_three_lineage_1.psix_results\n",
    "\n",
    "names = pd.Index(['gene' + str(i) for i in range(1, 5001)]) & psix_results_1.index\n",
    "\n",
    "pos = []\n",
    "neg = []\n",
    "for i in range(5000):\n",
    "    if ('gene'+str(i+1)) in psix_results_1.index:\n",
    "\n",
    "        if (platonic_psi.loc['gene'+str(i+1)].max() - platonic_psi.loc['gene'+str(i+1)].min()) >= 0.2:\n",
    "            pos.append('gene'+str(i+1))\n",
    "        else:\n",
    "#         elif ds[i] == 0:\n",
    "            neg.append('gene'+str(i+1))\n",
    "\n",
    "\n",
    "\n",
    "psix_auc_1 = []\n",
    "kw_auc_1 = []\n",
    "gearyc_3l_auc_1 = []\n",
    "    \n",
    "for i in tqdm(range(200)):\n",
    "    \n",
    "    pos_sample = np.random.choice(pos, int(len(pos)*0.2), replace=False)\n",
    "    neg_sample = np.random.choice(neg, int(len(neg)*0.2), replace=False)\n",
    "    \n",
    "    labels = [1]*len(pos_sample) + [0]*len(neg_sample)\n",
    "    order = list(pos_sample) + list(neg_sample)\n",
    "\n",
    "    \n",
    "    y_ = list(((platonic_psi.max(axis=1) - platonic_psi.min(axis=1)) >= 0.2).astype(int).loc[order])\n",
    "\n",
    "\n",
    "    pre, rec, thres = precision_recall_curve(y_, psix_results_1.loc[order].psix_score)\n",
    "    pre_kw, rec_kw, thres_kw = precision_recall_curve(y_, three_kw_1.loc[order].KW_score)\n",
    "    pre_c, rec_c, thres_c = precision_recall_curve(y_, gearyc_3l_1.loc[order].C_score)\n",
    "\n",
    "    psix_auc_1.append(auc(rec, pre))\n",
    "    kw_auc_1.append(auc(rec_kw, pre_kw))\n",
    "    gearyc_3l_auc_1.append(auc(rec_c, pre_c))\n",
    "    \n",
    "\n",
    "    \n",
    "# boxplots = [ psix_auc_1, gearyc_3l_auc_1, kw_auc_1]\n",
    "\n",
    "\n",
    "\n",
    "# bp = plt.boxplot(boxplots)\n",
    "\n",
    "\n",
    "# plt.xticks(np.arange(1, 4), \n",
    "#            ['Psix', \"Geary's C\", 'KW'], fontsize=14, rotation=90)\n",
    "\n",
    "# plt.ylabel('AUC pre-rec curve', fontsize=14)\n",
    "# # plt.xlabel('Method', fontsize=14)\n",
    "# plt.title('Method comparison, Tiklova dataset', fontsize=14)"
   ]
  },
  {
   "cell_type": "code",
   "execution_count": 50,
   "metadata": {},
   "outputs": [
    {
     "name": "stderr",
     "output_type": "stream",
     "text": [
      "100%|██████████| 200/200 [00:07<00:00, 25.46it/s]\n"
     ]
    }
   ],
   "source": [
    "from scipy.special import logit, expit\n",
    "from sklearn.metrics import precision_recall_curve\n",
    "from sklearn.metrics import recall_score\n",
    "from sklearn.metrics import f1_score\n",
    "from sklearn.metrics import auc\n",
    "\n",
    "psix_results_05 = psix_three_lineage_05.psix_results\n",
    "\n",
    "names = pd.Index(['gene' + str(i) for i in range(1, 5001)]) & psix_results_05.index\n",
    "\n",
    "pos = []\n",
    "neg = []\n",
    "for i in range(5000):\n",
    "    if ('gene'+str(i+1)) in psix_results_05.index:\n",
    "\n",
    "        if (platonic_psi.loc['gene'+str(i+1)].max() - platonic_psi.loc['gene'+str(i+1)].min()) >= 0.2:\n",
    "            pos.append('gene'+str(i+1))\n",
    "        else:\n",
    "#         elif ds[i] == 0:\n",
    "            neg.append('gene'+str(i+1))\n",
    "\n",
    "\n",
    "# platonic_psi = pd.read_csv('three_lineages/sim_output/psi_platonic.tab.gz', sep='\\t', \n",
    "#                                names = ['cell_'+str(i+1) for i in range(1000)])\n",
    "# platonic_psi.index = ['gene' + str(i+1) for i in range(5000)]\n",
    "\n",
    "# platonic_psi = expit(platonic_psi)\n",
    "\n",
    "psix_auc_05 = []\n",
    "kw_auc_05 = []\n",
    "gearyc_3l_auc_05 = []\n",
    "    \n",
    "for i in tqdm(range(200)):\n",
    "    \n",
    "    pos_sample = np.random.choice(pos, int(len(pos)*0.2), replace=False)\n",
    "    neg_sample = np.random.choice(neg, int(len(neg)*0.2), replace=False)\n",
    "    \n",
    "    labels = [1]*len(pos_sample) + [0]*len(neg_sample)\n",
    "    order = list(pos_sample) + list(neg_sample)\n",
    "\n",
    "    \n",
    "    y_ = list(((platonic_psi.max(axis=1) - platonic_psi.min(axis=1)) >= 0.2).astype(int).loc[order])\n",
    "\n",
    "\n",
    "    pre, rec, thres = precision_recall_curve(y_, psix_results_05.loc[order].psix_score)\n",
    "    pre_kw, rec_kw, thres_kw = precision_recall_curve(y_, three_kw_05.loc[order].KW_score)\n",
    "    pre_c, rec_c, thres_c = precision_recall_curve(y_, gearyc_3l_05.loc[order].C_score)\n",
    "\n",
    "    psix_auc_05.append(auc(rec, pre))\n",
    "    kw_auc_05.append(auc(rec_kw, pre_kw))\n",
    "    gearyc_3l_auc_05.append(auc(rec_c, pre_c))\n",
    "    \n",
    "\n",
    "    \n",
    "# boxplots = [ psix_auc_05, gearyc_3l_auc_05, kw_auc_05]\n",
    "\n",
    "\n",
    "\n",
    "# bp = plt.boxplot(boxplots)\n",
    "\n",
    "\n",
    "# plt.xticks(np.arange(1, 4), \n",
    "#            ['Psix', \"Geary's C\", 'KW'], fontsize=14, rotation=90)\n",
    "\n",
    "# plt.ylabel('AUC pre-rec curve', fontsize=14)\n",
    "# # plt.xlabel('Method', fontsize=14)\n",
    "# plt.title('Method comparison, Tiklova dataset', fontsize=14)"
   ]
  },
  {
   "cell_type": "code",
   "execution_count": 51,
   "metadata": {},
   "outputs": [
    {
     "name": "stderr",
     "output_type": "stream",
     "text": [
      "100%|██████████| 200/200 [00:06<00:00, 31.25it/s]\n"
     ]
    }
   ],
   "source": [
    "from scipy.special import logit, expit\n",
    "from sklearn.metrics import precision_recall_curve\n",
    "from sklearn.metrics import recall_score\n",
    "from sklearn.metrics import f1_score\n",
    "from sklearn.metrics import auc\n",
    "\n",
    "psix_results_01 = psix_three_lineage_01.psix_results\n",
    "\n",
    "names = pd.Index(['gene' + str(i) for i in range(1, 5001)]) & psix_results_01.index\n",
    "\n",
    "pos = []\n",
    "neg = []\n",
    "for i in range(5000):\n",
    "    if ('gene'+str(i+1)) in psix_results_01.index:\n",
    "\n",
    "        if (platonic_psi.loc['gene'+str(i+1)].max() - platonic_psi.loc['gene'+str(i+1)].min()) >= 0.2:\n",
    "            pos.append('gene'+str(i+1))\n",
    "        else:\n",
    "        #elif ds[i] == 0:\n",
    "            neg.append('gene'+str(i+1))\n",
    "\n",
    "\n",
    "# platonic_psi = pd.read_csv('three_lineages/sim_output/psi_platonic.tab.gz', sep='\\t', \n",
    "#                                names = ['cell_'+str(i+1) for i in range(1000)])\n",
    "# platonic_psi.index = ['gene' + str(i+1) for i in range(5000)]\n",
    "\n",
    "# platonic_psi = expit(platonic_psi)\n",
    "\n",
    "psix_auc_01 = []\n",
    "kw_auc_01 = []\n",
    "gearyc_3l_auc_01 = []\n",
    "    \n",
    "for i in tqdm(range(200)):\n",
    "    \n",
    "    pos_sample = np.random.choice(pos, int(len(pos)*0.2), replace=False)\n",
    "    neg_sample = np.random.choice(neg, int(len(neg)*0.2), replace=False)\n",
    "    \n",
    "    labels = [1]*len(pos_sample) + [0]*len(neg_sample)\n",
    "    order = list(pos_sample) + list(neg_sample)\n",
    "\n",
    "    \n",
    "    y_ = list(((platonic_psi.max(axis=1) - platonic_psi.min(axis=1)) >= 0.2).astype(int).loc[order])\n",
    "\n",
    "\n",
    "    pre, rec, thres = precision_recall_curve(y_, psix_results_01.loc[order].psix_score)\n",
    "    pre_kw, rec_kw, thres_kw = precision_recall_curve(y_, three_kw_01.loc[order].KW_score)\n",
    "    pre_c, rec_c, thres_c = precision_recall_curve(y_, gearyc_3l_01.loc[order].C_score)\n",
    "\n",
    "    psix_auc_01.append(auc(rec, pre))\n",
    "    kw_auc_01.append(auc(rec_kw, pre_kw))\n",
    "    gearyc_3l_auc_01.append(auc(rec_c, pre_c))\n",
    "    \n",
    "\n",
    "    \n",
    "# boxplots = [ psix_auc_01, gearyc_3l_auc_01, kw_auc_01]\n",
    "\n",
    "\n",
    "\n",
    "# bp = plt.boxplot(boxplots)\n",
    "\n",
    "\n",
    "# plt.xticks(np.arange(1, 4), \n",
    "#            ['Psix', \"Geary's C\", 'KW'], fontsize=14, rotation=90)\n",
    "\n",
    "# plt.ylabel('AUC pre-rec curve', fontsize=14)\n",
    "# # plt.xlabel('Method', fontsize=14)\n",
    "# plt.title('Method comparison, Tiklova dataset', fontsize=14)\n"
   ]
  },
  {
   "cell_type": "code",
   "execution_count": 52,
   "metadata": {},
   "outputs": [
    {
     "data": {
      "text/plain": [
       "<matplotlib.legend.Legend at 0x7fafeef42810>"
      ]
     },
     "execution_count": 52,
     "metadata": {},
     "output_type": "execute_result"
    },
    {
     "data": {
      "image/png": "[encoded data removed]",
      "text/plain": [
       "<Figure size 576x288 with 2 Axes>"
      ]
     },
     "metadata": {
      "needs_background": "light"
     },
     "output_type": "display_data"
    }
   ],
   "source": [
    "fig = plt.figure(figsize=(8, 4))\n",
    "gs = GridSpec(1,7)\n",
    "gs.update(wspace=0.05, hspace=0.10)\n",
    "ax = fig.add_subplot(gs[0,0:4])\n",
    "ax_2 = fig.add_subplot(gs[0,4:7])# option 1, specify props dictionaries\n",
    "\n",
    "ax.boxplot([psix_auc_1, psix_auc_05, psix_auc_01], positions=[1,5,9], notch=True, patch_artist=True,\n",
    "            boxprops=dict(facecolor='skyblue', color='navy'),\n",
    "            capprops=dict(color='black'),\n",
    "            whiskerprops=dict(color='black'),\n",
    "            flierprops=dict(color='black', markeredgecolor='black'),\n",
    "            medianprops=dict(color='navy'), showfliers=False\n",
    "            )\n",
    "\n",
    "ax.boxplot([kw_auc_1, kw_auc_05, kw_auc_01], positions=[1.75,5.75,9.75], notch=True, patch_artist=True,\n",
    "            boxprops=dict(facecolor='darkorange', color='darkred'),\n",
    "            capprops=dict(color='black'),\n",
    "            whiskerprops=dict(color='black'),\n",
    "            flierprops=dict(color='black', markeredgecolor='black'),\n",
    "            medianprops=dict(color='darkred'), showfliers=False\n",
    "            )\n",
    "\n",
    "ax.boxplot([gearyc_3l_auc_1, gearyc_3l_auc_05, gearyc_3l_auc_01], positions=[2.5,6.5,10.5], notch=True, patch_artist=True,\n",
    "            boxprops=dict(facecolor='limegreen', color='darkgreen'),\n",
    "            capprops=dict(color='black'),\n",
    "            whiskerprops=dict(color='black'),\n",
    "            flierprops=dict(color='black', markeredgecolor='black'),\n",
    "            medianprops=dict(color='darkgreen'), showfliers=False\n",
    "            )\n",
    "\n",
    "ax.set_xticks([1.75, 5.75, 9.75])\n",
    "ax.set_xticklabels(['0.1', '0.05', '0.01'], size=18)\n",
    "ax.set_xlabel('Capture efficiency', size=18)\n",
    "\n",
    "ax.set_yticks([0.9, 0.95, 1])\n",
    "ax.set_yticklabels(['0.90', '0.95', '1.00'], size=18)\n",
    "ax.set_ylabel('AU Pre-Rec curve', size=18)\n",
    "\n",
    "ax.spines[\"right\"].set_visible(False)\n",
    "ax.spines[\"top\"].set_visible(False)\n",
    "\n",
    "ax_2.set_xlim([0, 0])\n",
    "\n",
    "ax_2.hist([-1, -1], color='skyblue', label='Psix')\n",
    "ax_2.hist([-1, -1], color='darkorange', label='Kruskal-Wallis')\n",
    "ax_2.hist([-1, -1], color='limegreen', label=\"Geary's C\")\n",
    "\n",
    "ax_2.spines[\"bottom\"].set_visible(False)\n",
    "ax_2.spines[\"top\"].set_visible(False)\n",
    "ax_2.spines[\"right\"].set_visible(False)\n",
    "ax_2.spines[\"left\"].set_visible(False)\n",
    "\n",
    "ax_2.tick_params(\n",
    "    axis='both',          # changes apply to the x-axis\n",
    "    which='both',      # both major and minor ticks are affected\n",
    "    bottom=False,      # ticks along the bottom edge are off\n",
    "    top=False,  \n",
    "    right=False,\n",
    "    left=False, # ticks along the top edge are off\n",
    "    labelleft=False,\n",
    "    labelbottom=False)\n",
    "\n",
    "ax_2.legend(frameon=False, fontsize=14)"
   ]
  },
  {
   "cell_type": "code",
   "execution_count": 55,
   "metadata": {},
   "outputs": [
    {
     "data": {
      "image/png": "[encoded data removed]",
      "text/plain": [
       "<Figure size 180x120 with 1 Axes>"
      ]
     },
     "metadata": {
      "needs_background": "light"
     },
     "output_type": "display_data"
    }
   ],
   "source": [
    "fig = plt.figure(figsize=(6/2.4, 4/2.4))\n",
    "# gs = GridSpec(1,7)\n",
    "# gs.update(wspace=0.05, hspace=0.10)\n",
    "ax = fig.add_subplot(111)\n",
    "# ax_2 = fig.add_subplot(gs[0,4:7])# option 1, specify props dictionaries\n",
    "\n",
    "ax.boxplot([psix_auc_1, psix_auc_05, psix_auc_01], positions=[1,5,9], notch=True, patch_artist=True,\n",
    "            boxprops=dict(facecolor='skyblue', color='navy'),\n",
    "            capprops=dict(color='black'),\n",
    "            whiskerprops=dict(color='black'),\n",
    "            flierprops=dict(color='black', markeredgecolor='black'),\n",
    "            medianprops=dict(color='navy'), showfliers=False\n",
    "            )\n",
    "\n",
    "ax.boxplot([kw_auc_1, kw_auc_05, kw_auc_01], positions=[1.75,5.75,9.75], notch=True, patch_artist=True,\n",
    "            boxprops=dict(facecolor='darkorange', color='darkred'),\n",
    "            capprops=dict(color='black'),\n",
    "            whiskerprops=dict(color='black'),\n",
    "            flierprops=dict(color='black', markeredgecolor='black'),\n",
    "            medianprops=dict(color='darkred'), showfliers=False\n",
    "            )\n",
    "\n",
    "ax.boxplot([gearyc_3l_auc_1, gearyc_3l_auc_05, gearyc_3l_auc_01], positions=[2.5,6.5,10.5], notch=True, patch_artist=True,\n",
    "            boxprops=dict(facecolor='limegreen', color='darkgreen'),\n",
    "            capprops=dict(color='black'),\n",
    "            whiskerprops=dict(color='black'),\n",
    "            flierprops=dict(color='black', markeredgecolor='black'),\n",
    "            medianprops=dict(color='darkgreen'), showfliers=False\n",
    "            )\n",
    "\n",
    "ax.set_xticks([1.75, 5.75, 9.75])\n",
    "ax.set_xticklabels(['0.1', '0.05', '0.01'], size=8)\n",
    "ax.set_xlabel('Capture efficiency', size=8)\n",
    "\n",
    "ax.set_yticks([0.85, 0.9, 0.95])\n",
    "ax.set_yticklabels(['0.85', '0.90', '0.95'], size=8)\n",
    "ax.set_ylabel('AU Pre-Rec curve', size=8)\n",
    "\n",
    "ax.spines[\"right\"].set_visible(False)\n",
    "ax.spines[\"top\"].set_visible(False)\n",
    "\n",
    "ax.set_xlim([-0.5, 12])\n",
    "\n",
    "plt.savefig('three_lineages/sub_plots/three_lineages_auc.png', bbox_inches='tight', res=20000, dpi =2000)"
   ]
  },
  {
   "cell_type": "code",
   "execution_count": null,
   "metadata": {},
   "outputs": [],
   "source": []
  },
  {
   "cell_type": "code",
   "execution_count": null,
   "metadata": {},
   "outputs": [],
   "source": []
  },
  {
   "cell_type": "code",
   "execution_count": null,
   "metadata": {},
   "outputs": [],
   "source": []
  },
  {
   "cell_type": "code",
   "execution_count": 84,
   "metadata": {},
   "outputs": [
    {
     "name": "stdout",
     "output_type": "stream",
     "text": [
      "Obtaining psi tables...\n",
      "Reading TPM and transforming to mRNA counts...\n",
      "mariados\n",
      "luigi\n",
      "prueba 2\n"
     ]
    },
    {
     "name": "stderr",
     "output_type": "stream",
     "text": [
      "100%|██████████| 1000/1000 [00:21<00:00, 46.07it/s]\n",
      "100%|██████████| 1000/1000 [00:00<00:00, 42119.94it/s]"
     ]
    },
    {
     "name": "stdout",
     "output_type": "stream",
     "text": [
      "Successfully processed RNA-seq data\n",
      "cell-cell metric not found. Computing metric...\n",
      "Successfully computed cell-cell metric\n",
      "Computing Psix score in 3354 exons\n"
     ]
    },
    {
     "name": "stderr",
     "output_type": "stream",
     "text": [
      "\n",
      "100%|██████████| 3354/3354 [00:54<00:00, 61.08it/s]  \n"
     ]
    },
    {
     "name": "stdout",
     "output_type": "stream",
     "text": [
      "Successfully computed Psix score of exons.\n",
      "...\n",
      "\n",
      "Estimating p-values. This might take a while...\n"
     ]
    },
    {
     "name": "stderr",
     "output_type": "stream",
     "text": [
      "100%|██████████| 25/25 [13:04<00:00, 31.38s/it]  \n",
      "100%|██████████| 1000/1000 [00:00<00:00, 36925.27it/s]"
     ]
    },
    {
     "name": "stdout",
     "output_type": "stream",
     "text": [
      "Successfully estimated p-values\n",
      "cell-cell metric not found. Computing metric...\n",
      "Successfully computed cell-cell metric\n",
      "Computing Psix score in 3354 exons\n"
     ]
    },
    {
     "name": "stderr",
     "output_type": "stream",
     "text": [
      "\n",
      "100%|██████████| 3354/3354 [00:35<00:00, 95.06it/s]  \n"
     ]
    },
    {
     "name": "stdout",
     "output_type": "stream",
     "text": [
      "Successfully computed Psix score of exons.\n",
      "...\n",
      "\n",
      "Estimating p-values. This might take a while...\n"
     ]
    },
    {
     "name": "stderr",
     "output_type": "stream",
     "text": [
      "100%|██████████| 25/25 [09:13<00:00, 22.14s/it]  \n",
      "100%|██████████| 1000/1000 [00:00<00:00, 20955.17it/s]"
     ]
    },
    {
     "name": "stdout",
     "output_type": "stream",
     "text": [
      "Successfully estimated p-values\n",
      "cell-cell metric not found. Computing metric...\n",
      "Successfully computed cell-cell metric\n",
      "Computing Psix score in 3354 exons\n"
     ]
    },
    {
     "name": "stderr",
     "output_type": "stream",
     "text": [
      "\n",
      "100%|██████████| 3354/3354 [00:34<00:00, 98.03it/s]  \n"
     ]
    },
    {
     "name": "stdout",
     "output_type": "stream",
     "text": [
      "Successfully computed Psix score of exons.\n",
      "...\n",
      "\n",
      "Estimating p-values. This might take a while...\n"
     ]
    },
    {
     "name": "stderr",
     "output_type": "stream",
     "text": [
      "100%|██████████| 25/25 [08:22<00:00, 20.10s/it]  \n",
      "100%|██████████| 1000/1000 [00:00<00:00, 16549.49it/s]"
     ]
    },
    {
     "name": "stdout",
     "output_type": "stream",
     "text": [
      "Successfully estimated p-values\n",
      "cell-cell metric not found. Computing metric...\n",
      "Successfully computed cell-cell metric\n",
      "Computing Psix score in 3354 exons\n"
     ]
    },
    {
     "name": "stderr",
     "output_type": "stream",
     "text": [
      "\n",
      "100%|██████████| 3354/3354 [00:33<00:00, 100.95it/s] \n"
     ]
    },
    {
     "name": "stdout",
     "output_type": "stream",
     "text": [
      "Successfully computed Psix score of exons.\n",
      "...\n",
      "\n",
      "Estimating p-values. This might take a while...\n"
     ]
    },
    {
     "name": "stderr",
     "output_type": "stream",
     "text": [
      "100%|██████████| 25/25 [08:21<00:00, 20.08s/it]  \n",
      "100%|██████████| 1000/1000 [00:00<00:00, 11522.50it/s]"
     ]
    },
    {
     "name": "stdout",
     "output_type": "stream",
     "text": [
      "Successfully estimated p-values\n",
      "cell-cell metric not found. Computing metric...\n",
      "Successfully computed cell-cell metric\n",
      "Computing Psix score in 3354 exons\n"
     ]
    },
    {
     "name": "stderr",
     "output_type": "stream",
     "text": [
      "\n",
      "100%|██████████| 3354/3354 [00:33<00:00, 101.29it/s] \n"
     ]
    },
    {
     "name": "stdout",
     "output_type": "stream",
     "text": [
      "Successfully computed Psix score of exons.\n",
      "...\n",
      "\n",
      "Estimating p-values. This might take a while...\n"
     ]
    },
    {
     "name": "stderr",
     "output_type": "stream",
     "text": [
      "100%|██████████| 25/25 [08:20<00:00, 20.02s/it]  \n",
      " 68%|██████▊   | 683/1000 [00:00<00:00, 6829.83it/s]"
     ]
    },
    {
     "name": "stdout",
     "output_type": "stream",
     "text": [
      "Successfully estimated p-values\n",
      "cell-cell metric not found. Computing metric...\n"
     ]
    },
    {
     "name": "stderr",
     "output_type": "stream",
     "text": [
      "\r",
      "100%|██████████| 1000/1000 [00:00<00:00, 6747.44it/s]"
     ]
    },
    {
     "name": "stdout",
     "output_type": "stream",
     "text": [
      "Successfully computed cell-cell metric\n",
      "Computing Psix score in 3354 exons\n"
     ]
    },
    {
     "name": "stderr",
     "output_type": "stream",
     "text": [
      "\n",
      "100%|██████████| 3354/3354 [00:33<00:00, 100.84it/s] \n"
     ]
    },
    {
     "name": "stdout",
     "output_type": "stream",
     "text": [
      "Successfully computed Psix score of exons.\n",
      "...\n",
      "\n",
      "Estimating p-values. This might take a while...\n"
     ]
    },
    {
     "name": "stderr",
     "output_type": "stream",
     "text": [
      "100%|██████████| 25/25 [08:24<00:00, 20.18s/it]  \n",
      " 60%|██████    | 600/1000 [00:00<00:00, 5991.41it/s]"
     ]
    },
    {
     "name": "stdout",
     "output_type": "stream",
     "text": [
      "Successfully estimated p-values\n",
      "cell-cell metric not found. Computing metric...\n"
     ]
    },
    {
     "name": "stderr",
     "output_type": "stream",
     "text": [
      "\r",
      "100%|██████████| 1000/1000 [00:00<00:00, 5955.97it/s]"
     ]
    },
    {
     "name": "stdout",
     "output_type": "stream",
     "text": [
      "Successfully computed cell-cell metric\n",
      "Computing Psix score in 3354 exons\n"
     ]
    },
    {
     "name": "stderr",
     "output_type": "stream",
     "text": [
      "\n",
      "100%|██████████| 3354/3354 [00:33<00:00, 99.00it/s]  \n"
     ]
    },
    {
     "name": "stdout",
     "output_type": "stream",
     "text": [
      "Successfully computed Psix score of exons.\n",
      "...\n",
      "\n",
      "Estimating p-values. This might take a while...\n"
     ]
    },
    {
     "name": "stderr",
     "output_type": "stream",
     "text": [
      "100%|██████████| 25/25 [08:26<00:00, 20.26s/it]  \n",
      " 91%|█████████▏| 914/1000 [00:00<00:00, 4601.07it/s]"
     ]
    },
    {
     "name": "stdout",
     "output_type": "stream",
     "text": [
      "Successfully estimated p-values\n",
      "cell-cell metric not found. Computing metric...\n"
     ]
    },
    {
     "name": "stderr",
     "output_type": "stream",
     "text": [
      "\r",
      "100%|██████████| 1000/1000 [00:00<00:00, 4533.01it/s]"
     ]
    },
    {
     "name": "stdout",
     "output_type": "stream",
     "text": [
      "Successfully computed cell-cell metric\n",
      "Computing Psix score in 3354 exons\n"
     ]
    },
    {
     "name": "stderr",
     "output_type": "stream",
     "text": [
      "\n",
      "100%|██████████| 3354/3354 [00:34<00:00, 97.29it/s]  \n"
     ]
    },
    {
     "name": "stdout",
     "output_type": "stream",
     "text": [
      "Successfully computed Psix score of exons.\n",
      "...\n",
      "\n",
      "Estimating p-values. This might take a while...\n"
     ]
    },
    {
     "name": "stderr",
     "output_type": "stream",
     "text": [
      "100%|██████████| 25/25 [08:20<00:00, 20.03s/it]  \n",
      " 36%|███▌      | 361/1000 [00:00<00:00, 3606.24it/s]"
     ]
    },
    {
     "name": "stdout",
     "output_type": "stream",
     "text": [
      "Successfully estimated p-values\n",
      "cell-cell metric not found. Computing metric...\n"
     ]
    },
    {
     "name": "stderr",
     "output_type": "stream",
     "text": [
      "100%|██████████| 1000/1000 [00:00<00:00, 3565.48it/s]"
     ]
    },
    {
     "name": "stdout",
     "output_type": "stream",
     "text": [
      "Successfully computed cell-cell metric\n",
      "Computing Psix score in 3354 exons\n"
     ]
    },
    {
     "name": "stderr",
     "output_type": "stream",
     "text": [
      "\n",
      "100%|██████████| 3354/3354 [00:34<00:00, 95.90it/s]  \n"
     ]
    },
    {
     "name": "stdout",
     "output_type": "stream",
     "text": [
      "Successfully computed Psix score of exons.\n",
      "...\n",
      "\n",
      "Estimating p-values. This might take a while...\n"
     ]
    },
    {
     "name": "stderr",
     "output_type": "stream",
     "text": [
      "100%|██████████| 25/25 [08:31<00:00, 20.47s/it]  \n",
      " 25%|██▍       | 248/1000 [00:00<00:00, 2476.35it/s]"
     ]
    },
    {
     "name": "stdout",
     "output_type": "stream",
     "text": [
      "Successfully estimated p-values\n",
      "cell-cell metric not found. Computing metric...\n"
     ]
    },
    {
     "name": "stderr",
     "output_type": "stream",
     "text": [
      "100%|██████████| 1000/1000 [00:00<00:00, 2461.45it/s]"
     ]
    },
    {
     "name": "stdout",
     "output_type": "stream",
     "text": [
      "Successfully computed cell-cell metric\n",
      "Computing Psix score in 3354 exons\n"
     ]
    },
    {
     "name": "stderr",
     "output_type": "stream",
     "text": [
      "\n",
      "100%|██████████| 3354/3354 [00:35<00:00, 95.15it/s]  \n"
     ]
    },
    {
     "name": "stdout",
     "output_type": "stream",
     "text": [
      "Successfully computed Psix score of exons.\n",
      "...\n",
      "\n",
      "Estimating p-values. This might take a while...\n"
     ]
    },
    {
     "name": "stderr",
     "output_type": "stream",
     "text": [
      "100%|██████████| 25/25 [08:25<00:00, 20.24s/it]  \n",
      " 23%|██▎       | 231/1000 [00:00<00:00, 2304.63it/s]"
     ]
    },
    {
     "name": "stdout",
     "output_type": "stream",
     "text": [
      "Successfully estimated p-values\n",
      "cell-cell metric not found. Computing metric...\n"
     ]
    },
    {
     "name": "stderr",
     "output_type": "stream",
     "text": [
      "100%|██████████| 1000/1000 [00:00<00:00, 2274.52it/s]"
     ]
    },
    {
     "name": "stdout",
     "output_type": "stream",
     "text": [
      "Successfully computed cell-cell metric\n",
      "Computing Psix score in 3354 exons\n"
     ]
    },
    {
     "name": "stderr",
     "output_type": "stream",
     "text": [
      "\n",
      "100%|██████████| 3354/3354 [00:34<00:00, 96.02it/s]  \n"
     ]
    },
    {
     "name": "stdout",
     "output_type": "stream",
     "text": [
      "Successfully computed Psix score of exons.\n",
      "...\n",
      "\n",
      "Estimating p-values. This might take a while...\n"
     ]
    },
    {
     "name": "stderr",
     "output_type": "stream",
     "text": [
      "100%|██████████| 25/25 [08:25<00:00, 20.22s/it]  \n",
      " 16%|█▌        | 157/1000 [00:00<00:00, 1565.14it/s]"
     ]
    },
    {
     "name": "stdout",
     "output_type": "stream",
     "text": [
      "Successfully estimated p-values\n",
      "cell-cell metric not found. Computing metric...\n"
     ]
    },
    {
     "name": "stderr",
     "output_type": "stream",
     "text": [
      "100%|██████████| 1000/1000 [00:00<00:00, 1680.69it/s]"
     ]
    },
    {
     "name": "stdout",
     "output_type": "stream",
     "text": [
      "Successfully computed cell-cell metric\n",
      "Computing Psix score in 3354 exons\n"
     ]
    },
    {
     "name": "stderr",
     "output_type": "stream",
     "text": [
      "\n",
      "100%|██████████| 3354/3354 [00:34<00:00, 96.18it/s]  \n"
     ]
    },
    {
     "name": "stdout",
     "output_type": "stream",
     "text": [
      "Successfully computed Psix score of exons.\n",
      "...\n",
      "\n",
      "Estimating p-values. This might take a while...\n"
     ]
    },
    {
     "name": "stderr",
     "output_type": "stream",
     "text": [
      "100%|██████████| 25/25 [08:24<00:00, 20.19s/it]  \n"
     ]
    },
    {
     "name": "stdout",
     "output_type": "stream",
     "text": [
      "Successfully estimated p-values\n"
     ]
    }
   ],
   "source": [
    "import os\n",
    "psix_three_lineages_1 = psix.Psix()\n",
    "psix_three_lineages_1.process_rnaseq(\n",
    "        'three_lineages/processed_tables/SE_counts_0.1.tab.gz',\n",
    "        'three_lineages/processed_tables/constitutive_introns_0.1.tab.gz',\n",
    "        'three_lineages/processed_tables/tpm_0.1.tab.gz',\n",
    "        minJR = 1,\n",
    "        minCell=1,\n",
    "        min_observed = 0.25)\n",
    "\n",
    "# os.mkdir('k_sensitivity_3lineages/')\n",
    "\n",
    "\n",
    "psix_three_lineages_1.compute_psix_scores(latent='three_lineages/processed_tables/pc2_rd.tab.gz', n_jobs=25,\n",
    "                                n_random_exons=2000, n_neighbors=5)\n",
    "psix_three_lineages_1.psix_results.to_csv('k_sensitivity_3lineages/k_5.tab.gz', sep='\\t', index=True, header=True)\n",
    "\n",
    "psix_three_lineages_1.compute_psix_scores(latent='three_lineages/processed_tables/pc2_rd.tab.gz', n_jobs=25,\n",
    "                                n_random_exons=2000, n_neighbors=10)\n",
    "psix_three_lineages_1.psix_results.to_csv('k_sensitivity_3lineages/k_10.tab.gz', sep='\\t', index=True, header=True)\n",
    "\n",
    "\n",
    "psix_three_lineages_1.compute_psix_scores(latent='three_lineages/processed_tables/pc2_rd.tab.gz', n_jobs=25,\n",
    "                                n_random_exons=2000, n_neighbors=20)\n",
    "psix_three_lineages_1.psix_results.to_csv('k_sensitivity_3lineages/k_20.tab.gz', sep='\\t', index=True, header=True)\n",
    "\n",
    "\n",
    "psix_three_lineages_1.compute_psix_scores(latent='three_lineages/processed_tables/pc2_rd.tab.gz', n_jobs=25,\n",
    "                                n_random_exons=2000, n_neighbors=30)\n",
    "psix_three_lineages_1.psix_results.to_csv('k_sensitivity_3lineages/k_30.tab.gz', sep='\\t', index=True, header=True)\n",
    "\n",
    "psix_three_lineages_1.compute_psix_scores(latent='three_lineages/processed_tables/pc2_rd.tab.gz', n_jobs=25,\n",
    "                                n_random_exons=2000, n_neighbors=50)\n",
    "psix_three_lineages_1.psix_results.to_csv('k_sensitivity_3lineages/k_50.tab.gz', sep='\\t', index=True, header=True)\n",
    "\n",
    "psix_three_lineages_1.compute_psix_scores(latent='three_lineages/processed_tables/pc2_rd.tab.gz', n_jobs=25,\n",
    "                                n_random_exons=2000, n_neighbors=100)\n",
    "psix_three_lineages_1.psix_results.to_csv('k_sensitivity_3lineages/k_100.tab.gz', sep='\\t', index=True, header=True)\n",
    "\n",
    "psix_three_lineages_1.compute_psix_scores(latent='three_lineages/processed_tables/pc2_rd.tab.gz', n_jobs=25,\n",
    "                                n_random_exons=2000, n_neighbors=150)\n",
    "psix_three_lineages_1.psix_results.to_csv('k_sensitivity_3lineages/k_150.tab.gz', sep='\\t', index=True, header=True)\n",
    "\n",
    "psix_three_lineages_1.compute_psix_scores(latent='three_lineages/processed_tables/pc2_rd.tab.gz', n_jobs=25,\n",
    "                                n_random_exons=2000, n_neighbors=200)\n",
    "psix_three_lineages_1.psix_results.to_csv('k_sensitivity_3lineages/k_200.tab.gz', sep='\\t', index=True, header=True)\n",
    "\n",
    "psix_three_lineages_1.compute_psix_scores(latent='three_lineages/processed_tables/pc2_rd.tab.gz', n_jobs=25,\n",
    "                                n_random_exons=2000, n_neighbors=250)\n",
    "psix_three_lineages_1.psix_results.to_csv('k_sensitivity_3lineages/k_250.tab.gz', sep='\\t', index=True, header=True)\n",
    "\n",
    "psix_three_lineages_1.compute_psix_scores(latent='three_lineages/processed_tables/pc2_rd.tab.gz', n_jobs=25,\n",
    "                                n_random_exons=2000, n_neighbors=300)\n",
    "psix_three_lineages_1.psix_results.to_csv('k_sensitivity_3lineages/k_300.tab.gz', sep='\\t', index=True, header=True)\n",
    "\n",
    "psix_three_lineages_1.compute_psix_scores(latent='three_lineages/processed_tables/pc2_rd.tab.gz', n_jobs=25,\n",
    "                                n_random_exons=2000, n_neighbors=400)\n",
    "psix_three_lineages_1.psix_results.to_csv('k_sensitivity_3lineages/k_400.tab.gz', sep='\\t', index=True, header=True)\n",
    "\n",
    "psix_three_lineages_1.compute_psix_scores(latent='three_lineages/processed_tables/pc2_rd.tab.gz', n_jobs=25,\n",
    "                                n_random_exons=2000, n_neighbors=500)\n",
    "psix_three_lineages_1.psix_results.to_csv('k_sensitivity_3lineages/k_500.tab.gz', sep='\\t', index=True, header=True)\n"
   ]
  },
  {
   "cell_type": "code",
   "execution_count": 3,
   "metadata": {},
   "outputs": [],
   "source": [
    "psix_5 = pd.read_csv('k_sensitivity_3lineages/k_5.tab.gz', sep='\\t', index_col=0)\n",
    "psix_10 = pd.read_csv('k_sensitivity_3lineages/k_10.tab.gz', sep='\\t', index_col=0)\n",
    "psix_20 = pd.read_csv('k_sensitivity_3lineages/k_20.tab.gz', sep='\\t', index_col=0)\n",
    "psix_30 = pd.read_csv('k_sensitivity_3lineages/k_30.tab.gz', sep='\\t', index_col=0)\n",
    "psix_50 = pd.read_csv('k_sensitivity_3lineages/k_50.tab.gz', sep='\\t', index_col=0)\n",
    "psix_100 = pd.read_csv('k_sensitivity_3lineages/k_100.tab.gz', sep='\\t', index_col=0)\n",
    "psix_150 = pd.read_csv('k_sensitivity_3lineages/k_150.tab.gz', sep='\\t', index_col=0)\n",
    "psix_200 = pd.read_csv('k_sensitivity_3lineages/k_200.tab.gz', sep='\\t', index_col=0)\n",
    "psix_300 = pd.read_csv('k_sensitivity_3lineages/k_300.tab.gz', sep='\\t', index_col=0)\n",
    "psix_400 = pd.read_csv('k_sensitivity_3lineages/k_400.tab.gz', sep='\\t', index_col=0)\n",
    "psix_500 = pd.read_csv('k_sensitivity_3lineages/k_500.tab.gz', sep='\\t', index_col=0)"
   ]
  },
  {
   "cell_type": "code",
   "execution_count": 5,
   "metadata": {},
   "outputs": [],
   "source": [
    "from scipy.special import logit, expit\n",
    "from sklearn.metrics import precision_recall_curve\n",
    "from sklearn.metrics import recall_score\n",
    "from sklearn.metrics import f1_score\n",
    "from sklearn.metrics import auc\n",
    "\n",
    "platonic_psi = pd.read_csv('three_lineages/sim_output/psi_platonic.tab.gz', sep='\\t', \n",
    "                               names = ['cell_'+str(i+1) for i in range(1000)])\n",
    "platonic_psi.index = ['gene' + str(i+1) for i in range(5000)]\n",
    "\n",
    "platonic_psi = expit(platonic_psi)\n"
   ]
  },
  {
   "cell_type": "code",
   "execution_count": 9,
   "metadata": {},
   "outputs": [
    {
     "data": {
      "text/plain": [
       "<matplotlib.collections.PathCollection at 0x7fcb75fa9750>"
      ]
     },
     "execution_count": 9,
     "metadata": {},
     "output_type": "execute_result"
    },
    {
     "data": {
      "image/png": "[encoded data removed]",
      "text/plain": [
       "<Figure size 432x288 with 1 Axes>"
      ]
     },
     "metadata": {
      "needs_background": "light"
     },
     "output_type": "display_data"
    }
   ],
   "source": [
    "from scipy.special import logit, expit\n",
    "from sklearn.metrics import precision_recall_curve\n",
    "from sklearn.metrics import recall_score\n",
    "from sklearn.metrics import f1_score\n",
    "from sklearn.metrics import auc\n",
    "from sklearn.metrics import precision_score\n",
    "\n",
    "names = pd.Index(['gene' + str(i) for i in range(1, 5001)]) & psix_5.index\n",
    "\n",
    "pos = []\n",
    "neg = []\n",
    "order = []\n",
    "y = []\n",
    "for i in range(5000):\n",
    "    if ('gene'+str(i+1)) in psix_5.index:\n",
    "\n",
    "        if (platonic_psi.loc['gene'+str(i+1)].max() - platonic_psi.loc['gene'+str(i+1)].min()) >= 0.2:\n",
    "            y.append(1)\n",
    "            pos.append('gene'+str(i+1))\n",
    "            order.append('gene'+str(i+1))\n",
    "        else:\n",
    "#         elif ds[i] == 0:\n",
    "            neg.append('gene'+str(i+1))\n",
    "            y.append(0)\n",
    "            order.append('gene'+str(i+1))\n",
    "    \n",
    "    \n",
    "\n",
    "recall_list = [f1_score(y, x.loc[order].qvals <= 0.05) for x in [psix_5, psix_10, psix_20, psix_30, psix_50, psix_100, \n",
    "                                                                psix_150, psix_200, psix_300, psix_400, psix_500]]\n",
    "plt.scatter(range(len(recall_list)), recall_list)"
   ]
  },
  {
   "cell_type": "code",
   "execution_count": 7,
   "metadata": {},
   "outputs": [
    {
     "data": {
      "text/plain": [
       "<matplotlib.collections.PathCollection at 0x7fcb76454990>"
      ]
     },
     "execution_count": 7,
     "metadata": {},
     "output_type": "execute_result"
    },
    {
     "data": {
      "image/png": "[encoded data removed]",
      "text/plain": [
       "<Figure size 432x288 with 1 Axes>"
      ]
     },
     "metadata": {
      "needs_background": "light"
     },
     "output_type": "display_data"
    }
   ],
   "source": [
    "from scipy.special import logit, expit\n",
    "from sklearn.metrics import precision_recall_curve\n",
    "from sklearn.metrics import recall_score\n",
    "from sklearn.metrics import f1_score\n",
    "from sklearn.metrics import auc\n",
    "\n",
    "names = pd.Index(['gene' + str(i) for i in range(1, 5001)]) & psix_5.index\n",
    "\n",
    "pos = []\n",
    "neg = []\n",
    "order = []\n",
    "y = []\n",
    "for i in range(5000):\n",
    "    if ('gene'+str(i+1)) in psix_5.index:\n",
    "\n",
    "        if (platonic_psi.loc['gene'+str(i+1)].max() - platonic_psi.loc['gene'+str(i+1)].min()) >= 0.2:\n",
    "            y.append(1)\n",
    "            pos.append('gene'+str(i+1))\n",
    "            order.append('gene'+str(i+1))\n",
    "        else:\n",
    "#         elif ds[i] == 0:\n",
    "            neg.append('gene'+str(i+1))\n",
    "            y.append(0)\n",
    "            order.append('gene'+str(i+1))\n",
    "    \n",
    "    \n",
    "recall_list = []\n",
    "for x in [psix_5, psix_10, psix_20, psix_30, psix_50, psix_100, psix_150, psix_200, psix_300, psix_400, psix_500]:\n",
    "    pre, rec, thres = precision_recall_curve(y, x.loc[order].psix_score)\n",
    "    \n",
    "    recall_list.append(auc(rec, pre))\n",
    "\n",
    "# recall_list = [f1_score(y, x.loc[order].qvals <= 0.05) for x in [psix_5, psix_10, psix_20, psix_30, psix_50, psix_100, \n",
    "#                                                                 psix_150, psix_200, psix_300, psix_400, psix_500]]\n",
    "plt.scatter(range(len(recall_list)), recall_list)"
   ]
  },
  {
   "cell_type": "code",
   "execution_count": 10,
   "metadata": {},
   "outputs": [
    {
     "data": {
      "text/plain": [
       "<matplotlib.collections.PathCollection at 0x7fcb71deafd0>"
      ]
     },
     "execution_count": 10,
     "metadata": {},
     "output_type": "execute_result"
    },
    {
     "data": {
      "image/png": "[encoded data removed]",
      "text/plain": [
       "<Figure size 432x288 with 1 Axes>"
      ]
     },
     "metadata": {
      "needs_background": "light"
     },
     "output_type": "display_data"
    }
   ],
   "source": [
    "pos = []\n",
    "neg = []\n",
    "for i in range(5000):\n",
    "    if ('gene'+str(i+1)) in psix_5.index:\n",
    "\n",
    "        if (platonic_psi.loc['gene'+str(i+1)].max() - platonic_psi.loc['gene'+str(i+1)].min()) >= 0.2:\n",
    "            pos.append('gene'+str(i+1))\n",
    "        else:\n",
    "        #elif ds[i] == 0:\n",
    "            neg.append('gene'+str(i+1))\n",
    "\n",
    "    \n",
    "labels = [1]*len(pos) + [0]*len(neg)\n",
    "order = list(pos) + list(neg)\n",
    "\n",
    "    \n",
    "y_ = list(((platonic_psi.max(axis=1) - platonic_psi.min(axis=1)) >= 0.2).astype(int).loc[order])\n",
    "\n",
    "recall_list = []\n",
    "for x in [psix_5, psix_10, psix_20, psix_30, psix_50, psix_100, psix_150, psix_200, psix_300, psix_400, psix_500]:\n",
    "    pre, rec, thres = precision_recall_curve(y_, x.loc[order].psix_score)\n",
    "    \n",
    "    recall_list.append(auc(rec, pre))\n",
    "\n",
    "plt.scatter([0.5, 1, 2, 3, 5, 10, 15, 20, 30, 40, 50], recall_list)"
   ]
  },
  {
   "cell_type": "code",
   "execution_count": 11,
   "metadata": {},
   "outputs": [],
   "source": [
    "pos = []\n",
    "neg = []\n",
    "for i in range(5000):\n",
    "    if ('gene'+str(i+1)) in psix_5.index:\n",
    "\n",
    "        if (platonic_psi.loc['gene'+str(i+1)].max() - platonic_psi.loc['gene'+str(i+1)].min()) >= 0.2:\n",
    "            pos.append('gene'+str(i+1))\n",
    "        else:\n",
    "        #elif ds[i] == 0:\n",
    "            neg.append('gene'+str(i+1))\n",
    "\n",
    "    \n",
    "labels = [1]*len(pos) + [0]*len(neg)\n",
    "order = list(pos) + list(neg)\n",
    "\n",
    "    \n",
    "y_ = list(((platonic_psi.max(axis=1) - platonic_psi.min(axis=1)) >= 0.2).astype(int).loc[order])\n",
    "\n",
    "boxplot_list = []\n",
    "for x in [psix_5, psix_10, psix_20, psix_30, psix_50, psix_100, psix_150, psix_200, psix_300, psix_400, psix_500]:\n",
    "    \n",
    "    box = []\n",
    "    for i in range(200):\n",
    "        \n",
    "        pos_sample = np.random.choice(pos, int(len(pos)*0.2), replace=False)\n",
    "        neg_sample = np.random.choice(neg, int(len(neg)*0.2), replace=False)\n",
    "\n",
    "        labels = [1]*len(pos_sample) + [0]*len(neg_sample)\n",
    "        order = list(pos_sample) + list(neg_sample)\n",
    "\n",
    "\n",
    "        y_ = list(((platonic_psi.max(axis=1) - platonic_psi.min(axis=1)) >= 0.2).astype(int).loc[order])\n",
    "        \n",
    "        \n",
    "        pre, rec, thres = precision_recall_curve(y_, x.loc[order].psix_score)\n",
    "    \n",
    "        box.append(auc(rec, pre))\n",
    "\n",
    "    boxplot_list.append(box)"
   ]
  },
  {
   "cell_type": "code",
   "execution_count": 68,
   "metadata": {},
   "outputs": [
    {
     "data": {
      "text/plain": [
       "([<matplotlib.axis.XTick at 0x7fcb6fe77190>,\n",
       "  <matplotlib.axis.XTick at 0x7fcb6fe77790>,\n",
       "  <matplotlib.axis.XTick at 0x7fcb6fe77210>,\n",
       "  <matplotlib.axis.XTick at 0x7fcb70340f90>,\n",
       "  <matplotlib.axis.XTick at 0x7fcb704cbe10>,\n",
       "  <matplotlib.axis.XTick at 0x7fcb70033b90>,\n",
       "  <matplotlib.axis.XTick at 0x7fcb7004ec50>],\n",
       " [Text(0, 0, '0.5%'),\n",
       "  Text(0, 0, '1%'),\n",
       "  Text(0, 0, '2%'),\n",
       "  Text(0, 0, '5%'),\n",
       "  Text(0, 0, '10%'),\n",
       "  Text(0, 0, '20%'),\n",
       "  Text(0, 0, '50%')])"
      ]
     },
     "execution_count": 68,
     "metadata": {},
     "output_type": "execute_result"
    },
    {
     "data": {
      "image/png": "[encoded data removed]",
      "text/plain": [
       "<Figure size 432x288 with 1 Axes>"
      ]
     },
     "metadata": {
      "needs_background": "light"
     },
     "output_type": "display_data"
    }
   ],
   "source": [
    "plt.fill_between(np.log10(np.array([0.5, 1, 2, 3, 5, 10, 15, 20, 30, 40, 50])), [np.quantile(x, 0.05) for x in boxplot_list], \n",
    "                 [np.quantile(x, 0.95) for x in boxplot_list], color='skyblue')\n",
    "plt.plot([1, 1], [np.quantile(boxplot_list[0], 0.05), recall_list[5]], linestyle='--', c='gray')\n",
    "\n",
    "plt.scatter(np.log10(np.array([0.5, 1, 2, 3, 5, 10, 15, 20, 30, 40, 50])), recall_list, c='navy', zorder=20)\n",
    "\n",
    "plt.plot(np.log10(np.array([0.5, 1, 2, 3, 5, 10, 15, 20, 30, 40, 50])), recall_list, c='navy', zorder=20)\n",
    "\n",
    "plt.xticks(np.log10(np.array([0.5, 1, 2, 5, 10, 20, 50])),\n",
    "          ['0.5%', '1%', '2%', '5%', '10%', '20%', '50%'])\n",
    "# plt.boxplot(boxplot_list, positions=[0.5, 1, 2, 3, 5, 10, 15, 20, 30, 40, 50])"
   ]
  },
  {
   "cell_type": "code",
   "execution_count": 81,
   "metadata": {},
   "outputs": [
    {
     "data": {
      "image/png": "[encoded data removed]",
      "text/plain": [
       "<Figure size 180x120 with 1 Axes>"
      ]
     },
     "metadata": {
      "needs_background": "light"
     },
     "output_type": "display_data"
    }
   ],
   "source": [
    "plt.rcParams[\"axes.edgecolor\"] = \"black\"\n",
    "plt.rcParams[\"axes.linewidth\"] = 1\n",
    "plt.rcParams[\"axes.facecolor\"] = 'white'\n",
    "\n",
    "import matplotlib as mpl\n",
    "import numpy as np\n",
    "from matplotlib import pyplot as plt\n",
    "\n",
    "mpl.rcParams[\"mathtext.fontset\"] = \"stix\"\n",
    "mpl.rcParams['pdf.fonttype'] = 42\n",
    "\n",
    "fig = plt.figure(figsize=(6/2.4, 4/2.4))\n",
    "ax = fig.add_subplot(111)\n",
    "\n",
    "ax.fill_between(np.log10(np.array([0.5, 1, 2, 3, 5, 10, 15, 20, 30, 40, 50])), [np.quantile(x, 0.05) for x in boxplot_list], \n",
    "                 [np.quantile(x, 0.95) for x in boxplot_list], color='skyblue')\n",
    "\n",
    "ax.plot([1, 1], [np.quantile(boxplot_list[0], 0.05), recall_list[5]], linestyle='--', c='gray')\n",
    "\n",
    "ax.scatter(np.log10(np.array([0.5, 1, 2, 3, 5, 10, 15, 20, 30, 40, 50])), recall_list, c='navy', zorder=20, s=20)\n",
    "\n",
    "ax.plot(np.log10(np.array([0.5, 1, 2, 3, 5, 10, 15, 20, 30, 40, 50])), recall_list, c='navy', zorder=20)\n",
    "\n",
    "ax.set_xticks(np.log10(np.array([0.5, 1, 2, 5, 10, 20, 50])))\n",
    "\n",
    "ax.set_xticklabels(['0.5%', '1%', '2%', '5%', '10%', '20%', '50%'], size=8)\n",
    "\n",
    "ax.set_xlabel('Neighborhood size - population percent', size=8)\n",
    "\n",
    "ax.set_yticks([0.7, 0.8, 0.9])\n",
    "ax.set_yticklabels(['0.7', '0.8', '0.9'], size=8)\n",
    "ax.set_ylabel('AU Pre-Rec curve', size=8)\n",
    "\n",
    "ax.spines[\"right\"].set_visible(False)\n",
    "ax.spines[\"top\"].set_visible(False)\n",
    "\n",
    "# ax.set_xlim([-0.5, 12])\n",
    "\n",
    "plt.savefig('three_lineages/sub_plots/three_lineages_kauc.png', bbox_inches='tight', res=20000, dpi =2000)\n"
   ]
  },
  {
   "cell_type": "code",
   "execution_count": null,
   "metadata": {},
   "outputs": [],
   "source": []
  }
 ],
 "metadata": {
  "kernelspec": {
   "display_name": "Python 3",
   "language": "python",
   "name": "python3"
  },
  "language_info": {
   "codemirror_mode": {
    "name": "ipython",
    "version": 3
   },
   "file_extension": ".py",
   "mimetype": "text/x-python",
   "name": "python",
   "nbconvert_exporter": "python",
   "pygments_lexer": "ipython3",
   "version": "3.7.6"
  }
 },
 "nbformat": 4,
 "nbformat_minor": 4
}
