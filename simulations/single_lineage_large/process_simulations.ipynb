{
 "cells": [
  {
   "cell_type": "code",
   "execution_count": 3,
   "metadata": {},
   "outputs": [],
   "source": [
    "import numpy as np\n",
    "import pandas as pd\n",
    "from tqdm import tqdm\n",
    "import seaborn as sns\n",
    "from scipy.stats import zscore\n",
    "import umap\n",
    "from sklearn.decomposition import PCA\n",
    "import warnings\n",
    "warnings.filterwarnings('ignore')\n",
    "import subprocess as sp\n",
    "import os\n",
    "import sys\n",
    "#sys.path.insert(0, '/mnt/lareaulab/cfbuenabadn/sc_simulations/utils/')\n",
    "from scipy.special import logit, expit\n",
    "from scipy.stats import norm\n",
    "from matplotlib import pyplot as plt\n",
    "\n",
    "#sys.path.insert(0, '/mnt/lareaulab/cfbuenabadn/sc_splicing_tools/preprocess_utils')\n",
    "#from table_utils import *\n",
    "\n",
    "from sklearn.neighbors import NearestNeighbors\n",
    "\n",
    "import matplotlib as mpl\n",
    "mpl.rcParams[\"mathtext.fontset\"] = \"stix\"\n",
    "mpl.rcParams['pdf.fonttype'] = 42"
   ]
  },
  {
   "cell_type": "code",
   "execution_count": 4,
   "metadata": {},
   "outputs": [],
   "source": [
    "def simulate_observed_psi(reads_table_path, gene_len_file, n=500, g=1500, read_len=50, anchor_len=1, \n",
    "                          header=False, index=False, out_dir = 'processed_tables/', extension=''):\n",
    "    '''\n",
    "    input:\n",
    "    * reads_table_path (str): path to the table with isoform read counts. \n",
    "      Should have a (2g,n) dimension.\n",
    "    * n (int): number of cells in the simulation (columns)\n",
    "    * g (int): number of genes in the simulation. Isoforms are 2g.\n",
    "    * read_len (int): length of sequencing reads simulated. Here we simulate single-end sequencing.\n",
    "    * anchor_len (int >= 1): length of nucleotides required to overlap a splice junction.\n",
    "    \n",
    "    output:\n",
    "    * observed_psi (df): dataframe (g,n) with observed PSI, estimated as included_reads/(included_reads + 2* excluded_reads)\n",
    "        NA for cases where reads_i + reads_e == 0.\n",
    "        This table is what you normally would observe in the data, and it's a distorted picture of true_psi\n",
    "    * reads_i (df): dataframe (g,n) with counts of reads that cover informative splice junctions for mRNAs that include the exon.\n",
    "        We do not make a difference between either splice junction, but that could be modeled later.\n",
    "    * reads_e (df): dataframe (g,n) with counts of reads that cover informative splice junctions for mRNAs that exclude the exon.\n",
    "      \n",
    "    Description:    \n",
    "      Get the observed ratio of isoform reads from SymSim output.\n",
    "      No splicing junction downsampling.\n",
    "    \n",
    "      Assumes that the original table's shape is (n, 2g). The first \n",
    "      g rows correspond to the \"included\" isoforms. The latter g rows\n",
    "      correspond to the \"excluded\" isoform (order is preserved).\n",
    "    \n",
    "      Originally used for reads before I realized the bias SymSim introduces \n",
    "      when gene length is set as constant.\n",
    "    \n",
    "      Used to get the true PSI of each exon in each cell.\n",
    "    '''\n",
    "    \n",
    "    if not os.path.isdir(out_dir):\n",
    "        os.mkdir(out_dir)\n",
    "    \n",
    "    gene_len = np.array([int(x.rstrip()) for x in open(gene_len_file).readlines()])\n",
    "\n",
    "    \n",
    "    np.random.seed(0)\n",
    "    \n",
    "    if anchor_len < 1:\n",
    "        raise Exception('Anchor length has to be at least 1 nt long.')\n",
    "    \n",
    "    gene_len_i = gene_len[:g]\n",
    "    gene_len_e = gene_len[g:(2*g)]\n",
    "    \n",
    "    biases_i = (2*(read_len-anchor_len))/gene_len_i\n",
    "    biases_e = (2*(read_len-anchor_len))/gene_len_e\n",
    "    \n",
    "    if header and index:\n",
    "        print('prueba')\n",
    "        reads_table = pd.read_csv(reads_table_path, sep='\\t', index_col=0).astype(float)\n",
    "        reads_table.columns = ['cell_' + str(i) for i in range(1, n+1)]\n",
    "    elif header and not index:\n",
    "        reads_table = pd.read_csv(reads_table_path, sep='\\t', index_col=None).astype(float)\n",
    "    else:\n",
    "        reads_table = pd.read_csv(reads_table_path, sep='\\t', names = ['cell_' + str(i) for i in range(1, n+1)]).astype(float)\n",
    "    \n",
    "    reads_table.index = range(len(reads_table.index))\n",
    "    \n",
    "    i = reads_table.iloc[:g]\n",
    "    e = reads_table.iloc[g:(2*g)].reset_index(drop=True)\n",
    "    \n",
    "    adj_reads_table = reads_table.divide(gene_len, axis=0)\n",
    "    \n",
    "    tpm_isoforms = 1e6*(adj_reads_table.divide(adj_reads_table.sum()))\n",
    "    \n",
    "    tpm_i = tpm_isoforms.iloc[:g]\n",
    "    tpm_e = tpm_isoforms.iloc[g:(2*g)].reset_index(drop=True)\n",
    "    \n",
    "    tpm = tpm_i + tpm_e\n",
    "    \n",
    "    total_observed_reads= pd.DataFrame(i+e)\n",
    "    \n",
    "    \n",
    "    reads_i1 = pd.DataFrame(np.array([np.random.binomial(i.loc[x], biases_i[x]) for x in i.index]))\n",
    "    reads_i2 = pd.DataFrame(np.array([np.random.binomial(i.loc[x], biases_i[x]) for x in i.index]))\n",
    "    reads_e = pd.DataFrame(np.array([np.random.binomial(e.loc[x], biases_e[x]) for x in e.index]))\n",
    "    \n",
    "    reads_i = reads_i1 + reads_i2\n",
    "\n",
    "    observed_psi = reads_i/(reads_i + 2*reads_e)\n",
    "    \n",
    "    cells = ['cell_' + str(i) for i in range(1, n+1)]\n",
    "    genes = ['gene' + str(i) for i in range(1, g+1)]\n",
    "    \n",
    "    total_observed_reads.index = genes\n",
    "    total_observed_reads.columns = cells\n",
    "    \n",
    "    tpm.index = genes\n",
    "    tpm.columns = cells\n",
    "\n",
    "    observed_psi.index = genes\n",
    "    reads_i1.index = [x + '_I1' for x in genes]\n",
    "    reads_i2.index = [x + '_I2' for x in genes]\n",
    "    reads_e.index = [x + '_SE' for x in genes]\n",
    "    \n",
    "    observed_psi.columns = cells\n",
    "    reads_i1.columns = cells\n",
    "    reads_i2.columns = cells\n",
    "    reads_e.columns = cells\n",
    "    \n",
    "    splice_junction_reads = pd.concat((reads_i1, reads_i2, reads_e))\n",
    "    \n",
    "    \n",
    "        \n",
    "    biases_const_i = (2*(read_len-anchor_len))/gene_len_i\n",
    "    biases_const_e = (2*(read_len-anchor_len))/gene_len_e\n",
    "\n",
    "    reads_const_i = pd.DataFrame(np.array([np.random.binomial(i.loc[x], biases_const_i[x]) for x in i.index]))\n",
    "    reads_const_e = pd.DataFrame(np.array([np.random.binomial(e.loc[x], biases_const_e[x]) for x in e.index]))\n",
    "\n",
    "    reads_const = reads_const_i + reads_const_e \n",
    "\n",
    "    reads_const.index = [x + '_CI' for x in genes]\n",
    "    reads_const.columns = cells\n",
    "    \n",
    "    \n",
    "    observed_psi.to_csv(out_dir + 'psi_observed{ext}.tab.gz'.format(ext=extension), sep='\\t', index=True, header=True)\n",
    "    splice_junction_reads.to_csv(out_dir + 'SE_counts{ext}.tab.gz'.format(ext=extension), sep='\\t', index=True, header=True)\n",
    "    reads_const.to_csv(out_dir + 'constitutive_introns{ext}.tab.gz'.format(ext=extension), sep='\\t', index=True, header=True)\n",
    "    total_observed_reads.to_csv(out_dir + 'observed_counts{ext}.tab.gz'.format(ext=extension), \n",
    "                                sep='\\t', index=True, header=True)\n",
    "    tpm.to_csv(out_dir + 'tpm{ext}.tab.gz'.format(ext=extension), sep='\\t', index=True, header=True)\n",
    "        \n",
    "        "
   ]
  },
  {
   "cell_type": "code",
   "execution_count": 5,
   "metadata": {},
   "outputs": [],
   "source": [
    "simulate_observed_psi('sim_output/observed_counts_0.1.tab', \n",
    "    'sim_output/isoform_length.txt', \n",
    "    n=1000, g=5000, out_dir = 'processed_tables/', extension='_0.1')\n",
    "\n",
    "simulate_observed_psi('sim_output/observed_counts_0.05.tab', \n",
    "    'sim_output/isoform_length.txt', \n",
    "    n=1000, g=5000, out_dir = 'processed_tables/', extension='_0.05')\n",
    "\n",
    "simulate_observed_psi('sim_output/observed_counts_0.01.tab', \n",
    "    'sim_output/isoform_length.txt', \n",
    "    n=1000, g=5000, out_dir = 'processed_tables/', extension='_0.01')"
   ]
  },
  {
   "cell_type": "code",
   "execution_count": 7,
   "metadata": {},
   "outputs": [],
   "source": [
    "gene_counts = pd.read_csv('sim_output/gene_counts.tab', sep='\\t',\n",
    "                         names = ['cells_'+str(i+1) for i in range(10000)])\n",
    "gene_counts.index = ['gene' + str(i+1) for i in range(5000)]\n",
    "\n",
    "meta = pd.read_csv('sim_output/meta.tab', sep='\\t')\n",
    "meta.index=gene_counts.columns\n",
    "\n",
    "from sklearn.preprocessing import StandardScaler\n",
    "scaled_counts = StandardScaler().fit_transform(np.log1p(gene_counts).T).T"
   ]
  },
  {
   "cell_type": "code",
   "execution_count": 8,
   "metadata": {},
   "outputs": [
    {
     "data": {
      "text/plain": [
       "Text(0.5, 1.0, 'single lineage')"
      ]
     },
     "execution_count": 8,
     "metadata": {},
     "output_type": "execute_result"
    },
    {
     "data": {
      "image/png": "[encoded data removed]",
      "text/plain": [
       "<Figure size 432x288 with 2 Axes>"
      ]
     },
     "metadata": {
      "needs_background": "light"
     },
     "output_type": "display_data"
    }
   ],
   "source": [
    "pca_mrna = PCA(n_components=10)\n",
    "pca_mrna = pca_mrna.fit_transform(scaled_counts.T)\n",
    "\n",
    "sc = plt.scatter(-pca_mrna.T[0], -pca_mrna.T[1], c=meta.lineage_depth)\n",
    "plt.colorbar(sc, label='$\\Psi$')\n",
    "plt.xlabel('PC 1')\n",
    "plt.ylabel('PC 2')\n",
    "plt.title('single lineage')"
   ]
  },
  {
   "cell_type": "code",
   "execution_count": null,
   "metadata": {},
   "outputs": [],
   "source": []
  },
  {
   "cell_type": "code",
   "execution_count": 10,
   "metadata": {},
   "outputs": [],
   "source": [
    "rd = pd.DataFrame(pca_mrna, index = ['cell_' + str(i) for i in range(1, 10001)],\n",
    "                 columns = ['PC_' + str(i) for i in range(1, 11)])\n",
    "rd[['PC_1', 'PC_2']].to_csv('processed_tables/pc2_rd.tab.gz', index=True, header=True, sep='\\t')"
   ]
  },
  {
   "cell_type": "code",
   "execution_count": 11,
   "metadata": {},
   "outputs": [],
   "source": [
    "splice_junction_reads = pd.read_csv('processed_tables/SE_counts_0.1.tab.gz', \n",
    "                                    sep='\\t', index_col=0)\n",
    "reads_const = pd.read_csv('processed_tables/constitutive_introns_0.1.tab.gz', sep='\\t', index_col=0)\n",
    "\n",
    "pd.concat([splice_junction_reads, reads_const]).to_csv('processed_tables/splice_junction_counts_0.1.tab.gz', sep='\\t',\n",
    "                                                      index=True, header=True)"
   ]
  },
  {
   "cell_type": "code",
   "execution_count": null,
   "metadata": {},
   "outputs": [],
   "source": [
    "splice_junction_reads = pd.read_csv('processed_tables/SE_counts_0.05.tab.gz', \n",
    "                                    sep='\\t', index_col=0)\n",
    "reads_const = pd.read_csv('processed_tables/constitutive_introns_0.05.tab.gz', sep='\\t', index_col=0)\n",
    "\n",
    "pd.concat([splice_junction_reads, reads_const]).to_csv('processed_tables/splice_junction_counts_0.05.tab.gz', sep='\\t',\n",
    "                                                      index=True, header=True)"
   ]
  },
  {
   "cell_type": "code",
   "execution_count": 16,
   "metadata": {},
   "outputs": [],
   "source": [
    "splice_junction_reads = pd.read_csv('processed_tables/SE_counts_0.01.tab.gz', \n",
    "                                    sep='\\t', index_col=0)\n",
    "reads_const = pd.read_csv('processed_tables/constitutive_introns_0.01.tab.gz', sep='\\t', index_col=0)\n",
    "\n",
    "pd.concat([splice_junction_reads, reads_const]).to_csv('processed_tables/splice_junction_counts_0.01.tab.gz', sep='\\t',\n",
    "                                                      index=True, header=True)"
   ]
  },
  {
   "cell_type": "code",
   "execution_count": 39,
   "metadata": {},
   "outputs": [],
   "source": [
    "import itertools"
   ]
  },
  {
   "cell_type": "code",
   "execution_count": 40,
   "metadata": {},
   "outputs": [
    {
     "ename": "AttributeError",
     "evalue": "module 'itertools' has no attribute '__version__'",
     "output_type": "error",
     "traceback": [
      "\u001b[0;31m---------------------------------------------------------------------------\u001b[0m",
      "\u001b[0;31mAttributeError\u001b[0m                            Traceback (most recent call last)",
      "\u001b[0;32m<ipython-input-40-52e805d07d5d>\u001b[0m in \u001b[0;36m<module>\u001b[0;34m\u001b[0m\n\u001b[0;32m----> 1\u001b[0;31m \u001b[0mitertools\u001b[0m\u001b[0;34m.\u001b[0m\u001b[0m__version__\u001b[0m\u001b[0;34m\u001b[0m\u001b[0;34m\u001b[0m\u001b[0m\n\u001b[0m",
      "\u001b[0;31mAttributeError\u001b[0m: module 'itertools' has no attribute '__version__'"
     ]
    }
   ],
   "source": [
    "itertools.__version__"
   ]
  },
  {
   "cell_type": "code",
   "execution_count": 41,
   "metadata": {},
   "outputs": [
    {
     "data": {
      "text/plain": [
       "'1.0.3'"
      ]
     },
     "execution_count": 41,
     "metadata": {},
     "output_type": "execute_result"
    }
   ],
   "source": [
    "pd.__version__"
   ]
  },
  {
   "cell_type": "code",
   "execution_count": 32,
   "metadata": {},
   "outputs": [
    {
     "data": {
      "text/plain": [
       "<module 'subprocess' from '/mnt/lareaulab/cfbuenabadn/anaconda3/lib/python3.7/subprocess.py'>"
      ]
     },
     "execution_count": 32,
     "metadata": {},
     "output_type": "execute_result"
    }
   ],
   "source": [
    "subprocess"
   ]
  },
  {
   "cell_type": "code",
   "execution_count": null,
   "metadata": {},
   "outputs": [],
   "source": []
  }
 ],
 "metadata": {
  "kernelspec": {
   "display_name": "Python 3",
   "language": "python",
   "name": "python3"
  },
  "language_info": {
   "codemirror_mode": {
    "name": "ipython",
    "version": 3
   },
   "file_extension": ".py",
   "mimetype": "text/x-python",
   "name": "python",
   "nbconvert_exporter": "python",
   "pygments_lexer": "ipython3",
   "version": "3.7.6"
  }
 },
 "nbformat": 4,
 "nbformat_minor": 4
}
