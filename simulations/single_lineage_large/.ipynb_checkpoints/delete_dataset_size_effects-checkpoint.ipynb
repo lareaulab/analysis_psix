{
 "cells": [
  {
   "cell_type": "code",
   "execution_count": 1,
   "metadata": {},
   "outputs": [],
   "source": [
    "import numpy as np\n",
    "import pandas as pd\n",
    "import psix\n",
    "import os"
   ]
  },
  {
   "cell_type": "code",
   "execution_count": null,
   "metadata": {},
   "outputs": [
    {
     "name": "stdout",
     "output_type": "stream",
     "text": [
      "Collecting splice junctions....\n",
      "Obtaining PSI tables...\n",
      "Reading TPM and transforming to mRNA counts...\n"
     ]
    },
    {
     "name": "stderr",
     "output_type": "stream",
     "text": [
      "100%|██████████| 10000/10000 [03:31<00:00, 47.22it/s]\n"
     ]
    },
    {
     "name": "stdout",
     "output_type": "stream",
     "text": [
      "Successfully processed RNA-seq data\n",
      "Computing cell-cell metric...\n"
     ]
    },
    {
     "name": "stderr",
     "output_type": "stream",
     "text": [
      "100%|██████████| 10000/10000 [00:01<00:00, 7746.69it/s]"
     ]
    },
    {
     "name": "stdout",
     "output_type": "stream",
     "text": [
      "Successfully computed cell-cell metric\n",
      "Computing Psix score in 3468 exons\n"
     ]
    },
    {
     "name": "stderr",
     "output_type": "stream",
     "text": [
      "\n",
      "100%|██████████| 3468/3468 [05:07<00:00, 11.26it/s]    \n"
     ]
    },
    {
     "name": "stdout",
     "output_type": "stream",
     "text": [
      "Successfully computed Psix score of exons.\n",
      "Estimating p-values. This might take a while...\n"
     ]
    },
    {
     "name": "stderr",
     "output_type": "stream",
     "text": [
      "\r",
      "  0%|          | 0/25 [00:00<?, ?it/s]"
     ]
    }
   ],
   "source": [
    "psix_single_lineage = psix.Psix()\n",
    "psix_single_lineage.junctions2psi(\n",
    "        'processed_tables/splice_junction_counts_0.1.tab.gz',\n",
    "        '',\n",
    "        'processed_tables/tpm_0.1.tab.gz',\n",
    "        save_files_in='psix_output_10000/')\n",
    "\n",
    "psix_single_lineage.run_psix(latent='processed_tables/pc2_rd.tab.gz', n_jobs=25,\n",
    "                                n_random_exons=2000, n_neighbors=1000)\n",
    "\n",
    "psix_results = psix_single_lineage.psix_results\n",
    "psix_object.save_psix_object(psix_dir = 'psix_output_10000/psix_object/')\n",
    "\n",
    "\n",
    "\n",
    "os.mkdir('psix_output_10000/k_sensitivity')\n",
    "\n",
    "\n",
    "##################################\n",
    "\n",
    "\n",
    "import os \n",
    "\n",
    "psix_single_lineage.run_psix(latent='processed_tables/pc2_rd.tab.gz', n_jobs=25,\n",
    "                                n_random_exons=2000, n_neighbors=10)\n",
    "psix_single_lineage.psix_results.to_csv('psix_output_10000/k_sensitivity/k_0.001.tab.gz', sep='\\t', index=True, header=True)\n",
    "\n",
    "\n",
    "psix_single_lineage.run_psix(latent='processed_tables/pc2_rd.tab.gz', n_jobs=25,\n",
    "                                n_random_exons=2000, n_neighbors=100)\n",
    "psix_single_lineage.psix_results.to_csv('psix_output_10000/k_sensitivity/k_0.01.tab.gz', sep='\\t', index=True, header=True)\n",
    "\n",
    "psix_single_lineage.run_psix(latent='processed_tables/pc2_rd.tab.gz', n_jobs=25,\n",
    "                                n_random_exons=2000, n_neighbors=500)\n",
    "psix_single_lineage.psix_results.to_csv('psix_output_10000/k_sensitivity/k_0.05.tab.gz', sep='\\t', index=True, header=True)\n",
    "\n",
    "\n",
    "psix_single_lineage.run_psix(latent='processed_tables/pc2_rd.tab.gz', n_jobs=25,\n",
    "                                n_random_exons=2000, n_neighbors=1000)\n",
    "psix_single_lineage.psix_results.to_csv('psix_output_10000/k_sensitivity/k_0.1.tab.gz', sep='\\t', index=True, header=True)\n",
    "\n",
    "psix_single_lineage.run_psix(latent='processed_tables/pc2_rd.tab.gz', n_jobs=25,\n",
    "                                n_random_exons=2000, n_neighbors=1500)\n",
    "psix_single_lineage.psix_results.to_csv('psix_output_10000/k_sensitivity/k_0.15.tab.gz', sep='\\t', index=True, header=True)\n",
    "\n",
    "psix_single_lineage.run_psix(latent='processed_tables/pc2_rd.tab.gz', n_jobs=25,\n",
    "                                n_random_exons=2000, n_neighbors=2000)\n",
    "psix_single_lineage.psix_results.to_csv('psix_output_10000/k_sensitivity/k_0.2.tab.gz', sep='\\t', index=True, header=True)\n",
    "\n",
    "\n",
    "psix_single_lineage.run_psix(latent='processed_tables/pc2_rd.tab.gz', n_jobs=25,\n",
    "                                n_random_exons=2000, n_neighbors=2500)\n",
    "psix_single_lineage.psix_results.to_csv('psix_output_10000/k_sensitivity/k_0.25.tab.gz', sep='\\t', index=True, header=True)\n",
    "\n",
    "psix_single_lineage.run_psix(latent='processed_tables/pc2_rd.tab.gz', n_jobs=25,\n",
    "                                n_random_exons=2000, n_neighbors=5000)\n",
    "psix_single_lineage.psix_results.to_csv('psix_output_10000/k_sensitivity/k_0.5.tab.gz', sep='\\t', index=True, header=True)\n"
   ]
  },
  {
   "cell_type": "code",
   "execution_count": null,
   "metadata": {},
   "outputs": [],
   "source": [
    "psix_single_lineage = psix.Psix()\n",
    "psix_single_lineage.junctions2psi(\n",
    "        'processed_tables/splice_junction_counts_0.1_5000.tab.gz',\n",
    "        '',\n",
    "        'processed_tables/tpm_0.1_5000.tab.gz',\n",
    "        save_files_in='psix_output_5000/')\n",
    "\n",
    "psix_single_lineage.run_psix(latent='processed_tables/pc2_rd_5000.tab.gz', n_jobs=25,\n",
    "                                n_random_exons=2000, n_neighbors=500)\n",
    "\n",
    "psix_results = psix_single_lineage.psix_results\n",
    "psix_object.save_psix_object(psix_dir = 'psix_output_5000/psix_object/')\n",
    "\n",
    "\n",
    "\n",
    "\n",
    "psix_single_lineage.run_psix(latent='processed_tables/pc2_rd.tab.gz', n_jobs=25,\n",
    "                                n_random_exons=2000, n_neighbors=5)\n",
    "psix_single_lineage.psix_results.to_csv('psix_output_5000/k_sensitivity/k_0.001.tab.gz', sep='\\t', index=True, header=True)\n",
    "\n",
    "\n",
    "psix_single_lineage.run_psix(latent='processed_tables/pc2_rd.tab.gz', n_jobs=25,\n",
    "                                n_random_exons=2000, n_neighbors=50)\n",
    "psix_single_lineage.psix_results.to_csv('psix_output_5000/k_sensitivity/k_0.01.tab.gz', sep='\\t', index=True, header=True)\n",
    "\n",
    "psix_single_lineage.run_psix(latent='processed_tables/pc2_rd.tab.gz', n_jobs=25,\n",
    "                                n_random_exons=2000, n_neighbors=250)\n",
    "psix_single_lineage.psix_results.to_csv('psix_output_5000/k_sensitivity/k_0.05.tab.gz', sep='\\t', index=True, header=True)\n",
    "\n",
    "\n",
    "psix_single_lineage.run_psix(latent='processed_tables/pc2_rd.tab.gz', n_jobs=25,\n",
    "                                n_random_exons=2000, n_neighbors=500)\n",
    "psix_single_lineage.psix_results.to_csv('psix_output_5000/k_sensitivity/k_0.1.tab.gz', sep='\\t', index=True, header=True)\n",
    "\n",
    "\n",
    "psix_single_lineage.run_psix(latent='processed_tables/pc2_rd.tab.gz', n_jobs=25,\n",
    "                                n_random_exons=2000, n_neighbors=750)\n",
    "psix_single_lineage.psix_results.to_csv('psix_output_10000/k_sensitivity/k_0.15.tab.gz', sep='\\t', index=True, header=True)\n",
    "\n",
    "\n",
    "psix_single_lineage.run_psix(latent='processed_tables/pc2_rd.tab.gz', n_jobs=25,\n",
    "                                n_random_exons=2000, n_neighbors=1000)\n",
    "psix_single_lineage.psix_results.to_csv('psix_output_5000/k_sensitivity/k_0.2.tab.gz', sep='\\t', index=True, header=True)\n",
    "\n",
    "\n",
    "psix_single_lineage.run_psix(latent='processed_tables/pc2_rd.tab.gz', n_jobs=25,\n",
    "                                n_random_exons=2000, n_neighbors=1250)\n",
    "psix_single_lineage.psix_results.to_csv('psix_output_5000/k_sensitivity/k_0.25.tab.gz', sep='\\t', index=True, header=True)\n",
    "\n",
    "psix_single_lineage.run_psix(latent='processed_tables/pc2_rd.tab.gz', n_jobs=25,\n",
    "                                n_random_exons=2000, n_neighbors=2500)\n",
    "psix_single_lineage.psix_results.to_csv('psix_output_5000/k_sensitivity/k_0.5.tab.gz', sep='\\t', index=True, header=True)\n"
   ]
  },
  {
   "cell_type": "code",
   "execution_count": null,
   "metadata": {},
   "outputs": [],
   "source": [
    "psix_single_lineage = psix.Psix()\n",
    "psix_single_lineage.junctions2psi(\n",
    "        'processed_tables/splice_junction_counts_0.1_1000.tab.gz',\n",
    "        '',\n",
    "        'processed_tables/tpm_0.1_1000.tab.gz',\n",
    "        save_files_in='psix_output_1000/')\n",
    "\n",
    "psix_single_lineage.run_psix(latent='processed_tables/pc2_rd_1000.tab.gz', n_jobs=25,\n",
    "                                n_random_exons=2000, n_neighbors=100)\n",
    "\n",
    "psix_results = psix_single_lineage.psix_results\n",
    "psix_object.save_psix_object(psix_dir = 'psix_output_1000/psix_object/')\n",
    "\n",
    "\n",
    "psix_single_lineage.run_psix(latent='processed_tables/pc2_rd.tab.gz', n_jobs=25,\n",
    "                                n_random_exons=2000, n_neighbors=10)\n",
    "psix_single_lineage.psix_results.to_csv('psix_output_1000/k_sensitivity/k_0.01.tab.gz', sep='\\t', index=True, header=True)\n",
    "\n",
    "psix_single_lineage.run_psix(latent='processed_tables/pc2_rd.tab.gz', n_jobs=25,\n",
    "                                n_random_exons=2000, n_neighbors=50)\n",
    "psix_single_lineage.psix_results.to_csv('psix_output_1000/k_sensitivity/k_0.05.tab.gz', sep='\\t', index=True, header=True)\n",
    "\n",
    "\n",
    "psix_single_lineage.run_psix(latent='processed_tables/pc2_rd.tab.gz', n_jobs=25,\n",
    "                                n_random_exons=2000, n_neighbors=100)\n",
    "psix_single_lineage.psix_results.to_csv('psix_output_1000/k_sensitivity/k_0.1.tab.gz', sep='\\t', index=True, header=True)\n",
    "\n",
    "psix_single_lineage.run_psix(latent='processed_tables/pc2_rd.tab.gz', n_jobs=25,\n",
    "                                n_random_exons=2000, n_neighbors=150)\n",
    "psix_single_lineage.psix_results.to_csv('psix_output_1000/k_sensitivity/k_0.15.tab.gz', sep='\\t', index=True, header=True)\n",
    "\n",
    "psix_single_lineage.run_psix(latent='processed_tables/pc2_rd.tab.gz', n_jobs=25,\n",
    "                                n_random_exons=2000, n_neighbors=200)\n",
    "psix_single_lineage.psix_results.to_csv('psix_output_1000/k_sensitivity/k_0.2.tab.gz', sep='\\t', index=True, header=True)\n",
    "\n",
    "\n",
    "psix_single_lineage.run_psix(latent='processed_tables/pc2_rd.tab.gz', n_jobs=25,\n",
    "                                n_random_exons=2000, n_neighbors=250)\n",
    "psix_single_lineage.psix_results.to_csv('psix_output_1000/k_sensitivity/k_0.25.tab.gz', sep='\\t', index=True, header=True)\n",
    "\n",
    "psix_single_lineage.run_psix(latent='processed_tables/pc2_rd.tab.gz', n_jobs=25,\n",
    "                                n_random_exons=2000, n_neighbors=500)\n",
    "psix_single_lineage.psix_results.to_csv('psix_output_1000/k_sensitivity/k_0.5.tab.gz', sep='\\t', index=True, header=True)\n"
   ]
  },
  {
   "cell_type": "code",
   "execution_count": null,
   "metadata": {},
   "outputs": [],
   "source": [
    "psix_single_lineage = psix.Psix()\n",
    "psix_single_lineage.junctions2psi(\n",
    "        'processed_tables/splice_junction_counts_0.1_500.tab.gz',\n",
    "        '',\n",
    "        'processed_tables/tpm_0.1_500.tab.gz',\n",
    "        save_files_in='psix_output_500/')\n",
    "\n",
    "psix_single_lineage.run_psix(latent='processed_tables/pc2_rd_500.tab.gz', n_jobs=25,\n",
    "                                n_random_exons=2000, n_neighbors=50)\n",
    "\n",
    "psix_results = psix_single_lineage.psix_results\n",
    "psix_object.save_psix_object(psix_dir = 'psix_output_500/psix_object/')\n",
    "\n",
    "\n",
    "\n",
    "\n",
    "\n",
    "psix_single_lineage.run_psix(latent='processed_tables/pc2_rd.tab.gz', n_jobs=25,\n",
    "                                n_random_exons=2000, n_neighbors=5)\n",
    "psix_single_lineage.psix_results.to_csv('psix_output_500/k_sensitivity/k_0.01.tab.gz', sep='\\t', index=True, header=True)\n",
    "\n",
    "psix_single_lineage.run_psix(latent='processed_tables/pc2_rd.tab.gz', n_jobs=25,\n",
    "                                n_random_exons=2000, n_neighbors=25)\n",
    "psix_single_lineage.psix_results.to_csv('psix_output_500/k_sensitivity/k_0.05.tab.gz', sep='\\t', index=True, header=True)\n",
    "\n",
    "\n",
    "psix_single_lineage.run_psix(latent='processed_tables/pc2_rd.tab.gz', n_jobs=25,\n",
    "                                n_random_exons=2000, n_neighbors=50)\n",
    "psix_single_lineage.psix_results.to_csv('psix_output_500/k_sensitivity/k_0.1.tab.gz', sep='\\t', index=True, header=True)\n",
    "\n",
    "\n",
    "psix_single_lineage.run_psix(latent='processed_tables/pc2_rd.tab.gz', n_jobs=25,\n",
    "                                n_random_exons=2000, n_neighbors=75)\n",
    "psix_single_lineage.psix_results.to_csv('psix_output_10000/k_sensitivity/k_0.15.tab.gz', sep='\\t', index=True, header=True)\n",
    "\n",
    "\n",
    "psix_single_lineage.run_psix(latent='processed_tables/pc2_rd.tab.gz', n_jobs=25,\n",
    "                                n_random_exons=2000, n_neighbors=100)\n",
    "psix_single_lineage.psix_results.to_csv('psix_output_500/k_sensitivity/k_0.2.tab.gz', sep='\\t', index=True, header=True)\n",
    "\n",
    "\n",
    "psix_single_lineage.run_psix(latent='processed_tables/pc2_rd.tab.gz', n_jobs=25,\n",
    "                                n_random_exons=2000, n_neighbors=125)\n",
    "psix_single_lineage.psix_results.to_csv('psix_output_500/k_sensitivity/k_0.25.tab.gz', sep='\\t', index=True, header=True)\n",
    "\n",
    "psix_single_lineage.run_psix(latent='processed_tables/pc2_rd.tab.gz', n_jobs=25,\n",
    "                                n_random_exons=2000, n_neighbors=250)\n",
    "psix_single_lineage.psix_results.to_csv('psix_output_500/k_sensitivity/k_0.5.tab.gz', sep='\\t', index=True, header=True)\n"
   ]
  },
  {
   "cell_type": "code",
   "execution_count": 2,
   "metadata": {},
   "outputs": [
    {
     "data": {
      "text/plain": [
       "750.0"
      ]
     },
     "execution_count": 2,
     "metadata": {},
     "output_type": "execute_result"
    }
   ],
   "source": [
    "psix_single_lineage = psix.Psix()\n",
    "psix_single_lineage.junctions2psi(\n",
    "        'processed_tables/splice_junction_counts_0.1_100.tab.gz',\n",
    "        '',\n",
    "        'processed_tables/tpm_0.1_100.tab.gz',\n",
    "        save_files_in='psix_output_100/')\n",
    "\n",
    "psix_single_lineage.run_psix(latent='processed_tables/pc2_rd_100.tab.gz', n_jobs=25,\n",
    "                                n_random_exons=2000, n_neighbors=10)\n",
    "\n",
    "psix_results = psix_single_lineage.psix_results\n",
    "psix_object.save_psix_object(psix_dir = 'psix_output_100/psix_object/')\n",
    "\n",
    "\n",
    "\n",
    "\n",
    "\n",
    "psix_single_lineage.run_psix(latent='processed_tables/pc2_rd.tab.gz', n_jobs=25,\n",
    "                                n_random_exons=2000, n_neighbors=5)\n",
    "psix_single_lineage.psix_results.to_csv('psix_output_1000/k_sensitivity/k_0.05.tab.gz', sep='\\t', index=True, header=True)\n",
    "\n",
    "\n",
    "psix_single_lineage.run_psix(latent='processed_tables/pc2_rd.tab.gz', n_jobs=25,\n",
    "                                n_random_exons=2000, n_neighbors=10)\n",
    "psix_single_lineage.psix_results.to_csv('psix_output_1000/k_sensitivity/k_0.1.tab.gz', sep='\\t', index=True, header=True)\n",
    "\n",
    "psix_single_lineage.run_psix(latent='processed_tables/pc2_rd.tab.gz', n_jobs=25,\n",
    "                                n_random_exons=2000, n_neighbors=15)\n",
    "psix_single_lineage.psix_results.to_csv('psix_output_1000/k_sensitivity/k_0.15.tab.gz', sep='\\t', index=True, header=True)\n",
    "\n",
    "psix_single_lineage.run_psix(latent='processed_tables/pc2_rd.tab.gz', n_jobs=25,\n",
    "                                n_random_exons=2000, n_neighbors=20)\n",
    "psix_single_lineage.psix_results.to_csv('psix_output_1000/k_sensitivity/k_0.2.tab.gz', sep='\\t', index=True, header=True)\n",
    "\n",
    "\n",
    "psix_single_lineage.run_psix(latent='processed_tables/pc2_rd.tab.gz', n_jobs=25,\n",
    "                                n_random_exons=2000, n_neighbors=25)\n",
    "psix_single_lineage.psix_results.to_csv('psix_output_1000/k_sensitivity/k_0.25.tab.gz', sep='\\t', index=True, header=True)\n",
    "\n",
    "psix_single_lineage.run_psix(latent='processed_tables/pc2_rd.tab.gz', n_jobs=25,\n",
    "                                n_random_exons=2000, n_neighbors=50)\n",
    "psix_single_lineage.psix_results.to_csv('psix_output_1000/k_sensitivity/k_0.5.tab.gz', sep='\\t', index=True, header=True)\n"
   ]
  },
  {
   "cell_type": "code",
   "execution_count": null,
   "metadata": {},
   "outputs": [],
   "source": []
  }
 ],
 "metadata": {
  "kernelspec": {
   "display_name": "Python 3",
   "language": "python",
   "name": "python3"
  },
  "language_info": {
   "codemirror_mode": {
    "name": "ipython",
    "version": 3
   },
   "file_extension": ".py",
   "mimetype": "text/x-python",
   "name": "python",
   "nbconvert_exporter": "python",
   "pygments_lexer": "ipython3",
   "version": "3.7.6"
  }
 },
 "nbformat": 4,
 "nbformat_minor": 4
}
