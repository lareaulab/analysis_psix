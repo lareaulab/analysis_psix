{
 "cells": [
  {
   "cell_type": "code",
   "execution_count": 2,
   "metadata": {},
   "outputs": [],
   "source": [
    "import numpy as np\n",
    "import pandas as pd\n",
    "import psix\n",
    "import os\n",
    "\n",
    "from matplotlib import pyplot as plt\n",
    "\n",
    "from scipy.special import expit, logit\n",
    "\n",
    "from scipy.special import logit, expit\n",
    "from sklearn.metrics import precision_recall_curve\n",
    "from sklearn.metrics import recall_score\n",
    "from sklearn.metrics import precision_score\n",
    "from sklearn.metrics import f1_score\n",
    "from sklearn.metrics import auc\n"
   ]
  },
  {
   "cell_type": "code",
   "execution_count": 3,
   "metadata": {},
   "outputs": [
    {
     "ename": "FileNotFoundError",
     "evalue": "[Errno 2] No such file or directory: 'psix_output_1000/k_sensitivity/k_0.001.tab.gz'",
     "output_type": "error",
     "traceback": [
      "\u001b[0;31m---------------------------------------------------------------------------\u001b[0m",
      "\u001b[0;31mFileNotFoundError\u001b[0m                         Traceback (most recent call last)",
      "\u001b[0;32m<ipython-input-3-005d5a77ec98>\u001b[0m in \u001b[0;36m<module>\u001b[0;34m\u001b[0m\n\u001b[1;32m      6\u001b[0m \u001b[0;34m\u001b[0m\u001b[0m\n\u001b[1;32m      7\u001b[0m \u001b[0;34m\u001b[0m\u001b[0m\n\u001b[0;32m----> 8\u001b[0;31m \u001b[0mpsix_5\u001b[0m \u001b[0;34m=\u001b[0m \u001b[0mpd\u001b[0m\u001b[0;34m.\u001b[0m\u001b[0mread_csv\u001b[0m\u001b[0;34m(\u001b[0m\u001b[0;34m'psix_output_1000/k_sensitivity/k_0.001.tab.gz'\u001b[0m\u001b[0;34m,\u001b[0m \u001b[0msep\u001b[0m\u001b[0;34m=\u001b[0m\u001b[0;34m'\\t'\u001b[0m\u001b[0;34m,\u001b[0m \u001b[0mindex_col\u001b[0m\u001b[0;34m=\u001b[0m\u001b[0;36m0\u001b[0m\u001b[0;34m)\u001b[0m\u001b[0;34m\u001b[0m\u001b[0;34m\u001b[0m\u001b[0m\n\u001b[0m\u001b[1;32m      9\u001b[0m \u001b[0mpsix_10\u001b[0m \u001b[0;34m=\u001b[0m \u001b[0mpd\u001b[0m\u001b[0;34m.\u001b[0m\u001b[0mread_csv\u001b[0m\u001b[0;34m(\u001b[0m\u001b[0;34m'psix_output_1000/k_sensitivity/k_0.01.tab.gz'\u001b[0m\u001b[0;34m,\u001b[0m \u001b[0msep\u001b[0m\u001b[0;34m=\u001b[0m\u001b[0;34m'\\t'\u001b[0m\u001b[0;34m,\u001b[0m \u001b[0mindex_col\u001b[0m\u001b[0;34m=\u001b[0m\u001b[0;36m0\u001b[0m\u001b[0;34m)\u001b[0m\u001b[0;34m\u001b[0m\u001b[0;34m\u001b[0m\u001b[0m\n\u001b[1;32m     10\u001b[0m \u001b[0mpsix_20\u001b[0m \u001b[0;34m=\u001b[0m \u001b[0mpd\u001b[0m\u001b[0;34m.\u001b[0m\u001b[0mread_csv\u001b[0m\u001b[0;34m(\u001b[0m\u001b[0;34m'psix_output_100/k_sensitivity/k_0.05.tab.gz'\u001b[0m\u001b[0;34m,\u001b[0m \u001b[0msep\u001b[0m\u001b[0;34m=\u001b[0m\u001b[0;34m'\\t'\u001b[0m\u001b[0;34m,\u001b[0m \u001b[0mindex_col\u001b[0m\u001b[0;34m=\u001b[0m\u001b[0;36m0\u001b[0m\u001b[0;34m)\u001b[0m\u001b[0;34m\u001b[0m\u001b[0;34m\u001b[0m\u001b[0m\n",
      "\u001b[0;32m~/.local/lib/python3.7/site-packages/pandas/io/parsers.py\u001b[0m in \u001b[0;36mparser_f\u001b[0;34m(filepath_or_buffer, sep, delimiter, header, names, index_col, usecols, squeeze, prefix, mangle_dupe_cols, dtype, engine, converters, true_values, false_values, skipinitialspace, skiprows, skipfooter, nrows, na_values, keep_default_na, na_filter, verbose, skip_blank_lines, parse_dates, infer_datetime_format, keep_date_col, date_parser, dayfirst, cache_dates, iterator, chunksize, compression, thousands, decimal, lineterminator, quotechar, quoting, doublequote, escapechar, comment, encoding, dialect, error_bad_lines, warn_bad_lines, delim_whitespace, low_memory, memory_map, float_precision)\u001b[0m\n\u001b[1;32m    674\u001b[0m         )\n\u001b[1;32m    675\u001b[0m \u001b[0;34m\u001b[0m\u001b[0m\n\u001b[0;32m--> 676\u001b[0;31m         \u001b[0;32mreturn\u001b[0m \u001b[0m_read\u001b[0m\u001b[0;34m(\u001b[0m\u001b[0mfilepath_or_buffer\u001b[0m\u001b[0;34m,\u001b[0m \u001b[0mkwds\u001b[0m\u001b[0;34m)\u001b[0m\u001b[0;34m\u001b[0m\u001b[0;34m\u001b[0m\u001b[0m\n\u001b[0m\u001b[1;32m    677\u001b[0m \u001b[0;34m\u001b[0m\u001b[0m\n\u001b[1;32m    678\u001b[0m     \u001b[0mparser_f\u001b[0m\u001b[0;34m.\u001b[0m\u001b[0m__name__\u001b[0m \u001b[0;34m=\u001b[0m \u001b[0mname\u001b[0m\u001b[0;34m\u001b[0m\u001b[0;34m\u001b[0m\u001b[0m\n",
      "\u001b[0;32m~/.local/lib/python3.7/site-packages/pandas/io/parsers.py\u001b[0m in \u001b[0;36m_read\u001b[0;34m(filepath_or_buffer, kwds)\u001b[0m\n\u001b[1;32m    446\u001b[0m \u001b[0;34m\u001b[0m\u001b[0m\n\u001b[1;32m    447\u001b[0m     \u001b[0;31m# Create the parser.\u001b[0m\u001b[0;34m\u001b[0m\u001b[0;34m\u001b[0m\u001b[0;34m\u001b[0m\u001b[0m\n\u001b[0;32m--> 448\u001b[0;31m     \u001b[0mparser\u001b[0m \u001b[0;34m=\u001b[0m \u001b[0mTextFileReader\u001b[0m\u001b[0;34m(\u001b[0m\u001b[0mfp_or_buf\u001b[0m\u001b[0;34m,\u001b[0m \u001b[0;34m**\u001b[0m\u001b[0mkwds\u001b[0m\u001b[0;34m)\u001b[0m\u001b[0;34m\u001b[0m\u001b[0;34m\u001b[0m\u001b[0m\n\u001b[0m\u001b[1;32m    449\u001b[0m \u001b[0;34m\u001b[0m\u001b[0m\n\u001b[1;32m    450\u001b[0m     \u001b[0;32mif\u001b[0m \u001b[0mchunksize\u001b[0m \u001b[0;32mor\u001b[0m \u001b[0miterator\u001b[0m\u001b[0;34m:\u001b[0m\u001b[0;34m\u001b[0m\u001b[0;34m\u001b[0m\u001b[0m\n",
      "\u001b[0;32m~/.local/lib/python3.7/site-packages/pandas/io/parsers.py\u001b[0m in \u001b[0;36m__init__\u001b[0;34m(self, f, engine, **kwds)\u001b[0m\n\u001b[1;32m    878\u001b[0m             \u001b[0mself\u001b[0m\u001b[0;34m.\u001b[0m\u001b[0moptions\u001b[0m\u001b[0;34m[\u001b[0m\u001b[0;34m\"has_index_names\"\u001b[0m\u001b[0;34m]\u001b[0m \u001b[0;34m=\u001b[0m \u001b[0mkwds\u001b[0m\u001b[0;34m[\u001b[0m\u001b[0;34m\"has_index_names\"\u001b[0m\u001b[0;34m]\u001b[0m\u001b[0;34m\u001b[0m\u001b[0;34m\u001b[0m\u001b[0m\n\u001b[1;32m    879\u001b[0m \u001b[0;34m\u001b[0m\u001b[0m\n\u001b[0;32m--> 880\u001b[0;31m         \u001b[0mself\u001b[0m\u001b[0;34m.\u001b[0m\u001b[0m_make_engine\u001b[0m\u001b[0;34m(\u001b[0m\u001b[0mself\u001b[0m\u001b[0;34m.\u001b[0m\u001b[0mengine\u001b[0m\u001b[0;34m)\u001b[0m\u001b[0;34m\u001b[0m\u001b[0;34m\u001b[0m\u001b[0m\n\u001b[0m\u001b[1;32m    881\u001b[0m \u001b[0;34m\u001b[0m\u001b[0m\n\u001b[1;32m    882\u001b[0m     \u001b[0;32mdef\u001b[0m \u001b[0mclose\u001b[0m\u001b[0;34m(\u001b[0m\u001b[0mself\u001b[0m\u001b[0;34m)\u001b[0m\u001b[0;34m:\u001b[0m\u001b[0;34m\u001b[0m\u001b[0;34m\u001b[0m\u001b[0m\n",
      "\u001b[0;32m~/.local/lib/python3.7/site-packages/pandas/io/parsers.py\u001b[0m in \u001b[0;36m_make_engine\u001b[0;34m(self, engine)\u001b[0m\n\u001b[1;32m   1112\u001b[0m     \u001b[0;32mdef\u001b[0m \u001b[0m_make_engine\u001b[0m\u001b[0;34m(\u001b[0m\u001b[0mself\u001b[0m\u001b[0;34m,\u001b[0m \u001b[0mengine\u001b[0m\u001b[0;34m=\u001b[0m\u001b[0;34m\"c\"\u001b[0m\u001b[0;34m)\u001b[0m\u001b[0;34m:\u001b[0m\u001b[0;34m\u001b[0m\u001b[0;34m\u001b[0m\u001b[0m\n\u001b[1;32m   1113\u001b[0m         \u001b[0;32mif\u001b[0m \u001b[0mengine\u001b[0m \u001b[0;34m==\u001b[0m \u001b[0;34m\"c\"\u001b[0m\u001b[0;34m:\u001b[0m\u001b[0;34m\u001b[0m\u001b[0;34m\u001b[0m\u001b[0m\n\u001b[0;32m-> 1114\u001b[0;31m             \u001b[0mself\u001b[0m\u001b[0;34m.\u001b[0m\u001b[0m_engine\u001b[0m \u001b[0;34m=\u001b[0m \u001b[0mCParserWrapper\u001b[0m\u001b[0;34m(\u001b[0m\u001b[0mself\u001b[0m\u001b[0;34m.\u001b[0m\u001b[0mf\u001b[0m\u001b[0;34m,\u001b[0m \u001b[0;34m**\u001b[0m\u001b[0mself\u001b[0m\u001b[0;34m.\u001b[0m\u001b[0moptions\u001b[0m\u001b[0;34m)\u001b[0m\u001b[0;34m\u001b[0m\u001b[0;34m\u001b[0m\u001b[0m\n\u001b[0m\u001b[1;32m   1115\u001b[0m         \u001b[0;32melse\u001b[0m\u001b[0;34m:\u001b[0m\u001b[0;34m\u001b[0m\u001b[0;34m\u001b[0m\u001b[0m\n\u001b[1;32m   1116\u001b[0m             \u001b[0;32mif\u001b[0m \u001b[0mengine\u001b[0m \u001b[0;34m==\u001b[0m \u001b[0;34m\"python\"\u001b[0m\u001b[0;34m:\u001b[0m\u001b[0;34m\u001b[0m\u001b[0;34m\u001b[0m\u001b[0m\n",
      "\u001b[0;32m~/.local/lib/python3.7/site-packages/pandas/io/parsers.py\u001b[0m in \u001b[0;36m__init__\u001b[0;34m(self, src, **kwds)\u001b[0m\n\u001b[1;32m   1889\u001b[0m         \u001b[0mkwds\u001b[0m\u001b[0;34m[\u001b[0m\u001b[0;34m\"usecols\"\u001b[0m\u001b[0;34m]\u001b[0m \u001b[0;34m=\u001b[0m \u001b[0mself\u001b[0m\u001b[0;34m.\u001b[0m\u001b[0musecols\u001b[0m\u001b[0;34m\u001b[0m\u001b[0;34m\u001b[0m\u001b[0m\n\u001b[1;32m   1890\u001b[0m \u001b[0;34m\u001b[0m\u001b[0m\n\u001b[0;32m-> 1891\u001b[0;31m         \u001b[0mself\u001b[0m\u001b[0;34m.\u001b[0m\u001b[0m_reader\u001b[0m \u001b[0;34m=\u001b[0m \u001b[0mparsers\u001b[0m\u001b[0;34m.\u001b[0m\u001b[0mTextReader\u001b[0m\u001b[0;34m(\u001b[0m\u001b[0msrc\u001b[0m\u001b[0;34m,\u001b[0m \u001b[0;34m**\u001b[0m\u001b[0mkwds\u001b[0m\u001b[0;34m)\u001b[0m\u001b[0;34m\u001b[0m\u001b[0;34m\u001b[0m\u001b[0m\n\u001b[0m\u001b[1;32m   1892\u001b[0m         \u001b[0mself\u001b[0m\u001b[0;34m.\u001b[0m\u001b[0munnamed_cols\u001b[0m \u001b[0;34m=\u001b[0m \u001b[0mself\u001b[0m\u001b[0;34m.\u001b[0m\u001b[0m_reader\u001b[0m\u001b[0;34m.\u001b[0m\u001b[0munnamed_cols\u001b[0m\u001b[0;34m\u001b[0m\u001b[0;34m\u001b[0m\u001b[0m\n\u001b[1;32m   1893\u001b[0m \u001b[0;34m\u001b[0m\u001b[0m\n",
      "\u001b[0;32mpandas/_libs/parsers.pyx\u001b[0m in \u001b[0;36mpandas._libs.parsers.TextReader.__cinit__\u001b[0;34m()\u001b[0m\n",
      "\u001b[0;32mpandas/_libs/parsers.pyx\u001b[0m in \u001b[0;36mpandas._libs.parsers.TextReader._setup_parser_source\u001b[0;34m()\u001b[0m\n",
      "\u001b[0;32m~/anaconda3/lib/python3.7/gzip.py\u001b[0m in \u001b[0;36m__init__\u001b[0;34m(self, filename, mode, compresslevel, fileobj, mtime)\u001b[0m\n\u001b[1;32m    161\u001b[0m             \u001b[0mmode\u001b[0m \u001b[0;34m+=\u001b[0m \u001b[0;34m'b'\u001b[0m\u001b[0;34m\u001b[0m\u001b[0;34m\u001b[0m\u001b[0m\n\u001b[1;32m    162\u001b[0m         \u001b[0;32mif\u001b[0m \u001b[0mfileobj\u001b[0m \u001b[0;32mis\u001b[0m \u001b[0;32mNone\u001b[0m\u001b[0;34m:\u001b[0m\u001b[0;34m\u001b[0m\u001b[0;34m\u001b[0m\u001b[0m\n\u001b[0;32m--> 163\u001b[0;31m             \u001b[0mfileobj\u001b[0m \u001b[0;34m=\u001b[0m \u001b[0mself\u001b[0m\u001b[0;34m.\u001b[0m\u001b[0mmyfileobj\u001b[0m \u001b[0;34m=\u001b[0m \u001b[0mbuiltins\u001b[0m\u001b[0;34m.\u001b[0m\u001b[0mopen\u001b[0m\u001b[0;34m(\u001b[0m\u001b[0mfilename\u001b[0m\u001b[0;34m,\u001b[0m \u001b[0mmode\u001b[0m \u001b[0;32mor\u001b[0m \u001b[0;34m'rb'\u001b[0m\u001b[0;34m)\u001b[0m\u001b[0;34m\u001b[0m\u001b[0;34m\u001b[0m\u001b[0m\n\u001b[0m\u001b[1;32m    164\u001b[0m         \u001b[0;32mif\u001b[0m \u001b[0mfilename\u001b[0m \u001b[0;32mis\u001b[0m \u001b[0;32mNone\u001b[0m\u001b[0;34m:\u001b[0m\u001b[0;34m\u001b[0m\u001b[0;34m\u001b[0m\u001b[0m\n\u001b[1;32m    165\u001b[0m             \u001b[0mfilename\u001b[0m \u001b[0;34m=\u001b[0m \u001b[0mgetattr\u001b[0m\u001b[0;34m(\u001b[0m\u001b[0mfileobj\u001b[0m\u001b[0;34m,\u001b[0m \u001b[0;34m'name'\u001b[0m\u001b[0;34m,\u001b[0m \u001b[0;34m''\u001b[0m\u001b[0;34m)\u001b[0m\u001b[0;34m\u001b[0m\u001b[0;34m\u001b[0m\u001b[0m\n",
      "\u001b[0;31mFileNotFoundError\u001b[0m: [Errno 2] No such file or directory: 'psix_output_1000/k_sensitivity/k_0.001.tab.gz'"
     ]
    }
   ],
   "source": [
    "# platonic_psi = pd.read_csv('sim_output/psi_platonic.tab', sep='\\t', \n",
    "#                                names = ['cell_'+str(i+1) for i in range(10000)])\n",
    "# platonic_psi.index = ['gene' + str(i+1) for i in range(5000)]\n",
    "\n",
    "# platonic_psi = expit(platonic_psi)\n",
    "\n",
    "\n",
    "psix_5 = pd.read_csv('psix_output_1000/k_sensitivity/k_0.001.tab.gz', sep='\\t', index_col=0)\n",
    "psix_10 = pd.read_csv('psix_output_1000/k_sensitivity/k_0.01.tab.gz', sep='\\t', index_col=0)\n",
    "psix_20 = pd.read_csv('psix_output_100/k_sensitivity/k_0.05.tab.gz', sep='\\t', index_col=0)\n",
    "psix_30 = pd.read_csv('psix_output_100/k_sensitivity/k_0.1.tab.gz', sep='\\t', index_col=0)\n",
    "psix_50 = pd.read_csv('psix_output_100/k_sensitivity/k_0.15.tab.gz', sep='\\t', index_col=0)\n",
    "psix_100 = pd.read_csv('psix_output_100/k_sensitivity/k_0.2.tab.gz', sep='\\t', index_col=0)\n",
    "psix_150 = pd.read_csv('psix_output_100/k_sensitivity/k_0.25.tab.gz', sep='\\t', index_col=0)\n",
    "\n",
    "# pos = []\n",
    "# neg = []\n",
    "# for i in range(5000):\n",
    "#     if ('gene'+str(i+1)) in psix_20.index:\n",
    "\n",
    "#         if (platonic_psi.loc['gene'+str(i+1)].max() - platonic_psi.loc['gene'+str(i+1)].min()) >= 0.2:\n",
    "#             pos.append('gene'+str(i+1))\n",
    "#         else:\n",
    "#         #elif ds[i] == 0:\n",
    "#             neg.append('gene'+str(i+1))\n",
    "\n",
    "    \n",
    "# labels = [1]*len(pos) + [0]*len(neg)\n",
    "# order = list(pos) + list(neg)\n",
    "\n",
    "    \n",
    "# y_ = list(((platonic_psi.max(axis=1) - platonic_psi.min(axis=1)) >= 0.2).astype(int).loc[order])\n",
    "\n",
    "# boxplot_list = []\n",
    "# for x in [psix_20, psix_30, psix_50, psix_100, psix_150]:\n",
    "    \n",
    "#     box = []\n",
    "#     for i in range(200):\n",
    "        \n",
    "#         pos_sample = np.random.choice(pos, int(len(pos)*0.2), replace=False)\n",
    "#         neg_sample = np.random.choice(neg, int(len(neg)*0.2), replace=False)\n",
    "\n",
    "#         labels = [1]*len(pos_sample) + [0]*len(neg_sample)\n",
    "#         order = list(pos_sample) + list(neg_sample)\n",
    "\n",
    "\n",
    "#         y_ = list(((platonic_psi.max(axis=1) - platonic_psi.min(axis=1)) >= 0.2).astype(int).loc[order])\n",
    "        \n",
    "        \n",
    "#         pre, rec, thres = precision_recall_curve(y_, x.loc[order].psix_score)\n",
    "    \n",
    "#         box.append(auc(rec, pre))\n",
    "\n",
    "#     boxplot_list.append(box)\n",
    "\n",
    "    \n",
    "\n",
    "names = pd.Index(['gene' + str(i) for i in range(1, 5001)]) & psix_20.index\n",
    "\n",
    "pos = []\n",
    "neg = []\n",
    "order = []\n",
    "y = []\n",
    "for i in range(5000):\n",
    "    if ('gene'+str(i+1)) in psix_20.index:\n",
    "\n",
    "        if (platonic_psi.loc['gene'+str(i+1)].max() - platonic_psi.loc['gene'+str(i+1)].min()) >= 0.2:\n",
    "            y.append(1)\n",
    "            pos.append('gene'+str(i+1))\n",
    "            order.append('gene'+str(i+1))\n",
    "        else:\n",
    "#         elif ds[i] == 0:\n",
    "            neg.append('gene'+str(i+1))\n",
    "            y.append(0)\n",
    "            order.append('gene'+str(i+1))\n",
    "    \n",
    "    \n",
    "recall_list = []\n",
    "for x in [psix_20, psix_30, psix_50, psix_100, psix_150]:\n",
    "    pre, rec, thres = precision_recall_curve(y, x.loc[order].psix_score)\n",
    "    \n",
    "    recall_list.append(auc(rec, pre))\n",
    "\n",
    "\n",
    "fig = plt.figure(figsize=(6/2.4, 4/2.4))\n",
    "ax = fig.add_subplot(111)\n",
    "\n",
    "ax.fill_between(np.array([5, 10, 15, 20, 25]), [np.quantile(x, 0.05) for x in boxplot_list], \n",
    "                 [np.quantile(x, 0.95) for x in boxplot_list], color='skyblue')\n",
    "\n",
    "ax.plot([1, 1], [np.quantile(boxplot_list[0], 0.05), recall_list[4]], linestyle='--', c='gray')\n",
    "\n",
    "ax.scatter(np.array([ 5, 10, 15, 20, 25]), recall_list, c='navy', zorder=20, s=20)\n",
    "\n",
    "ax.plot(np.array([ 5, 10, 15, 20, 25]), recall_list, c='navy', zorder=20)\n",
    "\n",
    "ax.set_xticks(np.array([ 5, 10, 15, 20, 25]))\n",
    "\n",
    "ax.set_xticklabels(['1%', '2%', '5%', '10%', '20%', '50%'], size=8)\n",
    "\n",
    "ax.set_xlabel('Neighborhood size - population percent', size=8)\n",
    "\n",
    "# ax.set_yticks([0.7, 0.8, 0.9])\n",
    "# ax.set_yticklabels(['0.7', '0.8', '0.9'], size=8)\n",
    "ax.set_ylabel('Precision-recall AUC', size=8)\n",
    "\n",
    "ax.spines[\"right\"].set_visible(False)\n",
    "ax.spines[\"top\"].set_visible(False)\n",
    "\n",
    "# ax.set_xlim([-0.5, 12])\n",
    "plt.show()\n",
    "# plt.savefig('../plots/single_lineage_kauc.png', bbox_inches='tight', res=20000, dpi =2000)\n"
   ]
  },
  {
   "cell_type": "code",
   "execution_count": 4,
   "metadata": {},
   "outputs": [],
   "source": [
    "platonic_psi = pd.read_csv('sim_output/psi_platonic.tab', sep='\\t', \n",
    "                               names = ['cell_'+str(i+1) for i in range(10000)])\n",
    "platonic_psi.index = ['gene' + str(i+1) for i in range(5000)]\n",
    "\n",
    "platonic_psi = expit(platonic_psi)\n",
    "\n",
    "\n",
    "psix_10000 = pd.read_csv('psix_output_10000/k_sensitivity/k_0.1.tab.gz', sep='\\t', index_col=0)\n",
    "psix_5000 = pd.read_csv('psix_output_5000/k_sensitivity/k_0.1.tab.gz', sep='\\t', index_col=0)\n",
    "psix_1000 = pd.read_csv('psix_output_1000/k_sensitivity/k_0.1.tab.gz', sep='\\t', index_col=0)\n",
    "psix_500 = pd.read_csv('psix_output_500/k_sensitivity/k_0.1.tab.gz', sep='\\t', index_col=0)\n",
    "psix_100 = pd.read_csv('psix_output_100/k_sensitivity/k_0.1.tab.gz', sep='\\t', index_col=0)\n"
   ]
  },
  {
   "cell_type": "code",
   "execution_count": 72,
   "metadata": {},
   "outputs": [
    {
     "data": {
      "text/html": [
       "<div>\n",
       "<style scoped>\n",
       "    .dataframe tbody tr th:only-of-type {\n",
       "        vertical-align: middle;\n",
       "    }\n",
       "\n",
       "    .dataframe tbody tr th {\n",
       "        vertical-align: top;\n",
       "    }\n",
       "\n",
       "    .dataframe thead th {\n",
       "        text-align: right;\n",
       "    }\n",
       "</style>\n",
       "<table border=\"1\" class=\"dataframe\">\n",
       "  <thead>\n",
       "    <tr style=\"text-align: right;\">\n",
       "      <th></th>\n",
       "      <th>psix_score</th>\n",
       "      <th>pvals</th>\n",
       "      <th>qvals</th>\n",
       "    </tr>\n",
       "  </thead>\n",
       "  <tbody>\n",
       "    <tr>\n",
       "      <th>gene659</th>\n",
       "      <td>1.335821</td>\n",
       "      <td>0.000500</td>\n",
       "      <td>0.001094</td>\n",
       "    </tr>\n",
       "    <tr>\n",
       "      <th>gene2227</th>\n",
       "      <td>1.266156</td>\n",
       "      <td>0.000500</td>\n",
       "      <td>0.001094</td>\n",
       "    </tr>\n",
       "    <tr>\n",
       "      <th>gene652</th>\n",
       "      <td>1.158783</td>\n",
       "      <td>0.000500</td>\n",
       "      <td>0.001094</td>\n",
       "    </tr>\n",
       "    <tr>\n",
       "      <th>gene308</th>\n",
       "      <td>1.102302</td>\n",
       "      <td>0.000500</td>\n",
       "      <td>0.001094</td>\n",
       "    </tr>\n",
       "    <tr>\n",
       "      <th>gene998</th>\n",
       "      <td>1.087936</td>\n",
       "      <td>0.000500</td>\n",
       "      <td>0.001094</td>\n",
       "    </tr>\n",
       "    <tr>\n",
       "      <th>...</th>\n",
       "      <td>...</td>\n",
       "      <td>...</td>\n",
       "      <td>...</td>\n",
       "    </tr>\n",
       "    <tr>\n",
       "      <th>gene3369</th>\n",
       "      <td>-0.014823</td>\n",
       "      <td>0.997501</td>\n",
       "      <td>0.999230</td>\n",
       "    </tr>\n",
       "    <tr>\n",
       "      <th>gene2564</th>\n",
       "      <td>-0.015023</td>\n",
       "      <td>0.997501</td>\n",
       "      <td>0.999230</td>\n",
       "    </tr>\n",
       "    <tr>\n",
       "      <th>gene2662</th>\n",
       "      <td>-0.015480</td>\n",
       "      <td>1.000000</td>\n",
       "      <td>1.000000</td>\n",
       "    </tr>\n",
       "    <tr>\n",
       "      <th>gene2693</th>\n",
       "      <td>-0.017049</td>\n",
       "      <td>1.000000</td>\n",
       "      <td>1.000000</td>\n",
       "    </tr>\n",
       "    <tr>\n",
       "      <th>gene1524</th>\n",
       "      <td>-0.017055</td>\n",
       "      <td>1.000000</td>\n",
       "      <td>1.000000</td>\n",
       "    </tr>\n",
       "  </tbody>\n",
       "</table>\n",
       "<p>3468 rows × 3 columns</p>\n",
       "</div>"
      ],
      "text/plain": [
       "          psix_score     pvals     qvals\n",
       "gene659     1.335821  0.000500  0.001094\n",
       "gene2227    1.266156  0.000500  0.001094\n",
       "gene652     1.158783  0.000500  0.001094\n",
       "gene308     1.102302  0.000500  0.001094\n",
       "gene998     1.087936  0.000500  0.001094\n",
       "...              ...       ...       ...\n",
       "gene3369   -0.014823  0.997501  0.999230\n",
       "gene2564   -0.015023  0.997501  0.999230\n",
       "gene2662   -0.015480  1.000000  1.000000\n",
       "gene2693   -0.017049  1.000000  1.000000\n",
       "gene1524   -0.017055  1.000000  1.000000\n",
       "\n",
       "[3468 rows x 3 columns]"
      ]
     },
     "execution_count": 72,
     "metadata": {},
     "output_type": "execute_result"
    }
   ],
   "source": [
    "psix_10000"
   ]
  },
  {
   "cell_type": "code",
   "execution_count": 3,
   "metadata": {},
   "outputs": [],
   "source": [
    "pos_all = platonic_psi.loc[(platonic_psi.max(axis=1) - platonic_psi.min(axis=1))>= 0.2].index\n",
    "\n",
    "neg_all = platonic_psi.loc[(platonic_psi.max(axis=1) - platonic_psi.min(axis=1))<= 0.01].index"
   ]
  },
  {
   "cell_type": "code",
   "execution_count": 4,
   "metadata": {},
   "outputs": [],
   "source": [
    "pos_100 = list(psix_100.loc[pos_all.intersection(psix_100.index)].qvals <= 0.05)\n",
    "neg_100 = list(psix_100.loc[neg_all.intersection(psix_100.index)].qvals <= 0.05)\n",
    "results_100 = pos_100 + neg_100\n",
    "labels_100 = ([1]*len(pos_100) + [0]*len(neg_100))"
   ]
  },
  {
   "cell_type": "code",
   "execution_count": 5,
   "metadata": {},
   "outputs": [
    {
     "data": {
      "text/plain": [
       "0.06501766784452297"
      ]
     },
     "execution_count": 5,
     "metadata": {},
     "output_type": "execute_result"
    }
   ],
   "source": [
    "recall_score(labels_100, results_100)"
   ]
  },
  {
   "cell_type": "code",
   "execution_count": 6,
   "metadata": {},
   "outputs": [
    {
     "data": {
      "text/plain": [
       "0.9292929292929293"
      ]
     },
     "execution_count": 6,
     "metadata": {},
     "output_type": "execute_result"
    }
   ],
   "source": [
    "precision_score(labels_100, results_100)"
   ]
  },
  {
   "cell_type": "code",
   "execution_count": 7,
   "metadata": {},
   "outputs": [
    {
     "data": {
      "text/plain": [
       "0.12153236459709378"
      ]
     },
     "execution_count": 7,
     "metadata": {},
     "output_type": "execute_result"
    }
   ],
   "source": [
    "f1_score(labels_100, results_100)"
   ]
  },
  {
   "cell_type": "code",
   "execution_count": 11,
   "metadata": {},
   "outputs": [],
   "source": [
    "def get_stats(psix_output, pos, neg):\n",
    "    pos_psix = list(psix_output.loc[pos_all.intersection(psix_output.index)].qvals <= 0.05)\n",
    "    neg_psix = list(psix_output.loc[neg_all.intersection(psix_output.index)].qvals <= 0.05)\n",
    "    results_ = pos_psix + neg_psix\n",
    "    labels_ = ([1]*len(pos_psix) + [0]*len(neg_psix))\n",
    "    \n",
    "    return recall_score(labels_, results_), precision_score(labels_, results_), f1_score(labels_, results_)"
   ]
  },
  {
   "cell_type": "code",
   "execution_count": 65,
   "metadata": {},
   "outputs": [],
   "source": [
    "def get_auc(psix_output, pos, neg):\n",
    "    \n",
    "    pos_psix = list(psix_output.loc[pos_all.intersection(psix_output.index)].qvals <= 0.05)\n",
    "    neg_psix = list(psix_output.loc[neg_all.intersection(psix_output.index)].qvals <= 0.05)\n",
    "    results_ = pos_psix + neg_psix\n",
    "    labels_ = ([1]*len(pos_psix) + [0]*len(neg_psix))\n",
    "    \n",
    "    \n",
    "    pre, rec, thres = precision_recall_curve(labels_, results_)\n",
    "    \n",
    "    return auc(rec, pre)"
   ]
  },
  {
   "cell_type": "code",
   "execution_count": 18,
   "metadata": {},
   "outputs": [],
   "source": [
    "recall = []\n",
    "precision = [] \n",
    "f1 = []\n",
    "\n",
    "r, p, f = get_stats(psix_100, pos_all, neg_all)\n",
    "recall.append(r)\n",
    "precision.append(p)\n",
    "f1.append(f)\n",
    "\n",
    "r, p, f = get_stats(psix_500, pos_all, neg_all)\n",
    "recall.append(r)\n",
    "precision.append(p)\n",
    "f1.append(f)\n",
    "\n",
    "r, p, f = get_stats(psix_1000, pos_all, neg_all)\n",
    "recall.append(r)\n",
    "precision.append(p)\n",
    "f1.append(f)\n",
    "\n",
    "r, p, f = get_stats(psix_5000, pos_all, neg_all)\n",
    "recall.append(r)\n",
    "precision.append(p)\n",
    "f1.append(f)\n",
    "\n",
    "r, p, f = get_stats(psix_10000, pos_all, neg_all)\n",
    "recall.append(r)\n",
    "precision.append(p)\n",
    "f1.append(f)"
   ]
  },
  {
   "cell_type": "code",
   "execution_count": 74,
   "metadata": {},
   "outputs": [],
   "source": [
    "pr_auc = []\n",
    "\n",
    "\n",
    "pr_auc.append(get_auc(psix_100, pos_all, neg_all))\n",
    "pr_auc.append(get_auc(psix_500, pos_all, neg_all))\n",
    "pr_auc.append(get_auc(psix_1000, pos_all, neg_all))\n",
    "pr_auc.append(get_auc(psix_5000, pos_all, neg_all))\n",
    "pr_auc.append(get_auc(psix_10000, pos_all, neg_all))\n"
   ]
  },
  {
   "cell_type": "code",
   "execution_count": 75,
   "metadata": {},
   "outputs": [
    {
     "data": {
      "text/plain": [
       "[Text(0, 0, '100'),\n",
       " Text(0, 0, '500'),\n",
       " Text(0, 0, '1000'),\n",
       " Text(0, 0, '5000'),\n",
       " Text(0, 0, '10000')]"
      ]
     },
     "execution_count": 75,
     "metadata": {},
     "output_type": "execute_result"
    },
    {
     "data": {
      "image/png": "[encoded data removed]",
      "text/plain": [
       "<Figure size 432x288 with 1 Axes>"
      ]
     },
     "metadata": {
      "needs_background": "light"
     },
     "output_type": "display_data"
    }
   ],
   "source": [
    "fig, ax = plt.subplots()\n",
    "plt.plot(range(5), pr_auc)\n",
    "plt.scatter(range(5), pr_auc, s=100, marker='o')\n",
    "plt.ylim([0, 1.01])\n",
    "plt.xlabel('# cells')\n",
    "plt.ylabel('Pre-Rec AUC')\n",
    "\n",
    "ax.set_xticks([0, 1, 2, 3, 4])\n",
    "ax.set_xticklabels(['100', '500', '1000', '5000', '10000'])\n"
   ]
  },
  {
   "cell_type": "code",
   "execution_count": 72,
   "metadata": {},
   "outputs": [
    {
     "data": {
      "text/plain": [
       "1499"
      ]
     },
     "execution_count": 72,
     "metadata": {},
     "output_type": "execute_result"
    }
   ],
   "source": [
    "(psix_100.loc[pos].qvals <= 0.05).sum()"
   ]
  },
  {
   "cell_type": "code",
   "execution_count": null,
   "metadata": {},
   "outputs": [],
   "source": []
  },
  {
   "cell_type": "code",
   "execution_count": 29,
   "metadata": {},
   "outputs": [
    {
     "data": {
      "text/plain": [
       "[Text(0, 0, '100'),\n",
       " Text(0, 0, '500'),\n",
       " Text(0, 0, '1000'),\n",
       " Text(0, 0, '5000'),\n",
       " Text(0, 0, '10000')]"
      ]
     },
     "execution_count": 29,
     "metadata": {},
     "output_type": "execute_result"
    },
    {
     "data": {
      "image/png": "[encoded data removed]",
      "text/plain": [
       "<Figure size 432x288 with 1 Axes>"
      ]
     },
     "metadata": {
      "needs_background": "light"
     },
     "output_type": "display_data"
    }
   ],
   "source": [
    "fig, ax = plt.subplots()\n",
    "plt.plot(range(5), precision)\n",
    "plt.scatter(range(5), precision, s=100, marker='o')\n",
    "plt.ylim([0, 1.01])\n",
    "plt.xlabel('# cells')\n",
    "plt.ylabel('Precision')\n",
    "\n",
    "ax.set_xticks([0, 1, 2, 3, 4])\n",
    "ax.set_xticklabels(['100', '500', '1000', '5000', '10000'])\n"
   ]
  },
  {
   "cell_type": "code",
   "execution_count": 30,
   "metadata": {},
   "outputs": [
    {
     "data": {
      "text/plain": [
       "[Text(0, 0, '100'),\n",
       " Text(0, 0, '500'),\n",
       " Text(0, 0, '1000'),\n",
       " Text(0, 0, '5000'),\n",
       " Text(0, 0, '10000')]"
      ]
     },
     "execution_count": 30,
     "metadata": {},
     "output_type": "execute_result"
    },
    {
     "data": {
      "image/png": "[encoded data removed]",
      "text/plain": [
       "<Figure size 432x288 with 1 Axes>"
      ]
     },
     "metadata": {
      "needs_background": "light"
     },
     "output_type": "display_data"
    }
   ],
   "source": [
    "fig, ax = plt.subplots()\n",
    "plt.plot(range(5), recall)\n",
    "plt.scatter(range(5), recall, s=100, marker='o')\n",
    "plt.ylim([0, 1.01])\n",
    "plt.xlabel('# cells')\n",
    "plt.ylabel('Recall')\n",
    "\n",
    "ax.set_xticks([0, 1, 2, 3, 4])\n",
    "ax.set_xticklabels(['100', '500', '1000', '5000', '10000'])\n"
   ]
  },
  {
   "cell_type": "code",
   "execution_count": 31,
   "metadata": {},
   "outputs": [
    {
     "data": {
      "text/plain": [
       "[Text(0, 0, '100'),\n",
       " Text(0, 0, '500'),\n",
       " Text(0, 0, '1000'),\n",
       " Text(0, 0, '5000'),\n",
       " Text(0, 0, '10000')]"
      ]
     },
     "execution_count": 31,
     "metadata": {},
     "output_type": "execute_result"
    },
    {
     "data": {
      "image/png": "[encoded data removed]",
      "text/plain": [
       "<Figure size 432x288 with 1 Axes>"
      ]
     },
     "metadata": {
      "needs_background": "light"
     },
     "output_type": "display_data"
    }
   ],
   "source": [
    "fig, ax = plt.subplots()\n",
    "plt.plot(range(5), f1)\n",
    "plt.scatter(range(5), f1, s=100, marker='o')\n",
    "plt.ylim([0, 1.01])\n",
    "plt.xlabel('# cells')\n",
    "plt.ylabel('F1 score')\n",
    "\n",
    "ax.set_xticks([0, 1, 2, 3, 4])\n",
    "ax.set_xticklabels(['100', '500', '1000', '5000', '10000'])\n"
   ]
  },
  {
   "cell_type": "code",
   "execution_count": null,
   "metadata": {},
   "outputs": [],
   "source": []
  },
  {
   "cell_type": "code",
   "execution_count": 36,
   "metadata": {},
   "outputs": [],
   "source": [
    "pos = []\n",
    "neg = []\n",
    "for i in range(5000):\n",
    "    if ('gene'+str(i+1)) in psix_5.index:\n",
    "\n",
    "        if (platonic_psi.loc['gene'+str(i+1)].max() - platonic_psi.loc['gene'+str(i+1)].min()) >= 0.2:\n",
    "            pos.append('gene'+str(i+1))\n",
    "        else:\n",
    "        #elif ds[i] == 0:\n",
    "            neg.append('gene'+str(i+1))\n",
    "\n",
    "    \n",
    "labels = [1]*len(pos) + [0]*len(neg)\n",
    "order = list(pos) + list(neg)"
   ]
  },
  {
   "cell_type": "code",
   "execution_count": 5,
   "metadata": {},
   "outputs": [
    {
     "data": {
      "image/png": "[encoded data removed]",
      "text/plain": [
       "<Figure size 180x120 with 1 Axes>"
      ]
     },
     "metadata": {
      "needs_background": "light"
     },
     "output_type": "display_data"
    }
   ],
   "source": [
    "psix_5 = pd.read_csv('psix_output_10000/k_sensitivity/k_0.001.tab.gz', sep='\\t', index_col=0)\n",
    "psix_10 = pd.read_csv('psix_output_10000/k_sensitivity/k_0.01.tab.gz', sep='\\t', index_col=0)\n",
    "psix_20 = pd.read_csv('psix_output_10000/k_sensitivity/k_0.05.tab.gz', sep='\\t', index_col=0)\n",
    "psix_30 = pd.read_csv('psix_output_10000/k_sensitivity/k_0.1.tab.gz', sep='\\t', index_col=0)\n",
    "psix_50 = pd.read_csv('psix_output_10000/k_sensitivity/k_0.15.tab.gz', sep='\\t', index_col=0)\n",
    "psix_100 = pd.read_csv('psix_output_10000/k_sensitivity/k_0.2.tab.gz', sep='\\t', index_col=0)\n",
    "psix_150 = pd.read_csv('psix_output_10000/k_sensitivity/k_0.25.tab.gz', sep='\\t', index_col=0)\n",
    "\n",
    "\n",
    "idx = psix_150.index.intersection(psix_150.index)\n",
    "\n",
    "y = ((platonic_psi.loc[idx].max(axis=1) - platonic_psi.loc[idx].min(axis=1))>= 0.2).astype(int)\n",
    "    \n",
    "recall_list = []\n",
    "for x in [psix_5, psix_10, psix_20, psix_30, psix_50, psix_100, psix_150]:\n",
    "    pre, rec, thres = precision_recall_curve(y, x.loc[idx].psix_score)\n",
    "    \n",
    "    recall_list.append(auc(rec, pre))\n",
    "\n",
    "\n",
    "fig = plt.figure(figsize=(6/2.4, 4/2.4))\n",
    "ax = fig.add_subplot(111)\n",
    "\n",
    "# ax.plot([10, 10], [0, recall_list[3]], linestyle='--', c='gray')\n",
    "\n",
    "ax.scatter(np.array([0.1, 1, 5, 10, 15, 20, 25]), recall_list, c='navy', zorder=20, s=20)\n",
    "\n",
    "ax.plot(np.array([0.1, 1, 5, 10, 15, 20, 25]), recall_list, c='navy', zorder=20)\n",
    "\n",
    "ax.set_xticks(np.array([0.1, 1, 5, 10, 15, 20, 25]))\n",
    "\n",
    "ax.set_xticklabels(['0.1', '1%', '5%', '10%', '15%', '20%', '25%'], size=8)\n",
    "\n",
    "ax.set_xlabel('Neighborhood size - population percent', size=8)\n",
    "\n",
    "# ax.set_yticks([0.0, 0.5, 1])\n",
    "# ax.set_yticklabels(['0', '0.5', '1'], size=8)\n",
    "ax.set_ylabel('Precision-recall AUC', size=8)\n",
    "ax.set_title('10,000 cells', size=8)\n",
    "\n",
    "ax.spines[\"right\"].set_visible(False)\n",
    "ax.spines[\"top\"].set_visible(False)\n",
    "\n",
    "# ax.set_xlim([-0.5, 12])\n",
    "plt.show()\n",
    "# plt.savefig('../plots/single_lineage_kauc.png', bbox_inches='tight', res=20000, dpi =2000)\n"
   ]
  },
  {
   "cell_type": "code",
   "execution_count": 58,
   "metadata": {},
   "outputs": [
    {
     "data": {
      "image/png": "[encoded data removed]",
      "text/plain": [
       "<Figure size 180x120 with 1 Axes>"
      ]
     },
     "metadata": {
      "needs_background": "light"
     },
     "output_type": "display_data"
    }
   ],
   "source": [
    "psix_5 = pd.read_csv('psix_output_5000/k_sensitivity/k_0.001.tab.gz', sep='\\t', index_col=0)\n",
    "psix_10 = pd.read_csv('psix_output_5000/k_sensitivity/k_0.01.tab.gz', sep='\\t', index_col=0)\n",
    "psix_20 = pd.read_csv('psix_output_5000/k_sensitivity/k_0.05.tab.gz', sep='\\t', index_col=0)\n",
    "psix_30 = pd.read_csv('psix_output_5000/k_sensitivity/k_0.1.tab.gz', sep='\\t', index_col=0)\n",
    "psix_50 = pd.read_csv('psix_output_5000/k_sensitivity/k_0.15.tab.gz', sep='\\t', index_col=0)\n",
    "psix_100 = pd.read_csv('psix_output_5000/k_sensitivity/k_0.2.tab.gz', sep='\\t', index_col=0)\n",
    "psix_150 = pd.read_csv('psix_output_5000/k_sensitivity/k_0.25.tab.gz', sep='\\t', index_col=0)\n",
    "\n",
    "\n",
    "idx = psix_150.index.intersection(psix_150.index)\n",
    "\n",
    "y = ((platonic_psi.loc[idx].max(axis=1) - platonic_psi.loc[idx].min(axis=1))>= 0.2).astype(int)\n",
    "    \n",
    "recall_list = []\n",
    "for x in [psix_5, psix_10, psix_20, psix_30, psix_50, psix_100, psix_150]:\n",
    "    pre, rec, thres = precision_recall_curve(y, x.loc[idx].psix_score)\n",
    "    \n",
    "    recall_list.append(auc(rec, pre))\n",
    "\n",
    "\n",
    "fig = plt.figure(figsize=(6/2.4, 4/2.4))\n",
    "ax = fig.add_subplot(111)\n",
    "\n",
    "# ax.plot([10, 10], [0, recall_list[3]], linestyle='--', c='gray')\n",
    "\n",
    "ax.scatter(np.array([0.1, 1, 5, 10, 15, 20, 25]), recall_list, c='navy', zorder=20, s=20)\n",
    "\n",
    "ax.plot(np.array([0.1, 1, 5, 10, 15, 20, 25]), recall_list, c='navy', zorder=20)\n",
    "\n",
    "ax.set_xticks(np.array([0.1, 1, 5, 10, 15, 20, 25]))\n",
    "\n",
    "ax.set_xticklabels(['0.1', '1%', '5%', '10%', '15%', '20%', '25%'], size=8)\n",
    "\n",
    "ax.set_xlabel('Neighborhood size - population percent', size=8)\n",
    "\n",
    "# ax.set_yticks([0.0, 0.5, 1])\n",
    "# ax.set_yticklabels(['0', '0.5', '1'], size=8)\n",
    "ax.set_ylabel('Precision-recall AUC', size=8)\n",
    "ax.set_title('5,000 cells', size=8)\n",
    "\n",
    "ax.spines[\"right\"].set_visible(False)\n",
    "ax.spines[\"top\"].set_visible(False)\n",
    "\n",
    "# ax.set_xlim([-0.5, 12])\n",
    "plt.show()\n",
    "# plt.savefig('../plots/single_lineage_kauc.png', bbox_inches='tight', res=20000, dpi =2000)\n"
   ]
  },
  {
   "cell_type": "code",
   "execution_count": 57,
   "metadata": {},
   "outputs": [
    {
     "data": {
      "image/png": "[encoded data removed]",
      "text/plain": [
       "<Figure size 180x120 with 1 Axes>"
      ]
     },
     "metadata": {
      "needs_background": "light"
     },
     "output_type": "display_data"
    }
   ],
   "source": [
    "# psix_5 = pd.read_csv('psix_output_1000/k_sensitivity/k_0.001.tab.gz', sep='\\t', index_col=0)\n",
    "psix_10 = pd.read_csv('psix_output_1000/k_sensitivity/k_0.01.tab.gz', sep='\\t', index_col=0)\n",
    "psix_20 = pd.read_csv('psix_output_1000/k_sensitivity/k_0.05.tab.gz', sep='\\t', index_col=0)\n",
    "psix_30 = pd.read_csv('psix_output_1000/k_sensitivity/k_0.1.tab.gz', sep='\\t', index_col=0)\n",
    "psix_50 = pd.read_csv('psix_output_1000/k_sensitivity/k_0.15.tab.gz', sep='\\t', index_col=0)\n",
    "psix_100 = pd.read_csv('psix_output_1000/k_sensitivity/k_0.2.tab.gz', sep='\\t', index_col=0)\n",
    "psix_150 = pd.read_csv('psix_output_1000/k_sensitivity/k_0.25.tab.gz', sep='\\t', index_col=0)\n",
    "\n",
    "\n",
    "idx = psix_150.index.intersection(psix_150.index)\n",
    "\n",
    "y = ((platonic_psi.loc[idx].max(axis=1) - platonic_psi.loc[idx].min(axis=1))>= 0.2).astype(int)\n",
    "    \n",
    "recall_list = []\n",
    "for x in [psix_10, psix_20, psix_30, psix_50, psix_100, psix_150]:\n",
    "    pre, rec, thres = precision_recall_curve(y, x.loc[idx].psix_score)\n",
    "    \n",
    "    recall_list.append(auc(rec, pre))\n",
    "\n",
    "\n",
    "fig = plt.figure(figsize=(6/2.4, 4/2.4))\n",
    "ax = fig.add_subplot(111)\n",
    "\n",
    "# ax.plot([10, 10], [0, recall_list[3]], linestyle='--', c='gray')\n",
    "\n",
    "ax.scatter(np.array([ 1, 5, 10, 15, 20, 25]), recall_list, c='navy', zorder=20, s=20)\n",
    "\n",
    "ax.plot(np.array([1, 5, 10, 15, 20, 25]), recall_list, c='navy', zorder=20)\n",
    "\n",
    "ax.set_xticks(np.array([1, 5, 10, 15, 20, 25]))\n",
    "\n",
    "ax.set_xticklabels(['1%', '5%', '10%', '15%', '20%', '25%'], size=8)\n",
    "\n",
    "ax.set_xlabel('Neighborhood size - population percent', size=8)\n",
    "\n",
    "# ax.set_yticks([0.0, 0.5, 1])\n",
    "# ax.set_yticklabels(['0', '0.5', '1'], size=8)\n",
    "ax.set_ylabel('Precision-recall AUC', size=8)\n",
    "ax.set_title('1,000 cells', size=8)\n",
    "\n",
    "ax.spines[\"right\"].set_visible(False)\n",
    "ax.spines[\"top\"].set_visible(False)\n",
    "\n",
    "# ax.set_xlim([-0.5, 12])\n",
    "plt.show()\n",
    "# plt.savefig('../plots/single_lineage_kauc.png', bbox_inches='tight', res=20000, dpi =2000)\n"
   ]
  },
  {
   "cell_type": "code",
   "execution_count": 55,
   "metadata": {},
   "outputs": [
    {
     "data": {
      "image/png": "[encoded data removed]",
      "text/plain": [
       "<Figure size 180x120 with 1 Axes>"
      ]
     },
     "metadata": {
      "needs_background": "light"
     },
     "output_type": "display_data"
    }
   ],
   "source": [
    "# psix_5 = pd.read_csv('psix_output_500/k_sensitivity/k_0.001.tab.gz', sep='\\t', index_col=0)\n",
    "# psix_10 = pd.read_csv('psix_output_500/k_sensitivity/k_0.01.tab.gz', sep='\\t', index_col=0)\n",
    "psix_20 = pd.read_csv('psix_output_500/k_sensitivity/k_0.05.tab.gz', sep='\\t', index_col=0)\n",
    "psix_30 = pd.read_csv('psix_output_500/k_sensitivity/k_0.1.tab.gz', sep='\\t', index_col=0)\n",
    "psix_50 = pd.read_csv('psix_output_500/k_sensitivity/k_0.15.tab.gz', sep='\\t', index_col=0)\n",
    "psix_100 = pd.read_csv('psix_output_500/k_sensitivity/k_0.2.tab.gz', sep='\\t', index_col=0)\n",
    "psix_150 = pd.read_csv('psix_output_500/k_sensitivity/k_0.25.tab.gz', sep='\\t', index_col=0)\n",
    "\n",
    "\n",
    "idx = psix_150.index.intersection(psix_150.index)\n",
    "\n",
    "y = ((platonic_psi.loc[idx].max(axis=1) - platonic_psi.loc[idx].min(axis=1))>= 0.2).astype(int)\n",
    "    \n",
    "recall_list = []\n",
    "for x in [psix_20, psix_30, psix_50, psix_100, psix_150]:\n",
    "    pre, rec, thres = precision_recall_curve(y, x.loc[idx].psix_score)\n",
    "    \n",
    "    recall_list.append(auc(rec, pre))\n",
    "\n",
    "\n",
    "fig = plt.figure(figsize=(6/2.4, 4/2.4))\n",
    "ax = fig.add_subplot(111)\n",
    "\n",
    "# ax.plot([10, 10], [0, recall_list[3]], linestyle='--', c='gray')\n",
    "\n",
    "ax.scatter(np.array([ 5, 10, 15, 20, 25]), recall_list, c='navy', zorder=20, s=20)\n",
    "\n",
    "ax.plot(np.array([ 5, 10, 15, 20, 25]), recall_list, c='navy', zorder=20)\n",
    "\n",
    "ax.set_xticks(np.array([ 5, 10, 15, 20, 25]))\n",
    "\n",
    "ax.set_xticklabels(['5%', '10%', '15%', '20%', '25%'], size=8)\n",
    "\n",
    "ax.set_xlabel('Neighborhood size - population percent', size=8)\n",
    "\n",
    "# ax.set_yticks([0.0, 0.5, 1])\n",
    "# ax.set_yticklabels(['0', '0.5', '1'], size=8)\n",
    "ax.set_ylabel('Precision-recall AUC', size=8)\n",
    "ax.set_title('500 cells', size=8)\n",
    "\n",
    "ax.spines[\"right\"].set_visible(False)\n",
    "ax.spines[\"top\"].set_visible(False)\n",
    "\n",
    "# ax.set_xlim([-0.5, 12])\n",
    "plt.show()\n",
    "# plt.savefig('../plots/single_lineage_kauc.png', bbox_inches='tight', res=20000, dpi =2000)\n"
   ]
  },
  {
   "cell_type": "code",
   "execution_count": 54,
   "metadata": {},
   "outputs": [
    {
     "data": {
      "image/png": "[encoded data removed]",
      "text/plain": [
       "<Figure size 180x120 with 1 Axes>"
      ]
     },
     "metadata": {
      "needs_background": "light"
     },
     "output_type": "display_data"
    }
   ],
   "source": [
    "# psix_5 = pd.read_csv('psix_output_100/k_sensitivity/k_0.001.tab.gz', sep='\\t', index_col=0)\n",
    "# psix_10 = pd.read_csv('psix_output_100/k_sensitivity/k_0.01.tab.gz', sep='\\t', index_col=0)\n",
    "# psix_20 = pd.read_csv('psix_output_100/k_sensitivity/k_0.05.tab.gz', sep='\\t', index_col=0)\n",
    "psix_30 = pd.read_csv('psix_output_100/k_sensitivity/k_0.1.tab.gz', sep='\\t', index_col=0)\n",
    "psix_50 = pd.read_csv('psix_output_100/k_sensitivity/k_0.15.tab.gz', sep='\\t', index_col=0)\n",
    "psix_100 = pd.read_csv('psix_output_100/k_sensitivity/k_0.2.tab.gz', sep='\\t', index_col=0)\n",
    "psix_150 = pd.read_csv('psix_output_100/k_sensitivity/k_0.25.tab.gz', sep='\\t', index_col=0)\n",
    "\n",
    "\n",
    "idx = psix_150.index.intersection(psix_150.index)\n",
    "\n",
    "y = ((platonic_psi.loc[idx].max(axis=1) - platonic_psi.loc[idx].min(axis=1))>= 0.2).astype(int)\n",
    "    \n",
    "recall_list = []\n",
    "for x in [ psix_30, psix_50, psix_100, psix_150]:\n",
    "    pre, rec, thres = precision_recall_curve(y, x.loc[idx].psix_score)\n",
    "    \n",
    "    recall_list.append(auc(rec, pre))\n",
    "\n",
    "\n",
    "fig = plt.figure(figsize=(6/2.4, 4/2.4))\n",
    "ax = fig.add_subplot(111)\n",
    "\n",
    "# ax.plot([10, 10], [0, recall_list[3]], linestyle='--', c='gray')\n",
    "\n",
    "ax.scatter(np.array([10, 15, 20, 25]), recall_list, c='navy', zorder=20, s=20)\n",
    "\n",
    "ax.plot(np.array([10, 15, 20, 25]), recall_list, c='navy', zorder=20)\n",
    "\n",
    "ax.set_xticks(np.array([10, 15, 20, 25]))\n",
    "\n",
    "ax.set_xticklabels(['10%', '15%', '20%', '25%'], size=8)\n",
    "\n",
    "ax.set_xlabel('Neighborhood size - population percent', size=8)\n",
    "\n",
    "# ax.set_yticks([0.0, 0.5, 1])\n",
    "# ax.set_yticklabels(['0', '0.5', '1'], size=8)\n",
    "ax.set_ylabel('Precision-recall AUC', size=8)\n",
    "ax.set_title('100 cells', size=8)\n",
    "\n",
    "ax.spines[\"right\"].set_visible(False)\n",
    "ax.spines[\"top\"].set_visible(False)\n",
    "\n",
    "# ax.set_xlim([-0.5, 12])\n",
    "plt.show()\n",
    "# plt.savefig('../plots/single_lineage_kauc.png', bbox_inches='tight', res=20000, dpi =2000)\n"
   ]
  },
  {
   "cell_type": "code",
   "execution_count": null,
   "metadata": {},
   "outputs": [],
   "source": [
    "precision_recall_curve(y_, psix_results.loc[order].psix_score)"
   ]
  }
 ],
 "metadata": {
  "kernelspec": {
   "display_name": "Python 3",
   "language": "python",
   "name": "python3"
  },
  "language_info": {
   "codemirror_mode": {
    "name": "ipython",
    "version": 3
   },
   "file_extension": ".py",
   "mimetype": "text/x-python",
   "name": "python",
   "nbconvert_exporter": "python",
   "pygments_lexer": "ipython3",
   "version": "3.7.6"
  }
 },
 "nbformat": 4,
 "nbformat_minor": 4
}
