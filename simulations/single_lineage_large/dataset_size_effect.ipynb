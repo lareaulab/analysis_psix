{
 "cells": [
  {
   "cell_type": "code",
   "execution_count": 1,
   "metadata": {},
   "outputs": [],
   "source": [
    "import numpy as np\n",
    "import pandas as pd\n",
    "import psix\n",
    "import os\n",
    "\n",
    "from matplotlib import pyplot as plt\n",
    "\n",
    "from scipy.special import expit, logit\n",
    "\n",
    "from scipy.special import logit, expit\n",
    "from sklearn.metrics import precision_recall_curve\n",
    "from sklearn.metrics import recall_score\n",
    "from sklearn.metrics import precision_score\n",
    "from sklearn.metrics import f1_score\n",
    "from sklearn.metrics import auc\n"
   ]
  },
  {
   "cell_type": "code",
   "execution_count": 2,
   "metadata": {},
   "outputs": [],
   "source": [
    "platonic_psi = pd.read_csv('sim_output/psi_platonic.tab', sep='\\t', \n",
    "                               names = ['cell_'+str(i+1) for i in range(10000)])\n",
    "platonic_psi.index = ['gene' + str(i+1) for i in range(5000)]\n",
    "\n",
    "platonic_psi = expit(platonic_psi)\n",
    "\n",
    "delta_psi = platonic_psi.max(axis=1) - platonic_psi.min(axis=1)\n",
    "diff_psi = delta_psi >= 0.2\n",
    "pos_exons = diff_psi.loc[diff_psi].index\n",
    "neg_exons = diff_psi.loc[~diff_psi].index"
   ]
  },
  {
   "cell_type": "code",
   "execution_count": 9,
   "metadata": {},
   "outputs": [
    {
     "name": "stdout",
     "output_type": "stream",
     "text": [
      "0.9775100380245845\n"
     ]
    },
    {
     "data": {
      "image/png": "[encoded data removed]",
      "text/plain": [
       "<Figure size 180x120 with 1 Axes>"
      ]
     },
     "metadata": {
      "needs_background": "light"
     },
     "output_type": "display_data"
    }
   ],
   "source": [
    "psix_10 = pd.read_csv('psix_output_10000/k_number/k_10.tab.gz', sep='\\t', index_col=0)\n",
    "psix_25 = pd.read_csv('psix_output_10000/k_number/k_25.tab.gz', sep='\\t', index_col=0)\n",
    "psix_50 = pd.read_csv('psix_output_10000/k_number/k_50.tab.gz', sep='\\t', index_col=0)\n",
    "psix_100 = pd.read_csv('psix_output_10000/k_number/k_100.tab.gz', sep='\\t', index_col=0)\n",
    "psix_200 = pd.read_csv('psix_output_10000/k_number/k_200.tab.gz', sep='\\t', index_col=0)\n",
    "psix_500 = pd.read_csv('psix_output_10000/k_number/k_500.tab.gz', sep='\\t', index_col=0)\n",
    "psix_1000 = pd.read_csv('psix_output_10000/k_number/k_1000.tab.gz', sep='\\t', index_col=0)\n",
    "psix_2500 = pd.read_csv('psix_output_10000/k_number/k_2500.tab.gz', sep='\\t', index_col=0)\n",
    "\n",
    "recall_list = []\n",
    "for x in [psix_10, psix_25, psix_50, psix_100, psix_200, psix_500, psix_1000, psix_2500]:\n",
    "    \n",
    "    idx = x.index\n",
    "\n",
    "    pos = pos_exons.intersection(idx)\n",
    "    neg = neg_exons.intersection(idx)\n",
    "    \n",
    "    new_idx = list(pos) + list(neg)\n",
    "\n",
    "    y = [1]*len(pos) + [0]*len(neg)\n",
    "    \n",
    "    pre, rec, thres = precision_recall_curve(y, x.loc[new_idx].psix_score)\n",
    "    \n",
    "    recall_list.append(auc(rec, pre))\n",
    "\n",
    "\n",
    "fig = plt.figure(figsize=(6/2.4, 4/2.4))\n",
    "ax = fig.add_subplot(111)\n",
    "\n",
    "# ax.plot([10, 10], [0, recall_list[3]], linestyle='--', c='gray')\n",
    "\n",
    "ax.scatter(np.log10(np.array([10, 25, 50, 100, 200, 500, 1000, 2500])), recall_list, c='navy', zorder=20, s=20)\n",
    "\n",
    "ax.plot(np.log10(np.array([10, 25, 50, 100, 200, 500, 1000, 2500])), recall_list, c='navy', zorder=20)\n",
    "\n",
    "ax.set_xticks(np.log10(np.array([10, 25, 50, 100, 200, 500, 1000, 2500])))\n",
    "\n",
    "ax.set_xticklabels(['10', '25', '50', '100', '200', '500', '1000', '2500'], size=8, rotation = 45)\n",
    "\n",
    "ax.set_xlabel('Neighborhood size (# cells)', size=8)\n",
    "\n",
    "# ax.set_yticks([0.0, 0.5, 1])\n",
    "# ax.set_yticklabels(['0', '0.5', '1'], size=8)\n",
    "ax.set_ylabel('Precision-recall AUC', size=8)\n",
    "ax.set_title('10,000 cells', size=8)\n",
    "\n",
    "ax.spines[\"right\"].set_visible(False)\n",
    "ax.spines[\"top\"].set_visible(False)\n",
    "\n",
    "ax.set_ylim([-0.05, 1.05])\n",
    "# plt.show()\n",
    "plt.savefig('../plots/single_lineage_knumber_10000_auc.png', bbox_inches='tight', res=20000, dpi =2000)\n",
    "\n",
    "\n",
    "##########################\n",
    "\n",
    "idx = psix_100.index\n",
    "\n",
    "pos = pos_exons.intersection(idx)\n",
    "neg = neg_exons.intersection(idx)\n",
    "\n",
    "new_idx = list(pos) + list(neg)\n",
    "\n",
    "y = [1]*len(pos) + [0]*len(neg)\n",
    "\n",
    "pre, rec, thres = precision_recall_curve(y, psix_100.loc[new_idx].psix_score)\n",
    "    \n",
    "print(auc(rec, pre))"
   ]
  },
  {
   "cell_type": "code",
   "execution_count": 10,
   "metadata": {},
   "outputs": [
    {
     "name": "stdout",
     "output_type": "stream",
     "text": [
      "0.9722456735638345\n"
     ]
    },
    {
     "data": {
      "image/png": "[encoded data removed]",
      "text/plain": [
       "<Figure size 180x120 with 1 Axes>"
      ]
     },
     "metadata": {
      "needs_background": "light"
     },
     "output_type": "display_data"
    }
   ],
   "source": [
    "psix_10 = pd.read_csv('psix_output_5000/k_number/k_10.tab.gz', sep='\\t', index_col=0)\n",
    "psix_25 = pd.read_csv('psix_output_5000/k_number/k_25.tab.gz', sep='\\t', index_col=0)\n",
    "psix_50 = pd.read_csv('psix_output_5000/k_number/k_50.tab.gz', sep='\\t', index_col=0)\n",
    "psix_100 = pd.read_csv('psix_output_5000/k_number/k_100.tab.gz', sep='\\t', index_col=0)\n",
    "psix_200 = pd.read_csv('psix_output_5000/k_number/k_200.tab.gz', sep='\\t', index_col=0)\n",
    "psix_500 = pd.read_csv('psix_output_5000/k_number/k_500.tab.gz', sep='\\t', index_col=0)\n",
    "psix_1000 = pd.read_csv('psix_output_5000/k_number/k_1000.tab.gz', sep='\\t', index_col=0)\n",
    "psix_2500 = pd.read_csv('psix_output_5000/k_number/k_2500.tab.gz', sep='\\t', index_col=0)\n",
    "\n",
    "recall_list = []\n",
    "for x in [psix_10, psix_25, psix_50, psix_100, psix_200, psix_500, psix_1000, psix_2500]:\n",
    "    \n",
    "    idx = x.index\n",
    "\n",
    "    pos = pos_exons.intersection(idx)\n",
    "    neg = neg_exons.intersection(idx)\n",
    "    \n",
    "    new_idx = list(pos) + list(neg)\n",
    "\n",
    "    y = [1]*len(pos) + [0]*len(neg)\n",
    "    \n",
    "    pre, rec, thres = precision_recall_curve(y, x.loc[new_idx].psix_score)\n",
    "    \n",
    "    recall_list.append(auc(rec, pre))\n",
    "\n",
    "\n",
    "fig = plt.figure(figsize=(6/2.4, 4/2.4))\n",
    "ax = fig.add_subplot(111)\n",
    "\n",
    "# ax.plot([10, 10], [0, recall_list[3]], linestyle='--', c='gray')\n",
    "\n",
    "ax.scatter(np.log10(np.array([10, 25, 50, 100, 200, 500, 1000, 2500])), recall_list, c='navy', zorder=20, s=20)\n",
    "\n",
    "ax.plot(np.log10(np.array([10, 25, 50, 100, 200, 500, 1000, 2500])), recall_list, c='navy', zorder=20)\n",
    "\n",
    "ax.set_xticks(np.log10(np.array([10, 25, 50, 100, 200, 500, 1000, 2500])))\n",
    "\n",
    "ax.set_xticklabels(['10', '25', '50', '100', '200', '500', '1000', '2500'], size=8, rotation = 45)\n",
    "\n",
    "ax.set_xlabel('Neighborhood size (# cells)', size=8)\n",
    "\n",
    "# ax.set_yticks([0.0, 0.5, 1])\n",
    "# ax.set_yticklabels(['0', '0.5', '1'], size=8)\n",
    "ax.set_ylabel('Precision-recall AUC', size=8)\n",
    "ax.set_title('5,000 cells', size=8)\n",
    "\n",
    "ax.spines[\"right\"].set_visible(False)\n",
    "ax.spines[\"top\"].set_visible(False)\n",
    "\n",
    "ax.set_ylim([-0.05, 1.05])\n",
    "plt.savefig('../plots/single_lineage_knumber_5000_auc.png', bbox_inches='tight', res=20000, dpi =2000)\n",
    "# plt.savefig('../plots/single_lineage_kauc.png', bbox_inches='tight', res=20000, dpi =2000)\n",
    "\n",
    "##################\n",
    "\n",
    "idx = psix_100.index\n",
    "\n",
    "pos = pos_exons.intersection(idx)\n",
    "neg = neg_exons.intersection(idx)\n",
    "\n",
    "new_idx = list(pos) + list(neg)\n",
    "\n",
    "y = [1]*len(pos) + [0]*len(neg)\n",
    "\n",
    "pre, rec, thres = precision_recall_curve(y, psix_100.loc[new_idx].psix_score)\n",
    "    \n",
    "print(auc(rec, pre))"
   ]
  },
  {
   "cell_type": "code",
   "execution_count": 11,
   "metadata": {},
   "outputs": [
    {
     "name": "stdout",
     "output_type": "stream",
     "text": [
      "0.9406590365421839\n"
     ]
    },
    {
     "data": {
      "image/png": "[encoded data removed]",
      "text/plain": [
       "<Figure size 180x120 with 1 Axes>"
      ]
     },
     "metadata": {
      "needs_background": "light"
     },
     "output_type": "display_data"
    }
   ],
   "source": [
    "psix_10 = pd.read_csv('psix_output_1000/k_number/k_10.tab.gz', sep='\\t', index_col=0)\n",
    "psix_25 = pd.read_csv('psix_output_1000/k_number/k_25.tab.gz', sep='\\t', index_col=0)\n",
    "psix_50 = pd.read_csv('psix_output_1000/k_number/k_50.tab.gz', sep='\\t', index_col=0)\n",
    "psix_100 = pd.read_csv('psix_output_1000/k_number/k_100.tab.gz', sep='\\t', index_col=0)\n",
    "psix_200 = pd.read_csv('psix_output_1000/k_number/k_200.tab.gz', sep='\\t', index_col=0)\n",
    "psix_500 = pd.read_csv('psix_output_1000/k_number/k_500.tab.gz', sep='\\t', index_col=0)\n",
    "\n",
    "recall_list = []\n",
    "for x in [psix_10, psix_25, psix_50, psix_100, psix_200, psix_500]:\n",
    "    \n",
    "    idx = x.index\n",
    "\n",
    "    pos = pos_exons.intersection(idx)\n",
    "    neg = neg_exons.intersection(idx)\n",
    "    \n",
    "    new_idx = list(pos) + list(neg)\n",
    "\n",
    "    y = [1]*len(pos) + [0]*len(neg)\n",
    "    \n",
    "    pre, rec, thres = precision_recall_curve(y, x.loc[new_idx].psix_score)\n",
    "    \n",
    "    recall_list.append(auc(rec, pre))\n",
    "\n",
    "\n",
    "fig = plt.figure(figsize=(6/2.4, 4/2.4))\n",
    "ax = fig.add_subplot(111)\n",
    "\n",
    "# ax.plot([10, 10], [0, recall_list[3]], linestyle='--', c='gray')\n",
    "\n",
    "ax.scatter(np.log10(np.array([10, 25, 50, 100, 200, 500])), recall_list, c='navy', zorder=20, s=20)\n",
    "\n",
    "ax.plot(np.log10(np.array([10, 25, 50, 100, 200, 500])), recall_list, c='navy', zorder=20)\n",
    "\n",
    "ax.set_xticks(np.log10(np.array([10, 25, 50, 100, 200, 500])))\n",
    "\n",
    "ax.set_xticklabels(['10', '25', '50', '100', '200', '500'], size=8, rotation = 45)\n",
    "\n",
    "ax.set_xlabel('Neighborhood size (# cells)', size=8)\n",
    "\n",
    "# ax.set_yticks([0.0, 0.5, 1])\n",
    "# ax.set_yticklabels(['0', '0.5', '1'], size=8)\n",
    "ax.set_ylabel('Precision-recall AUC', size=8)\n",
    "ax.set_title('1000 cells', size=8)\n",
    "\n",
    "ax.spines[\"right\"].set_visible(False)\n",
    "ax.spines[\"top\"].set_visible(False)\n",
    "\n",
    "ax.set_ylim([-0.05, 1.05])\n",
    "plt.savefig('../plots/single_lineage_knumber_1000_auc.png', bbox_inches='tight', res=20000, dpi =2000)\n",
    "# plt.savefig('../plots/single_lineage_kauc.png', bbox_inches='tight', res=20000, dpi =2000)\n",
    "##############################\n",
    "\n",
    "idx = psix_100.index\n",
    "\n",
    "pos = pos_exons.intersection(idx)\n",
    "neg = neg_exons.intersection(idx)\n",
    "\n",
    "new_idx = list(pos) + list(neg)\n",
    "\n",
    "y = [1]*len(pos) + [0]*len(neg)\n",
    "\n",
    "pre, rec, thres = precision_recall_curve(y, psix_100.loc[new_idx].psix_score)\n",
    "    \n",
    "print(auc(rec, pre))"
   ]
  },
  {
   "cell_type": "code",
   "execution_count": 12,
   "metadata": {},
   "outputs": [
    {
     "name": "stdout",
     "output_type": "stream",
     "text": [
      "0.9132557517728129\n"
     ]
    },
    {
     "data": {
      "image/png": "[encoded data removed]",
      "text/plain": [
       "<Figure size 180x120 with 1 Axes>"
      ]
     },
     "metadata": {
      "needs_background": "light"
     },
     "output_type": "display_data"
    }
   ],
   "source": [
    "psix_10 = pd.read_csv('psix_output_500/k_number/k_10.tab.gz', sep='\\t', index_col=0)\n",
    "psix_25 = pd.read_csv('psix_output_500/k_number/k_25.tab.gz', sep='\\t', index_col=0)\n",
    "psix_50 = pd.read_csv('psix_output_500/k_number/k_50.tab.gz', sep='\\t', index_col=0)\n",
    "psix_100 = pd.read_csv('psix_output_500/k_number/k_100.tab.gz', sep='\\t', index_col=0)\n",
    "psix_200 = pd.read_csv('psix_output_500/k_number/k_200.tab.gz', sep='\\t', index_col=0)\n",
    "\n",
    "recall_list = []\n",
    "for x in [psix_10, psix_25, psix_50, psix_100, psix_200]:\n",
    "    \n",
    "    idx = x.index\n",
    "\n",
    "    pos = pos_exons.intersection(idx)\n",
    "    neg = neg_exons.intersection(idx)\n",
    "    \n",
    "    new_idx = list(pos) + list(neg)\n",
    "\n",
    "    y = [1]*len(pos) + [0]*len(neg)\n",
    "    \n",
    "    pre, rec, thres = precision_recall_curve(y, x.loc[new_idx].psix_score)\n",
    "    \n",
    "    recall_list.append(auc(rec, pre))\n",
    "\n",
    "\n",
    "fig = plt.figure(figsize=(6/2.4, 4/2.4))\n",
    "ax = fig.add_subplot(111)\n",
    "\n",
    "# ax.plot([10, 10], [0, recall_list[3]], linestyle='--', c='gray')\n",
    "\n",
    "ax.scatter(np.log10(np.array([10, 25, 50, 100, 200])), recall_list, c='navy', zorder=20, s=20)\n",
    "\n",
    "ax.plot(np.log10(np.array([10, 25, 50, 100, 200])), recall_list, c='navy', zorder=20)\n",
    "\n",
    "ax.set_xticks(np.log10(np.array([10, 25, 50, 100, 200])))\n",
    "\n",
    "ax.set_xticklabels(['10', '25', '50', '100', '200'], size=8, rotation = 45)\n",
    "\n",
    "ax.set_xlabel('Neighborhood size (# cells)', size=8)\n",
    "\n",
    "# ax.set_yticks([0.0, 0.5, 1])\n",
    "# ax.set_yticklabels(['0', '0.5', '1'], size=8)\n",
    "ax.set_ylabel('Precision-recall AUC', size=8)\n",
    "ax.set_title('500 cells', size=8)\n",
    "\n",
    "ax.spines[\"right\"].set_visible(False)\n",
    "ax.spines[\"top\"].set_visible(False)\n",
    "\n",
    "ax.set_ylim([-0.05, 1.05])\n",
    "plt.savefig('../plots/single_lineage_knumber_500_auc.png', bbox_inches='tight', res=20000, dpi =2000)\n",
    "# plt.savefig('../plots/single_lineage_kauc.png', bbox_inches='tight', res=20000, dpi =2000)\n",
    "##############################\n",
    "\n",
    "idx = psix_100.index\n",
    "\n",
    "pos = pos_exons.intersection(idx)\n",
    "neg = neg_exons.intersection(idx)\n",
    "\n",
    "new_idx = list(pos) + list(neg)\n",
    "\n",
    "y = [1]*len(pos) + [0]*len(neg)\n",
    "\n",
    "pre, rec, thres = precision_recall_curve(y, psix_100.loc[new_idx].psix_score)\n",
    "    \n",
    "print(auc(rec, pre))"
   ]
  },
  {
   "cell_type": "code",
   "execution_count": 13,
   "metadata": {},
   "outputs": [
    {
     "name": "stdout",
     "output_type": "stream",
     "text": [
      "0.8985893547806818\n"
     ]
    },
    {
     "data": {
      "image/png": "[encoded data removed]",
      "text/plain": [
       "<Figure size 180x120 with 1 Axes>"
      ]
     },
     "metadata": {
      "needs_background": "light"
     },
     "output_type": "display_data"
    }
   ],
   "source": [
    "psix_10 = pd.read_csv('psix_output_500/k_number/k_10.tab.gz', sep='\\t', index_col=0)\n",
    "psix_25 = pd.read_csv('psix_output_500/k_number/k_25.tab.gz', sep='\\t', index_col=0)\n",
    "psix_50 = pd.read_csv('psix_output_500/k_number/k_50.tab.gz', sep='\\t', index_col=0)\n",
    "\n",
    "recall_list = []\n",
    "for x in [psix_10, psix_25, psix_50]:\n",
    "    \n",
    "    idx = x.index\n",
    "\n",
    "    pos = pos_exons.intersection(idx)\n",
    "    neg = neg_exons.intersection(idx)\n",
    "    \n",
    "    new_idx = list(pos) + list(neg)\n",
    "\n",
    "    y = [1]*len(pos) + [0]*len(neg)\n",
    "    \n",
    "    pre, rec, thres = precision_recall_curve(y, x.loc[new_idx].psix_score)\n",
    "    \n",
    "    recall_list.append(auc(rec, pre))\n",
    "\n",
    "\n",
    "fig = plt.figure(figsize=(6/2.4, 4/2.4))\n",
    "ax = fig.add_subplot(111)\n",
    "\n",
    "# ax.plot([10, 10], [0, recall_list[3]], linestyle='--', c='gray')\n",
    "\n",
    "ax.scatter(np.log10(np.array([10, 25, 50])), recall_list, c='navy', zorder=20, s=20)\n",
    "\n",
    "ax.plot(np.log10(np.array([10, 25, 50])), recall_list, c='navy', zorder=20)\n",
    "\n",
    "ax.set_xticks(np.log10(np.array([10, 25, 50])))\n",
    "\n",
    "ax.set_xticklabels(['10', '25', '50'], size=8, rotation = 45)\n",
    "\n",
    "ax.set_xlabel('Neighborhood size (# cells)', size=8)\n",
    "\n",
    "# ax.set_yticks([0.0, 0.5, 1])\n",
    "# ax.set_yticklabels(['0', '0.5', '1'], size=8)\n",
    "ax.set_ylabel('Precision-recall AUC', size=8)\n",
    "ax.set_title('100 cells', size=8)\n",
    "\n",
    "ax.spines[\"right\"].set_visible(False)\n",
    "ax.spines[\"top\"].set_visible(False)\n",
    "\n",
    "ax.set_ylim([-0.05, 1.05])\n",
    "plt.savefig('../plots/single_lineage_knumber_100_auc.png', bbox_inches='tight', res=20000, dpi =2000)\n",
    "# plt.savefig('../plots/single_lineage_kauc.png', bbox_inches='tight', res=20000, dpi =2000)\n",
    "##############################\n",
    "\n",
    "idx = psix_100.index\n",
    "\n",
    "pos = pos_exons.intersection(idx)\n",
    "neg = neg_exons.intersection(idx)\n",
    "\n",
    "new_idx = list(pos) + list(neg)\n",
    "\n",
    "y = [1]*len(pos) + [0]*len(neg)\n",
    "\n",
    "pre, rec, thres = precision_recall_curve(y, psix_50.loc[new_idx].psix_score)\n",
    "    \n",
    "print(auc(rec, pre))"
   ]
  },
  {
   "cell_type": "markdown",
   "metadata": {},
   "source": [
    "## Compare # of cells"
   ]
  },
  {
   "cell_type": "code",
   "execution_count": 3,
   "metadata": {},
   "outputs": [],
   "source": [
    "psix_10000 = pd.read_csv('psix_output_10000/k_number/k_100.tab.gz', sep='\\t', index_col=0)\n",
    "psix_5000 = pd.read_csv('psix_output_5000/k_number/k_100.tab.gz', sep='\\t', index_col=0)\n",
    "psix_1000 = pd.read_csv('psix_output_1000/k_number/k_100.tab.gz', sep='\\t', index_col=0)\n",
    "psix_500 = pd.read_csv('psix_output_500/k_number/k_100.tab.gz', sep='\\t', index_col=0)\n",
    "psix_100 = pd.read_csv('psix_output_100/k_number/k_50.tab.gz', sep='\\t', index_col=0)\n"
   ]
  },
  {
   "cell_type": "code",
   "execution_count": 4,
   "metadata": {},
   "outputs": [],
   "source": [
    "def get_stats(psix_output, pos_exons, neg_exons):\n",
    "\n",
    "    idx = psix_output.index\n",
    "\n",
    "    pos = pos_exons.intersection(idx)\n",
    "    neg = neg_exons.intersection(idx)\n",
    "    \n",
    "    new_idx = list(pos) + list(neg)\n",
    "\n",
    "    labels_ = [1]*len(pos) + [0]*len(neg)\n",
    "    \n",
    "    results_ = psix_output.loc[new_idx].qvals <= 0.05\n",
    "    \n",
    "    return recall_score(labels_, results_), precision_score(labels_, results_), f1_score(labels_, results_)\n",
    "\n",
    "\n",
    "def get_auc(psix_output, pos_exons, neg_exons):\n",
    "\n",
    "    idx = psix_output.index\n",
    "\n",
    "    pos = pos_exons.intersection(idx)\n",
    "    neg = neg_exons.intersection(idx)\n",
    "    \n",
    "    new_idx = list(pos) + list(neg)\n",
    "\n",
    "    labels_ = [1]*len(pos) + [0]*len(neg)\n",
    "    \n",
    "    results_ = psix_output.loc[new_idx].psix_score\n",
    "    \n",
    "    pre, rec, thres = precision_recall_curve(labels_, results_)\n",
    "    \n",
    "    return auc(rec, pre)\n"
   ]
  },
  {
   "cell_type": "code",
   "execution_count": 5,
   "metadata": {},
   "outputs": [
    {
     "data": {
      "text/plain": [
       "0.9132557517728129"
      ]
     },
     "execution_count": 5,
     "metadata": {},
     "output_type": "execute_result"
    }
   ],
   "source": [
    "get_auc(psix_500, pos_exons, neg_exons)"
   ]
  },
  {
   "cell_type": "code",
   "execution_count": 6,
   "metadata": {},
   "outputs": [],
   "source": [
    "tpm = pd.read_csv('processed_tables/tpm_0.1.tab.gz', sep='\\t', index_col=0)"
   ]
  },
  {
   "cell_type": "code",
   "execution_count": 18,
   "metadata": {},
   "outputs": [],
   "source": [
    "idx = psix_1000.index\n",
    "q = int(len(idx)/4)\n",
    "exp_1 = np.log1p(tpm.loc[idx]).mean(axis=1).sort_values().index[:q]\n",
    "exp_2 = np.log1p(tpm.loc[idx]).mean(axis=1).sort_values().index[q:2*q]\n",
    "exp_3 = np.log1p(tpm.loc[idx]).mean(axis=1).sort_values().index[2*q:3*q]\n",
    "exp_4 = np.log1p(tpm.loc[idx]).mean(axis=1).sort_values().index[3*q:]\n"
   ]
  },
  {
   "cell_type": "code",
   "execution_count": 19,
   "metadata": {},
   "outputs": [
    {
     "data": {
      "image/png": "[encoded data removed]",
      "text/plain": [
       "<Figure size 180x120 with 1 Axes>"
      ]
     },
     "metadata": {
      "needs_background": "light"
     },
     "output_type": "display_data"
    }
   ],
   "source": [
    "gene_strat = [get_auc(psix_1000, pos_exons.intersection(exp_1), neg_exons.intersection(exp_1)),\n",
    "              get_auc(psix_1000, pos_exons.intersection(exp_2), neg_exons.intersection(exp_2)),\n",
    "              get_auc(psix_1000, pos_exons.intersection(exp_3), neg_exons.intersection(exp_3)),\n",
    "              get_auc(psix_1000, pos_exons.intersection(exp_4), neg_exons.intersection(exp_4))]\n",
    "\n",
    "\n",
    "fig = plt.figure(figsize=(6/2.4, 4/2.4))\n",
    "ax = fig.add_subplot(111)\n",
    "ax.scatter(np.array([1, 2, 3, 4]), gene_strat, c='navy', zorder=20, s=20)\n",
    "ax.plot(np.array([1, 2, 3, 4]), gene_strat, c='navy', zorder=20)\n",
    "ax.set_xticks(np.array([1, 2, 3, 4]))\n",
    "ax.set_xticklabels(['4th', '3rd', '2nd', '1st'], size=8)\n",
    "ax.set_xlabel('Gene expression quartile', size=8)\n",
    "ax.set_ylabel('Precision-recall AUC', size=8)\n",
    "ax.spines[\"right\"].set_visible(False)\n",
    "ax.spines[\"top\"].set_visible(False)\n",
    "\n",
    "ax.set_ylim([-0.05, 1.05])\n",
    "# ax.set_xlim([0.5, 4.5])\n",
    "plt.savefig('../plots/single_lineage_exp_quartiles_1000_auc.png', bbox_inches='tight', res=20000, dpi =2000)\n",
    "# plt.savefig('../pl"
   ]
  },
  {
   "cell_type": "code",
   "execution_count": 20,
   "metadata": {},
   "outputs": [
    {
     "data": {
      "image/png": "[encoded data removed]",
      "text/plain": [
       "<Figure size 180x120 with 1 Axes>"
      ]
     },
     "metadata": {
      "needs_background": "light"
     },
     "output_type": "display_data"
    }
   ],
   "source": [
    "gene_strat = [get_stats(psix_1000, pos_exons.intersection(exp_1), neg_exons.intersection(exp_1))[0],\n",
    "              get_stats(psix_1000, pos_exons.intersection(exp_2), neg_exons.intersection(exp_2))[0],\n",
    "              get_stats(psix_1000, pos_exons.intersection(exp_3), neg_exons.intersection(exp_3))[0],\n",
    "              get_stats(psix_1000, pos_exons.intersection(exp_4), neg_exons.intersection(exp_4))[0]]\n",
    "\n",
    "\n",
    "fig = plt.figure(figsize=(6/2.4, 4/2.4))\n",
    "ax = fig.add_subplot(111)\n",
    "ax.scatter(np.array([1, 2, 3, 4]), gene_strat, c='navy', zorder=20, s=20)\n",
    "ax.plot(np.array([1, 2, 3, 4]), gene_strat, c='navy', zorder=20)\n",
    "ax.set_xticks(np.array([1, 2, 3, 4]))\n",
    "ax.set_xticklabels(['4th', '3rd', '2nd', '1st'], size=8)\n",
    "ax.set_xlabel('Gene expression quartile', size=8)\n",
    "ax.set_ylabel('Recall', size=8)\n",
    "ax.spines[\"right\"].set_visible(False)\n",
    "ax.spines[\"top\"].set_visible(False)\n",
    "\n",
    "ax.set_ylim([-0.05, 1.05])\n",
    "# ax.set_xlim([0.5, 4.5])\n",
    "plt.savefig('../plots/single_lineage_exp_quartiles_1000_recall.png', bbox_inches='tight', res=20000, dpi =2000)\n",
    "# plt.savefig('../pl"
   ]
  },
  {
   "cell_type": "code",
   "execution_count": 134,
   "metadata": {},
   "outputs": [
    {
     "data": {
      "text/plain": [
       "0.9660131387189022"
      ]
     },
     "execution_count": 134,
     "metadata": {},
     "output_type": "execute_result"
    }
   ],
   "source": [
    "get_auc(psix_1000, pos_exons.intersection(exp_3), neg_exons.intersection(exp_3))"
   ]
  },
  {
   "cell_type": "code",
   "execution_count": 135,
   "metadata": {},
   "outputs": [
    {
     "data": {
      "text/plain": [
       "0.9709765968231772"
      ]
     },
     "execution_count": 135,
     "metadata": {},
     "output_type": "execute_result"
    }
   ],
   "source": [
    "get_auc(psix_1000, pos_exons.intersection(exp_4), neg_exons.intersection(exp_4))"
   ]
  },
  {
   "cell_type": "code",
   "execution_count": 21,
   "metadata": {},
   "outputs": [],
   "source": [
    "recall = []\n",
    "precision = [] \n",
    "f1 = []\n",
    "\n",
    "r, p, f = get_stats(psix_100, pos_exons, neg_exons)\n",
    "recall.append(r)\n",
    "precision.append(p)\n",
    "f1.append(f)\n",
    "\n",
    "r, p, f = get_stats(psix_500, pos_exons, neg_exons)\n",
    "recall.append(r)\n",
    "precision.append(p)\n",
    "f1.append(f)\n",
    "\n",
    "r, p, f = get_stats(psix_1000, pos_exons, neg_exons)\n",
    "recall.append(r)\n",
    "precision.append(p)\n",
    "f1.append(f)\n",
    "\n",
    "r, p, f = get_stats(psix_5000, pos_exons, neg_exons)\n",
    "recall.append(r)\n",
    "precision.append(p)\n",
    "f1.append(f)\n",
    "\n",
    "r, p, f = get_stats(psix_10000, pos_exons, neg_exons)\n",
    "recall.append(r)\n",
    "precision.append(p)\n",
    "f1.append(f)"
   ]
  },
  {
   "cell_type": "code",
   "execution_count": 22,
   "metadata": {},
   "outputs": [
    {
     "data": {
      "image/png": "[encoded data removed]",
      "text/plain": [
       "<Figure size 180x120 with 1 Axes>"
      ]
     },
     "metadata": {
      "needs_background": "light"
     },
     "output_type": "display_data"
    }
   ],
   "source": [
    "pr_auc = []\n",
    "\n",
    "pr_auc.append(get_auc(psix_100, pos_exons, neg_exons))\n",
    "pr_auc.append(get_auc(psix_500, pos_exons, neg_exons))\n",
    "pr_auc.append(get_auc(psix_1000, pos_exons, neg_exons))\n",
    "pr_auc.append(get_auc(psix_5000, pos_exons, neg_exons))\n",
    "pr_auc.append(get_auc(psix_10000, pos_exons, neg_exons))\n",
    "\n",
    "fig = plt.figure(figsize=(6/2.4, 4/2.4))\n",
    "ax = fig.add_subplot(111)\n",
    "ax.scatter(range(5), pr_auc, c='navy', zorder=20, s=20)\n",
    "ax.plot(range(5), pr_auc, c='navy', zorder=20)\n",
    "ax.set_xticks(range(5))\n",
    "ax.set_xticklabels(['100', '500', '1000', '5000', '10000'], size=8)\n",
    "ax.set_xlabel('# cells', size=8)\n",
    "ax.set_ylabel('Precision-recall AUC', size=8)\n",
    "ax.spines[\"right\"].set_visible(False)\n",
    "ax.spines[\"top\"].set_visible(False)\n",
    "\n",
    "ax.set_ylim([-0.05, 1.05])\n",
    "plt.savefig('../plots/single_lineage_cells_auc.png', bbox_inches='tight', res=20000, dpi =2000)\n"
   ]
  },
  {
   "cell_type": "code",
   "execution_count": 23,
   "metadata": {},
   "outputs": [
    {
     "data": {
      "image/png": "[encoded data removed]",
      "text/plain": [
       "<Figure size 180x120 with 1 Axes>"
      ]
     },
     "metadata": {
      "needs_background": "light"
     },
     "output_type": "display_data"
    }
   ],
   "source": [
    "fig = plt.figure(figsize=(6/2.4, 4/2.4))\n",
    "ax = fig.add_subplot(111)\n",
    "ax.scatter(range(5), f1, c='navy', zorder=20, s=20)\n",
    "ax.plot(range(5), f1, c='navy', zorder=20)\n",
    "ax.set_xticks(range(5))\n",
    "ax.set_xticklabels(['100', '500', '1000', '5000', '10000'], size=8)\n",
    "ax.set_xlabel('# cells', size=8)\n",
    "ax.set_ylabel('F1 score', size=8)\n",
    "ax.spines[\"right\"].set_visible(False)\n",
    "ax.spines[\"top\"].set_visible(False)\n",
    "\n",
    "ax.set_ylim([-0.05, 1.05])\n",
    "plt.savefig('../plots/single_lineage_cells_f1.png', bbox_inches='tight', res=20000, dpi =2000)\n"
   ]
  },
  {
   "cell_type": "code",
   "execution_count": 24,
   "metadata": {},
   "outputs": [
    {
     "data": {
      "image/png": "[encoded data removed]",
      "text/plain": [
       "<Figure size 180x120 with 1 Axes>"
      ]
     },
     "metadata": {
      "needs_background": "light"
     },
     "output_type": "display_data"
    }
   ],
   "source": [
    "fig = plt.figure(figsize=(6/2.4, 4/2.4))\n",
    "ax = fig.add_subplot(111)\n",
    "ax.scatter(range(5), precision, c='navy', zorder=20, s=20)\n",
    "ax.plot(range(5), precision, c='navy', zorder=20)\n",
    "ax.set_xticks(range(5))\n",
    "ax.set_xticklabels(['100', '500', '1000', '5000', '10000'], size=8)\n",
    "ax.set_xlabel('# cells', size=8)\n",
    "ax.set_ylabel('Precision', size=8)\n",
    "ax.spines[\"right\"].set_visible(False)\n",
    "ax.spines[\"top\"].set_visible(False)\n",
    "\n",
    "ax.set_ylim([-0.05, 1.05])\n",
    "plt.savefig('../plots/single_lineage_cells_pre.png', bbox_inches='tight', res=20000, dpi =2000)\n"
   ]
  },
  {
   "cell_type": "code",
   "execution_count": 25,
   "metadata": {},
   "outputs": [
    {
     "data": {
      "image/png": "[encoded data removed]",
      "text/plain": [
       "<Figure size 180x120 with 1 Axes>"
      ]
     },
     "metadata": {
      "needs_background": "light"
     },
     "output_type": "display_data"
    }
   ],
   "source": [
    "fig = plt.figure(figsize=(6/2.4, 4/2.4))\n",
    "ax = fig.add_subplot(111)\n",
    "ax.scatter(range(5), recall, c='navy', zorder=20, s=20)\n",
    "ax.plot(range(5), recall, c='navy', zorder=20)\n",
    "ax.set_xticks(range(5))\n",
    "ax.set_xticklabels(['100', '500', '1000', '5000', '10000'], size=8)\n",
    "ax.set_xlabel('# cells', size=8)\n",
    "ax.set_ylabel('Recall', size=8)\n",
    "ax.spines[\"right\"].set_visible(False)\n",
    "ax.spines[\"top\"].set_visible(False)\n",
    "\n",
    "ax.set_ylim([-0.05, 1.05])\n",
    "plt.savefig('../plots/single_lineage_cells_rec.png', bbox_inches='tight', res=20000, dpi =2000)\n"
   ]
  },
  {
   "cell_type": "code",
   "execution_count": null,
   "metadata": {},
   "outputs": [],
   "source": []
  },
  {
   "cell_type": "code",
   "execution_count": null,
   "metadata": {},
   "outputs": [],
   "source": []
  },
  {
   "cell_type": "code",
   "execution_count": 26,
   "metadata": {},
   "outputs": [],
   "source": [
    "deltaPSI = platonic_psi.max(axis=1) - platonic_psi.min(axis=1)\n",
    "deltaPSI = deltaPSI.loc[psix_1000.index]"
   ]
  },
  {
   "cell_type": "code",
   "execution_count": 27,
   "metadata": {},
   "outputs": [],
   "source": [
    "bin_0 = deltaPSI.loc[(deltaPSI <= 0.01)].index\n",
    "bin_0_20 = deltaPSI.loc[(deltaPSI > 0.01) & (deltaPSI <= 0.2)].index\n",
    "bin_20_40 = deltaPSI.loc[(deltaPSI > 0.2) & (deltaPSI <= 0.4)].index\n",
    "bin_40_60 = deltaPSI.loc[(deltaPSI > 0.4) & (deltaPSI <= 0.6)].index\n",
    "bin_60_80 = deltaPSI.loc[(deltaPSI > 0.6) & (deltaPSI <= 0.8)].index\n",
    "bin_80 = deltaPSI.loc[(deltaPSI > 0.8)].index"
   ]
  },
  {
   "cell_type": "code",
   "execution_count": 28,
   "metadata": {},
   "outputs": [
    {
     "data": {
      "image/png": "[encoded data removed]",
      "text/plain": [
       "<Figure size 180x120 with 1 Axes>"
      ]
     },
     "metadata": {
      "needs_background": "light"
     },
     "output_type": "display_data"
    }
   ],
   "source": [
    "def get_recall(predict, exon_bin):\n",
    "    return recall_score(([True]*len(exon_bin)), predict.loc[[str(x) for x in exon_bin]])\n",
    "\n",
    "\n",
    "def get_precision(predict, exon_bin):\n",
    "    return precision_score(([True]*len(exon_bin)), predict.loc[[str(x) for x in exon_bin]])\n",
    "\n",
    "fig = plt.figure(figsize=(6/2.4, 4/2.4))\n",
    "ax = fig.add_subplot(111)\n",
    "\n",
    "plt.plot([ 0.4, 0.6, 0.8, 1.0],\n",
    "     [#get_recall((psix_1000.qvals <= 0.05), bin_0_20),\n",
    "      get_recall((psix_1000.qvals <= 0.05), bin_20_40),\n",
    "      get_recall((psix_1000.qvals <= 0.05), bin_40_60),\n",
    "      get_recall((psix_1000.qvals <= 0.05), bin_60_80),\n",
    "      get_recall((psix_1000.qvals <= 0.05), bin_80)],\n",
    "        c='navy', linewidth=3)\n",
    "\n",
    "plt.scatter([ 0.4, 0.6, 0.8, 1.0],\n",
    "     [#get_recall((psix_1000.qvals <= 0.05), bin_0_20),\n",
    "      get_recall((psix_1000.qvals <= 0.05), bin_20_40),\n",
    "      get_recall((psix_1000.qvals <= 0.05), bin_40_60),\n",
    "      get_recall((psix_1000.qvals <= 0.05), bin_60_80),\n",
    "      get_recall((psix_1000.qvals <= 0.05), bin_80)],\n",
    "            s=30, c='navy', linewidth=3)\n",
    "\n",
    "plt.xlabel(r'Simulated $\\Delta \\Psi$', fontsize=12)\n",
    "plt.ylabel('Recall', fontsize=12)\n",
    "ax.set_xticks([ 0.4, 0.6, 0.8, 1.0])\n",
    "ax.set_xticklabels(['(0.2-0.4]', '(0.4-0.6]', '(0.6-0.8]', '(0.8-1.0]'])\n",
    "ax.spines[\"right\"].set_visible(False)\n",
    "ax.spines[\"top\"].set_visible(False)\n",
    "plt.ylim([-0.05, 1.05])\n",
    "\n",
    "ax.tick_params(axis='both', which='major', labelsize=8)\n",
    "plt.savefig('../plots/delta_psi_psix_recall.png', bbox_inches='tight', res=20000, dpi =2000)\n",
    "# plt.show()"
   ]
  },
  {
   "cell_type": "code",
   "execution_count": 30,
   "metadata": {},
   "outputs": [
    {
     "data": {
      "image/png": "[encoded data removed]",
      "text/plain": [
       "<Figure size 180x120 with 1 Axes>"
      ]
     },
     "metadata": {
      "needs_background": "light"
     },
     "output_type": "display_data"
    }
   ],
   "source": [
    "# def get_precision(predict, exon_bin):\n",
    "#     return precision_score(([True]*len(exon_bin)), predict.loc[[str(x) for x in exon_bin]])\n",
    "\n",
    "\n",
    "# def get_precision(predict, deltaPSI, cutoff):\n",
    "#     delta_pos = [str(x) for x in deltaPSI.loc[deltaPSI >= cutoff].index]\n",
    "#     delta_neg = [str(x) for x in deltaPSI.loc[deltaPSI < 0.01].index]\n",
    "    \n",
    "#     delta_y = [True]*len(delta_pos) + [False]*len(delta_neg)\n",
    "    \n",
    "#     print(len(delta_y))\n",
    "    \n",
    "#     return precision_score(delta_y, predict.loc[delta_pos + delta_neg])\n",
    "\n",
    "fig = plt.figure(figsize=(6/2.4, 4/2.4))\n",
    "ax = fig.add_subplot(111)\n",
    "\n",
    "plt.plot([ 0.4, 0.6, 0.8, 1.0],\n",
    "     [#get_precision((psix_1000.qvals <= 0.05), bin_0_20),\n",
    "      get_precision((psix_1000.qvals <= 0.05), bin_20_40),\n",
    "      get_precision((psix_1000.qvals <= 0.05), bin_40_60),\n",
    "      get_precision((psix_1000.qvals <= 0.05), bin_60_80),\n",
    "      get_precision((psix_1000.qvals <= 0.05), bin_80)],\n",
    "        c='navy', linewidth=3)\n",
    "\n",
    "plt.scatter([ 0.4, 0.6, 0.8, 1.0],\n",
    "     [#get_precision((psix_1000.qvals <= 0.05), bin_0_20),\n",
    "      get_precision((psix_1000.qvals <= 0.05), bin_20_40),\n",
    "      get_precision((psix_1000.qvals <= 0.05), bin_40_60),\n",
    "      get_precision((psix_1000.qvals <= 0.05), bin_60_80),\n",
    "      get_precision((psix_1000.qvals <= 0.05), bin_80)],\n",
    "            s=30, c='navy', linewidth=3)\n",
    "\n",
    "plt.xlabel(r'Simulated $\\Delta \\Psi$', fontsize=12)\n",
    "plt.ylabel('precision', fontsize=12)\n",
    "ax.set_xticks([ 0.4, 0.6, 0.8, 1.0])\n",
    "ax.set_xticklabels(['(0.2-0.4]', '(0.4-0.6]', '(0.6-0.8]', '(0.8-1.0]'])\n",
    "ax.spines[\"right\"].set_visible(False)\n",
    "ax.spines[\"top\"].set_visible(False)\n",
    "plt.ylim([-0.05, 1.05])\n",
    "\n",
    "ax.tick_params(axis='both', which='major', labelsize=8)\n",
    "# plt.savefig('../plots/delta_psi_psix_precision.png', bbox_inches='tight', res=20000, dpi =2000)\n",
    "plt.savefig('../plots/delta_psi_psix_precision.png', bbox_inches='tight', res=20000, dpi =2000)\n"
   ]
  },
  {
   "cell_type": "code",
   "execution_count": null,
   "metadata": {},
   "outputs": [],
   "source": []
  },
  {
   "cell_type": "code",
   "execution_count": null,
   "metadata": {},
   "outputs": [],
   "source": []
  },
  {
   "cell_type": "code",
   "execution_count": null,
   "metadata": {},
   "outputs": [],
   "source": []
  },
  {
   "cell_type": "code",
   "execution_count": null,
   "metadata": {},
   "outputs": [],
   "source": []
  },
  {
   "cell_type": "code",
   "execution_count": null,
   "metadata": {},
   "outputs": [],
   "source": []
  },
  {
   "cell_type": "code",
   "execution_count": null,
   "metadata": {},
   "outputs": [],
   "source": []
  },
  {
   "cell_type": "code",
   "execution_count": 156,
   "metadata": {},
   "outputs": [
    {
     "data": {
      "image/png": "[encoded data removed]",
      "text/plain": [
       "<Figure size 180x120 with 1 Axes>"
      ]
     },
     "metadata": {
      "needs_background": "light"
     },
     "output_type": "display_data"
    },
    {
     "name": "stdout",
     "output_type": "stream",
     "text": [
      "0.9406590365421839\n"
     ]
    }
   ],
   "source": [
    "psix_10 = pd.read_csv('psix_output_1000/k_number/k_10.tab.gz', sep='\\t', index_col=0)\n",
    "psix_25 = pd.read_csv('psix_output_1000/k_number/k_25.tab.gz', sep='\\t', index_col=0)\n",
    "psix_50 = pd.read_csv('psix_output_1000/k_number/k_50.tab.gz', sep='\\t', index_col=0)\n",
    "psix_100 = pd.read_csv('psix_output_1000/k_number/k_100.tab.gz', sep='\\t', index_col=0)\n",
    "psix_200 = pd.read_csv('psix_output_1000/k_number/k_200.tab.gz', sep='\\t', index_col=0)\n",
    "psix_500 = pd.read_csv('psix_output_1000/k_number/k_500.tab.gz', sep='\\t', index_col=0)\n",
    "\n",
    "recall_list = []\n",
    "for x in [psix_10, psix_25, psix_50, psix_100, psix_200, psix_500]:\n",
    "    \n",
    "    idx = x.index\n",
    "\n",
    "    pos = pos_exons.intersection(idx)\n",
    "    neg = neg_exons.intersection(idx)\n",
    "    \n",
    "    new_idx = list(pos) + list(neg)\n",
    "\n",
    "    y = [1]*len(pos) + [0]*len(neg)\n",
    "    \n",
    "#     pre, rec, thres = precision_recall_curve(y, x.loc[new_idx].psix_score)\n",
    "    \n",
    "    r, p, f = get_stats(x, pos, neg)\n",
    "#     recall.append(r)\n",
    "#     precision.append(p)\n",
    "#     f1.append(f)\n",
    "    \n",
    "    recall_list.append(f)\n",
    "\n",
    "\n",
    "fig = plt.figure(figsize=(6/2.4, 4/2.4))\n",
    "ax = fig.add_subplot(111)\n",
    "\n",
    "# ax.plot([10, 10], [0, recall_list[3]], linestyle='--', c='gray')\n",
    "\n",
    "ax.scatter(np.log10(np.array([10, 25, 50, 100, 200, 500])), recall_list, c='navy', zorder=20, s=20)\n",
    "\n",
    "ax.plot(np.log10(np.array([10, 25, 50, 100, 200, 500])), recall_list, c='navy', zorder=20)\n",
    "\n",
    "ax.set_xticks(np.log10(np.array([10, 25, 50, 100, 200, 500])))\n",
    "\n",
    "ax.set_xticklabels(['10', '25', '50', '100', '200', '500'], size=8, rotation = 45)\n",
    "\n",
    "ax.set_xlabel('Neighborhood size (# cells)', size=8)\n",
    "\n",
    "# ax.set_yticks([0.0, 0.5, 1])\n",
    "# ax.set_yticklabels(['0', '0.5', '1'], size=8)\n",
    "ax.set_ylabel('F1 score', size=8)\n",
    "ax.set_title('1000 cells', size=8)\n",
    "\n",
    "ax.spines[\"right\"].set_visible(False)\n",
    "ax.spines[\"top\"].set_visible(False)\n",
    "\n",
    "ax.set_ylim([-0.05, 1.05])\n",
    "plt.show()\n",
    "# plt.savefig('../plots/single_lineage_kauc.png', bbox_inches='tight', res=20000, dpi =2000)\n",
    "##############################\n",
    "\n",
    "idx = psix_100.index\n",
    "\n",
    "pos = pos_exons.intersection(idx)\n",
    "neg = neg_exons.intersection(idx)\n",
    "\n",
    "new_idx = list(pos) + list(neg)\n",
    "\n",
    "y = [1]*len(pos) + [0]*len(neg)\n",
    "\n",
    "pre, rec, thres = precision_recall_curve(y, psix_100.loc[new_idx].psix_score)\n",
    "    \n",
    "print(auc(rec, pre))"
   ]
  },
  {
   "cell_type": "code",
   "execution_count": null,
   "metadata": {},
   "outputs": [],
   "source": []
  }
 ],
 "metadata": {
  "kernelspec": {
   "display_name": "Python 3",
   "language": "python",
   "name": "python3"
  },
  "language_info": {
   "codemirror_mode": {
    "name": "ipython",
    "version": 3
   },
   "file_extension": ".py",
   "mimetype": "text/x-python",
   "name": "python",
   "nbconvert_exporter": "python",
   "pygments_lexer": "ipython3",
   "version": "3.7.6"
  }
 },
 "nbformat": 4,
 "nbformat_minor": 4
}
