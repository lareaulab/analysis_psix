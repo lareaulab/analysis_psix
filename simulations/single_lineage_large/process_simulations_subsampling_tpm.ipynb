{
 "cells": [
  {
   "cell_type": "code",
   "execution_count": 2,
   "metadata": {},
   "outputs": [],
   "source": [
    "import numpy as np\n",
    "import pandas as pd\n",
    "from tqdm import tqdm\n",
    "import seaborn as sns\n",
    "from scipy.stats import zscore\n",
    "import umap\n",
    "from sklearn.decomposition import PCA\n",
    "import warnings\n",
    "warnings.filterwarnings('ignore')\n",
    "import subprocess as sp\n",
    "import os\n",
    "import sys\n",
    "#sys.path.insert(0, '/mnt/lareaulab/cfbuenabadn/sc_simulations/utils/')\n",
    "from scipy.special import logit, expit\n",
    "from scipy.stats import norm\n",
    "from matplotlib import pyplot as plt\n",
    "\n",
    "#sys.path.insert(0, '/mnt/lareaulab/cfbuenabadn/sc_splicing_tools/preprocess_utils')\n",
    "#from table_utils import *\n",
    "\n",
    "from sklearn.neighbors import NearestNeighbors\n",
    "\n",
    "import matplotlib as mpl\n",
    "mpl.rcParams[\"mathtext.fontset\"] = \"stix\"\n",
    "mpl.rcParams['pdf.fonttype'] = 42"
   ]
  },
  {
   "cell_type": "code",
   "execution_count": 5,
   "metadata": {},
   "outputs": [
    {
     "name": "stdout",
     "output_type": "stream",
     "text": [
      "               cell_1       cell_2       cell_3       cell_4      cell_5  \\\n",
      "gene1     1302.982307   711.058027   104.765145     0.000000  408.046671   \n",
      "gene2        2.902681     0.000000     0.000000     0.000000    0.000000   \n",
      "gene3      516.406160   440.847285     0.000000    20.966800    0.000000   \n",
      "gene4      216.236027   374.979843   281.849428   572.680510  955.037644   \n",
      "gene5       49.486161    23.961214    54.135699     0.000000  137.366380   \n",
      "...               ...          ...          ...          ...         ...   \n",
      "gene4996    44.345687   143.373435   118.329434   108.607840    5.968994   \n",
      "gene4997  5579.000060    95.028600  1829.906723  3491.286633  540.019297   \n",
      "gene4998     0.000000   350.560425    30.285706   457.263531   32.733195   \n",
      "gene4999    15.358085    10.527262     0.000000     0.000000   18.210212   \n",
      "gene5000   423.954308  1172.405583  1530.461574   968.621947  347.209872   \n",
      "\n",
      "               cell_6       cell_7       cell_8       cell_9      cell_10  \\\n",
      "gene1     1213.212063   215.681759   377.446805  1701.744639    87.536724   \n",
      "gene2        0.000000     0.000000     0.000000    31.755623     0.000000   \n",
      "gene3      265.313617   266.503544   163.465207    51.251242   151.693018   \n",
      "gene4      349.996451   635.319904  1047.613163   241.656204   491.650199   \n",
      "gene5        0.000000     0.000000   101.413991     0.000000    84.591940   \n",
      "...               ...          ...          ...          ...          ...   \n",
      "gene4996     0.000000   126.838010    25.493669     0.000000   118.658378   \n",
      "gene4997  3767.483103   297.711591   611.014709   574.714273  4484.567419   \n",
      "gene4998   413.106859     0.000000    69.901995   213.684613   173.521929   \n",
      "gene4999    28.402914    12.219710     0.000000     0.000000     0.000000   \n",
      "gene5000    80.012581  1147.476032   260.838000   238.305612   823.172999   \n",
      "\n",
      "          ...    cell_9991    cell_9992   cell_9993    cell_9994    cell_9995  \\\n",
      "gene1     ...    93.356041  1704.042363  632.122828   739.777407  1092.518127   \n",
      "gene2     ...     0.000000   262.551379    0.000000    18.279910    86.416054   \n",
      "gene3     ...   105.183547     0.000000   79.099690    55.317057     0.000000   \n",
      "gene4     ...   178.435406  2843.040478  670.931223   746.436860   207.437360   \n",
      "gene5     ...     0.000000     0.000000   74.203802     0.000000    69.437217   \n",
      "...       ...          ...          ...         ...          ...          ...   \n",
      "gene4996  ...   147.637721     0.000000   18.504317   211.975681    76.783686   \n",
      "gene4997  ...  2265.679183     0.000000  746.443580  1450.645324  1071.703347   \n",
      "gene4998  ...   431.800648     0.000000   25.368821     0.000000   105.275734   \n",
      "gene4999  ...     0.000000     0.000000   11.290596     5.263928     0.000000   \n",
      "gene5000  ...   282.773440     0.000000   18.932657   123.575574     0.000000   \n",
      "\n",
      "            cell_9996   cell_9997   cell_9998   cell_9999   cell_10000  \n",
      "gene1      662.442921  607.881535  381.298170  770.323978  2044.879624  \n",
      "gene2        0.000000   22.522729   94.749461  161.017027     5.639678  \n",
      "gene3      171.506170  217.040904   39.589268    0.000000     0.000000  \n",
      "gene4      384.650204  849.053602  154.661673  596.616580  1182.590835  \n",
      "gene5        0.000000   41.385126   79.686756    0.000000    61.668064  \n",
      "...               ...         ...         ...         ...          ...  \n",
      "gene4996    80.243158   12.833759   68.232619   18.805897    58.550179  \n",
      "gene4997  1148.672611    0.000000  233.852320    0.000000     0.000000  \n",
      "gene4998    97.787361    0.000000  119.062513    0.000000     0.000000  \n",
      "gene4999     0.000000    0.000000    6.623715    0.000000     0.000000  \n",
      "gene5000   437.870072  374.310700  310.995694  117.867703     0.000000  \n",
      "\n",
      "[5000 rows x 10000 columns]\n"
     ]
    }
   ],
   "source": [
    "tpm = pd.read_csv('processed_tables/tpm_0.1.tab', sep='\\t', index_col=0)\n",
    "print(tpm)"
   ]
  },
  {
   "cell_type": "code",
   "execution_count": 8,
   "metadata": {},
   "outputs": [],
   "source": [
    "pc2_5000 = pd.read_csv('processed_tables/pc2_rd_5000.tab', sep='\\t', index_col=0)\n",
    "pc2_1000 = pd.read_csv('processed_tables/pc2_rd_1000.tab', sep='\\t', index_col=0)\n",
    "pc2_500 = pd.read_csv('processed_tables/pc2_rd_500.tab', sep='\\t', index_col=0)"
   ]
  },
  {
   "cell_type": "code",
   "execution_count": 48,
   "metadata": {},
   "outputs": [],
   "source": [
    "tpm[pc2_5000.index].to_csv('processed_tables/tpm_0.1_5000.tab.gz', sep='\\t',\n",
    "                                                      index=True, header=True)\n",
    "tpm[pc2_1000.index].to_csv('processed_tables/tpm_0.1_1000.tab.gz', sep='\\t',\n",
    "                                                      index=True, header=True)\n",
    "tpm[pc2_500.index].to_csv('processed_tables/tpm_0.1_500.tab.gz', sep='\\t',\n",
    "                                                      index=True, header=True)"
   ]
  },
  {
   "cell_type": "code",
   "execution_count": 49,
   "metadata": {},
   "outputs": [
    {
     "name": "stdout",
     "output_type": "stream",
     "text": [
      "5000\n",
      "1000\n",
      "500\n"
     ]
    }
   ],
   "source": [
    "print(sum(random_5000_index.isin(gene_counts.columns, level=None)))\n",
    "print(sum(random_1000_index.isin(random_5000_index, level=None)))\n",
    "print(sum(random_500_index.isin(random_1000_index, level=None)))"
   ]
  }
 ],
 "metadata": {
  "kernelspec": {
   "display_name": "Python 3",
   "language": "python",
   "name": "python3"
  },
  "language_info": {
   "codemirror_mode": {
    "name": "ipython",
    "version": 3
   },
   "file_extension": ".py",
   "mimetype": "text/x-python",
   "name": "python",
   "nbconvert_exporter": "python",
   "pygments_lexer": "ipython3",
   "version": "3.7.6"
  }
 },
 "nbformat": 4,
 "nbformat_minor": 4
}
