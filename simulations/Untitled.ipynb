{
 "cells": [
  {
   "cell_type": "code",
   "execution_count": 1,
   "metadata": {},
   "outputs": [],
   "source": [
    "import numpy as np\n",
    "import pandas as pd\n",
    "from tqdm import tqdm\n",
    "import seaborn as sns\n",
    "from scipy.stats import zscore\n",
    "import umap\n",
    "from sklearn.decomposition import PCA\n",
    "from sklearn.manifold import TSNE\n",
    "import warnings\n",
    "warnings.filterwarnings('ignore')\n",
    "import subprocess as sp\n",
    "import os\n",
    "import sys\n",
    "sys.path.insert(0, '/mnt/lareaulab/cfbuenabadn/sc_simulations/utils/')\n",
    "import simulation_utils as sim\n",
    "import plot_utils as pu\n",
    "from scipy.special import logit, expit\n",
    "from scipy.stats import norm\n",
    "from matplotlib import pyplot as plt\n",
    "\n",
    "sys.path.insert(0, '/mnt/lareaulab/cfbuenabadn/sc_splicing_tools/preprocess_utils')\n",
    "from table_utils import *\n",
    "\n",
    "from sklearn.neighbors import NearestNeighbors\n",
    "\n",
    "import matplotlib as mpl\n",
    "mpl.rcParams[\"mathtext.fontset\"] = \"stix\"\n",
    "mpl.rcParams['pdf.fonttype'] = 42"
   ]
  },
  {
   "cell_type": "code",
   "execution_count": 24,
   "metadata": {},
   "outputs": [],
   "source": [
    "mrna_counts = pd.read_csv('continuous_three_branches/gene_counts.tab.gz', sep = '\\t', \n",
    "                   names=['cell_'+str(i+1) for i in range(2000)])\n",
    "\n",
    "mrna_counts.index = ['gene_'+str(i+1) for i in range(3000)]\n",
    "\n",
    "isoform_observed_counts = pd.read_csv('continuous_three_branches/observed_counts_0.1.tab.gz', sep = '\\t', \n",
    "                   names=['cell_'+str(i+1) for i in range(2000)])\n",
    "\n",
    "isoform_observed_counts.index = ['gene_'+str(i+1) + '_1' for i in range(3000)] + ['gene_'+str(i+1) + '_2' for i in range(3000)]\n",
    "\n",
    "iso_1_counts = isoform_observed_counts[:3000]\n",
    "iso_1_counts.index = mrna_counts.index\n",
    "iso_2_counts = isoform_observed_counts[3000:]\n",
    "iso_2_counts.index = mrna_counts.index\n",
    "\n",
    "observed_counts = iso_1_counts + iso_2_counts\n",
    "\n",
    "\n",
    "# tpm = pd.read_csv('tables/observed/tpm_genes.tab', sep = '\\t', index_col = 0, \n",
    "#                   names=['cell_'+str(i) for i in range(1, 1001)])\n",
    "\n",
    "# norm_counts = pd.read_csv('tables/observed/normalized_tpm_counts_2.tab', sep = '\\t', index_col = 0)\n",
    "# norm_counts.columns = tpm.columns\n",
    "# mrna.columns = tpm.columns\n",
    "\n",
    "# mrna.index = ['gene_'+str(i) for i in range(1, 5001)]\n",
    "# norm_counts.index = ['gene_'+str(i) for i in range(1, len(norm_counts.index)+1)]\n",
    "# tpm.index = ['gene_'+str(i) for i in range(1, 5001)]\n",
    "\n",
    "# meta = pd.read_csv('tables/mrna/cell_meta.tab', sep='\\t', index_col=0)\n",
    "# # meta = meta.set_index('cellid')\n"
   ]
  },
  {
   "cell_type": "code",
   "execution_count": 36,
   "metadata": {},
   "outputs": [
    {
     "data": {
      "text/plain": [
       "611.8105"
      ]
     },
     "execution_count": 36,
     "metadata": {},
     "output_type": "execute_result"
    }
   ],
   "source": [
    "np.mean(observed_counts.iloc[101])"
   ]
  },
  {
   "cell_type": "code",
   "execution_count": 37,
   "metadata": {},
   "outputs": [
    {
     "data": {
      "text/plain": [
       "1765.196"
      ]
     },
     "execution_count": 37,
     "metadata": {},
     "output_type": "execute_result"
    }
   ],
   "source": [
    "np.mean(mrna_counts.iloc[101])"
   ]
  },
  {
   "cell_type": "code",
   "execution_count": null,
   "metadata": {},
   "outputs": [],
   "source": []
  }
 ],
 "metadata": {
  "kernelspec": {
   "display_name": "Python 3",
   "language": "python",
   "name": "python3"
  },
  "language_info": {
   "codemirror_mode": {
    "name": "ipython",
    "version": 3
   },
   "file_extension": ".py",
   "mimetype": "text/x-python",
   "name": "python",
   "nbconvert_exporter": "python",
   "pygments_lexer": "ipython3",
   "version": "3.7.6"
  }
 },
 "nbformat": 4,
 "nbformat_minor": 4
}
