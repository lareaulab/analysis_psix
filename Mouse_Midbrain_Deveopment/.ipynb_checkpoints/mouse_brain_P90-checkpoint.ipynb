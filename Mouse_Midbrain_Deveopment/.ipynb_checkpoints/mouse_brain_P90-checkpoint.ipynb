{
 "cells": [
  {
   "cell_type": "code",
   "execution_count": 1,
   "metadata": {},
   "outputs": [],
   "source": [
    "import numpy as np\n",
    "import pandas as pd\n",
    "from matplotlib import pyplot as plt\n",
    "import os\n",
    "import sys\n",
    "from tqdm import tqdm\n",
    "sys.path.insert(0, '/mnt/lareaulab/cfbuenabadn/psix_project/psix/psix/')\n",
    "import psix\n",
    "\n",
    "cm = 1/2.54\n",
    "\n",
    "plt.rcParams[\"axes.edgecolor\"] = \"black\"\n",
    "plt.rcParams[\"axes.linewidth\"] = 1\n",
    "plt.rcParams[\"axes.facecolor\"] = 'white'\n",
    "\n",
    "import matplotlib as mpl\n",
    "import numpy as np\n",
    "from matplotlib import pyplot as plt\n",
    "\n",
    "mpl.rcParams[\"mathtext.fontset\"] = \"stix\"\n",
    "mpl.rcParams['pdf.fonttype'] = 42"
   ]
  },
  {
   "cell_type": "code",
   "execution_count": 5,
   "metadata": {},
   "outputs": [
    {
     "name": "stdout",
     "output_type": "stream",
     "text": [
      "Successfully computed neighbors\n"
     ]
    },
    {
     "data": {
      "text/plain": [
       "66"
      ]
     },
     "execution_count": 5,
     "metadata": {},
     "output_type": "execute_result"
    }
   ],
   "source": [
    "psix_p90.compute_neighbors_psi(n_neighbors=30)\n",
    "np.sum((psix_p90.psix_results.qvals <= 0.05) & (psix_p90.psix_results.psix_score > 0))"
   ]
  },
  {
   "cell_type": "code",
   "execution_count": 16,
   "metadata": {},
   "outputs": [],
   "source": [
    "latent = pd.read_csv('data/preprocess/tables/pc3_rd.tab.gz', sep='\\t', index_col=0)\n",
    "meta = pd.read_csv('data/SraRunTable.txt.gz', index_col=0).loc[latent.index]\n",
    "\n",
    "\n",
    "p90_cells = meta.loc[meta.Age == 'postnatal day 90'].index \n",
    "p1_cells = meta.loc[meta.Age == 'postnatal day 1'].index \n",
    "e18_cells = meta.loc[meta.Age == 'embryonic day 18.5'].index \n",
    "e15_cells = meta.loc[meta.Age == 'embryonic day 15.5'].index \n",
    "e13_cells = meta.loc[meta.Age == 'embryonic day 13.5'].index \n",
    "\n",
    "latent.loc[p90_cells, ['PC_1', 'PC_3']].to_csv('data/preprocess/tables/p90_rd.tab.gz', sep='\\t', index=True, header=True)\n",
    "latent.loc[p1_cells, ['PC_1', 'PC_3']].to_csv('data/preprocess/tables/p1_rd.tab.gz', sep='\\t', index=True, header=True)\n",
    "latent.loc[e18_cells, ['PC_1', 'PC_3']].to_csv('data/preprocess/tables/e18_rd.tab.gz', sep='\\t', index=True, header=True)\n",
    "latent.loc[e15_cells, ['PC_1', 'PC_3']].to_csv('data/preprocess/tables/e15_rd.tab.gz', sep='\\t', index=True, header=True)\n",
    "latent.loc[e13_cells, ['PC_1', 'PC_3']].to_csv('data/preprocess/tables/e13_rd.tab.gz', sep='\\t', index=True, header=True)"
   ]
  },
  {
   "cell_type": "code",
   "execution_count": 20,
   "metadata": {},
   "outputs": [],
   "source": [
    "data_dir = 'data/pipeline_output/'\n",
    "skipped_exons = pd.read_csv(data_dir + 'SE_counts.tab.gz', sep='\\t', index_col=0)\n",
    "tpm = pd.read_csv(data_dir + 'rsem_gene_tpm.tab.gz', sep='\\t', index_col=0)\n",
    "ci = pd.read_csv(data_dir + 'constitutive_introns.tab.gz', sep=',', index_col=0)"
   ]
  },
  {
   "cell_type": "code",
   "execution_count": 21,
   "metadata": {},
   "outputs": [],
   "source": [
    "ci[p1_cells].to_csv('data/preprocess/tables/p1_constitutive_introns_filtered.tab.gz', sep='\\t', index=True, header=True)\n",
    "skipped_exons[p1_cells].to_csv('data/preprocess/tables/p1_SE_counts_filtered.tab.gz', sep='\\t', index=True, header=True)\n",
    "tpm[p1_cells].to_csv('data/preprocess/tables/p1_rsem_gene_tpm_filtered.tab.gz', sep='\\t', index=True, header=True)\n",
    "\n",
    "ci[e13_cells].to_csv('data/preprocess/tables/e13_constitutive_introns_filtered.tab.gz', sep='\\t', index=True, header=True)\n",
    "skipped_exons[e13_cells].to_csv('data/preprocess/tables/e13_SE_counts_filtered.tab.gz', sep='\\t', index=True, header=True)\n",
    "tpm[e13_cells].to_csv('data/preprocess/tables/e13_rsem_gene_tpm_filtered.tab.gz', sep='\\t', index=True, header=True)\n",
    "\n",
    "ci[e15_cells].to_csv('data/preprocess/tables/e15_constitutive_introns_filtered.tab.gz', sep='\\t', index=True, header=True)\n",
    "skipped_exons[e15_cells].to_csv('data/preprocess/tables/e15_SE_counts_filtered.tab.gz', sep='\\t', index=True, header=True)\n",
    "tpm[e15_cells].to_csv('data/preprocess/tables/e15_rsem_gene_tpm_filtered.tab.gz', sep='\\t', index=True, header=True)\n",
    "\n",
    "ci[e18_cells].to_csv('data/preprocess/tables/e18_constitutive_introns_filtered.tab.gz', sep='\\t', index=True, header=True)\n",
    "skipped_exons[e18_cells].to_csv('data/preprocess/tables/e18_SE_counts_filtered.tab.gz', sep='\\t', index=True, header=True)\n",
    "tpm[e18_cells].to_csv('data/preprocess/tables/e18_rsem_gene_tpm_filtered.tab.gz', sep='\\t', index=True, header=True)\n",
    "\n"
   ]
  },
  {
   "cell_type": "code",
   "execution_count": null,
   "metadata": {},
   "outputs": [
    {
     "name": "stdout",
     "output_type": "stream",
     "text": [
      "Obtaining psi tables...\n",
      "Reading TPM and transforming to mRNA counts...\n",
      "mariados\n",
      "luigi\n",
      "prueba 2\n"
     ]
    },
    {
     "name": "stderr",
     "output_type": "stream",
     "text": [
      " 20%|█▉        | 57/290 [00:02<00:10, 22.62it/s]"
     ]
    }
   ],
   "source": [
    "psix_p90 = psix.Psix()\n",
    "psix_p90.process_rnaseq(\n",
    "        'data/preprocess/tables/p90_SE_counts_filtered.tab.gz',\n",
    "        'data/preprocess/tables/p90_constitutive_introns_filtered.tab.gz',\n",
    "        'data/preprocess/tables/p90_rsem_gene_tpm_filtered.tab.gz',\n",
    "        minJR = 1,\n",
    "        minCell=1,\n",
    "        min_observed = 0.1)\n",
    "\n",
    "psix_p90.compute_psix_scores(latent='data/preprocess/tables/p90_rd.tab.gz', n_jobs=25, \n",
    "                                n_random_exons=2000, n_neighbors=30)"
   ]
  },
  {
   "cell_type": "code",
   "execution_count": null,
   "metadata": {},
   "outputs": [],
   "source": [
    "psix_p1 = psix.Psix()\n",
    "psix_p1.process_rnaseq(\n",
    "        'data/preprocess/tables/p1_SE_counts_filtered.tab.gz',\n",
    "        'data/preprocess/tables/p1_constitutive_introns_filtered.tab.gz',\n",
    "        'data/preprocess/tables/p1_rsem_gene_tpm_filtered.tab.gz',\n",
    "        minJR = 1,\n",
    "        minCell=1,\n",
    "        min_observed = 0.1)\n",
    "\n",
    "psix_p1.compute_psix_scores(latent='data/preprocess/tables/p1_rd.tab.gz', n_jobs=25, \n",
    "                                n_random_exons=2000, n_neighbors=30)"
   ]
  },
  {
   "cell_type": "code",
   "execution_count": null,
   "metadata": {},
   "outputs": [],
   "source": [
    "sig_exons = psix_p90.psix_results.loc[((psix_p90.psix_results.qvals <= 0.05) & (psix_p90.psix_results.psix_score > 0))].index"
   ]
  },
  {
   "cell_type": "code",
   "execution_count": null,
   "metadata": {},
   "outputs": [],
   "source": []
  },
  {
   "cell_type": "code",
   "execution_count": 26,
   "metadata": {},
   "outputs": [
    {
     "data": {
      "text/plain": [
       "0"
      ]
     },
     "execution_count": 26,
     "metadata": {},
     "output_type": "execute_result"
    }
   ],
   "source": [
    "np.sum((psix_p1.psix_results.qvals <= 0.05) & (psix_p1.psix_results.psix_score > 0))"
   ]
  },
  {
   "cell_type": "code",
   "execution_count": 41,
   "metadata": {},
   "outputs": [
    {
     "data": {
      "text/html": [
       "<div>\n",
       "<style scoped>\n",
       "    .dataframe tbody tr th:only-of-type {\n",
       "        vertical-align: middle;\n",
       "    }\n",
       "\n",
       "    .dataframe tbody tr th {\n",
       "        vertical-align: top;\n",
       "    }\n",
       "\n",
       "    .dataframe thead th {\n",
       "        text-align: right;\n",
       "    }\n",
       "</style>\n",
       "<table border=\"1\" class=\"dataframe\">\n",
       "  <thead>\n",
       "    <tr style=\"text-align: right;\">\n",
       "      <th></th>\n",
       "      <th>psix_score</th>\n",
       "      <th>pvals</th>\n",
       "      <th>qvals</th>\n",
       "    </tr>\n",
       "  </thead>\n",
       "  <tbody>\n",
       "    <tr>\n",
       "      <th>Aplp2_3</th>\n",
       "      <td>0.582992</td>\n",
       "      <td>0.000500</td>\n",
       "      <td>0.016015</td>\n",
       "    </tr>\n",
       "    <tr>\n",
       "      <th>Stxbp1_2</th>\n",
       "      <td>0.534795</td>\n",
       "      <td>0.000500</td>\n",
       "      <td>0.016015</td>\n",
       "    </tr>\n",
       "    <tr>\n",
       "      <th>Nrxn1_4</th>\n",
       "      <td>0.521242</td>\n",
       "      <td>0.000500</td>\n",
       "      <td>0.016015</td>\n",
       "    </tr>\n",
       "    <tr>\n",
       "      <th>Bnip2_nmdSE_1</th>\n",
       "      <td>0.497999</td>\n",
       "      <td>0.000500</td>\n",
       "      <td>0.016015</td>\n",
       "    </tr>\n",
       "    <tr>\n",
       "      <th>Rps6kb2_nmdSE_1</th>\n",
       "      <td>0.371269</td>\n",
       "      <td>0.000500</td>\n",
       "      <td>0.016015</td>\n",
       "    </tr>\n",
       "    <tr>\n",
       "      <th>...</th>\n",
       "      <td>...</td>\n",
       "      <td>...</td>\n",
       "      <td>...</td>\n",
       "    </tr>\n",
       "    <tr>\n",
       "      <th>Odf2_4</th>\n",
       "      <td>-0.266139</td>\n",
       "      <td>0.995002</td>\n",
       "      <td>1.000000</td>\n",
       "    </tr>\n",
       "    <tr>\n",
       "      <th>Bend5_3</th>\n",
       "      <td>-0.279061</td>\n",
       "      <td>1.000000</td>\n",
       "      <td>1.000000</td>\n",
       "    </tr>\n",
       "    <tr>\n",
       "      <th>Fance_2</th>\n",
       "      <td>-0.303591</td>\n",
       "      <td>1.000000</td>\n",
       "      <td>1.000000</td>\n",
       "    </tr>\n",
       "    <tr>\n",
       "      <th>Htr7_nmdSE_2</th>\n",
       "      <td>-0.306721</td>\n",
       "      <td>1.000000</td>\n",
       "      <td>1.000000</td>\n",
       "    </tr>\n",
       "    <tr>\n",
       "      <th>Apbb1_5</th>\n",
       "      <td>-0.350112</td>\n",
       "      <td>1.000000</td>\n",
       "      <td>1.000000</td>\n",
       "    </tr>\n",
       "  </tbody>\n",
       "</table>\n",
       "<p>2115 rows × 3 columns</p>\n",
       "</div>"
      ],
      "text/plain": [
       "                 psix_score     pvals     qvals\n",
       "Aplp2_3            0.582992  0.000500  0.016015\n",
       "Stxbp1_2           0.534795  0.000500  0.016015\n",
       "Nrxn1_4            0.521242  0.000500  0.016015\n",
       "Bnip2_nmdSE_1      0.497999  0.000500  0.016015\n",
       "Rps6kb2_nmdSE_1    0.371269  0.000500  0.016015\n",
       "...                     ...       ...       ...\n",
       "Odf2_4            -0.266139  0.995002  1.000000\n",
       "Bend5_3           -0.279061  1.000000  1.000000\n",
       "Fance_2           -0.303591  1.000000  1.000000\n",
       "Htr7_nmdSE_2      -0.306721  1.000000  1.000000\n",
       "Apbb1_5           -0.350112  1.000000  1.000000\n",
       "\n",
       "[2115 rows x 3 columns]"
      ]
     },
     "execution_count": 41,
     "metadata": {},
     "output_type": "execute_result"
    }
   ],
   "source": [
    "psix_p90.psix_results"
   ]
  },
  {
   "cell_type": "code",
   "execution_count": 56,
   "metadata": {},
   "outputs": [
    {
     "data": {
      "text/plain": [
       "<matplotlib.collections.PathCollection at 0x7faf518aab50>"
      ]
     },
     "execution_count": 56,
     "metadata": {},
     "output_type": "execute_result"
    },
    {
     "data": {
      "image/png": "[encoded data removed]",
      "text/plain": [
       "<Figure size 432x288 with 1 Axes>"
      ]
     },
     "metadata": {
      "needs_background": "light"
     },
     "output_type": "display_data"
    }
   ],
   "source": [
    "plt.scatter(latent.loc[p90_cells].PC_3, latent.loc[p90_cells].PC_1, c=psix_p90.adata.uns['psi'].loc[p90_cells, 'Aplp2_3'])"
   ]
  },
  {
   "cell_type": "code",
   "execution_count": 52,
   "metadata": {},
   "outputs": [
    {
     "data": {
      "text/plain": [
       "Index(['Aplp2_3', 'Nrxn1_4', 'Bnip2_nmdSE_1', 'Rps6kb2_nmdSE_1', 'Nrxn3_6',\n",
       "       'Kif1a_5', 'Fhl1_3', 'Gria2_2', 'Nek1_2', 'Cadps_7', 'Kcnip1_1',\n",
       "       'Epha5_3', 'Nova1_1', 'Alkbh3_1', 'Slc4a10_2', 'Anxa6_2',\n",
       "       'Stx3_nmdSE_1', 'Dnal4_1', 'Sphkap_1', 'Gusb_3', 'Gria2_nmdSE_1',\n",
       "       'Dlg1_7', 'Dlg1_11', 'Adgrb3_4', 'Ncam1_6', 'Cnksr2_2', 'Ank2_11',\n",
       "       'Itga3_1', 'Gabrg2_1', 'Tmem209_6', 'Dnlz_1', 'Cish_1', 'Adck4_2',\n",
       "       'Me2_3', 'Tex30_5', 'Idh2_nmdSE_1', 'Nxt1_1', 'Acad8_2', 'Hexa_2',\n",
       "       'Meg3_5', 'Erc2_8', 'Clta_4', 'Aplp2_2', 'Tecr_6', 'Camk2b_5', 'Clk1_1',\n",
       "       'Rab28_1', 'Ewsr1_2', 'Zcchc17_6'],\n",
       "      dtype='object')"
      ]
     },
     "execution_count": 52,
     "metadata": {},
     "output_type": "execute_result"
    }
   ],
   "source": [
    "sig_exons & psix_p1.psix_results.index"
   ]
  },
  {
   "cell_type": "code",
   "execution_count": 54,
   "metadata": {},
   "outputs": [
    {
     "data": {
      "text/plain": [
       "psix_score    0.320963\n",
       "pvals         0.000500\n",
       "qvals         0.083811\n",
       "Name: Aplp2_3, dtype: float64"
      ]
     },
     "execution_count": 54,
     "metadata": {},
     "output_type": "execute_result"
    }
   ],
   "source": [
    "psix_p1.psix_results.loc['Aplp2_3']"
   ]
  },
  {
   "cell_type": "code",
   "execution_count": null,
   "metadata": {},
   "outputs": [],
   "source": []
  }
 ],
 "metadata": {
  "kernelspec": {
   "display_name": "Python 3",
   "language": "python",
   "name": "python3"
  },
  "language_info": {
   "codemirror_mode": {
    "name": "ipython",
    "version": 3
   },
   "file_extension": ".py",
   "mimetype": "text/x-python",
   "name": "python",
   "nbconvert_exporter": "python",
   "pygments_lexer": "ipython3",
   "version": "3.7.6"
  }
 },
 "nbformat": 4,
 "nbformat_minor": 4
}
