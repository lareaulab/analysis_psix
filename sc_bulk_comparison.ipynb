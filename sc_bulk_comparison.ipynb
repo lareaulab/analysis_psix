{
 "cells": [
  {
   "cell_type": "code",
   "execution_count": 2,
   "metadata": {},
   "outputs": [],
   "source": [
    "import numpy as np\n",
    "import pandas as pd\n",
    "from sklearn.metrics import f1_score, precision_score, recall_score\n",
    "from matplotlib import pyplot as plt\n",
    "import sys\n",
    "sys.path.insert(0, '/mnt/lareaulab/cfbuenabadn/sc_splicing_regulation/utils/')\n",
    "from utils_functions import *\n",
    "from statsmodels.stats.multitest import multipletests\n"
   ]
  },
  {
   "cell_type": "code",
   "execution_count": 3,
   "metadata": {},
   "outputs": [],
   "source": [
    "weyn_pvals = pd.read_csv('~/sc_splicing_regulation/timeseries_neurogenesis/Weyn_pvals.tab', sep='\\t', index_col=0)\n",
    "weyn_fdr = pd.read_csv('~/sc_splicing_regulation/timeseries_neurogenesis/Weyn_fdr.tab', sep='\\t', index_col=0)\n",
    "weyn_psi = pd.read_csv('~/sc_splicing_regulation/timeseries_neurogenesis/Weyn_psi.tab', sep='\\t', index_col=0)\n",
    "\n",
    "weyn_ds = get_averages_bulk(weyn_psi)\n"
   ]
  },
  {
   "cell_type": "code",
   "execution_count": 4,
   "metadata": {},
   "outputs": [],
   "source": [
    "tiklova_PSI = pd.read_csv('mouse_brain_development/data/preprocess/tables/psi.tab.gz', sep='\\t', index_col=0)\n",
    "tiklova_meta = pd.read_csv('mouse_brain_development/data/SraRunTable.txt.gz', sep=',', index_col=0)\n",
    "tiklova_psix = pd.read_csv('mouse_brain_development/psix_3D/psix_results.tab.gz', sep='\\t', index_col=0)"
   ]
  },
  {
   "cell_type": "code",
   "execution_count": 5,
   "metadata": {},
   "outputs": [],
   "source": [
    "e13 = tiklova_meta.index[tiklova_meta.Age == 'embryonic day 13.5'] & tiklova_PSI.columns\n",
    "e15 = tiklova_meta.index[tiklova_meta.Age == 'embryonic day 15.5'] & tiklova_PSI.columns\n",
    "e18 = tiklova_meta.index[tiklova_meta.Age == 'embryonic day 18.5'] & tiklova_PSI.columns\n",
    "p1 = tiklova_meta.index[tiklova_meta.Age == 'postnatal day 1'] & tiklova_PSI.columns\n",
    "p7 = tiklova_meta.index[tiklova_meta.Age == 'postnatal day 7'] & tiklova_PSI.columns\n",
    "p90 = tiklova_meta.index[tiklova_meta.Age == 'postnatal day 90'] & tiklova_PSI.columns\n",
    "\n",
    "tiklova_labels = [e13, e15, e18, p1, p7, p90]\n",
    "from scipy.stats import kruskal\n",
    "\n",
    "def run_kw(exon_psi, labels):\n",
    "    kw_input = []\n",
    "    for l in labels:\n",
    "        kw_input.append(list(exon_psi.loc[l]))\n",
    "        \n",
    "    if len(labels) == 2:\n",
    "        return kruskal(kw_input[0], kw_input[1], nan_policy='omit')\n",
    "    if len(labels) == 3:\n",
    "        return kruskal(kw_input[0], kw_input[1], kw_input[2], nan_policy='omit')\n",
    "    if len(labels) == 4:\n",
    "        return kruskal(kw_input[0], kw_input[1], kw_input[2], kw_input[3], nan_policy='omit')\n",
    "    if len(labels) == 5:\n",
    "        return kruskal(kw_input[0], kw_input[1], kw_input[2], kw_input[3], kw_input[4], nan_policy='omit')\n",
    "    if len(labels) == 6:\n",
    "        return kruskal(kw_input[0], kw_input[1], kw_input[2], kw_input[3], kw_input[4], kw_input[5], nan_policy='omit')\n",
    "    \n",
    "def run_kw_dset(psi_table, labels, exon_list):\n",
    "    kw_output = pd.DataFrame()\n",
    "    kw_score = []\n",
    "    pvals = []\n",
    "    for exon in exon_list:\n",
    "        score, p = run_kw(psi_table.loc[exon], labels)\n",
    "        kw_score.append(score)\n",
    "        pvals.append(p)\n",
    "    kw_output['KW_score'] = kw_score\n",
    "    kw_output['pvals'] = pvals\n",
    "    kw_output['qvals'] = multipletests(pvals, method='fdr_bh')[1]\n",
    "    kw_output.index = exon_list\n",
    "    return kw_output\n",
    "\n",
    "tiklova_kw = run_kw_dset(tiklova_PSI, tiklova_labels, tiklova_psix.index)"
   ]
  },
  {
   "cell_type": "code",
   "execution_count": 6,
   "metadata": {},
   "outputs": [],
   "source": [
    "tiklova_gearyc = pd.read_csv('mouse_brain_development/geary_c/GearyC_k100.tab', sep='\\t', index_col=0)"
   ]
  },
  {
   "cell_type": "code",
   "execution_count": 7,
   "metadata": {},
   "outputs": [],
   "source": [
    "\n",
    "tiklova_gearyc['qvals'] = multipletests(tiklova_gearyc.pvals, method='fdr_bh')[1]"
   ]
  },
  {
   "cell_type": "code",
   "execution_count": 8,
   "metadata": {},
   "outputs": [],
   "source": [
    "one_v_one = 'mouse_brain_development/brie2/'\n",
    "tiklova_0v1 = pd.read_csv(one_v_one + 'brie_output_E13_v_E15/brie_quant_cell.brie_ident.tsv', sep='\\t', index_col=0)\n",
    "tiklova_0v2 = pd.read_csv(one_v_one + 'brie_output_E13_v_E18/brie_quant_cell.brie_ident.tsv', sep='\\t', index_col=0)\n",
    "tiklova_0v3 = pd.read_csv(one_v_one + 'brie_output_E13_v_P1/brie_quant_cell.brie_ident.tsv', sep='\\t', index_col=0)\n",
    "tiklova_0v4 = pd.read_csv(one_v_one + 'brie_output_E13_v_P7/brie_quant_cell.brie_ident.tsv', sep='\\t', index_col=0)\n",
    "tiklova_0v5 = pd.read_csv(one_v_one + 'brie_output_E13_v_P90/brie_quant_cell.brie_ident.tsv', sep='\\t', index_col=0)\n",
    "\n",
    "tiklova_one_v_one = pd.DataFrame()\n",
    "tiklova_one_v_one['0v1'] = tiklova_0v1.neuro_FDR\n",
    "tiklova_one_v_one['0v2'] = tiklova_0v2.neuro_FDR\n",
    "tiklova_one_v_one['0v3'] = tiklova_0v3.neuro_FDR\n",
    "tiklova_one_v_one['0v4'] = tiklova_0v4.neuro_FDR\n",
    "tiklova_one_v_one['0v5'] = tiklova_0v5.neuro_FDR\n",
    "tiklova_ovo = tiklova_one_v_one.min(axis=1)\n",
    "\n",
    "# tiklova_one_v_one = pd.DataFrame()\n",
    "# tiklova_one_v_one['0v1'] = tiklova_0v1.neuro_pval\n",
    "# tiklova_one_v_one['0v2'] = tiklova_0v2.neuro_pval\n",
    "# tiklova_one_v_one['0v3'] = tiklova_0v3.neuro_pval\n",
    "# tiklova_one_v_one['0v4'] = tiklova_0v4.neuro_pval\n",
    "# tiklova_one_v_one['0v5'] = tiklova_0v5.neuro_pval\n",
    "# tiklova_ovo = tiklova_one_v_one.min(axis=1)"
   ]
  },
  {
   "cell_type": "code",
   "execution_count": 39,
   "metadata": {},
   "outputs": [],
   "source": [
    "psix_random = pd.read_csv('~/brie_runs/psix_random.tab', sep='\\t', index_col=0)\n",
    "kw_random = pd.read_csv('~/brie_runs/kw_random.tab', sep='\\t', index_col=0)\n",
    "brie2_random = pd.read_csv('~/brie_runs/brie2_random.tab', sep='\\t', index_col=0)\n"
   ]
  },
  {
   "cell_type": "code",
   "execution_count": 9,
   "metadata": {},
   "outputs": [],
   "source": [
    "from sklearn.metrics import auc\n",
    "from sklearn.metrics import precision_recall_curve\n",
    "from sklearn.metrics import f1_score\n",
    "from sklearn.metrics import precision_score\n",
    "\n",
    "weyn_pos = weyn_fdr.index[(weyn_ds.max(axis=1) >= 0.2) & (weyn_fdr.min(axis=1) <= 0.05)]\n",
    "\n",
    "exons = tiklova_psix.index & tiklova_ovo.index\n",
    "exons_pos = weyn_pos & exons\n"
   ]
  },
  {
   "cell_type": "code",
   "execution_count": 10,
   "metadata": {},
   "outputs": [
    {
     "ename": "NameError",
     "evalue": "name 'psix_random' is not defined",
     "output_type": "error",
     "traceback": [
      "\u001b[0;31m---------------------------------------------------------------------------\u001b[0m",
      "\u001b[0;31mNameError\u001b[0m                                 Traceback (most recent call last)",
      "\u001b[0;32m<ipython-input-10-047d4c8d73d1>\u001b[0m in \u001b[0;36m<module>\u001b[0;34m\u001b[0m\n\u001b[0;32m----> 1\u001b[0;31m pre, rec, t = precision_recall_curve([1]*len(exons_pos) + [0]*len(psix_random), \n\u001b[0m\u001b[1;32m      2\u001b[0m          list(tiklova_psix.loc[exons_pos].psix_score) + list(psix_random.psix_score))\n\u001b[1;32m      3\u001b[0m \u001b[0mauc\u001b[0m\u001b[0;34m(\u001b[0m\u001b[0mrec\u001b[0m\u001b[0;34m,\u001b[0m \u001b[0mpre\u001b[0m\u001b[0;34m)\u001b[0m\u001b[0;34m\u001b[0m\u001b[0;34m\u001b[0m\u001b[0m\n",
      "\u001b[0;31mNameError\u001b[0m: name 'psix_random' is not defined"
     ]
    }
   ],
   "source": [
    "pre, rec, t = precision_recall_curve([1]*len(exons_pos) + [0]*len(psix_random), \n",
    "         list(tiklova_psix.loc[exons_pos].psix_score) + list(psix_random.psix_score))\n",
    "auc(rec, pre)"
   ]
  },
  {
   "cell_type": "code",
   "execution_count": 46,
   "metadata": {},
   "outputs": [
    {
     "data": {
      "text/plain": [
       "0.8705770169508966"
      ]
     },
     "execution_count": 46,
     "metadata": {},
     "output_type": "execute_result"
    }
   ],
   "source": [
    "pre, rec, t = precision_recall_curve([1]*len(exons_pos) + [0]*len(brie2_random), \n",
    "         list(tiklova_ovo.loc[exons_pos]) + list(brie2_random.max(axis=1)))\n",
    "auc(rec, pre)"
   ]
  },
  {
   "cell_type": "code",
   "execution_count": 37,
   "metadata": {},
   "outputs": [
    {
     "data": {
      "text/plain": [
       "0.9865546218487395"
      ]
     },
     "execution_count": 37,
     "metadata": {},
     "output_type": "execute_result"
    }
   ],
   "source": [
    "precision_score([1]*len(exons_pos) + [0]*len(brie2_random), \n",
    "         list(tiklova_ovo.loc[exons_pos] <= 0.05) + list(brie2_random.min(axis=1) <= 0.05))"
   ]
  },
  {
   "cell_type": "code",
   "execution_count": 17,
   "metadata": {},
   "outputs": [
    {
     "data": {
      "text/plain": [
       "GeneID\n",
       "Aamdc_9          1.134000e-01\n",
       "Aamdc_10         4.164000e-01\n",
       "Aasdhppt_2       1.666000e-04\n",
       "Abat_3           1.153000e-08\n",
       "Abca3_4          1.491000e-01\n",
       "                     ...     \n",
       "Zscan18_1        1.054000e-01\n",
       "Zyx_1            2.161000e-01\n",
       "l7Rn6_1          9.663000e-09\n",
       "l7Rn6_3          5.484000e-04\n",
       "l7Rn6_nmdSE_1    4.129000e-02\n",
       "Length: 2047, dtype: float64"
      ]
     },
     "execution_count": 17,
     "metadata": {},
     "output_type": "execute_result"
    }
   ],
   "source": [
    "tiklova_ovo"
   ]
  },
  {
   "cell_type": "code",
   "execution_count": 1,
   "metadata": {},
   "outputs": [
    {
     "ename": "NameError",
     "evalue": "name 'weyn_fdr' is not defined",
     "output_type": "error",
     "traceback": [
      "\u001b[0;31m---------------------------------------------------------------------------\u001b[0m",
      "\u001b[0;31mNameError\u001b[0m                                 Traceback (most recent call last)",
      "\u001b[0;32m<ipython-input-1-aa8d8711c406>\u001b[0m in \u001b[0;36m<module>\u001b[0;34m\u001b[0m\n\u001b[0;32m----> 1\u001b[0;31m \u001b[0mweyn_fdr\u001b[0m\u001b[0;34m.\u001b[0m\u001b[0mmean\u001b[0m\u001b[0;34m(\u001b[0m\u001b[0maxis\u001b[0m\u001b[0;34m=\u001b[0m\u001b[0;36m1\u001b[0m\u001b[0;34m)\u001b[0m\u001b[0;34m\u001b[0m\u001b[0;34m\u001b[0m\u001b[0m\n\u001b[0m",
      "\u001b[0;31mNameError\u001b[0m: name 'weyn_fdr' is not defined"
     ]
    }
   ],
   "source": [
    "weyn_fdr.mean(axis=1)"
   ]
  },
  {
   "cell_type": "code",
   "execution_count": 73,
   "metadata": {},
   "outputs": [
    {
     "name": "stderr",
     "output_type": "stream",
     "text": [
      "100%|██████████| 200/200 [00:04<00:00, 40.74it/s]\n"
     ]
    }
   ],
   "source": [
    "from sklearn.metrics import auc\n",
    "from sklearn.metrics import f1_score\n",
    "\n",
    "weyn_pos = weyn_fdr.index[(weyn_ds.max(axis=1) >= 0.2) & (weyn_fdr.min(axis=1) <= 0.01)]\n",
    "weyn_neg = weyn_fdr.index[(weyn_ds.max(axis=1) < 0.2) | (weyn_fdr.min(axis=1) > 0.01)]\n",
    "\n",
    "exons = tiklova_psix.index\n",
    "exons_pos = weyn_pos & exons\n",
    "exons_neg = weyn_neg & exons\n",
    "\n",
    "\n",
    "kw_auc = []\n",
    "psix_auc = []\n",
    "gearyc_auc = []\n",
    "briep_auc = []\n",
    "brie_l_auc = []\n",
    "\n",
    "for sample in tqdm(range(200)):\n",
    "    pos_choice = np.random.choice(exons_pos, np.int(0.5*len(exons_pos)), replace=False)\n",
    "    neg_choice = np.random.choice(exons_neg, np.int(0.5*len(exons_neg)), replace=False)\n",
    "    \n",
    "    y = [1]*len(pd.Index(pos_choice) & tiklova_gearyc.index) + [0]*len(pd.Index(neg_choice) & tiklova_gearyc.index)\n",
    "    c_y = list((tiklova_gearyc.loc[pd.Index(pos_choice) & tiklova_gearyc.index].qvals <= 0.05).astype(int)) + list((tiklova_gearyc.loc[pd.Index(neg_choice) & tiklova_gearyc.index].qvals <= 0.05).astype(int))\n",
    "    f1 = f1_score(y, c_y)\n",
    "    gearyc_auc.append(f1)\n",
    "\n",
    "    y = [1]*len(pos_choice) + [0]*len(neg_choice)\n",
    "    psix_y = list((tiklova_psix.loc[pos_choice].qvals <= 0.05).astype(int)) + list((tiklova_psix.loc[neg_choice].qvals <= 0.05).astype(int))\n",
    "    psix_auc.append(f1_score(y, psix_y))\n",
    "    \n",
    "\n",
    "    kw_y = list((tiklova_kw.loc[pos_choice].qvals <= 0.05).astype(int)) + list((tiklova_kw.loc[neg_choice].qvals <= 0.05).astype(int))\n",
    "    kw_auc.append(f1_score(y, kw_y))\n",
    "    \n",
    "\n",
    "    r_y = list((tiklova_ovo.loc[[x for x in pos_choice if x in tiklova_ovo.index]]<=0.05).astype(int)) + list((tiklova_ovo.loc[[x for x in neg_choice if x in tiklova_ovo.index]]<=0.05).astype(int))\n",
    "    brie_l_auc.append(f1_score([1]*len([x for x in pos_choice if x in tiklova_ovo.index]) + [0]*len([x for x in neg_choice if x in tiklova_ovo.index]), r_y))\n",
    "    #####\n",
    "\n",
    "\n"
   ]
  },
  {
   "cell_type": "code",
   "execution_count": 74,
   "metadata": {},
   "outputs": [
    {
     "data": {
      "text/plain": [
       "Text(0.5, 1.0, 'Method comparison, Tiklova dataset')"
      ]
     },
     "execution_count": 74,
     "metadata": {},
     "output_type": "execute_result"
    },
    {
     "data": {
      "image/png": "[encoded data removed]",
      "text/plain": [
       "<Figure size 432x288 with 1 Axes>"
      ]
     },
     "metadata": {
      "needs_background": "light"
     },
     "output_type": "display_data"
    }
   ],
   "source": [
    "tiklova_boxplots = [ psix_auc, gearyc_auc, kw_auc, brie_l_auc]\n",
    "\n",
    "# kw_auc = []\n",
    "# psix_auc = []\n",
    "# gearyc_auc = []\n",
    "# briep_auc = []\n",
    "# brie_l_auc = []\n",
    "\n",
    "bp = plt.boxplot(tiklova_boxplots)\n",
    "\n",
    "\n",
    "plt.xticks(np.arange(1, 5), \n",
    "           ['Psix', \"Geary's C\", 'KW', 'Brie2'], fontsize=14, rotation=90)\n",
    "\n",
    "plt.ylabel('AUC pre-rec curve', fontsize=14)\n",
    "# plt.xlabel('Method', fontsize=14)\n",
    "plt.title('Method comparison, Tiklova dataset', fontsize=14)"
   ]
  },
  {
   "cell_type": "code",
   "execution_count": 12,
   "metadata": {},
   "outputs": [],
   "source": [
    "one_v_one = 'mouse_brain_development/brie2/'\n",
    "tiklova_0v1 = pd.read_csv(one_v_one + 'brie_output_E13_v_E15/brie_quant_cell.brie_ident.tsv', sep='\\t', index_col=0)\n",
    "tiklova_0v2 = pd.read_csv(one_v_one + 'brie_output_E13_v_E18/brie_quant_cell.brie_ident.tsv', sep='\\t', index_col=0)\n",
    "tiklova_0v3 = pd.read_csv(one_v_one + 'brie_output_E13_v_P1/brie_quant_cell.brie_ident.tsv', sep='\\t', index_col=0)\n",
    "tiklova_0v4 = pd.read_csv(one_v_one + 'brie_output_E13_v_P7/brie_quant_cell.brie_ident.tsv', sep='\\t', index_col=0)\n",
    "tiklova_0v5 = pd.read_csv(one_v_one + 'brie_output_E13_v_P90/brie_quant_cell.brie_ident.tsv', sep='\\t', index_col=0)\n",
    "\n",
    "tiklova_one_v_one = pd.DataFrame()\n",
    "tiklova_one_v_one['0v1'] = tiklova_0v1.neuro_pval\n",
    "tiklova_one_v_one['0v2'] = tiklova_0v2.neuro_pval\n",
    "tiklova_one_v_one['0v3'] = tiklova_0v3.neuro_pval\n",
    "tiklova_one_v_one['0v4'] = tiklova_0v4.neuro_pval\n",
    "tiklova_one_v_one['0v5'] = tiklova_0v5.neuro_pval\n",
    "tiklova_ovo = tiklova_one_v_one.min(axis=1)"
   ]
  },
  {
   "cell_type": "code",
   "execution_count": 39,
   "metadata": {},
   "outputs": [],
   "source": [
    "neg = weyn_fdr.index[(weyn_ds.max(axis=1) < 0.01) | (weyn_fdr.min(axis=1) > 0.1)] & tiklova_psix.index & tiklova_ovo.index\n"
   ]
  },
  {
   "cell_type": "code",
   "execution_count": 38,
   "metadata": {},
   "outputs": [
    {
     "data": {
      "text/plain": [
       "(array([125.,  33.,  26.,  29.,  29.,  27.,  19.,  27.,  23.,  24.]),\n",
       " array([4.99750125e-04, 1.00449775e-01, 2.00399800e-01, 3.00349825e-01,\n",
       "        4.00299850e-01, 5.00249875e-01, 6.00199900e-01, 7.00149925e-01,\n",
       "        8.00099950e-01, 9.00049975e-01, 1.00000000e+00]),\n",
       " <a list of 10 Patch objects>)"
      ]
     },
     "execution_count": 38,
     "metadata": {},
     "output_type": "execute_result"
    },
    {
     "data": {
      "image/png": "[encoded data removed]",
      "text/plain": [
       "<Figure size 432x288 with 1 Axes>"
      ]
     },
     "metadata": {
      "needs_background": "light"
     },
     "output_type": "display_data"
    }
   ],
   "source": [
    "plt.hist(tiklova_psix.loc[weyn_neg].pvals)"
   ]
  },
  {
   "cell_type": "code",
   "execution_count": 33,
   "metadata": {},
   "outputs": [
    {
     "data": {
      "text/plain": [
       "(array([225.,  40.,  30.,  20.,  14.,  13.,   8.,   5.,   4.,   3.]),\n",
       " array([7.994e-32, 3.580e-02, 7.160e-02, 1.074e-01, 1.432e-01, 1.790e-01,\n",
       "        2.148e-01, 2.506e-01, 2.864e-01, 3.222e-01, 3.580e-01]),\n",
       " <a list of 10 Patch objects>)"
      ]
     },
     "execution_count": 33,
     "metadata": {},
     "output_type": "execute_result"
    },
    {
     "data": {
      "image/png": "[encoded data removed]",
      "text/plain": [
       "<Figure size 432x288 with 1 Axes>"
      ]
     },
     "metadata": {
      "needs_background": "light"
     },
     "output_type": "display_data"
    }
   ],
   "source": [
    "plt.hist(tiklova_ovo.loc[weyn_neg])"
   ]
  },
  {
   "cell_type": "code",
   "execution_count": 34,
   "metadata": {},
   "outputs": [
    {
     "data": {
      "text/plain": [
       "(array([193.,  36.,  25.,  16.,  25.,  17.,  17.,  15.,   8.,  10.]),\n",
       " array([7.39830480e-30, 9.84774149e-02, 1.96954830e-01, 2.95432245e-01,\n",
       "        3.93909660e-01, 4.92387075e-01, 5.90864490e-01, 6.89341905e-01,\n",
       "        7.87819320e-01, 8.86296734e-01, 9.84774149e-01]),\n",
       " <a list of 10 Patch objects>)"
      ]
     },
     "execution_count": 34,
     "metadata": {},
     "output_type": "execute_result"
    },
    {
     "data": {
      "image/png": "[encoded data removed]",
      "text/plain": [
       "<Figure size 432x288 with 1 Axes>"
      ]
     },
     "metadata": {
      "needs_background": "light"
     },
     "output_type": "display_data"
    }
   ],
   "source": [
    "plt.hist(tiklova_kw.loc[weyn_neg].pvals)"
   ]
  },
  {
   "cell_type": "code",
   "execution_count": 47,
   "metadata": {},
   "outputs": [
    {
     "data": {
      "text/plain": [
       "(-0.5, 10.0)"
      ]
     },
     "execution_count": 47,
     "metadata": {},
     "output_type": "execute_result"
    },
    {
     "data": {
      "image/png": "[encoded data removed]",
      "text/plain": [
       "<Figure size 432x288 with 1 Axes>"
      ]
     },
     "metadata": {
      "needs_background": "light"
     },
     "output_type": "display_data"
    }
   ],
   "source": [
    "plt.scatter(sorted(-np.log10(np.arange(0+(1/len(neg)), 1+(1/len(neg)), step = 1/len(neg)))),\n",
    "            sorted(-np.log10(tiklova_psix.loc[weyn_neg].pvals)))\n",
    "\n",
    "plt.scatter(sorted(-np.log10(np.arange(0+(1/len(neg)), 1+(1/len(neg)), step = 1/len(neg)))),\n",
    "            sorted(-np.log10(tiklova_kw.loc[weyn_neg].pvals)))\n",
    "\n",
    "plt.scatter(sorted(-np.log10(np.arange(0+(1/len(neg)), 1+(1/len(neg)), step = 1/len(neg)))),\n",
    "            sorted(-np.log10(tiklova_ovo.loc[weyn_neg])))\n",
    "\n",
    "\n",
    "\n",
    "\n",
    "plt.plot(sorted(-np.log10(np.arange(0+(1/len(neg)), 1+(1/len(neg)), step = 1/len(neg)))),\n",
    "            sorted(-np.log10(np.arange(0+(1/len(neg)), 1+(1/len(neg)), step = 1/len(neg)))), c='darkred')\n",
    "\n",
    "plt.xlim((-0.1, 1.5))\n",
    "plt.ylim((-0.5, 10))"
   ]
  },
  {
   "cell_type": "code",
   "execution_count": 30,
   "metadata": {},
   "outputs": [
    {
     "data": {
      "text/html": [
       "<div>\n",
       "<style scoped>\n",
       "    .dataframe tbody tr th:only-of-type {\n",
       "        vertical-align: middle;\n",
       "    }\n",
       "\n",
       "    .dataframe tbody tr th {\n",
       "        vertical-align: top;\n",
       "    }\n",
       "\n",
       "    .dataframe thead th {\n",
       "        text-align: right;\n",
       "    }\n",
       "</style>\n",
       "<table border=\"1\" class=\"dataframe\">\n",
       "  <thead>\n",
       "    <tr style=\"text-align: right;\">\n",
       "      <th></th>\n",
       "      <th>psix_score</th>\n",
       "      <th>pvals</th>\n",
       "      <th>qvals</th>\n",
       "    </tr>\n",
       "  </thead>\n",
       "  <tbody>\n",
       "    <tr>\n",
       "      <th>Hmgn3_3</th>\n",
       "      <td>0.021581</td>\n",
       "      <td>0.097951</td>\n",
       "      <td>0.181872</td>\n",
       "    </tr>\n",
       "    <tr>\n",
       "      <th>Deaf1_nmdSE_3</th>\n",
       "      <td>0.013916</td>\n",
       "      <td>0.055472</td>\n",
       "      <td>0.116236</td>\n",
       "    </tr>\n",
       "    <tr>\n",
       "      <th>Scnm1_1</th>\n",
       "      <td>0.013813</td>\n",
       "      <td>0.055472</td>\n",
       "      <td>0.116236</td>\n",
       "    </tr>\n",
       "    <tr>\n",
       "      <th>Gabpb1_4</th>\n",
       "      <td>0.013563</td>\n",
       "      <td>0.060970</td>\n",
       "      <td>0.125859</td>\n",
       "    </tr>\n",
       "    <tr>\n",
       "      <th>Rnf146_4</th>\n",
       "      <td>0.012885</td>\n",
       "      <td>0.062469</td>\n",
       "      <td>0.127691</td>\n",
       "    </tr>\n",
       "    <tr>\n",
       "      <th>...</th>\n",
       "      <td>...</td>\n",
       "      <td>...</td>\n",
       "      <td>...</td>\n",
       "    </tr>\n",
       "    <tr>\n",
       "      <th>Fam118b_2</th>\n",
       "      <td>-0.028730</td>\n",
       "      <td>0.814093</td>\n",
       "      <td>0.889070</td>\n",
       "    </tr>\n",
       "    <tr>\n",
       "      <th>Repin1_1</th>\n",
       "      <td>-0.029305</td>\n",
       "      <td>0.834583</td>\n",
       "      <td>0.902941</td>\n",
       "    </tr>\n",
       "    <tr>\n",
       "      <th>N6amt1_1</th>\n",
       "      <td>-0.033029</td>\n",
       "      <td>0.837081</td>\n",
       "      <td>0.905176</td>\n",
       "    </tr>\n",
       "    <tr>\n",
       "      <th>Flot2_1</th>\n",
       "      <td>-0.041104</td>\n",
       "      <td>0.915042</td>\n",
       "      <td>0.952036</td>\n",
       "    </tr>\n",
       "    <tr>\n",
       "      <th>Pbrm1_17</th>\n",
       "      <td>-0.045036</td>\n",
       "      <td>0.940030</td>\n",
       "      <td>0.965949</td>\n",
       "    </tr>\n",
       "  </tbody>\n",
       "</table>\n",
       "<p>82 rows × 3 columns</p>\n",
       "</div>"
      ],
      "text/plain": [
       "               psix_score     pvals     qvals\n",
       "Hmgn3_3          0.021581  0.097951  0.181872\n",
       "Deaf1_nmdSE_3    0.013916  0.055472  0.116236\n",
       "Scnm1_1          0.013813  0.055472  0.116236\n",
       "Gabpb1_4         0.013563  0.060970  0.125859\n",
       "Rnf146_4         0.012885  0.062469  0.127691\n",
       "...                   ...       ...       ...\n",
       "Fam118b_2       -0.028730  0.814093  0.889070\n",
       "Repin1_1        -0.029305  0.834583  0.902941\n",
       "N6amt1_1        -0.033029  0.837081  0.905176\n",
       "Flot2_1         -0.041104  0.915042  0.952036\n",
       "Pbrm1_17        -0.045036  0.940030  0.965949\n",
       "\n",
       "[82 rows x 3 columns]"
      ]
     },
     "execution_count": 30,
     "metadata": {},
     "output_type": "execute_result"
    }
   ],
   "source": [
    "common_idx = tiklova_psix.index & tiklova_ovo.index & weyn_pos\n",
    "tiklova_psix.loc[common_idx].loc[(tiklova_psix.loc[common_idx].qvals >= 0.1) & (tiklova_ovo.loc[common_idx]<=0.01)]"
   ]
  },
  {
   "cell_type": "code",
   "execution_count": 23,
   "metadata": {},
   "outputs": [],
   "source": [
    "rd = pd.read_csv('mouse_brain_development/data/preprocess/tables/pc3_rd.tab.gz', sep='\\t', index_col=0)"
   ]
  },
  {
   "cell_type": "code",
   "execution_count": 33,
   "metadata": {},
   "outputs": [
    {
     "data": {
      "text/plain": [
       "<matplotlib.collections.PathCollection at 0x7f8b5eaf0b50>"
      ]
     },
     "execution_count": 33,
     "metadata": {},
     "output_type": "execute_result"
    },
    {
     "data": {
      "image/png": "[encoded data removed]",
      "text/plain": [
       "<Figure size 432x288 with 1 Axes>"
      ]
     },
     "metadata": {
      "needs_background": "light"
     },
     "output_type": "display_data"
    }
   ],
   "source": [
    "plt.scatter(rd.PC_1, rd.PC_2, c=tiklova_PSI.loc['Pbrm1_17'])"
   ]
  },
  {
   "cell_type": "code",
   "execution_count": 34,
   "metadata": {},
   "outputs": [
    {
     "data": {
      "text/plain": [
       "<matplotlib.collections.PathCollection at 0x7f8b5ec27690>"
      ]
     },
     "execution_count": 34,
     "metadata": {},
     "output_type": "execute_result"
    },
    {
     "data": {
      "image/png": "[encoded data removed]",
      "text/plain": [
       "<Figure size 432x288 with 1 Axes>"
      ]
     },
     "metadata": {
      "needs_background": "light"
     },
     "output_type": "display_data"
    }
   ],
   "source": [
    "plt.scatter([0, 0, 1, 1, 2, 2, 3, 3, 4, 4, 5, 5, 6, 6, 7, 7, 8, 8], \n",
    "            weyn_psi.loc['Pbrm1_17'])"
   ]
  },
  {
   "cell_type": "code",
   "execution_count": null,
   "metadata": {},
   "outputs": [],
   "source": []
  },
  {
   "cell_type": "code",
   "execution_count": null,
   "metadata": {},
   "outputs": [],
   "source": []
  },
  {
   "cell_type": "code",
   "execution_count": null,
   "metadata": {},
   "outputs": [],
   "source": []
  },
  {
   "cell_type": "code",
   "execution_count": 49,
   "metadata": {},
   "outputs": [],
   "source": [
    "from sklearn.metrics import auc\n",
    "from sklearn.metrics import precision_recall_curve"
   ]
  },
  {
   "cell_type": "code",
   "execution_count": 50,
   "metadata": {},
   "outputs": [],
   "source": [
    "tiklova_one_v_one = pd.DataFrame()\n",
    "tiklova_one_v_one['0v1'] = tiklova_0v1.neuro_ELBO_gain\n",
    "tiklova_one_v_one['0v2'] = tiklova_0v2.neuro_ELBO_gain\n",
    "tiklova_one_v_one['0v3'] = tiklova_0v3.neuro_ELBO_gain\n",
    "tiklova_one_v_one['0v4'] = tiklova_0v4.neuro_ELBO_gain\n",
    "tiklova_one_v_one['0v5'] = tiklova_0v5.neuro_ELBO_gain\n",
    "tiklova_ovo = tiklova_one_v_one.max(axis=1)"
   ]
  },
  {
   "cell_type": "code",
   "execution_count": 65,
   "metadata": {},
   "outputs": [
    {
     "name": "stderr",
     "output_type": "stream",
     "text": [
      "100%|██████████| 500/500 [00:08<00:00, 57.99it/s]\n"
     ]
    },
    {
     "data": {
      "text/plain": [
       "Text(0.5, 1.0, 'Method comparison, Tiklova dataset')"
      ]
     },
     "execution_count": 65,
     "metadata": {},
     "output_type": "execute_result"
    },
    {
     "data": {
      "image/png": "[encoded data removed]",
      "text/plain": [
       "<Figure size 432x288 with 1 Axes>"
      ]
     },
     "metadata": {
      "needs_background": "light"
     },
     "output_type": "display_data"
    }
   ],
   "source": [
    "\n",
    "\n",
    "weyn_pos = weyn_fdr.index[(weyn_ds.max(axis=1) >= 0.2) & (weyn_fdr.min(axis=1) <= 0.01)]\n",
    "weyn_neg = weyn_fdr.index[(weyn_ds.max(axis=1) < 0.01) | (weyn_fdr.min(axis=1) > 0.01)]\n",
    "\n",
    "exons = tiklova_psix.index\n",
    "exons_pos = weyn_pos & exons\n",
    "exons_neg = weyn_neg & exons\n",
    "\n",
    "\n",
    "kw_auc = []\n",
    "psix_auc = []\n",
    "gearyc_auc = []\n",
    "briep_auc = []\n",
    "brie_l_auc = []\n",
    "\n",
    "for sample in tqdm(range(500)):\n",
    "    pos_choice = np.random.choice(exons_pos, np.int(0.5*len(exons_pos)), replace=False)\n",
    "    neg_choice = np.random.choice(exons_neg, np.int(0.5*len(exons_neg)), replace=False)\n",
    "    \n",
    "    y = [1]*len(pd.Index(pos_choice) & tiklova_gearyc.index) + [0]*len(pd.Index(neg_choice) & tiklova_gearyc.index)\n",
    "    c_y = list(tiklova_gearyc.loc[pd.Index(pos_choice) & tiklova_gearyc.index].C_score) + list(tiklova_gearyc.loc[pd.Index(neg_choice) & tiklova_gearyc.index].C_score)\n",
    "    pre, rec, thres = precision_recall_curve(y, c_y)\n",
    "    gearyc_auc.append(auc(rec, pre))\n",
    "\n",
    "    y = [1]*len(pos_choice) + [0]*len(neg_choice)\n",
    "    psix_y = list(tiklova_psix.loc[pos_choice].psix_score) + list(tiklova_psix.loc[neg_choice].psix_score)\n",
    "    pre, rec, thres = precision_recall_curve(y, psix_y)\n",
    "    psix_auc.append(auc(rec, pre))\n",
    "    \n",
    "\n",
    "    kw_y = list(tiklova_kw.loc[pos_choice].KW_score) + list(tiklova_kw.loc[neg_choice].KW_score)\n",
    "    pre, rec, thres = precision_recall_curve(y, kw_y)\n",
    "    kw_auc.append(auc(rec, pre))\n",
    "    \n",
    "\n",
    "    r_y = list(tiklova_ovo.loc[[x for x in pos_choice if x in tiklova_ovo.index]]) + list(tiklova_ovo.loc[[x for x in neg_choice if x in tiklova_ovo.index]])\n",
    "    pre, rec, thres = precision_recall_curve([1]*len([x for x in pos_choice if x in tiklova_ovo.index]) + [0]*len([x for x in neg_choice if x in tiklova_ovo.index]), r_y)\n",
    "    brie_l_auc.append(auc(rec, pre))\n",
    "    #####\n",
    "\n",
    "tiklova_boxplots = [ psix_auc, gearyc_auc, kw_auc, brie_l_auc]\n",
    "\n",
    "# kw_auc = []\n",
    "# psix_auc = []\n",
    "# gearyc_auc = []\n",
    "# briep_auc = []\n",
    "# brie_l_auc = []\n",
    "\n",
    "bp = plt.boxplot(tiklova_boxplots)\n",
    "\n",
    "\n",
    "plt.xticks(np.arange(1, 5), \n",
    "           ['Psix', \"Geary's C\", 'KW', 'Brie2'], fontsize=14, rotation=90)\n",
    "\n",
    "plt.ylabel('AUC pre-rec curve', fontsize=14)\n",
    "# plt.xlabel('Method', fontsize=14)\n",
    "plt.title('Method comparison, Tiklova dataset', fontsize=14)\n"
   ]
  },
  {
   "cell_type": "code",
   "execution_count": 11,
   "metadata": {},
   "outputs": [
    {
     "name": "stderr",
     "output_type": "stream",
     "text": [
      "100%|██████████| 500/500 [00:09<00:00, 55.20it/s]\n"
     ]
    },
    {
     "data": {
      "text/plain": [
       "Text(0.5, 1.0, 'Method comparison, Tiklova dataset')"
      ]
     },
     "execution_count": 11,
     "metadata": {},
     "output_type": "execute_result"
    },
    {
     "data": {
      "image/png": "[encoded data removed]",
      "text/plain": [
       "<Figure size 432x288 with 1 Axes>"
      ]
     },
     "metadata": {
      "needs_background": "light"
     },
     "output_type": "display_data"
    }
   ],
   "source": [
    "\n",
    "\n",
    "weyn_pos = weyn_fdr.index[(weyn_ds.max(axis=1) >= 0.2) & (weyn_fdr.min(axis=1) <= 0.01)]\n",
    "weyn_neg = weyn_fdr.index[(weyn_ds.max(axis=1) < 0.2) | (weyn_fdr.min(axis=1) > 0.01)]\n",
    "\n",
    "exons = tiklova_psix.index\n",
    "exons_pos = weyn_pos & exons\n",
    "exons_neg = weyn_neg & exons\n",
    "\n",
    "\n",
    "kw_auc = []\n",
    "psix_auc = []\n",
    "gearyc_auc = []\n",
    "briep_auc = []\n",
    "brie_l_auc = []\n",
    "\n",
    "for sample in tqdm(range(500)):\n",
    "    pos_choice = np.random.choice(exons_pos, np.int(0.5*len(exons_pos)), replace=False)\n",
    "    neg_choice = np.random.choice(exons_neg, np.int(0.5*len(exons_neg)), replace=False)\n",
    "    \n",
    "    y = [1]*len(pd.Index(pos_choice) & tiklova_gearyc.index) + [0]*len(pd.Index(neg_choice) & tiklova_gearyc.index)\n",
    "    c_y = list(tiklova_gearyc.loc[pd.Index(pos_choice) & tiklova_gearyc.index].C_score) + list(tiklova_gearyc.loc[pd.Index(neg_choice) & tiklova_gearyc.index].C_score)\n",
    "    pre, rec, thres = precision_recall_curve(y, c_y)\n",
    "    gearyc_auc.append(auc(rec, pre))\n",
    "\n",
    "    y = [1]*len(pos_choice) + [0]*len(neg_choice)\n",
    "    psix_y = list(tiklova_psix.loc[pos_choice].psix_score) + list(tiklova_psix.loc[neg_choice].psix_score)\n",
    "    pre, rec, thres = precision_recall_curve(y, psix_y)\n",
    "    psix_auc.append(auc(rec, pre))\n",
    "    \n",
    "\n",
    "    kw_y = list(tiklova_kw.loc[pos_choice].KW_score) + list(tiklova_kw.loc[neg_choice].KW_score)\n",
    "    pre, rec, thres = precision_recall_curve(y, kw_y)\n",
    "    kw_auc.append(auc(rec, pre))\n",
    "    \n",
    "\n",
    "    r_y = list(tiklova_ovo.loc[[x for x in pos_choice if x in tiklova_ovo.index]]) + list(tiklova_ovo.loc[[x for x in neg_choice if x in tiklova_ovo.index]])\n",
    "    pre, rec, thres = precision_recall_curve([1]*len([x for x in pos_choice if x in tiklova_ovo.index]) + [0]*len([x for x in neg_choice if x in tiklova_ovo.index]), r_y)\n",
    "    brie_l_auc.append(auc(rec, pre))\n",
    "    #####\n",
    "\n",
    "tiklova_boxplots = [ psix_auc, gearyc_auc, kw_auc, brie_l_auc]\n",
    "\n",
    "# kw_auc = []\n",
    "# psix_auc = []\n",
    "# gearyc_auc = []\n",
    "# briep_auc = []\n",
    "# brie_l_auc = []\n",
    "\n",
    "bp = plt.boxplot(tiklova_boxplots)\n",
    "\n",
    "\n",
    "plt.xticks(np.arange(1, 5), \n",
    "           ['Psix', \"Geary's C\", 'KW', 'Brie2'], fontsize=14, rotation=90)\n",
    "\n",
    "plt.ylabel('AUC pre-rec curve', fontsize=14)\n",
    "# plt.xlabel('Method', fontsize=14)\n",
    "plt.title('Method comparison, Tiklova dataset', fontsize=14)\n"
   ]
  },
  {
   "cell_type": "code",
   "execution_count": null,
   "metadata": {},
   "outputs": [],
   "source": []
  }
 ],
 "metadata": {
  "kernelspec": {
   "display_name": "Python 3",
   "language": "python",
   "name": "python3"
  },
  "language_info": {
   "codemirror_mode": {
    "name": "ipython",
    "version": 3
   },
   "file_extension": ".py",
   "mimetype": "text/x-python",
   "name": "python",
   "nbconvert_exporter": "python",
   "pygments_lexer": "ipython3",
   "version": "3.7.6"
  }
 },
 "nbformat": 4,
 "nbformat_minor": 4
}
