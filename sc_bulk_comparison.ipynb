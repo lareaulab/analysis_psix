{
 "cells": [
  {
   "cell_type": "code",
   "execution_count": 19,
   "metadata": {},
   "outputs": [],
   "source": [
    "import numpy as np\n",
    "import pandas as pd\n",
    "from sklearn.metrics import f1_score, precision_score, recall_score\n",
    "from matplotlib import pyplot as plt\n",
    "import sys\n",
    "sys.path.insert(0, '/mnt/lareaulab/cfbuenabadn/sc_splicing_regulation/utils/')\n",
    "from utils_functions import *\n",
    "from statsmodels.stats.multitest import multipletests\n"
   ]
  },
  {
   "cell_type": "code",
   "execution_count": 5,
   "metadata": {},
   "outputs": [],
   "source": [
    "weyn_pvals = pd.read_csv('~/sc_splicing_regulation/timeseries_neurogenesis/Weyn_pvals.tab', sep='\\t', index_col=0)\n",
    "weyn_fdr = pd.read_csv('~/sc_splicing_regulation/timeseries_neurogenesis/Weyn_fdr.tab', sep='\\t', index_col=0)\n",
    "weyn_psi = pd.read_csv('~/sc_splicing_regulation/timeseries_neurogenesis/Weyn_psi.tab', sep='\\t', index_col=0)\n",
    "\n",
    "weyn_ds = get_averages_bulk(weyn_psi)\n"
   ]
  },
  {
   "cell_type": "code",
   "execution_count": 12,
   "metadata": {},
   "outputs": [],
   "source": [
    "tiklova_PSI = pd.read_csv('mouse_brain_development/data/preprocess/tables/psi.tab.gz', sep='\\t', index_col=0)\n",
    "tiklova_meta = pd.read_csv('mouse_brain_development/data/SraRunTable.txt.gz', sep=',', index_col=0)\n",
    "tiklova_psix = pd.read_csv('mouse_brain_development/psix_object/psix_results.tab.gz', sep='\\t', index_col=0)"
   ]
  },
  {
   "cell_type": "code",
   "execution_count": 23,
   "metadata": {},
   "outputs": [],
   "source": [
    "e13 = tiklova_meta.index[tiklova_meta.Age == 'embryonic day 13.5'] & tiklova_PSI.columns\n",
    "e15 = tiklova_meta.index[tiklova_meta.Age == 'embryonic day 15.5'] & tiklova_PSI.columns\n",
    "e18 = tiklova_meta.index[tiklova_meta.Age == 'embryonic day 18.5'] & tiklova_PSI.columns\n",
    "p1 = tiklova_meta.index[tiklova_meta.Age == 'postnatal day 1'] & tiklova_PSI.columns\n",
    "p7 = tiklova_meta.index[tiklova_meta.Age == 'postnatal day 7'] & tiklova_PSI.columns\n",
    "p90 = tiklova_meta.index[tiklova_meta.Age == 'postnatal day 90'] & tiklova_PSI.columns\n",
    "\n",
    "tiklova_labels = [e13, e15, e18, p1, p7, p90]\n",
    "from scipy.stats import kruskal\n",
    "\n",
    "def run_kw(exon_psi, labels):\n",
    "    kw_input = []\n",
    "    for l in labels:\n",
    "        kw_input.append(list(exon_psi.loc[l]))\n",
    "        \n",
    "    if len(labels) == 2:\n",
    "        return kruskal(kw_input[0], kw_input[1], nan_policy='omit')\n",
    "    if len(labels) == 3:\n",
    "        return kruskal(kw_input[0], kw_input[1], kw_input[2], nan_policy='omit')\n",
    "    if len(labels) == 4:\n",
    "        return kruskal(kw_input[0], kw_input[1], kw_input[2], kw_input[3], nan_policy='omit')\n",
    "    if len(labels) == 5:\n",
    "        return kruskal(kw_input[0], kw_input[1], kw_input[2], kw_input[3], kw_input[4], nan_policy='omit')\n",
    "    if len(labels) == 6:\n",
    "        return kruskal(kw_input[0], kw_input[1], kw_input[2], kw_input[3], kw_input[4], kw_input[5], nan_policy='omit')\n",
    "    \n",
    "def run_kw_dset(psi_table, labels, exon_list):\n",
    "    kw_output = pd.DataFrame()\n",
    "    kw_score = []\n",
    "    pvals = []\n",
    "    for exon in exon_list:\n",
    "        score, p = run_kw(psi_table.loc[exon], labels)\n",
    "        kw_score.append(score)\n",
    "        pvals.append(p)\n",
    "    kw_output['KW_score'] = kw_score\n",
    "    kw_output['pvals'] = pvals\n",
    "    kw_output['qvals'] = multipletests(pvals, method='fdr_bh')[1]\n",
    "    kw_output.index = exon_list\n",
    "    return kw_output\n",
    "\n",
    "tiklova_kw = run_kw_dset(tiklova_PSI, tiklova_labels, tiklova_psix.index)"
   ]
  },
  {
   "cell_type": "code",
   "execution_count": 16,
   "metadata": {},
   "outputs": [],
   "source": [
    "tiklova_gearyc = pd.read_csv('mouse_brain_development/geary_c/GearyC_k100.tab', sep='\\t', index_col=0)"
   ]
  },
  {
   "cell_type": "code",
   "execution_count": 20,
   "metadata": {},
   "outputs": [],
   "source": [
    "\n",
    "tiklova_gearyc['qvals'] = multipletests(tiklova_gearyc.pvals, method='fdr_bh')[1]"
   ]
  },
  {
   "cell_type": "code",
   "execution_count": 30,
   "metadata": {},
   "outputs": [],
   "source": [
    "one_v_one = 'mouse_brain_development/brie2/'\n",
    "tiklova_0v1 = pd.read_csv(one_v_one + 'brie_output_E13_v_E15/brie_quant_cell.brie_ident.tsv', sep='\\t', index_col=0)\n",
    "tiklova_0v2 = pd.read_csv(one_v_one + 'brie_output_E13_v_E18/brie_quant_cell.brie_ident.tsv', sep='\\t', index_col=0)\n",
    "tiklova_0v3 = pd.read_csv(one_v_one + 'brie_output_E13_v_P1/brie_quant_cell.brie_ident.tsv', sep='\\t', index_col=0)\n",
    "tiklova_0v4 = pd.read_csv(one_v_one + 'brie_output_E13_v_P7/brie_quant_cell.brie_ident.tsv', sep='\\t', index_col=0)\n",
    "tiklova_0v5 = pd.read_csv(one_v_one + 'brie_output_E13_v_P90/brie_quant_cell.brie_ident.tsv', sep='\\t', index_col=0)\n",
    "\n",
    "tiklova_one_v_one = pd.DataFrame()\n",
    "tiklova_one_v_one['0v1'] = tiklova_0v1.neuro_FDR\n",
    "tiklova_one_v_one['0v2'] = tiklova_0v2.neuro_FDR\n",
    "tiklova_one_v_one['0v3'] = tiklova_0v3.neuro_FDR\n",
    "tiklova_one_v_one['0v4'] = tiklova_0v4.neuro_FDR\n",
    "tiklova_one_v_one['0v5'] = tiklova_0v5.neuro_FDR\n",
    "tiklova_ovo = tiklova_one_v_one.min(axis=1)\n",
    "\n",
    "# tiklova_one_v_one = pd.DataFrame()\n",
    "# tiklova_one_v_one['0v1'] = tiklova_0v1.neuro_pval\n",
    "# tiklova_one_v_one['0v2'] = tiklova_0v2.neuro_pval\n",
    "# tiklova_one_v_one['0v3'] = tiklova_0v3.neuro_pval\n",
    "# tiklova_one_v_one['0v4'] = tiklova_0v4.neuro_pval\n",
    "# tiklova_one_v_one['0v5'] = tiklova_0v5.neuro_pval\n",
    "# tiklova_ovo = tiklova_one_v_one.min(axis=1)"
   ]
  },
  {
   "cell_type": "code",
   "execution_count": 39,
   "metadata": {},
   "outputs": [
    {
     "name": "stderr",
     "output_type": "stream",
     "text": [
      "100%|██████████| 500/500 [00:12<00:00, 41.23it/s]\n"
     ]
    }
   ],
   "source": [
    "from sklearn.metrics import auc\n",
    "from sklearn.metrics import f1_score\n",
    "\n",
    "weyn_pos = weyn_fdr.index[(weyn_ds.max(axis=1) >= 0.2) & (weyn_fdr.min(axis=1) <= 0.05)]\n",
    "weyn_neg = weyn_fdr.index[(weyn_ds.max(axis=1) < 0.2) | (weyn_fdr.min(axis=1) > 0.05)]\n",
    "\n",
    "exons = tiklova_psix.index\n",
    "exons_pos = weyn_pos & exons\n",
    "exons_neg = weyn_neg & exons\n",
    "\n",
    "\n",
    "kw_auc = []\n",
    "psix_auc = []\n",
    "gearyc_auc = []\n",
    "briep_auc = []\n",
    "brie_l_auc = []\n",
    "\n",
    "for sample in tqdm(range(500)):\n",
    "    pos_choice = np.random.choice(exons_pos, np.int(0.5*len(exons_pos)), replace=False)\n",
    "    neg_choice = np.random.choice(exons_neg, np.int(0.5*len(exons_neg)), replace=False)\n",
    "    \n",
    "    y = [1]*len(pd.Index(pos_choice) & tiklova_gearyc.index) + [0]*len(pd.Index(neg_choice) & tiklova_gearyc.index)\n",
    "    c_y = list((tiklova_gearyc.loc[pd.Index(pos_choice) & tiklova_gearyc.index].qvals <= 0.05).astype(int)) + list((tiklova_gearyc.loc[pd.Index(neg_choice) & tiklova_gearyc.index].qvals <= 0.05).astype(int))\n",
    "    f1 = f1_score(y, c_y)\n",
    "    gearyc_auc.append(f1)\n",
    "\n",
    "    y = [1]*len(pos_choice) + [0]*len(neg_choice)\n",
    "    psix_y = list((tiklova_psix.loc[pos_choice].qvals <= 0.05).astype(int)) + list((tiklova_psix.loc[neg_choice].qvals <= 0.05).astype(int))\n",
    "    psix_auc.append(f1_score(y, psix_y))\n",
    "    \n",
    "\n",
    "    kw_y = list((tiklova_kw.loc[pos_choice].qvals <= 0.05).astype(int)) + list((tiklova_kw.loc[neg_choice].qvals <= 0.05).astype(int))\n",
    "    kw_auc.append(f1_score(y, kw_y))\n",
    "    \n",
    "\n",
    "    r_y = list((tiklova_ovo.loc[[x for x in pos_choice if x in tiklova_ovo.index]]<=0.05).astype(int)) + list((tiklova_ovo.loc[[x for x in neg_choice if x in tiklova_ovo.index]]<=0.05).astype(int))\n",
    "    brie_l_auc.append(f1_score([1]*len([x for x in pos_choice if x in tiklova_ovo.index]) + [0]*len([x for x in neg_choice if x in tiklova_ovo.index]), r_y))\n",
    "    #####\n",
    "\n",
    "\n"
   ]
  },
  {
   "cell_type": "code",
   "execution_count": 40,
   "metadata": {},
   "outputs": [
    {
     "data": {
      "text/plain": [
       "Text(0.5, 1.0, 'Method comparison, Tiklova dataset')"
      ]
     },
     "execution_count": 40,
     "metadata": {},
     "output_type": "execute_result"
    },
    {
     "data": {
      "image/png": "[encoded data removed]",
      "text/plain": [
       "<Figure size 432x288 with 1 Axes>"
      ]
     },
     "metadata": {
      "needs_background": "light"
     },
     "output_type": "display_data"
    }
   ],
   "source": [
    "tiklova_boxplots = [ psix_auc, gearyc_auc, kw_auc, brie_l_auc]\n",
    "\n",
    "# kw_auc = []\n",
    "# psix_auc = []\n",
    "# gearyc_auc = []\n",
    "# briep_auc = []\n",
    "# brie_l_auc = []\n",
    "\n",
    "bp = plt.boxplot(tiklova_boxplots)\n",
    "\n",
    "\n",
    "plt.xticks(np.arange(1, 5), \n",
    "           ['Psix', \"Geary's C\", 'KW', 'Brie2'], fontsize=14, rotation=90)\n",
    "\n",
    "plt.ylabel('AUC pre-rec curve', fontsize=14)\n",
    "# plt.xlabel('Method', fontsize=14)\n",
    "plt.title('Method comparison, Tiklova dataset', fontsize=14)"
   ]
  },
  {
   "cell_type": "code",
   "execution_count": 41,
   "metadata": {},
   "outputs": [],
   "source": [
    "from sklearn.metrics import auc\n",
    "from sklearn.metrics import precision_recall_curve"
   ]
  },
  {
   "cell_type": "code",
   "execution_count": 42,
   "metadata": {},
   "outputs": [],
   "source": [
    "tiklova_one_v_one = pd.DataFrame()\n",
    "tiklova_one_v_one['0v1'] = tiklova_0v1.neuro_ELBO_gain\n",
    "tiklova_one_v_one['0v2'] = tiklova_0v2.neuro_ELBO_gain\n",
    "tiklova_one_v_one['0v3'] = tiklova_0v3.neuro_ELBO_gain\n",
    "tiklova_one_v_one['0v4'] = tiklova_0v4.neuro_ELBO_gain\n",
    "tiklova_one_v_one['0v5'] = tiklova_0v5.neuro_ELBO_gain\n",
    "tiklova_ovo = tiklova_one_v_one.max(axis=1)"
   ]
  },
  {
   "cell_type": "code",
   "execution_count": 49,
   "metadata": {},
   "outputs": [
    {
     "name": "stderr",
     "output_type": "stream",
     "text": [
      "100%|██████████| 500/500 [00:09<00:00, 55.06it/s]\n"
     ]
    }
   ],
   "source": [
    "\n",
    "\n",
    "weyn_pos = weyn_fdr.index[(weyn_ds.max(axis=1) >= 0.2) & (weyn_fdr.min(axis=1) <= 0.05)]\n",
    "weyn_neg = weyn_fdr.index[(weyn_ds.max(axis=1) < 0.2) | (weyn_fdr.min(axis=1) > 0.05)]\n",
    "\n",
    "exons = tiklova_psix.index\n",
    "exons_pos = weyn_pos & exons\n",
    "exons_neg = weyn_neg & exons\n",
    "\n",
    "\n",
    "kw_auc = []\n",
    "psix_auc = []\n",
    "gearyc_auc = []\n",
    "briep_auc = []\n",
    "brie_l_auc = []\n",
    "\n",
    "for sample in tqdm(range(500)):\n",
    "    pos_choice = np.random.choice(exons_pos, np.int(0.5*len(exons_pos)), replace=False)\n",
    "    neg_choice = np.random.choice(exons_neg, np.int(0.5*len(exons_neg)), replace=False)\n",
    "    \n",
    "    y = [1]*len(pd.Index(pos_choice) & tiklova_gearyc.index) + [0]*len(pd.Index(neg_choice) & tiklova_gearyc.index)\n",
    "    c_y = list(tiklova_gearyc.loc[pd.Index(pos_choice) & tiklova_gearyc.index].C_score) + list(tiklova_gearyc.loc[pd.Index(neg_choice) & tiklova_gearyc.index].C_score)\n",
    "    pre, rec, thres = precision_recall_curve(y, c_y)\n",
    "    gearyc_auc.append(auc(rec, pre))\n",
    "\n",
    "    y = [1]*len(pos_choice) + [0]*len(neg_choice)\n",
    "    psix_y = list(tiklova_psix.loc[pos_choice].psix_score) + list(tiklova_psix.loc[neg_choice].psix_score)\n",
    "    pre, rec, thres = precision_recall_curve(y, psix_y)\n",
    "    psix_auc.append(auc(rec, pre))\n",
    "    \n",
    "\n",
    "    kw_y = list(tiklova_kw.loc[pos_choice].KW_score) + list(tiklova_kw.loc[neg_choice].KW_score)\n",
    "    pre, rec, thres = precision_recall_curve(y, kw_y)\n",
    "    kw_auc.append(auc(rec, pre))\n",
    "    \n",
    "\n",
    "    r_y = list(tiklova_ovo.loc[[x for x in pos_choice if x in tiklova_ovo.index]]) + list(tiklova_ovo.loc[[x for x in neg_choice if x in tiklova_ovo.index]])\n",
    "    pre, rec, thres = precision_recall_curve([1]*len([x for x in pos_choice if x in tiklova_ovo.index]) + [0]*len([x for x in neg_choice if x in tiklova_ovo.index]), r_y)\n",
    "    brie_l_auc.append(auc(rec, pre))\n",
    "    #####\n",
    "\n",
    "\n"
   ]
  },
  {
   "cell_type": "code",
   "execution_count": 50,
   "metadata": {},
   "outputs": [
    {
     "data": {
      "text/plain": [
       "Text(0.5, 1.0, 'Method comparison, Tiklova dataset')"
      ]
     },
     "execution_count": 50,
     "metadata": {},
     "output_type": "execute_result"
    },
    {
     "data": {
      "image/png": "[encoded data removed]",
      "text/plain": [
       "<Figure size 432x288 with 1 Axes>"
      ]
     },
     "metadata": {
      "needs_background": "light"
     },
     "output_type": "display_data"
    }
   ],
   "source": [
    "tiklova_boxplots = [ psix_auc, gearyc_auc, kw_auc, brie_l_auc]\n",
    "\n",
    "# kw_auc = []\n",
    "# psix_auc = []\n",
    "# gearyc_auc = []\n",
    "# briep_auc = []\n",
    "# brie_l_auc = []\n",
    "\n",
    "bp = plt.boxplot(tiklova_boxplots)\n",
    "\n",
    "\n",
    "plt.xticks(np.arange(1, 5), \n",
    "           ['Psix', \"Geary's C\", 'KW', 'Brie2'], fontsize=14, rotation=90)\n",
    "\n",
    "plt.ylabel('AUC pre-rec curve', fontsize=14)\n",
    "# plt.xlabel('Method', fontsize=14)\n",
    "plt.title('Method comparison, Tiklova dataset', fontsize=14)"
   ]
  },
  {
   "cell_type": "code",
   "execution_count": null,
   "metadata": {},
   "outputs": [],
   "source": []
  }
 ],
 "metadata": {
  "kernelspec": {
   "display_name": "Python 3",
   "language": "python",
   "name": "python3"
  },
  "language_info": {
   "codemirror_mode": {
    "name": "ipython",
    "version": 3
   },
   "file_extension": ".py",
   "mimetype": "text/x-python",
   "name": "python",
   "nbconvert_exporter": "python",
   "pygments_lexer": "ipython3",
   "version": "3.7.6"
  }
 },
 "nbformat": 4,
 "nbformat_minor": 4
}
