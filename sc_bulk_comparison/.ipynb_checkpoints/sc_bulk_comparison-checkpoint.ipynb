{
 "cells": [
  {
   "cell_type": "code",
   "execution_count": 1,
   "metadata": {},
   "outputs": [],
   "source": [
    "import numpy as np\n",
    "import pandas as pd\n",
    "from sklearn.metrics import f1_score, precision_score, recall_score\n",
    "from matplotlib import pyplot as plt\n",
    "import sys\n",
    "sys.path.insert(0, '/mnt/lareaulab/cfbuenabadn/psix_project/psix_paper/utils/')\n",
    "from utils_functions import *\n",
    "from statsmodels.stats.multitest import multipletests\n",
    "\n",
    "\n",
    "from sklearn.metrics import auc\n",
    "from sklearn.metrics import precision_recall_curve\n",
    "from sklearn.metrics import f1_score\n",
    "from sklearn.metrics import precision_score\n",
    "\n",
    "\n",
    "plt.rcParams[\"axes.edgecolor\"] = \"black\"\n",
    "plt.rcParams[\"axes.linewidth\"] = 1\n",
    "plt.rcParams[\"axes.facecolor\"] = 'white'\n",
    "\n",
    "import matplotlib as mpl\n",
    "import numpy as np\n",
    "from matplotlib import pyplot as plt\n",
    "\n",
    "mpl.rcParams[\"mathtext.fontset\"] = \"stix\"\n",
    "mpl.rcParams['pdf.fonttype'] = 42"
   ]
  },
  {
   "cell_type": "code",
   "execution_count": 2,
   "metadata": {},
   "outputs": [],
   "source": [
    "weyn_pvals = pd.read_csv('bulk_data/weyn_pvals.tab', sep='\\t', index_col=0)\n",
    "weyn_fdr = pd.read_csv('bulk_data/Weyn_fdr.tab', sep='\\t', index_col=0)\n",
    "weyn_psi = pd.read_csv('bulk_data/Weyn_psi.tab', sep='\\t', index_col=0)\n",
    "weyn_ds = get_averages_bulk(weyn_psi)\n",
    "\n",
    "hubbard_pvals = pd.read_csv('bulk_data/Hubbard_pvals.tab', sep='\\t', index_col=0)\n",
    "hubbard_fdr = pd.read_csv('bulk_data/Hubbard_fdr.tab', sep='\\t', index_col=0)\n",
    "hubbard_psi = pd.read_csv('bulk_data/Hubbard_psi.tab', sep='\\t', index_col=0)\n",
    "hubbard_ds = get_averages_bulk(hubbard_psi)\n",
    "\n",
    "song_bulk_pvals = pd.read_csv('bulk_data/song_bulk_pvals.tab', sep='\\t', index_col=0)\n",
    "song_bulk_fdr = pd.read_csv('bulk_data/song_bulk_fdr.tab', sep='\\t', index_col=0)\n",
    "song_bulk_psi = pd.read_csv('bulk_data/song_bulk_psi.tab', sep='\\t', index_col=0)\n",
    "song_bulk_ds = get_averages_bulk(song_bulk_psi)\n"
   ]
  },
  {
   "cell_type": "code",
   "execution_count": 3,
   "metadata": {},
   "outputs": [],
   "source": [
    "chen_PSI = pd.read_csv('mesc_neurogenesis/data/preprocess/tables/psi.tab.gz', sep='\\t', index_col=0)\n",
    "chen_meta = pd.read_csv('mesc_neurogenesis/data/SraRunTable.txt.gz', sep='\\t', index_col=5)\n",
    "chen_psix = pd.read_csv('mesc_neurogenesis/psix_object/psix_results.tab.gz', sep='\\t', index_col=0)\n",
    "\n",
    "es2i = chen_meta.index[chen_meta.cell_type_s == 'ES2i'] & chen_PSI.columns\n",
    "es = chen_meta.index[chen_meta.cell_type_s == 'ES'] & chen_PSI.columns\n",
    "epi = chen_meta.index[chen_meta.cell_type_s == 'Epi'] & chen_PSI.columns\n",
    "mn = chen_meta.index[chen_meta.cell_type_s == 'Motor neuron'] & chen_PSI.columns\n",
    "\n",
    "chen_labels = [es2i, es, epi, mn]\n",
    "from scipy.stats import kruskal\n",
    "\n",
    "def run_kw(exon_psi, labels):\n",
    "    kw_input = []\n",
    "    for l in labels:\n",
    "        kw_input.append(list(exon_psi.loc[l]))\n",
    "        \n",
    "    if len(labels) == 2:\n",
    "        return kruskal(kw_input[0], kw_input[1], nan_policy='omit')\n",
    "    if len(labels) == 3:\n",
    "        return kruskal(kw_input[0], kw_input[1], kw_input[2], nan_policy='omit')\n",
    "    if len(labels) == 4:\n",
    "        return kruskal(kw_input[0], kw_input[1], kw_input[2], kw_input[3], nan_policy='omit')\n",
    "    if len(labels) == 5:\n",
    "        return kruskal(kw_input[0], kw_input[1], kw_input[2], kw_input[3], kw_input[4], nan_policy='omit')\n",
    "    if len(labels) == 6:\n",
    "        return kruskal(kw_input[0], kw_input[1], kw_input[2], kw_input[3], kw_input[4], kw_input[5], nan_policy='omit')\n",
    "    \n",
    "def run_kw_dset(psi_table, labels, exon_list):\n",
    "    kw_output = pd.DataFrame()\n",
    "    kw_score = []\n",
    "    pvals = []\n",
    "    for exon in exon_list:\n",
    "        score, p = run_kw(psi_table.loc[exon], labels)\n",
    "        kw_score.append(score)\n",
    "        pvals.append(p)\n",
    "    kw_output['KW_score'] = kw_score\n",
    "    kw_output['pvals'] = pvals\n",
    "    kw_output['qvals'] = multipletests(pvals, method='fdr_bh')[1]\n",
    "    kw_output.index = exon_list\n",
    "    return kw_output\n",
    "\n",
    "chen_kw = run_kw_dset(chen_PSI, chen_labels, chen_psix.index)\n",
    "\n",
    "chen_gearyc = pd.read_csv('mesc_neurogenesis/gearyc/gearyc.tab.gz', sep='\\t', index_col=0)\n",
    "chen_gearyc['qvals'] = multipletests(chen_gearyc.pvals, method='fdr_bh')[1]"
   ]
  },
  {
   "cell_type": "code",
   "execution_count": 4,
   "metadata": {},
   "outputs": [],
   "source": [
    "one_v_one = 'mesc_neurogenesis/brie2/label_v_label/'\n",
    "\n",
    "chen_0v1 = pd.read_csv(one_v_one + 'ES2i_v_Epi/brie_quant_cell.brie_ident.tsv.gz', sep='\\t', index_col=0)\n",
    "chen_0v2 = pd.read_csv(one_v_one + 'ES2i_v_ES/brie_quant_cell.brie_ident.tsv.gz', sep='\\t', index_col=0)\n",
    "chen_0v3 = pd.read_csv(one_v_one + 'ES2i_v_MN/brie_quant_cell.brie_ident.tsv.gz', sep='\\t', index_col=0)\n",
    "\n",
    "chen_one_v_one = pd.DataFrame()\n",
    "chen_one_v_one['0v1'] = chen_0v1.neuro_ELBO_gain\n",
    "chen_one_v_one['0v2'] = chen_0v2.neuro_ELBO_gain\n",
    "chen_one_v_one['0v3'] = chen_0v3.neuro_ELBO_gain\n",
    "chen_ovo = chen_one_v_one.max(axis=1)"
   ]
  },
  {
   "cell_type": "code",
   "execution_count": 8,
   "metadata": {},
   "outputs": [],
   "source": [
    "tiklova_PSI = pd.read_csv('Mouse_Midbrain_Deveopment/data/preprocess/tables/psi_3D.tab.gz', sep='\\t', index_col=0)\n",
    "tiklova_meta = pd.read_csv('Mouse_Midbrain_Deveopment/data/SraRunTable.txt.gz', sep=',', index_col=0)\n",
    "tiklova_psix = pd.read_csv('Mouse_Midbrain_Deveopment/psix_3D/psix_results.tab.gz', sep='\\t', index_col=0)\n",
    "# tiklova_psix = pd.read_csv('Mouse_Midbrain_Deveopment/psix_3D/psix_results_solo.tab.gz', sep='\\t', index_col=0)\n",
    "\n",
    "e13 = tiklova_meta.index[tiklova_meta.Age == 'embryonic day 13.5'] & tiklova_PSI.columns\n",
    "e15 = tiklova_meta.index[tiklova_meta.Age == 'embryonic day 15.5'] & tiklova_PSI.columns\n",
    "e18 = tiklova_meta.index[tiklova_meta.Age == 'embryonic day 18.5'] & tiklova_PSI.columns\n",
    "p1 = tiklova_meta.index[tiklova_meta.Age == 'postnatal day 1'] & tiklova_PSI.columns\n",
    "p7 = tiklova_meta.index[tiklova_meta.Age == 'postnatal day 7'] & tiklova_PSI.columns\n",
    "p90 = tiklova_meta.index[tiklova_meta.Age == 'postnatal day 90'] & tiklova_PSI.columns\n",
    "\n",
    "tiklova_labels = [e13, e15, e18, p1, p7, p90]\n",
    "from scipy.stats import kruskal\n",
    "\n",
    "def run_kw(exon_psi, labels):\n",
    "    kw_input = []\n",
    "    for l in labels:\n",
    "        kw_input.append(list(exon_psi.loc[l]))\n",
    "        \n",
    "    if len(labels) == 2:\n",
    "        return kruskal(kw_input[0], kw_input[1], nan_policy='omit')\n",
    "    if len(labels) == 3:\n",
    "        return kruskal(kw_input[0], kw_input[1], kw_input[2], nan_policy='omit')\n",
    "    if len(labels) == 4:\n",
    "        return kruskal(kw_input[0], kw_input[1], kw_input[2], kw_input[3], nan_policy='omit')\n",
    "    if len(labels) == 5:\n",
    "        return kruskal(kw_input[0], kw_input[1], kw_input[2], kw_input[3], kw_input[4], nan_policy='omit')\n",
    "    if len(labels) == 6:\n",
    "        return kruskal(kw_input[0], kw_input[1], kw_input[2], kw_input[3], kw_input[4], kw_input[5], nan_policy='omit')\n",
    "    \n",
    "def run_kw_dset(psi_table, labels, exon_list):\n",
    "    kw_output = pd.DataFrame()\n",
    "    kw_score = []\n",
    "    pvals = []\n",
    "    for exon in exon_list:\n",
    "        score, p = run_kw(psi_table.loc[exon], labels)\n",
    "        kw_score.append(score)\n",
    "        pvals.append(p)\n",
    "    kw_output['KW_score'] = kw_score\n",
    "    kw_output['pvals'] = pvals\n",
    "    kw_output['qvals'] = multipletests(pvals, method='fdr_bh')[1]\n",
    "    kw_output.index = exon_list\n",
    "    return kw_output\n",
    "\n",
    "tiklova_kw = run_kw_dset(tiklova_PSI, tiklova_labels, tiklova_psix.index)\n",
    "\n",
    "tiklova_gearyc = pd.read_csv('Mouse_Midbrain_Deveopment/gearyc/gearyc.tab.gz', sep='\\t', index_col=0)\n",
    "tiklova_gearyc['qvals'] = multipletests(tiklova_gearyc.pvals, method='fdr_bh')[1]\n",
    "\n",
    "one_v_one = 'Mouse_Midbrain_Deveopment/brie2/'\n",
    "tiklova_0v1 = pd.read_csv(one_v_one + 'brie_output_E13_v_E15/brie_quant_cell.brie_ident.tsv', sep='\\t', index_col=0)\n",
    "tiklova_0v2 = pd.read_csv(one_v_one + 'brie_output_E13_v_E18/brie_quant_cell.brie_ident.tsv', sep='\\t', index_col=0)\n",
    "tiklova_0v3 = pd.read_csv(one_v_one + 'brie_output_E13_v_P1/brie_quant_cell.brie_ident.tsv', sep='\\t', index_col=0)\n",
    "tiklova_0v4 = pd.read_csv(one_v_one + 'brie_output_E13_v_P7/brie_quant_cell.brie_ident.tsv', sep='\\t', index_col=0)\n",
    "tiklova_0v5 = pd.read_csv(one_v_one + 'brie_output_E13_v_P90/brie_quant_cell.brie_ident.tsv', sep='\\t', index_col=0)\n",
    "\n",
    "tiklova_one_v_one = pd.DataFrame()\n",
    "tiklova_one_v_one['0v1'] = tiklova_0v1.neuro_ELBO_gain\n",
    "tiklova_one_v_one['0v2'] = tiklova_0v2.neuro_ELBO_gain\n",
    "tiklova_one_v_one['0v3'] = tiklova_0v3.neuro_ELBO_gain\n",
    "tiklova_one_v_one['0v4'] = tiklova_0v4.neuro_ELBO_gain\n",
    "tiklova_one_v_one['0v5'] = tiklova_0v5.neuro_ELBO_gain\n",
    "tiklova_ovo = tiklova_one_v_one.max(axis=1)"
   ]
  },
  {
   "cell_type": "code",
   "execution_count": 9,
   "metadata": {},
   "outputs": [],
   "source": [
    "song_PSI = pd.read_csv('ipsc_neurogenesis/data/preprocess/tables/psi.tab.gz', sep='\\t', index_col=0)\n",
    "song_meta = pd.read_csv('ipsc_neurogenesis/data/SraRunTable.txt.gz', sep='\\t', index_col=7)\n",
    "song_psix = pd.read_csv('ipsc_neurogenesis/psix_object/psix_results.tab.gz', sep='\\t', index_col=0)\n",
    "\n",
    "ipsc = song_meta.index[song_meta.cell_type_s == 'Skin fibroblast-derived induced pluripotent cells (iPSCs)'] & song_PSI.columns\n",
    "npc = song_meta.index[song_meta.cell_type_s == 'iPSC-derived neural progenitor cells'] & song_PSI.columns\n",
    "mn = song_meta.index[song_meta.cell_type_s == 'iPSC-derived motor neurons'] & song_PSI.columns\n",
    "\n",
    "song_labels = [ipsc, npc, mn]\n",
    "from scipy.stats import kruskal\n",
    "\n",
    "def run_kw(exon_psi, labels):\n",
    "    kw_input = []\n",
    "    for l in labels:\n",
    "        kw_input.append(list(exon_psi.loc[l]))\n",
    "        \n",
    "    if len(labels) == 2:\n",
    "        return kruskal(kw_input[0], kw_input[1], nan_policy='omit')\n",
    "    if len(labels) == 3:\n",
    "        return kruskal(kw_input[0], kw_input[1], kw_input[2], nan_policy='omit')\n",
    "    if len(labels) == 4:\n",
    "        return kruskal(kw_input[0], kw_input[1], kw_input[2], kw_input[3], nan_policy='omit')\n",
    "    if len(labels) == 5:\n",
    "        return kruskal(kw_input[0], kw_input[1], kw_input[2], kw_input[3], kw_input[4], nan_policy='omit')\n",
    "    if len(labels) == 6:\n",
    "        return kruskal(kw_input[0], kw_input[1], kw_input[2], kw_input[3], kw_input[4], kw_input[5], nan_policy='omit')\n",
    "    \n",
    "def run_kw_dset(psi_table, labels, exon_list):\n",
    "    kw_output = pd.DataFrame()\n",
    "    kw_score = []\n",
    "    pvals = []\n",
    "    for exon in exon_list:\n",
    "        score, p = run_kw(psi_table.loc[exon], labels)\n",
    "        kw_score.append(score)\n",
    "        pvals.append(p)\n",
    "    kw_output['KW_score'] = kw_score\n",
    "    kw_output['pvals'] = pvals\n",
    "    kw_output['qvals'] = multipletests(pvals, method='fdr_bh')[1]\n",
    "    kw_output.index = exon_list\n",
    "    return kw_output\n",
    "\n",
    "song_kw = run_kw_dset(song_PSI, song_labels, song_psix.index)\n",
    "\n",
    "song_gearyc = pd.read_csv('ipsc_neurogenesis/gearyc/gearyc.tab.gz', sep='\\t', index_col=0)\n",
    "song_gearyc['qvals'] = multipletests(song_gearyc.pvals, method='fdr_bh')[1]"
   ]
  },
  {
   "cell_type": "code",
   "execution_count": 10,
   "metadata": {},
   "outputs": [],
   "source": [
    "one_v_one = 'ipsc_neurogenesis/brie2/'\n",
    "\n",
    "song_0v1 = pd.read_csv(one_v_one + 'iPSC_v_NPC/brie_quant_cell.brie_ident.tsv.gz', sep='\\t', index_col=0)\n",
    "song_0v2 = pd.read_csv(one_v_one + 'iPSC_v_MN/brie_quant_cell.brie_ident.tsv.gz', sep='\\t', index_col=0)\n",
    "\n",
    "song_one_v_one = pd.DataFrame()\n",
    "song_one_v_one['0v1'] = song_0v1.neuro_ELBO_gain\n",
    "song_one_v_one['0v2'] = song_0v2.neuro_ELBO_gain\n",
    "song_ovo = song_one_v_one.max(axis=1)"
   ]
  },
  {
   "cell_type": "code",
   "execution_count": 11,
   "metadata": {},
   "outputs": [
    {
     "name": "stderr",
     "output_type": "stream",
     "text": [
      "100%|██████████| 200/200 [00:02<00:00, 75.61it/s]\n"
     ]
    },
    {
     "data": {
      "text/plain": [
       "Text(0.5, 1.0, 'Method comparison, Tiklova dataset')"
      ]
     },
     "execution_count": 11,
     "metadata": {},
     "output_type": "execute_result"
    },
    {
     "data": {
      "image/png": "[encoded data removed]",
      "text/plain": [
       "<Figure size 432x288 with 1 Axes>"
      ]
     },
     "metadata": {
      "needs_background": "light"
     },
     "output_type": "display_data"
    }
   ],
   "source": [
    "from sklearn.metrics import auc\n",
    "from sklearn.metrics import precision_recall_curve\n",
    "\n",
    "weyn_pos = weyn_fdr.index[(weyn_ds.max(axis=1) >= 0.2) & (weyn_fdr.min(axis=1) <= 0.05)]\n",
    "weyn_neg = weyn_fdr.index[(weyn_ds.max(axis=1) < 0.2) | (weyn_fdr.min(axis=1) > 0.05)]\n",
    "\n",
    "exons = tiklova_psix.index & tiklova_gearyc.index & tiklova_kw.index & tiklova_ovo.index\n",
    "exons_pos = weyn_pos & exons\n",
    "exons_neg = weyn_neg & exons\n",
    "\n",
    "\n",
    "kw_auc = []\n",
    "psix_auc = []\n",
    "gearyc_auc = []\n",
    "brie_auc = []\n",
    "\n",
    "for sample in tqdm(range(200)):\n",
    "    pos_choice = np.random.choice(exons_pos, np.int(0.5*len(exons_pos)), replace=False)\n",
    "    neg_choice = np.random.choice(exons_neg, np.int(0.5*len(exons_neg)), replace=False)\n",
    "    \n",
    "    y = [1]*len(pos_choice) + [0]*len(neg_choice)\n",
    "    c_y = list(tiklova_gearyc.loc[pos_choice].C_score) + list(tiklova_gearyc.loc[neg_choice].C_score)\n",
    "    pre, rec, thres = precision_recall_curve(y, c_y)\n",
    "    gearyc_auc.append(auc(rec, pre))\n",
    "\n",
    "    y = [1]*len(pos_choice) + [0]*len(neg_choice)\n",
    "    psix_y = list(tiklova_psix.loc[pos_choice].psix_score) + list(tiklova_psix.loc[neg_choice].psix_score)\n",
    "#     psix_y = list((tiklova_psix.loc[pos_choice].qvals <= 0.05).astype(int)) + list((tiklova_psix.loc[neg_choice].qvals <= 0.05).astype(int))\n",
    "    pre, rec, thres = precision_recall_curve(y, psix_y)\n",
    "    psix_auc.append(auc(rec, pre))\n",
    "    \n",
    "\n",
    "#     kw_y = list((tiklova_kw.loc[pos_choice].qvals <= 0.05).astype(int)) + list((tiklova_kw.loc[neg_choice].qvals <= 0.05).astype(int))\n",
    "#     kw_auc.append(precision_recall_curve(y, kw_y))\n",
    "    kw_y = list(tiklova_kw.loc[pos_choice].KW_score) + list(tiklova_kw.loc[neg_choice].KW_score)\n",
    "    pre, rec, thres = precision_recall_curve(y, kw_y)\n",
    "    kw_auc.append(auc(rec, pre))\n",
    "    \n",
    "\n",
    "#     r_y = list((tiklova_ovo.loc[[x for x in pos_choice if x in tiklova_ovo.index]]<=0.05).astype(int)) + list((tiklova_ovo.loc[[x for x in neg_choice if x in tiklova_ovo.index]]<=0.05).astype(int))\n",
    "    r_y = list(tiklova_ovo.loc[pos_choice]) + list(tiklova_ovo.loc[neg_choice])\n",
    "    pre, rec, thres = precision_recall_curve([1]*len([x for x in pos_choice if x in tiklova_ovo.index]) + [0]*len([x for x in neg_choice if x in tiklova_ovo.index]), r_y)\n",
    "    brie_auc.append(auc(rec, pre))\n",
    "    #####\n",
    "\n",
    "\n",
    "tiklova_boxplots = [ psix_auc, gearyc_auc, kw_auc, brie_auc]\n",
    "\n",
    "\n",
    "bp = plt.boxplot(tiklova_boxplots)\n",
    "\n",
    "\n",
    "plt.xticks(np.arange(1, 5), \n",
    "           ['Psix', \"Geary's C\", 'KW', 'Brie2'], fontsize=14, rotation=90)\n",
    "\n",
    "plt.ylabel('AUC pre-rec curve', fontsize=14)\n",
    "# plt.xlabel('Method', fontsize=14)\n",
    "plt.title('Method comparison, Tiklova dataset', fontsize=14)"
   ]
  },
  {
   "cell_type": "code",
   "execution_count": 12,
   "metadata": {},
   "outputs": [
    {
     "name": "stderr",
     "output_type": "stream",
     "text": [
      "100%|██████████| 200/200 [00:02<00:00, 81.41it/s]\n"
     ]
    },
    {
     "data": {
      "text/plain": [
       "Text(0.5, 1.0, 'Method comparison, chen dataset')"
      ]
     },
     "execution_count": 12,
     "metadata": {},
     "output_type": "execute_result"
    },
    {
     "data": {
      "image/png": "[encoded data removed]",
      "text/plain": [
       "<Figure size 432x288 with 1 Axes>"
      ]
     },
     "metadata": {
      "needs_background": "light"
     },
     "output_type": "display_data"
    }
   ],
   "source": [
    "from sklearn.metrics import auc\n",
    "from sklearn.metrics import precision_recall_curve\n",
    "\n",
    "hubbard_pos = hubbard_fdr.index[(hubbard_ds.max(axis=1) >= 0.2) & (hubbard_fdr.min(axis=1) <= 0.05)]\n",
    "hubbard_neg = hubbard_fdr.index[(hubbard_ds.max(axis=1) < 0.2) | (hubbard_fdr.min(axis=1) > 0.05)]\n",
    "\n",
    "exons = chen_psix.index & chen_gearyc.index & chen_kw.index & chen_ovo.index\n",
    "exons_pos = hubbard_pos & exons\n",
    "exons_neg = hubbard_neg & exons\n",
    "\n",
    "\n",
    "kw_auc = []\n",
    "psix_auc = []\n",
    "gearyc_auc = []\n",
    "brie_auc = []\n",
    "\n",
    "for sample in tqdm(range(200)):\n",
    "    pos_choice = np.random.choice(exons_pos, np.int(0.5*len(exons_pos)), replace=False)\n",
    "    neg_choice = np.random.choice(exons_neg, np.int(0.5*len(exons_neg)), replace=False)\n",
    "    \n",
    "    y = [1]*len(pos_choice) + [0]*len(neg_choice)\n",
    "    c_y = list(chen_gearyc.loc[pos_choice].C_score) + list(chen_gearyc.loc[neg_choice].C_score)\n",
    "    pre, rec, thres = precision_recall_curve(y, c_y)\n",
    "    gearyc_auc.append(auc(rec, pre))\n",
    "\n",
    "    y = [1]*len(pos_choice) + [0]*len(neg_choice)\n",
    "    psix_y = list(chen_psix.loc[pos_choice].psix_score) + list(chen_psix.loc[neg_choice].psix_score)\n",
    "#     psix_y = list((chen_psix.loc[pos_choice].qvals <= 0.05).astype(int)) + list((chen_psix.loc[neg_choice].qvals <= 0.05).astype(int))\n",
    "    pre, rec, thres = precision_recall_curve(y, psix_y)\n",
    "    psix_auc.append(auc(rec, pre))\n",
    "    \n",
    "\n",
    "#     kw_y = list((chen_kw.loc[pos_choice].qvals <= 0.05).astype(int)) + list((chen_kw.loc[neg_choice].qvals <= 0.05).astype(int))\n",
    "#     kw_auc.append(precision_recall_curve(y, kw_y))\n",
    "    kw_y = list(chen_kw.loc[pos_choice].KW_score) + list(chen_kw.loc[neg_choice].KW_score)\n",
    "    pre, rec, thres = precision_recall_curve(y, kw_y)\n",
    "    kw_auc.append(auc(rec, pre))\n",
    "    \n",
    "\n",
    "#     r_y = list((chen_ovo.loc[[x for x in pos_choice if x in chen_ovo.index]]<=0.05).astype(int)) + list((chen_ovo.loc[[x for x in neg_choice if x in chen_ovo.index]]<=0.05).astype(int))\n",
    "    r_y = list(chen_ovo.loc[pos_choice]) + list(chen_ovo.loc[neg_choice])\n",
    "    pre, rec, thres = precision_recall_curve([1]*len([x for x in pos_choice if x in chen_ovo.index]) + [0]*len([x for x in neg_choice if x in chen_ovo.index]), r_y)\n",
    "    brie_auc.append(auc(rec, pre))\n",
    "    #####\n",
    "\n",
    "\n",
    "chen_boxplots = [ psix_auc, gearyc_auc, kw_auc, brie_auc]\n",
    "\n",
    "\n",
    "bp = plt.boxplot(chen_boxplots)\n",
    "\n",
    "\n",
    "plt.xticks(np.arange(1, 5), \n",
    "           ['Psix', \"Geary's C\", 'KW', 'Brie2'], fontsize=14, rotation=90)\n",
    "\n",
    "plt.ylabel('AUC pre-rec curve', fontsize=14)\n",
    "# plt.xlabel('Method', fontsize=14)\n",
    "plt.title('Method comparison, chen dataset', fontsize=14)"
   ]
  },
  {
   "cell_type": "code",
   "execution_count": 13,
   "metadata": {},
   "outputs": [
    {
     "name": "stderr",
     "output_type": "stream",
     "text": [
      "100%|██████████| 200/200 [00:02<00:00, 80.82it/s]\n"
     ]
    },
    {
     "data": {
      "text/plain": [
       "Text(0.5, 1.0, 'Method comparison, song dataset')"
      ]
     },
     "execution_count": 13,
     "metadata": {},
     "output_type": "execute_result"
    },
    {
     "data": {
      "image/png": "[encoded data removed]",
      "text/plain": [
       "<Figure size 432x288 with 1 Axes>"
      ]
     },
     "metadata": {
      "needs_background": "light"
     },
     "output_type": "display_data"
    }
   ],
   "source": [
    "from sklearn.metrics import auc\n",
    "from sklearn.metrics import precision_recall_curve\n",
    "\n",
    "# song_psix = pd.read_csv('~/sc_splicing_regulation/psix_runs/song.scores.txt', sep='\\t', index_col=0)\n",
    "# song_psix['psix_score'] = song_psix.L_score\n",
    "\n",
    "song_bulk_pos = song_bulk_fdr.index[(song_bulk_ds.max(axis=1) >= 0.2) & (song_bulk_fdr.min(axis=1) <= 0.01)]\n",
    "song_bulk_neg = song_bulk_fdr.index[(song_bulk_ds.max(axis=1) < 0.2) | (song_bulk_fdr.min(axis=1) > 0.01)]\n",
    "\n",
    "exons = song_psix.index & song_gearyc.index & song_kw.index & song_ovo.index\n",
    "exons_pos = song_bulk_pos & exons\n",
    "exons_neg = song_bulk_neg & exons\n",
    "\n",
    "\n",
    "kw_auc = []\n",
    "psix_auc = []\n",
    "gearyc_auc = []\n",
    "brie_auc = []\n",
    "\n",
    "for sample in tqdm(range(200)):\n",
    "    pos_choice = np.random.choice(exons_pos, np.int(0.5*len(exons_pos)), replace=False)\n",
    "    neg_choice = np.random.choice(exons_neg, np.int(0.5*len(exons_neg)), replace=False)\n",
    "    \n",
    "    y = [1]*len(pos_choice) + [0]*len(neg_choice)\n",
    "    c_y = list(song_gearyc.loc[pos_choice].C_score) + list(song_gearyc.loc[neg_choice].C_score)\n",
    "    pre, rec, thres = precision_recall_curve(y, c_y)\n",
    "    gearyc_auc.append(auc(rec, pre))\n",
    "\n",
    "    y = [1]*len(pos_choice) + [0]*len(neg_choice)\n",
    "    psix_y = list(song_psix.loc[pos_choice].psix_score) + list(song_psix.loc[neg_choice].psix_score)\n",
    "#     psix_y = list((song_psix.loc[pos_choice].qvals <= 0.05).astype(int)) + list((song_psix.loc[neg_choice].qvals <= 0.05).astype(int))\n",
    "    pre, rec, thres = precision_recall_curve(y, psix_y)\n",
    "    psix_auc.append(auc(rec, pre))\n",
    "    \n",
    "\n",
    "#     kw_y = list((song_kw.loc[pos_choice].qvals <= 0.05).astype(int)) + list((song_kw.loc[neg_choice].qvals <= 0.05).astype(int))\n",
    "#     kw_auc.append(precision_recall_curve(y, kw_y))\n",
    "    kw_y = list(song_kw.loc[pos_choice].KW_score) + list(song_kw.loc[neg_choice].KW_score)\n",
    "    pre, rec, thres = precision_recall_curve(y, kw_y)\n",
    "    kw_auc.append(auc(rec, pre))\n",
    "    \n",
    "\n",
    "#     r_y = list((song_ovo.loc[[x for x in pos_choice if x in song_ovo.index]]<=0.05).astype(int)) + list((song_ovo.loc[[x for x in neg_choice if x in song_ovo.index]]<=0.05).astype(int))\n",
    "    r_y = list(song_ovo.loc[pos_choice]) + list(song_ovo.loc[neg_choice])\n",
    "    pre, rec, thres = precision_recall_curve([1]*len([x for x in pos_choice if x in song_ovo.index]) + [0]*len([x for x in neg_choice if x in song_ovo.index]), r_y)\n",
    "    brie_auc.append(auc(rec, pre))\n",
    "    #####\n",
    "\n",
    "\n",
    "song_boxplots = [ psix_auc, gearyc_auc, kw_auc, brie_auc]\n",
    "\n",
    "\n",
    "bp = plt.boxplot(song_boxplots)\n",
    "\n",
    "\n",
    "plt.xticks(np.arange(1, 5), \n",
    "           ['Psix', \"Geary's C\", 'KW', 'Brie2'], fontsize=14, rotation=90)\n",
    "\n",
    "plt.ylabel('AUC pre-rec curve', fontsize=14)\n",
    "# plt.xlabel('Method', fontsize=14)\n",
    "plt.title('Method comparison, song dataset', fontsize=14)"
   ]
  },
  {
   "cell_type": "code",
   "execution_count": 14,
   "metadata": {},
   "outputs": [
    {
     "name": "stderr",
     "output_type": "stream",
     "text": [
      "/mnt/lareaulab/cfbuenabadn/anaconda3/lib/python3.7/site-packages/ipykernel_launcher.py:52: UserWarning: Attempting to set identical left == right == 0 results in singular transformations; automatically expanding.\n"
     ]
    },
    {
     "data": {
      "image/png": "[encoded data removed]",
      "text/plain": [
       "<Figure size 240x120 with 2 Axes>"
      ]
     },
     "metadata": {
      "needs_background": "light"
     },
     "output_type": "display_data"
    }
   ],
   "source": [
    "from matplotlib.gridspec import GridSpec\n",
    "\n",
    "fig = plt.figure(figsize=(8/2.4, 4/2.4))\n",
    "gs = GridSpec(1,7)\n",
    "gs.update(wspace=0.05, hspace=0.10)\n",
    "ax = fig.add_subplot(gs[0,0:4])\n",
    "ax_2 = fig.add_subplot(gs[0,4:7])# option 1, specify props dictionaries\n",
    "\n",
    "ax.boxplot([tiklova_boxplots[0], chen_boxplots[0], song_boxplots[0]], positions=[1,5,9], notch=True, patch_artist=True,\n",
    "            boxprops=dict(facecolor='skyblue', color='navy'),\n",
    "            capprops=dict(color='black'),\n",
    "            whiskerprops=dict(color='black'),\n",
    "            flierprops=dict(color='black', markeredgecolor='black'),\n",
    "            medianprops=dict(color='navy'), showfliers=False\n",
    "            )\n",
    "\n",
    "ax.boxplot([tiklova_boxplots[2], chen_boxplots[2], song_boxplots[2]], positions=[2.5,6.5,10.5], notch=True, patch_artist=True,\n",
    "            boxprops=dict(facecolor='darkorange', color='darkred'),\n",
    "            capprops=dict(color='black'),\n",
    "            whiskerprops=dict(color='black'),\n",
    "            flierprops=dict(color='black', markeredgecolor='black'),\n",
    "            medianprops=dict(color='darkred'), showfliers=False\n",
    "            )\n",
    "\n",
    "ax.boxplot([tiklova_boxplots[1], chen_boxplots[1], song_boxplots[1]], positions=[1.75,5.75,9.75], notch=True, patch_artist=True,\n",
    "            boxprops=dict(facecolor='limegreen', color='darkgreen'),\n",
    "            capprops=dict(color='black'),\n",
    "            whiskerprops=dict(color='black'),\n",
    "            flierprops=dict(color='black', markeredgecolor='black'),\n",
    "            medianprops=dict(color='darkgreen'), showfliers=False\n",
    "            )\n",
    "\n",
    "ax.boxplot([tiklova_boxplots[3], chen_boxplots[3], song_boxplots[3]], positions=[3.25,7.25,11.25], notch=True, patch_artist=True,\n",
    "            boxprops=dict(facecolor='gold', color='darkgoldenrod'),\n",
    "            capprops=dict(color='black'),\n",
    "            whiskerprops=dict(color='black'),\n",
    "            flierprops=dict(color='black', markeredgecolor='black'),\n",
    "            medianprops=dict(color='darkgoldenrod'), showfliers=False\n",
    "            )\n",
    "\n",
    "ax.set_xticks([2.125, 6.125, 10.125])\n",
    "ax.set_xticklabels(['Tiklova', 'Chen', 'Song'], size=8, rotation=90)\n",
    "# ax.set_xlabel('Capture efficiency', size=18)\n",
    "\n",
    "ax.set_yticks([0.3, 0.4, 0.5, 0.6, 0.7])\n",
    "ax.set_yticklabels(['0.3', '0.4', '0.5', '0.6', '0.7'], size=8)\n",
    "ax.set_ylabel('Precision-recall AUC', size=8)\n",
    "\n",
    "ax.spines[\"right\"].set_visible(False)\n",
    "ax.spines[\"top\"].set_visible(False)\n",
    "\n",
    "ax_2.set_xlim([0, 0])\n",
    "\n",
    "ax_2.hist([-1, -1], color='skyblue', label='Psix')\n",
    "ax_2.hist([-1, -1], color='limegreen', label=\"Geary's C\")\n",
    "ax_2.hist([-1, -1], color='darkorange', label='Kruskal-Wallis')\n",
    "\n",
    "ax_2.hist([-1, -1], color='gold', label=\"Brie2\")\n",
    "\n",
    "ax_2.spines[\"bottom\"].set_visible(False)\n",
    "ax_2.spines[\"top\"].set_visible(False)\n",
    "ax_2.spines[\"right\"].set_visible(False)\n",
    "ax_2.spines[\"left\"].set_visible(False)\n",
    "\n",
    "ax_2.tick_params(\n",
    "    axis='both',          # changes apply to the x-axis\n",
    "    which='both',      # both major and minor ticks are affected\n",
    "    bottom=False,      # ticks along the bottom edge are off\n",
    "    top=False,  \n",
    "    right=False,\n",
    "    left=False, # ticks along the top edge are off\n",
    "    labelleft=False,\n",
    "    labelbottom=False)\n",
    "\n",
    "ax_2.legend(frameon=False, fontsize=8)\n",
    "plt.savefig('simulations/plots/tools_data_auc.png', bbox_inches='tight', res=20000, dpi =2000)"
   ]
  },
  {
   "cell_type": "code",
   "execution_count": 15,
   "metadata": {},
   "outputs": [
    {
     "data": {
      "image/png": "[encoded data removed]",
      "text/plain": [
       "<Figure size 180x120 with 1 Axes>"
      ]
     },
     "metadata": {
      "needs_background": "light"
     },
     "output_type": "display_data"
    }
   ],
   "source": [
    "from matplotlib.gridspec import GridSpec\n",
    "\n",
    "fig = plt.figure(figsize=(6/2.4, 4/2.4))\n",
    "ax = fig.add_subplot(111)\n",
    "\n",
    "ax.boxplot([tiklova_boxplots[0], chen_boxplots[0], song_boxplots[0]], positions=[1,5,9], notch=True, patch_artist=True,\n",
    "            boxprops=dict(facecolor='skyblue', color='navy'),\n",
    "            capprops=dict(color='black'),\n",
    "            whiskerprops=dict(color='black'),\n",
    "            flierprops=dict(color='black', markeredgecolor='black'),\n",
    "            medianprops=dict(color='navy'), showfliers=False\n",
    "            )\n",
    "\n",
    "ax.boxplot([tiklova_boxplots[2], chen_boxplots[2], song_boxplots[2]], positions=[2.5,6.5,10.5], notch=True, patch_artist=True,\n",
    "            boxprops=dict(facecolor='darkorange', color='darkred'),\n",
    "            capprops=dict(color='black'),\n",
    "            whiskerprops=dict(color='black'),\n",
    "            flierprops=dict(color='black', markeredgecolor='black'),\n",
    "            medianprops=dict(color='darkred'), showfliers=False\n",
    "            )\n",
    "\n",
    "ax.boxplot([tiklova_boxplots[1], chen_boxplots[1], song_boxplots[1]], positions=[1.75,5.75,9.75], notch=True, patch_artist=True,\n",
    "            boxprops=dict(facecolor='limegreen', color='darkgreen'),\n",
    "            capprops=dict(color='black'),\n",
    "            whiskerprops=dict(color='black'),\n",
    "            flierprops=dict(color='black', markeredgecolor='black'),\n",
    "            medianprops=dict(color='darkgreen'), showfliers=False\n",
    "            )\n",
    "\n",
    "ax.boxplot([tiklova_boxplots[3], chen_boxplots[3], song_boxplots[3]], positions=[3.25,7.25,11.25], notch=True, patch_artist=True,\n",
    "            boxprops=dict(facecolor='gold', color='darkgoldenrod'),\n",
    "            capprops=dict(color='black'),\n",
    "            whiskerprops=dict(color='black'),\n",
    "            flierprops=dict(color='black', markeredgecolor='black'),\n",
    "            medianprops=dict(color='darkgoldenrod'), showfliers=False\n",
    "            )\n",
    "\n",
    "ax.set_xticks([2.125, 6.125, 10.125])\n",
    "ax.set_xticklabels(['Tiklova', 'Chen', 'Song'], size=8, rotation=0)\n",
    "ax.set_xlabel('scRNA-seq dataset', size=8)\n",
    "\n",
    "ax.set_yticks([0.3, 0.4, 0.5, 0.6, 0.7])\n",
    "ax.set_yticklabels(['0.3', '0.4', '0.5', '0.6', '0.7'], size=8)\n",
    "ax.set_ylabel('Precision-recall AUC', size=8)\n",
    "\n",
    "ax.spines[\"right\"].set_visible(False)\n",
    "ax.spines[\"top\"].set_visible(False)\n",
    "\n",
    "plt.savefig('simulations/plots/scrnaseq_data_auc.png', bbox_inches='tight', res=20000, dpi =2000)"
   ]
  },
  {
   "cell_type": "code",
   "execution_count": 12,
   "metadata": {},
   "outputs": [
    {
     "data": {
      "text/html": [
       "<div>\n",
       "<style scoped>\n",
       "    .dataframe tbody tr th:only-of-type {\n",
       "        vertical-align: middle;\n",
       "    }\n",
       "\n",
       "    .dataframe tbody tr th {\n",
       "        vertical-align: top;\n",
       "    }\n",
       "\n",
       "    .dataframe thead th {\n",
       "        text-align: right;\n",
       "    }\n",
       "</style>\n",
       "<table border=\"1\" class=\"dataframe\">\n",
       "  <thead>\n",
       "    <tr style=\"text-align: right;\">\n",
       "      <th></th>\n",
       "      <th>C_score</th>\n",
       "      <th>pvals</th>\n",
       "      <th>qvals</th>\n",
       "    </tr>\n",
       "  </thead>\n",
       "  <tbody>\n",
       "    <tr>\n",
       "      <th>Aamdc_9</th>\n",
       "      <td>0.000890</td>\n",
       "      <td>0.967016</td>\n",
       "      <td>1.000000</td>\n",
       "    </tr>\n",
       "    <tr>\n",
       "      <th>Aamdc_10</th>\n",
       "      <td>0.092443</td>\n",
       "      <td>0.012494</td>\n",
       "      <td>0.029630</td>\n",
       "    </tr>\n",
       "    <tr>\n",
       "      <th>Aasdhppt_2</th>\n",
       "      <td>0.191759</td>\n",
       "      <td>0.000500</td>\n",
       "      <td>0.001635</td>\n",
       "    </tr>\n",
       "    <tr>\n",
       "      <th>Abat_3</th>\n",
       "      <td>0.436261</td>\n",
       "      <td>0.000500</td>\n",
       "      <td>0.001635</td>\n",
       "    </tr>\n",
       "    <tr>\n",
       "      <th>Abca3_4</th>\n",
       "      <td>0.014965</td>\n",
       "      <td>0.423788</td>\n",
       "      <td>0.633104</td>\n",
       "    </tr>\n",
       "    <tr>\n",
       "      <th>...</th>\n",
       "      <td>...</td>\n",
       "      <td>...</td>\n",
       "      <td>...</td>\n",
       "    </tr>\n",
       "    <tr>\n",
       "      <th>Zscan18_1</th>\n",
       "      <td>-0.035316</td>\n",
       "      <td>1.000000</td>\n",
       "      <td>1.000000</td>\n",
       "    </tr>\n",
       "    <tr>\n",
       "      <th>Zyx_1</th>\n",
       "      <td>0.017033</td>\n",
       "      <td>0.161919</td>\n",
       "      <td>0.278816</td>\n",
       "    </tr>\n",
       "    <tr>\n",
       "      <th>l7Rn6_1</th>\n",
       "      <td>0.089549</td>\n",
       "      <td>0.000500</td>\n",
       "      <td>0.001635</td>\n",
       "    </tr>\n",
       "    <tr>\n",
       "      <th>l7Rn6_3</th>\n",
       "      <td>-0.041635</td>\n",
       "      <td>1.000000</td>\n",
       "      <td>1.000000</td>\n",
       "    </tr>\n",
       "    <tr>\n",
       "      <th>l7Rn6_nmdSE_1</th>\n",
       "      <td>0.007635</td>\n",
       "      <td>0.780610</td>\n",
       "      <td>1.000000</td>\n",
       "    </tr>\n",
       "  </tbody>\n",
       "</table>\n",
       "<p>2087 rows × 3 columns</p>\n",
       "</div>"
      ],
      "text/plain": [
       "                C_score     pvals     qvals\n",
       "Aamdc_9        0.000890  0.967016  1.000000\n",
       "Aamdc_10       0.092443  0.012494  0.029630\n",
       "Aasdhppt_2     0.191759  0.000500  0.001635\n",
       "Abat_3         0.436261  0.000500  0.001635\n",
       "Abca3_4        0.014965  0.423788  0.633104\n",
       "...                 ...       ...       ...\n",
       "Zscan18_1     -0.035316  1.000000  1.000000\n",
       "Zyx_1          0.017033  0.161919  0.278816\n",
       "l7Rn6_1        0.089549  0.000500  0.001635\n",
       "l7Rn6_3       -0.041635  1.000000  1.000000\n",
       "l7Rn6_nmdSE_1  0.007635  0.780610  1.000000\n",
       "\n",
       "[2087 rows x 3 columns]"
      ]
     },
     "execution_count": 12,
     "metadata": {},
     "output_type": "execute_result"
    }
   ],
   "source": [
    "tiklova_gearyc"
   ]
  },
  {
   "cell_type": "code",
   "execution_count": 13,
   "metadata": {},
   "outputs": [],
   "source": [
    "weyn_pos = weyn_fdr.index[(weyn_ds.max(axis=1) >= 0.2) & (weyn_fdr.min(axis=1) <= 0.05)]\n",
    "weyn_neg = weyn_fdr.index[(weyn_ds.max(axis=1) < 0.2) | (weyn_fdr.min(axis=1) > 0.05)]\n",
    "\n",
    "exons = tiklova_psix.index & tiklova_gearyc.index & tiklova_kw.index & tiklova_ovo.index\n",
    "exons_pos = weyn_pos & exons\n",
    "exons_neg = weyn_neg & exons\n"
   ]
  },
  {
   "cell_type": "code",
   "execution_count": 14,
   "metadata": {},
   "outputs": [
    {
     "data": {
      "text/plain": [
       "Index(['Ppfia2_5', 'Lin7a_1', 'Lin7a_2', 'Syt1_3', 'Thap2_1', 'Cnot2_32',\n",
       "       'Cpsf6_nmdSE_1', 'Cpsf6_5', 'Mdm2_2', 'Mdm2_3',\n",
       "       ...\n",
       "       'Fhl1_2', 'Fgf13_1', 'Taz_3', 'Dkc1_4', 'Wdr45_4', 'Wdr45_6', 'Tbl1x_1',\n",
       "       'Tfe3_1', 'Gripap1_5', 'Rbm3_nmdSE_1'],\n",
       "      dtype='object', length=1141)"
      ]
     },
     "execution_count": 14,
     "metadata": {},
     "output_type": "execute_result"
    }
   ],
   "source": [
    "exons_neg"
   ]
  },
  {
   "cell_type": "code",
   "execution_count": 15,
   "metadata": {},
   "outputs": [
    {
     "data": {
      "text/plain": [
       "Index(['Syt1_3', 'Mdm2_3', 'Sobp_8', 'Dip2a_1', 'Pcbp3_6', 'Izumo4_2',\n",
       "       'Gpatch8_2', 'Gosr2_1', 'Cyb561_3', 'Atp5h_4',\n",
       "       ...\n",
       "       'Nme6_11', 'Chordc1_1', 'Zfp846_nmdSE_1', 'Lrrc49_3', 'Tcf12_7',\n",
       "       'Zmym3_7', 'Atrx_10', 'Usp9x_4', 'Armcx1_1', 'Gria3_nmdSE_1'],\n",
       "      dtype='object', length=141)"
      ]
     },
     "execution_count": 15,
     "metadata": {},
     "output_type": "execute_result"
    }
   ],
   "source": [
    "exons_neg[tiklova_psix.loc[exons_neg].qvals >= 0.25] & exons_neg[tiklova_kw.loc[exons_neg].qvals <= 0.05]"
   ]
  },
  {
   "cell_type": "code",
   "execution_count": 16,
   "metadata": {},
   "outputs": [],
   "source": [
    "aver = exons_pos[tiklova_psix.loc[exons_pos].qvals <=0.05] & exons_pos[tiklova_kw.loc[exons_pos].qvals >= 0.05]"
   ]
  },
  {
   "cell_type": "code",
   "execution_count": 17,
   "metadata": {},
   "outputs": [
    {
     "data": {
      "text/html": [
       "<div>\n",
       "<style scoped>\n",
       "    .dataframe tbody tr th:only-of-type {\n",
       "        vertical-align: middle;\n",
       "    }\n",
       "\n",
       "    .dataframe tbody tr th {\n",
       "        vertical-align: top;\n",
       "    }\n",
       "\n",
       "    .dataframe thead th {\n",
       "        text-align: right;\n",
       "    }\n",
       "</style>\n",
       "<table border=\"1\" class=\"dataframe\">\n",
       "  <thead>\n",
       "    <tr style=\"text-align: right;\">\n",
       "      <th></th>\n",
       "      <th>psix_score</th>\n",
       "      <th>pvals</th>\n",
       "      <th>qvals</th>\n",
       "    </tr>\n",
       "  </thead>\n",
       "  <tbody>\n",
       "    <tr>\n",
       "      <th>Hp1bp3_2</th>\n",
       "      <td>0.016095</td>\n",
       "      <td>0.015992</td>\n",
       "      <td>0.042194</td>\n",
       "    </tr>\n",
       "    <tr>\n",
       "      <th>Mapk8ip3_4</th>\n",
       "      <td>0.016719</td>\n",
       "      <td>0.015992</td>\n",
       "      <td>0.042194</td>\n",
       "    </tr>\n",
       "    <tr>\n",
       "      <th>Stx3_5</th>\n",
       "      <td>0.017425</td>\n",
       "      <td>0.010995</td>\n",
       "      <td>0.030594</td>\n",
       "    </tr>\n",
       "    <tr>\n",
       "      <th>Pgs1_3</th>\n",
       "      <td>0.017631</td>\n",
       "      <td>0.010995</td>\n",
       "      <td>0.030594</td>\n",
       "    </tr>\n",
       "    <tr>\n",
       "      <th>Inip_1</th>\n",
       "      <td>0.024750</td>\n",
       "      <td>0.003998</td>\n",
       "      <td>0.014023</td>\n",
       "    </tr>\n",
       "    <tr>\n",
       "      <th>Apeh_4</th>\n",
       "      <td>0.028108</td>\n",
       "      <td>0.006497</td>\n",
       "      <td>0.019622</td>\n",
       "    </tr>\n",
       "    <tr>\n",
       "      <th>Ctage5_8</th>\n",
       "      <td>0.028222</td>\n",
       "      <td>0.003998</td>\n",
       "      <td>0.014023</td>\n",
       "    </tr>\n",
       "    <tr>\n",
       "      <th>Gtf2ird1_5</th>\n",
       "      <td>0.029533</td>\n",
       "      <td>0.005997</td>\n",
       "      <td>0.019622</td>\n",
       "    </tr>\n",
       "    <tr>\n",
       "      <th>Cdc7_4</th>\n",
       "      <td>0.033703</td>\n",
       "      <td>0.016992</td>\n",
       "      <td>0.044493</td>\n",
       "    </tr>\n",
       "    <tr>\n",
       "      <th>Bcas3_5</th>\n",
       "      <td>0.033771</td>\n",
       "      <td>0.016992</td>\n",
       "      <td>0.044493</td>\n",
       "    </tr>\n",
       "    <tr>\n",
       "      <th>Epb41l1_3</th>\n",
       "      <td>0.035501</td>\n",
       "      <td>0.000500</td>\n",
       "      <td>0.001879</td>\n",
       "    </tr>\n",
       "    <tr>\n",
       "      <th>Eef2k_5</th>\n",
       "      <td>0.036054</td>\n",
       "      <td>0.000500</td>\n",
       "      <td>0.001879</td>\n",
       "    </tr>\n",
       "    <tr>\n",
       "      <th>Odf2_4</th>\n",
       "      <td>0.039769</td>\n",
       "      <td>0.000500</td>\n",
       "      <td>0.001879</td>\n",
       "    </tr>\n",
       "    <tr>\n",
       "      <th>Prpf40a_6</th>\n",
       "      <td>0.048540</td>\n",
       "      <td>0.000500</td>\n",
       "      <td>0.001879</td>\n",
       "    </tr>\n",
       "    <tr>\n",
       "      <th>Sh2b1_2</th>\n",
       "      <td>0.050272</td>\n",
       "      <td>0.000500</td>\n",
       "      <td>0.001879</td>\n",
       "    </tr>\n",
       "    <tr>\n",
       "      <th>Rap1gds1_1</th>\n",
       "      <td>0.054124</td>\n",
       "      <td>0.006497</td>\n",
       "      <td>0.019622</td>\n",
       "    </tr>\n",
       "    <tr>\n",
       "      <th>Grin1_2</th>\n",
       "      <td>0.063720</td>\n",
       "      <td>0.000500</td>\n",
       "      <td>0.001879</td>\n",
       "    </tr>\n",
       "    <tr>\n",
       "      <th>Stx3_nmdSE_1</th>\n",
       "      <td>0.077114</td>\n",
       "      <td>0.006497</td>\n",
       "      <td>0.019622</td>\n",
       "    </tr>\n",
       "    <tr>\n",
       "      <th>Zdbf2_1</th>\n",
       "      <td>0.082224</td>\n",
       "      <td>0.000500</td>\n",
       "      <td>0.001879</td>\n",
       "    </tr>\n",
       "    <tr>\n",
       "      <th>Zdbf2_3</th>\n",
       "      <td>0.084957</td>\n",
       "      <td>0.000500</td>\n",
       "      <td>0.001879</td>\n",
       "    </tr>\n",
       "    <tr>\n",
       "      <th>Acot8_1</th>\n",
       "      <td>0.114041</td>\n",
       "      <td>0.000500</td>\n",
       "      <td>0.001879</td>\n",
       "    </tr>\n",
       "    <tr>\n",
       "      <th>Gria2_2</th>\n",
       "      <td>0.151098</td>\n",
       "      <td>0.000500</td>\n",
       "      <td>0.001879</td>\n",
       "    </tr>\n",
       "  </tbody>\n",
       "</table>\n",
       "</div>"
      ],
      "text/plain": [
       "              psix_score     pvals     qvals\n",
       "Hp1bp3_2        0.016095  0.015992  0.042194\n",
       "Mapk8ip3_4      0.016719  0.015992  0.042194\n",
       "Stx3_5          0.017425  0.010995  0.030594\n",
       "Pgs1_3          0.017631  0.010995  0.030594\n",
       "Inip_1          0.024750  0.003998  0.014023\n",
       "Apeh_4          0.028108  0.006497  0.019622\n",
       "Ctage5_8        0.028222  0.003998  0.014023\n",
       "Gtf2ird1_5      0.029533  0.005997  0.019622\n",
       "Cdc7_4          0.033703  0.016992  0.044493\n",
       "Bcas3_5         0.033771  0.016992  0.044493\n",
       "Epb41l1_3       0.035501  0.000500  0.001879\n",
       "Eef2k_5         0.036054  0.000500  0.001879\n",
       "Odf2_4          0.039769  0.000500  0.001879\n",
       "Prpf40a_6       0.048540  0.000500  0.001879\n",
       "Sh2b1_2         0.050272  0.000500  0.001879\n",
       "Rap1gds1_1      0.054124  0.006497  0.019622\n",
       "Grin1_2         0.063720  0.000500  0.001879\n",
       "Stx3_nmdSE_1    0.077114  0.006497  0.019622\n",
       "Zdbf2_1         0.082224  0.000500  0.001879\n",
       "Zdbf2_3         0.084957  0.000500  0.001879\n",
       "Acot8_1         0.114041  0.000500  0.001879\n",
       "Gria2_2         0.151098  0.000500  0.001879"
      ]
     },
     "execution_count": 17,
     "metadata": {},
     "output_type": "execute_result"
    }
   ],
   "source": [
    "tiklova_psix.loc[aver].sort_values('psix_score')"
   ]
  },
  {
   "cell_type": "code",
   "execution_count": null,
   "metadata": {},
   "outputs": [],
   "source": []
  },
  {
   "cell_type": "code",
   "execution_count": null,
   "metadata": {},
   "outputs": [],
   "source": []
  },
  {
   "cell_type": "code",
   "execution_count": 61,
   "metadata": {},
   "outputs": [
    {
     "data": {
      "image/png": "[encoded data removed]",
      "text/plain": [
       "<Figure size 75x60 with 1 Axes>"
      ]
     },
     "metadata": {},
     "output_type": "display_data"
    }
   ],
   "source": [
    "times = ['E14', 'E16', 'P0', 'P4', 'P7', 'P15', 'P30', 'P110', 'M21']\n",
    "mean_ = []\n",
    "for t in times:\n",
    "    mean_.append(weyn_psi.loc['Mapt_1', [t+'_rep1', t+'_rep2']].mean())\n",
    "fig = plt.figure(figsize=(2.5/2.4, 2/2.4))\n",
    "\n",
    "ax = fig.add_subplot(111)\n",
    "\n",
    "ax.scatter([0, 0, 1, 1, 2, 2, 3, 3, 4, 4, 5, 5, 6, 6, 7, 7, 8, 8],\n",
    "            weyn_psi.loc['Mapt_1'], facecolors='none', edgecolors='navy', s=20, linewidth=1)\n",
    "ax.plot([0, 1, 2, 3, 4, 5, 6, 7, 8], mean_, c='navy', linewidth=1.5)\n",
    "ax.set_ylim((-0.15, 1.15))\n",
    "ax.set_xlim((-1.5, 9))\n",
    "\n",
    "\n",
    "# ax.set_xticks([0, 0.25, 0.5, 0.75, 1])\n",
    "# ax.set_xticklabels(['0.0', '0.25', '0.5', '0.75', '1.0'], size=18)\n",
    "ax.set_xlabel('Time points', size=8)\n",
    "\n",
    "# ax.set_yticks([0, 0.25, 0.5, 0.75, 1])\n",
    "# ax.set_yticklabels(['0.0', '0.25', '0.5', '0.75', '1.0'], size=8)\n",
    "ax.set_ylabel('Bulk $\\hat{\\Psi}$', size=8)\n",
    "\n",
    "ax.spines[\"right\"].set_visible(False)\n",
    "ax.spines[\"top\"].set_visible(False)\n",
    "ax.set_title('Mapt, exon 10', size=8)\n",
    "\n",
    "plt.tick_params(\n",
    "    axis='both',          # changes apply to the x-axis\n",
    "    which='both',      # both major and minor ticks are affected\n",
    "    bottom=False,\n",
    "    left = False,\n",
    "    right = False, # ticks along the bottom edge are off\n",
    "    top=False,         # ticks along the top edge are off\n",
    "    labelbottom=False,\n",
    "labelleft=False)\n",
    "\n",
    "plt.savefig('simulations/plots/mapt_1_bulk.png', bbox_inches='tight', res=20000, dpi =2000)"
   ]
  },
  {
   "cell_type": "code",
   "execution_count": 62,
   "metadata": {},
   "outputs": [
    {
     "data": {
      "image/png": "[encoded data removed]",
      "text/plain": [
       "<Figure size 75x60 with 1 Axes>"
      ]
     },
     "metadata": {},
     "output_type": "display_data"
    }
   ],
   "source": [
    "\n",
    "\n",
    "\n",
    "times = ['E14', 'E16', 'P0', 'P4', 'P7', 'P15', 'P30', 'P110', 'M21']\n",
    "mean_ = []\n",
    "for t in times:\n",
    "    mean_.append(weyn_psi.loc['Cyb561_3', [t+'_rep1', t+'_rep2']].mean())\n",
    "fig = plt.figure(figsize=(2.5/2.4, 2/2.4))\n",
    "\n",
    "ax = fig.add_subplot(111)\n",
    "\n",
    "ax.scatter([0, 0, 1, 1, 2, 2, 3, 3, 4, 4, 5, 5, 6, 6, 7, 7, 8, 8],\n",
    "            weyn_psi.loc['Cyb561_3'], facecolors='none', edgecolors='navy', s=20, linewidth=1)\n",
    "ax.plot([0, 1, 2, 3, 4, 5, 6, 7, 8], mean_, c='navy', linewidth=1.5)\n",
    "ax.set_ylim((-0.15, 1.15))\n",
    "ax.set_xlim((-1.5, 9))\n",
    "\n",
    "\n",
    "# ax.set_xticks([0, 0.25, 0.5, 0.75, 1])\n",
    "# ax.set_xticklabels(['0.0', '0.25', '0.5', '0.75', '1.0'], size=18)\n",
    "ax.set_xlabel('Time points', size=8)\n",
    "\n",
    "# ax.set_yticks([0, 0.25, 0.5, 0.75, 1])\n",
    "# ax.set_yticklabels(['0.0', '0.25', '0.5', '0.75', '1.0'], size=8)\n",
    "ax.set_ylabel('Bulk $\\hat{\\Psi}$', size=8)\n",
    "\n",
    "ax.spines[\"right\"].set_visible(False)\n",
    "ax.spines[\"top\"].set_visible(False)\n",
    "ax.set_title('Cyb561, exon 2', size=8)\n",
    "\n",
    "plt.tick_params(\n",
    "    axis='both',          # changes apply to the x-axis\n",
    "    which='both',      # both major and minor ticks are affected\n",
    "    bottom=False,\n",
    "    left = False,\n",
    "    right = False, # ticks along the bottom edge are off\n",
    "    top=False,         # ticks along the top edge are off\n",
    "    labelbottom=False,\n",
    "labelleft=False)\n",
    "\n",
    "plt.savefig('simulations/plots/Cyb561_3_bulk.png', bbox_inches='tight', res=20000, dpi =2000)"
   ]
  },
  {
   "cell_type": "code",
   "execution_count": 84,
   "metadata": {},
   "outputs": [
    {
     "data": {
      "text/plain": [
       "[0.6559999999999999,\n",
       " 0.493,\n",
       " 0.491,\n",
       " 0.23600000000000002,\n",
       " 0.209,\n",
       " 0.33299999999999996,\n",
       " 0.48100000000000004,\n",
       " 0.40700000000000003,\n",
       " 0.41600000000000004]"
      ]
     },
     "execution_count": 84,
     "metadata": {},
     "output_type": "execute_result"
    }
   ],
   "source": [
    "mean_"
   ]
  },
  {
   "cell_type": "code",
   "execution_count": 60,
   "metadata": {},
   "outputs": [
    {
     "data": {
      "text/plain": [
       "<matplotlib.collections.PathCollection at 0x7f272cf47050>"
      ]
     },
     "execution_count": 60,
     "metadata": {},
     "output_type": "execute_result"
    },
    {
     "data": {
      "image/png": "[encoded data removed]",
      "text/plain": [
       "<Figure size 432x288 with 1 Axes>"
      ]
     },
     "metadata": {
      "needs_background": "light"
     },
     "output_type": "display_data"
    }
   ],
   "source": [
    "plt.scatter([0, 0, 1, 1, 2, 2, 3, 3, 4, 4, 5, 5, 6, 6, 7, 7, 8, 8],\n",
    "            weyn_psi.loc['Cyb561_3'])"
   ]
  },
  {
   "cell_type": "code",
   "execution_count": 64,
   "metadata": {},
   "outputs": [],
   "source": [
    "rd = pd.read_csv('mouse_brain_development/data/preprocess/tables/pc3_rd.tab.gz', sep='\\t', index_col=0)"
   ]
  },
  {
   "cell_type": "code",
   "execution_count": 70,
   "metadata": {},
   "outputs": [
    {
     "data": {
      "image/png": "[encoded data removed]",
      "text/plain": [
       "<Figure size 120x86.4 with 1 Axes>"
      ]
     },
     "metadata": {
      "needs_background": "light"
     },
     "output_type": "display_data"
    }
   ],
   "source": [
    "fig = plt.figure(figsize=(4/2.4, 3/2.5))\n",
    "ax = fig.add_subplot(111, projection='3d')\n",
    "\n",
    "ax.scatter(rd.PC_1, rd.PC_2, rd.PC_3, \n",
    "           c=tiklova_PSI.loc['Cyb561_3'], alpha=0.9, s=5, linewidth=0)\n",
    "\n",
    "\n",
    "ax.xaxis.pane.fill = False\n",
    "ax.yaxis.pane.fill = False\n",
    "ax.zaxis.pane.fill = False\n",
    "\n",
    "# Now set color to white (or whatever is \"invisible\")\n",
    "ax.xaxis.pane.set_edgecolor('w')\n",
    "ax.yaxis.pane.set_edgecolor('w')\n",
    "ax.zaxis.pane.set_edgecolor('w')\n",
    "\n",
    "ax.axis(\"off\")\n",
    "\n",
    "ax.grid(False)\n",
    "\n",
    "ax.set_xlabel('PC 1')\n",
    "ax.set_ylabel('PC 2')\n",
    "ax.set_zlabel('PC 3')\n",
    "ax.set_title('Cyb561, exon 2', fontsize=8)\n",
    "\n",
    "plt.savefig('simulations/plots/Cyb561_3_sc.png', bbox_inches='tight', res=20000, dpi =2000)"
   ]
  },
  {
   "cell_type": "code",
   "execution_count": 71,
   "metadata": {},
   "outputs": [
    {
     "data": {
      "image/png": "[encoded data removed]",
      "text/plain": [
       "<Figure size 120x86.4 with 1 Axes>"
      ]
     },
     "metadata": {
      "needs_background": "light"
     },
     "output_type": "display_data"
    }
   ],
   "source": [
    "fig = plt.figure(figsize=(4/2.4, 3/2.5))\n",
    "ax = fig.add_subplot(111, projection='3d')\n",
    "\n",
    "ax.scatter(rd.PC_1, rd.PC_2, rd.PC_3, \n",
    "           c=tiklova_PSI.loc['Mapt_1'], alpha=0.9, s=5, linewidth=0)\n",
    "\n",
    "\n",
    "ax.xaxis.pane.fill = False\n",
    "ax.yaxis.pane.fill = False\n",
    "ax.zaxis.pane.fill = False\n",
    "\n",
    "# Now set color to white (or whatever is \"invisible\")\n",
    "ax.xaxis.pane.set_edgecolor('w')\n",
    "ax.yaxis.pane.set_edgecolor('w')\n",
    "ax.zaxis.pane.set_edgecolor('w')\n",
    "\n",
    "ax.axis(\"off\")\n",
    "\n",
    "ax.grid(False)\n",
    "\n",
    "ax.set_xlabel('PC 1')\n",
    "ax.set_ylabel('PC 2')\n",
    "ax.set_zlabel('PC 3')\n",
    "ax.set_title('Mapt, exon 10', fontsize=8)\n",
    "\n",
    "plt.savefig('simulations/plots/Mapt_1_sc.png', bbox_inches='tight', res=20000, dpi =2000)"
   ]
  },
  {
   "cell_type": "code",
   "execution_count": 77,
   "metadata": {},
   "outputs": [
    {
     "name": "stderr",
     "output_type": "stream",
     "text": [
      "/mnt/lareaulab/cfbuenabadn/.local/lib/python3.7/site-packages/matplotlib/collections.py:886: RuntimeWarning: invalid value encountered in sqrt\n",
      "  scale = np.sqrt(self._sizes) * dpi / 72.0 * self._factor\n"
     ]
    },
    {
     "data": {
      "text/plain": [
       "<matplotlib.collections.PathCollection at 0x7f2728d80b50>"
      ]
     },
     "execution_count": 77,
     "metadata": {},
     "output_type": "execute_result"
    },
    {
     "data": {
      "image/png": "[encoded data removed]",
      "text/plain": [
       "<Figure size 432x288 with 1 Axes>"
      ]
     },
     "metadata": {
      "needs_background": "light"
     },
     "output_type": "display_data"
    }
   ],
   "source": [
    "plt.scatter(rd.PC_1, rd.PC_2, rd.PC_3, c=tiklova_PSI.loc['Gria2_2'])"
   ]
  },
  {
   "cell_type": "markdown",
   "metadata": {},
   "source": [
    "# Hasta aqui de ayer"
   ]
  },
  {
   "cell_type": "code",
   "execution_count": null,
   "metadata": {},
   "outputs": [],
   "source": []
  },
  {
   "cell_type": "code",
   "execution_count": null,
   "metadata": {},
   "outputs": [],
   "source": []
  },
  {
   "cell_type": "code",
   "execution_count": null,
   "metadata": {},
   "outputs": [],
   "source": []
  },
  {
   "cell_type": "code",
   "execution_count": 12,
   "metadata": {},
   "outputs": [
    {
     "name": "stderr",
     "output_type": "stream",
     "text": [
      "100%|██████████| 200/200 [00:04<00:00, 41.44it/s]\n"
     ]
    }
   ],
   "source": [
    "from sklearn.metrics import auc\n",
    "from sklearn.metrics import f1_score\n",
    "\n",
    "weyn_pos = weyn_fdr.index[(weyn_ds.max(axis=1) >= 0.2) & (weyn_fdr.min(axis=1) <= 0.01)]\n",
    "weyn_neg = weyn_fdr.index[(weyn_ds.max(axis=1) < 0.2) | (weyn_fdr.min(axis=1) > 0.01)]\n",
    "\n",
    "exons = tiklova_psix.index\n",
    "exons_pos = weyn_pos & exons\n",
    "exons_neg = weyn_neg & exons\n",
    "\n",
    "\n",
    "kw_auc = []\n",
    "psix_auc = []\n",
    "gearyc_auc = []\n",
    "briep_auc = []\n",
    "brie_l_auc = []\n",
    "\n",
    "for sample in tqdm(range(200)):\n",
    "    pos_choice = np.random.choice(exons_pos, np.int(0.5*len(exons_pos)), replace=False)\n",
    "    neg_choice = np.random.choice(exons_neg, np.int(0.5*len(exons_neg)), replace=False)\n",
    "    \n",
    "    y = [1]*len(pd.Index(pos_choice) & tiklova_gearyc.index) + [0]*len(pd.Index(neg_choice) & tiklova_gearyc.index)\n",
    "    c_y = list((tiklova_gearyc.loc[pd.Index(pos_choice) & tiklova_gearyc.index].qvals <= 0.05).astype(int)) + list((tiklova_gearyc.loc[pd.Index(neg_choice) & tiklova_gearyc.index].qvals <= 0.05).astype(int))\n",
    "    f1 = f1_score(y, c_y)\n",
    "    gearyc_auc.append(f1)\n",
    "\n",
    "    y = [1]*len(pos_choice) + [0]*len(neg_choice)\n",
    "    psix_y = list((tiklova_psix.loc[pos_choice].qvals <= 0.05).astype(int)) + list((tiklova_psix.loc[neg_choice].qvals <= 0.05).astype(int))\n",
    "    psix_auc.append(f1_score(y, psix_y))\n",
    "    \n",
    "\n",
    "    kw_y = list((tiklova_kw.loc[pos_choice].qvals <= 0.05).astype(int)) + list((tiklova_kw.loc[neg_choice].qvals <= 0.05).astype(int))\n",
    "    kw_auc.append(f1_score(y, kw_y))\n",
    "    \n",
    "\n",
    "    r_y = list((tiklova_ovo.loc[[x for x in pos_choice if x in tiklova_ovo.index]]<=0.05).astype(int)) + list((tiklova_ovo.loc[[x for x in neg_choice if x in tiklova_ovo.index]]<=0.05).astype(int))\n",
    "    brie_l_auc.append(f1_score([1]*len([x for x in pos_choice if x in tiklova_ovo.index]) + [0]*len([x for x in neg_choice if x in tiklova_ovo.index]), r_y))\n",
    "    #####\n",
    "\n",
    "\n"
   ]
  },
  {
   "cell_type": "code",
   "execution_count": 13,
   "metadata": {},
   "outputs": [
    {
     "data": {
      "text/plain": [
       "Text(0.5, 1.0, 'Method comparison, Tiklova dataset')"
      ]
     },
     "execution_count": 13,
     "metadata": {},
     "output_type": "execute_result"
    },
    {
     "data": {
      "image/png": "[encoded data removed]",
      "text/plain": [
       "<Figure size 432x288 with 1 Axes>"
      ]
     },
     "metadata": {
      "needs_background": "light"
     },
     "output_type": "display_data"
    }
   ],
   "source": [
    "tiklova_boxplots = [ psix_auc, gearyc_auc, kw_auc, brie_l_auc]\n",
    "\n",
    "# kw_auc = []\n",
    "# psix_auc = []\n",
    "# gearyc_auc = []\n",
    "# briep_auc = []\n",
    "# brie_l_auc = []\n",
    "\n",
    "bp = plt.boxplot(tiklova_boxplots)\n",
    "\n",
    "\n",
    "plt.xticks(np.arange(1, 5), \n",
    "           ['Psix', \"Geary's C\", 'KW', 'Brie2'], fontsize=14, rotation=90)\n",
    "\n",
    "plt.ylabel('AUC pre-rec curve', fontsize=14)\n",
    "# plt.xlabel('Method', fontsize=14)\n",
    "plt.title('Method comparison, Tiklova dataset', fontsize=14)"
   ]
  },
  {
   "cell_type": "code",
   "execution_count": 14,
   "metadata": {},
   "outputs": [],
   "source": [
    "one_v_one = 'mouse_brain_development/brie2/'\n",
    "tiklova_0v1 = pd.read_csv(one_v_one + 'brie_output_E13_v_E15/brie_quant_cell.brie_ident.tsv', sep='\\t', index_col=0)\n",
    "tiklova_0v2 = pd.read_csv(one_v_one + 'brie_output_E13_v_E18/brie_quant_cell.brie_ident.tsv', sep='\\t', index_col=0)\n",
    "tiklova_0v3 = pd.read_csv(one_v_one + 'brie_output_E13_v_P1/brie_quant_cell.brie_ident.tsv', sep='\\t', index_col=0)\n",
    "tiklova_0v4 = pd.read_csv(one_v_one + 'brie_output_E13_v_P7/brie_quant_cell.brie_ident.tsv', sep='\\t', index_col=0)\n",
    "tiklova_0v5 = pd.read_csv(one_v_one + 'brie_output_E13_v_P90/brie_quant_cell.brie_ident.tsv', sep='\\t', index_col=0)\n",
    "\n",
    "tiklova_one_v_one = pd.DataFrame()\n",
    "tiklova_one_v_one['0v1'] = tiklova_0v1.neuro_pval\n",
    "tiklova_one_v_one['0v2'] = tiklova_0v2.neuro_pval\n",
    "tiklova_one_v_one['0v3'] = tiklova_0v3.neuro_pval\n",
    "tiklova_one_v_one['0v4'] = tiklova_0v4.neuro_pval\n",
    "tiklova_one_v_one['0v5'] = tiklova_0v5.neuro_pval\n",
    "tiklova_ovo = tiklova_one_v_one.min(axis=1)"
   ]
  },
  {
   "cell_type": "code",
   "execution_count": 15,
   "metadata": {},
   "outputs": [],
   "source": [
    "neg = weyn_fdr.index[(weyn_ds.max(axis=1) < 0.01) | (weyn_fdr.min(axis=1) > 0.1)] & tiklova_psix.index & tiklova_ovo.index\n"
   ]
  },
  {
   "cell_type": "code",
   "execution_count": 16,
   "metadata": {},
   "outputs": [
    {
     "ename": "KeyError",
     "evalue": "'Passing list-likes to .loc or [] with any missing labels is no longer supported, see https://pandas.pydata.org/pandas-docs/stable/user_guide/indexing.html#deprecate-loc-reindex-listlike'",
     "output_type": "error",
     "traceback": [
      "\u001b[0;31m---------------------------------------------------------------------------\u001b[0m",
      "\u001b[0;31mKeyError\u001b[0m                                  Traceback (most recent call last)",
      "\u001b[0;32m<ipython-input-16-cc0a41e049bc>\u001b[0m in \u001b[0;36m<module>\u001b[0;34m\u001b[0m\n\u001b[0;32m----> 1\u001b[0;31m \u001b[0mplt\u001b[0m\u001b[0;34m.\u001b[0m\u001b[0mhist\u001b[0m\u001b[0;34m(\u001b[0m\u001b[0mtiklova_psix\u001b[0m\u001b[0;34m.\u001b[0m\u001b[0mloc\u001b[0m\u001b[0;34m[\u001b[0m\u001b[0mweyn_neg\u001b[0m\u001b[0;34m]\u001b[0m\u001b[0;34m.\u001b[0m\u001b[0mpvals\u001b[0m\u001b[0;34m)\u001b[0m\u001b[0;34m\u001b[0m\u001b[0;34m\u001b[0m\u001b[0m\n\u001b[0m",
      "\u001b[0;32m~/.local/lib/python3.7/site-packages/pandas/core/indexing.py\u001b[0m in \u001b[0;36m__getitem__\u001b[0;34m(self, key)\u001b[0m\n\u001b[1;32m   1766\u001b[0m \u001b[0;34m\u001b[0m\u001b[0m\n\u001b[1;32m   1767\u001b[0m             \u001b[0mmaybe_callable\u001b[0m \u001b[0;34m=\u001b[0m \u001b[0mcom\u001b[0m\u001b[0;34m.\u001b[0m\u001b[0mapply_if_callable\u001b[0m\u001b[0;34m(\u001b[0m\u001b[0mkey\u001b[0m\u001b[0;34m,\u001b[0m \u001b[0mself\u001b[0m\u001b[0;34m.\u001b[0m\u001b[0mobj\u001b[0m\u001b[0;34m)\u001b[0m\u001b[0;34m\u001b[0m\u001b[0;34m\u001b[0m\u001b[0m\n\u001b[0;32m-> 1768\u001b[0;31m             \u001b[0;32mreturn\u001b[0m \u001b[0mself\u001b[0m\u001b[0;34m.\u001b[0m\u001b[0m_getitem_axis\u001b[0m\u001b[0;34m(\u001b[0m\u001b[0mmaybe_callable\u001b[0m\u001b[0;34m,\u001b[0m \u001b[0maxis\u001b[0m\u001b[0;34m=\u001b[0m\u001b[0maxis\u001b[0m\u001b[0;34m)\u001b[0m\u001b[0;34m\u001b[0m\u001b[0;34m\u001b[0m\u001b[0m\n\u001b[0m\u001b[1;32m   1769\u001b[0m \u001b[0;34m\u001b[0m\u001b[0m\n\u001b[1;32m   1770\u001b[0m     \u001b[0;32mdef\u001b[0m \u001b[0m_is_scalar_access\u001b[0m\u001b[0;34m(\u001b[0m\u001b[0mself\u001b[0m\u001b[0;34m,\u001b[0m \u001b[0mkey\u001b[0m\u001b[0;34m:\u001b[0m \u001b[0mTuple\u001b[0m\u001b[0;34m)\u001b[0m\u001b[0;34m:\u001b[0m\u001b[0;34m\u001b[0m\u001b[0;34m\u001b[0m\u001b[0m\n",
      "\u001b[0;32m~/.local/lib/python3.7/site-packages/pandas/core/indexing.py\u001b[0m in \u001b[0;36m_getitem_axis\u001b[0;34m(self, key, axis)\u001b[0m\n\u001b[1;32m   1952\u001b[0m                     \u001b[0;32mraise\u001b[0m \u001b[0mValueError\u001b[0m\u001b[0;34m(\u001b[0m\u001b[0;34m\"Cannot index with multidimensional key\"\u001b[0m\u001b[0;34m)\u001b[0m\u001b[0;34m\u001b[0m\u001b[0;34m\u001b[0m\u001b[0m\n\u001b[1;32m   1953\u001b[0m \u001b[0;34m\u001b[0m\u001b[0m\n\u001b[0;32m-> 1954\u001b[0;31m                 \u001b[0;32mreturn\u001b[0m \u001b[0mself\u001b[0m\u001b[0;34m.\u001b[0m\u001b[0m_getitem_iterable\u001b[0m\u001b[0;34m(\u001b[0m\u001b[0mkey\u001b[0m\u001b[0;34m,\u001b[0m \u001b[0maxis\u001b[0m\u001b[0;34m=\u001b[0m\u001b[0maxis\u001b[0m\u001b[0;34m)\u001b[0m\u001b[0;34m\u001b[0m\u001b[0;34m\u001b[0m\u001b[0m\n\u001b[0m\u001b[1;32m   1955\u001b[0m \u001b[0;34m\u001b[0m\u001b[0m\n\u001b[1;32m   1956\u001b[0m             \u001b[0;31m# nested tuple slicing\u001b[0m\u001b[0;34m\u001b[0m\u001b[0;34m\u001b[0m\u001b[0;34m\u001b[0m\u001b[0m\n",
      "\u001b[0;32m~/.local/lib/python3.7/site-packages/pandas/core/indexing.py\u001b[0m in \u001b[0;36m_getitem_iterable\u001b[0;34m(self, key, axis)\u001b[0m\n\u001b[1;32m   1593\u001b[0m         \u001b[0;32melse\u001b[0m\u001b[0;34m:\u001b[0m\u001b[0;34m\u001b[0m\u001b[0;34m\u001b[0m\u001b[0m\n\u001b[1;32m   1594\u001b[0m             \u001b[0;31m# A collection of keys\u001b[0m\u001b[0;34m\u001b[0m\u001b[0;34m\u001b[0m\u001b[0;34m\u001b[0m\u001b[0m\n\u001b[0;32m-> 1595\u001b[0;31m             \u001b[0mkeyarr\u001b[0m\u001b[0;34m,\u001b[0m \u001b[0mindexer\u001b[0m \u001b[0;34m=\u001b[0m \u001b[0mself\u001b[0m\u001b[0;34m.\u001b[0m\u001b[0m_get_listlike_indexer\u001b[0m\u001b[0;34m(\u001b[0m\u001b[0mkey\u001b[0m\u001b[0;34m,\u001b[0m \u001b[0maxis\u001b[0m\u001b[0;34m,\u001b[0m \u001b[0mraise_missing\u001b[0m\u001b[0;34m=\u001b[0m\u001b[0;32mFalse\u001b[0m\u001b[0;34m)\u001b[0m\u001b[0;34m\u001b[0m\u001b[0;34m\u001b[0m\u001b[0m\n\u001b[0m\u001b[1;32m   1596\u001b[0m             return self.obj._reindex_with_indexers(\n\u001b[1;32m   1597\u001b[0m                 \u001b[0;34m{\u001b[0m\u001b[0maxis\u001b[0m\u001b[0;34m:\u001b[0m \u001b[0;34m[\u001b[0m\u001b[0mkeyarr\u001b[0m\u001b[0;34m,\u001b[0m \u001b[0mindexer\u001b[0m\u001b[0;34m]\u001b[0m\u001b[0;34m}\u001b[0m\u001b[0;34m,\u001b[0m \u001b[0mcopy\u001b[0m\u001b[0;34m=\u001b[0m\u001b[0;32mTrue\u001b[0m\u001b[0;34m,\u001b[0m \u001b[0mallow_dups\u001b[0m\u001b[0;34m=\u001b[0m\u001b[0;32mTrue\u001b[0m\u001b[0;34m\u001b[0m\u001b[0;34m\u001b[0m\u001b[0m\n",
      "\u001b[0;32m~/.local/lib/python3.7/site-packages/pandas/core/indexing.py\u001b[0m in \u001b[0;36m_get_listlike_indexer\u001b[0;34m(self, key, axis, raise_missing)\u001b[0m\n\u001b[1;32m   1551\u001b[0m \u001b[0;34m\u001b[0m\u001b[0m\n\u001b[1;32m   1552\u001b[0m         self._validate_read_indexer(\n\u001b[0;32m-> 1553\u001b[0;31m             \u001b[0mkeyarr\u001b[0m\u001b[0;34m,\u001b[0m \u001b[0mindexer\u001b[0m\u001b[0;34m,\u001b[0m \u001b[0mo\u001b[0m\u001b[0;34m.\u001b[0m\u001b[0m_get_axis_number\u001b[0m\u001b[0;34m(\u001b[0m\u001b[0maxis\u001b[0m\u001b[0;34m)\u001b[0m\u001b[0;34m,\u001b[0m \u001b[0mraise_missing\u001b[0m\u001b[0;34m=\u001b[0m\u001b[0mraise_missing\u001b[0m\u001b[0;34m\u001b[0m\u001b[0;34m\u001b[0m\u001b[0m\n\u001b[0m\u001b[1;32m   1554\u001b[0m         )\n\u001b[1;32m   1555\u001b[0m         \u001b[0;32mreturn\u001b[0m \u001b[0mkeyarr\u001b[0m\u001b[0;34m,\u001b[0m \u001b[0mindexer\u001b[0m\u001b[0;34m\u001b[0m\u001b[0;34m\u001b[0m\u001b[0m\n",
      "\u001b[0;32m~/.local/lib/python3.7/site-packages/pandas/core/indexing.py\u001b[0m in \u001b[0;36m_validate_read_indexer\u001b[0;34m(self, key, indexer, axis, raise_missing)\u001b[0m\n\u001b[1;32m   1653\u001b[0m             \u001b[0;32mif\u001b[0m \u001b[0;32mnot\u001b[0m \u001b[0;34m(\u001b[0m\u001b[0max\u001b[0m\u001b[0;34m.\u001b[0m\u001b[0mis_categorical\u001b[0m\u001b[0;34m(\u001b[0m\u001b[0;34m)\u001b[0m \u001b[0;32mor\u001b[0m \u001b[0max\u001b[0m\u001b[0;34m.\u001b[0m\u001b[0mis_interval\u001b[0m\u001b[0;34m(\u001b[0m\u001b[0;34m)\u001b[0m\u001b[0;34m)\u001b[0m\u001b[0;34m:\u001b[0m\u001b[0;34m\u001b[0m\u001b[0;34m\u001b[0m\u001b[0m\n\u001b[1;32m   1654\u001b[0m                 raise KeyError(\n\u001b[0;32m-> 1655\u001b[0;31m                     \u001b[0;34m\"Passing list-likes to .loc or [] with any missing labels \"\u001b[0m\u001b[0;34m\u001b[0m\u001b[0;34m\u001b[0m\u001b[0m\n\u001b[0m\u001b[1;32m   1656\u001b[0m                     \u001b[0;34m\"is no longer supported, see \"\u001b[0m\u001b[0;34m\u001b[0m\u001b[0;34m\u001b[0m\u001b[0m\n\u001b[1;32m   1657\u001b[0m                     \u001b[0;34m\"https://pandas.pydata.org/pandas-docs/stable/user_guide/indexing.html#deprecate-loc-reindex-listlike\"\u001b[0m  \u001b[0;31m# noqa:E501\u001b[0m\u001b[0;34m\u001b[0m\u001b[0;34m\u001b[0m\u001b[0m\n",
      "\u001b[0;31mKeyError\u001b[0m: 'Passing list-likes to .loc or [] with any missing labels is no longer supported, see https://pandas.pydata.org/pandas-docs/stable/user_guide/indexing.html#deprecate-loc-reindex-listlike'"
     ]
    }
   ],
   "source": [
    "plt.hist(tiklova_psix.loc[weyn_neg].pvals)"
   ]
  },
  {
   "cell_type": "code",
   "execution_count": 33,
   "metadata": {},
   "outputs": [
    {
     "data": {
      "text/plain": [
       "(array([225.,  40.,  30.,  20.,  14.,  13.,   8.,   5.,   4.,   3.]),\n",
       " array([7.994e-32, 3.580e-02, 7.160e-02, 1.074e-01, 1.432e-01, 1.790e-01,\n",
       "        2.148e-01, 2.506e-01, 2.864e-01, 3.222e-01, 3.580e-01]),\n",
       " <a list of 10 Patch objects>)"
      ]
     },
     "execution_count": 33,
     "metadata": {},
     "output_type": "execute_result"
    },
    {
     "data": {
      "image/png": "[encoded data removed]",
      "text/plain": [
       "<Figure size 432x288 with 1 Axes>"
      ]
     },
     "metadata": {
      "needs_background": "light"
     },
     "output_type": "display_data"
    }
   ],
   "source": [
    "plt.hist(tiklova_ovo.loc[weyn_neg])"
   ]
  },
  {
   "cell_type": "code",
   "execution_count": 34,
   "metadata": {},
   "outputs": [
    {
     "data": {
      "text/plain": [
       "(array([193.,  36.,  25.,  16.,  25.,  17.,  17.,  15.,   8.,  10.]),\n",
       " array([7.39830480e-30, 9.84774149e-02, 1.96954830e-01, 2.95432245e-01,\n",
       "        3.93909660e-01, 4.92387075e-01, 5.90864490e-01, 6.89341905e-01,\n",
       "        7.87819320e-01, 8.86296734e-01, 9.84774149e-01]),\n",
       " <a list of 10 Patch objects>)"
      ]
     },
     "execution_count": 34,
     "metadata": {},
     "output_type": "execute_result"
    },
    {
     "data": {
      "image/png": "[encoded data removed]",
      "text/plain": [
       "<Figure size 432x288 with 1 Axes>"
      ]
     },
     "metadata": {
      "needs_background": "light"
     },
     "output_type": "display_data"
    }
   ],
   "source": [
    "plt.hist(tiklova_kw.loc[weyn_neg].pvals)"
   ]
  },
  {
   "cell_type": "code",
   "execution_count": 47,
   "metadata": {},
   "outputs": [
    {
     "data": {
      "text/plain": [
       "(-0.5, 10.0)"
      ]
     },
     "execution_count": 47,
     "metadata": {},
     "output_type": "execute_result"
    },
    {
     "data": {
      "image/png": "[encoded data removed]",
      "text/plain": [
       "<Figure size 432x288 with 1 Axes>"
      ]
     },
     "metadata": {
      "needs_background": "light"
     },
     "output_type": "display_data"
    }
   ],
   "source": [
    "plt.scatter(sorted(-np.log10(np.arange(0+(1/len(neg)), 1+(1/len(neg)), step = 1/len(neg)))),\n",
    "            sorted(-np.log10(tiklova_psix.loc[weyn_neg].pvals)))\n",
    "\n",
    "plt.scatter(sorted(-np.log10(np.arange(0+(1/len(neg)), 1+(1/len(neg)), step = 1/len(neg)))),\n",
    "            sorted(-np.log10(tiklova_kw.loc[weyn_neg].pvals)))\n",
    "\n",
    "plt.scatter(sorted(-np.log10(np.arange(0+(1/len(neg)), 1+(1/len(neg)), step = 1/len(neg)))),\n",
    "            sorted(-np.log10(tiklova_ovo.loc[weyn_neg])))\n",
    "\n",
    "\n",
    "\n",
    "\n",
    "plt.plot(sorted(-np.log10(np.arange(0+(1/len(neg)), 1+(1/len(neg)), step = 1/len(neg)))),\n",
    "            sorted(-np.log10(np.arange(0+(1/len(neg)), 1+(1/len(neg)), step = 1/len(neg)))), c='darkred')\n",
    "\n",
    "plt.xlim((-0.1, 1.5))\n",
    "plt.ylim((-0.5, 10))"
   ]
  },
  {
   "cell_type": "code",
   "execution_count": 30,
   "metadata": {},
   "outputs": [
    {
     "data": {
      "text/html": [
       "<div>\n",
       "<style scoped>\n",
       "    .dataframe tbody tr th:only-of-type {\n",
       "        vertical-align: middle;\n",
       "    }\n",
       "\n",
       "    .dataframe tbody tr th {\n",
       "        vertical-align: top;\n",
       "    }\n",
       "\n",
       "    .dataframe thead th {\n",
       "        text-align: right;\n",
       "    }\n",
       "</style>\n",
       "<table border=\"1\" class=\"dataframe\">\n",
       "  <thead>\n",
       "    <tr style=\"text-align: right;\">\n",
       "      <th></th>\n",
       "      <th>psix_score</th>\n",
       "      <th>pvals</th>\n",
       "      <th>qvals</th>\n",
       "    </tr>\n",
       "  </thead>\n",
       "  <tbody>\n",
       "    <tr>\n",
       "      <th>Hmgn3_3</th>\n",
       "      <td>0.021581</td>\n",
       "      <td>0.097951</td>\n",
       "      <td>0.181872</td>\n",
       "    </tr>\n",
       "    <tr>\n",
       "      <th>Deaf1_nmdSE_3</th>\n",
       "      <td>0.013916</td>\n",
       "      <td>0.055472</td>\n",
       "      <td>0.116236</td>\n",
       "    </tr>\n",
       "    <tr>\n",
       "      <th>Scnm1_1</th>\n",
       "      <td>0.013813</td>\n",
       "      <td>0.055472</td>\n",
       "      <td>0.116236</td>\n",
       "    </tr>\n",
       "    <tr>\n",
       "      <th>Gabpb1_4</th>\n",
       "      <td>0.013563</td>\n",
       "      <td>0.060970</td>\n",
       "      <td>0.125859</td>\n",
       "    </tr>\n",
       "    <tr>\n",
       "      <th>Rnf146_4</th>\n",
       "      <td>0.012885</td>\n",
       "      <td>0.062469</td>\n",
       "      <td>0.127691</td>\n",
       "    </tr>\n",
       "    <tr>\n",
       "      <th>...</th>\n",
       "      <td>...</td>\n",
       "      <td>...</td>\n",
       "      <td>...</td>\n",
       "    </tr>\n",
       "    <tr>\n",
       "      <th>Fam118b_2</th>\n",
       "      <td>-0.028730</td>\n",
       "      <td>0.814093</td>\n",
       "      <td>0.889070</td>\n",
       "    </tr>\n",
       "    <tr>\n",
       "      <th>Repin1_1</th>\n",
       "      <td>-0.029305</td>\n",
       "      <td>0.834583</td>\n",
       "      <td>0.902941</td>\n",
       "    </tr>\n",
       "    <tr>\n",
       "      <th>N6amt1_1</th>\n",
       "      <td>-0.033029</td>\n",
       "      <td>0.837081</td>\n",
       "      <td>0.905176</td>\n",
       "    </tr>\n",
       "    <tr>\n",
       "      <th>Flot2_1</th>\n",
       "      <td>-0.041104</td>\n",
       "      <td>0.915042</td>\n",
       "      <td>0.952036</td>\n",
       "    </tr>\n",
       "    <tr>\n",
       "      <th>Pbrm1_17</th>\n",
       "      <td>-0.045036</td>\n",
       "      <td>0.940030</td>\n",
       "      <td>0.965949</td>\n",
       "    </tr>\n",
       "  </tbody>\n",
       "</table>\n",
       "<p>82 rows × 3 columns</p>\n",
       "</div>"
      ],
      "text/plain": [
       "               psix_score     pvals     qvals\n",
       "Hmgn3_3          0.021581  0.097951  0.181872\n",
       "Deaf1_nmdSE_3    0.013916  0.055472  0.116236\n",
       "Scnm1_1          0.013813  0.055472  0.116236\n",
       "Gabpb1_4         0.013563  0.060970  0.125859\n",
       "Rnf146_4         0.012885  0.062469  0.127691\n",
       "...                   ...       ...       ...\n",
       "Fam118b_2       -0.028730  0.814093  0.889070\n",
       "Repin1_1        -0.029305  0.834583  0.902941\n",
       "N6amt1_1        -0.033029  0.837081  0.905176\n",
       "Flot2_1         -0.041104  0.915042  0.952036\n",
       "Pbrm1_17        -0.045036  0.940030  0.965949\n",
       "\n",
       "[82 rows x 3 columns]"
      ]
     },
     "execution_count": 30,
     "metadata": {},
     "output_type": "execute_result"
    }
   ],
   "source": [
    "common_idx = tiklova_psix.index & tiklova_ovo.index & weyn_pos\n",
    "tiklova_psix.loc[common_idx].loc[(tiklova_psix.loc[common_idx].qvals >= 0.1) & (tiklova_ovo.loc[common_idx]<=0.01)]"
   ]
  },
  {
   "cell_type": "code",
   "execution_count": 23,
   "metadata": {},
   "outputs": [],
   "source": [
    "rd = pd.read_csv('mouse_brain_development/data/preprocess/tables/pc3_rd.tab.gz', sep='\\t', index_col=0)"
   ]
  },
  {
   "cell_type": "code",
   "execution_count": 33,
   "metadata": {},
   "outputs": [
    {
     "data": {
      "text/plain": [
       "<matplotlib.collections.PathCollection at 0x7f8b5eaf0b50>"
      ]
     },
     "execution_count": 33,
     "metadata": {},
     "output_type": "execute_result"
    },
    {
     "data": {
      "image/png": "[encoded data removed]",
      "text/plain": [
       "<Figure size 432x288 with 1 Axes>"
      ]
     },
     "metadata": {
      "needs_background": "light"
     },
     "output_type": "display_data"
    }
   ],
   "source": [
    "plt.scatter(rd.PC_1, rd.PC_2, c=tiklova_PSI.loc['Pbrm1_17'])"
   ]
  },
  {
   "cell_type": "code",
   "execution_count": 34,
   "metadata": {},
   "outputs": [
    {
     "data": {
      "text/plain": [
       "<matplotlib.collections.PathCollection at 0x7f8b5ec27690>"
      ]
     },
     "execution_count": 34,
     "metadata": {},
     "output_type": "execute_result"
    },
    {
     "data": {
      "image/png": "[encoded data removed]",
      "text/plain": [
       "<Figure size 432x288 with 1 Axes>"
      ]
     },
     "metadata": {
      "needs_background": "light"
     },
     "output_type": "display_data"
    }
   ],
   "source": [
    "plt.scatter([0, 0, 1, 1, 2, 2, 3, 3, 4, 4, 5, 5, 6, 6, 7, 7, 8, 8], \n",
    "            weyn_psi.loc['Pbrm1_17'])"
   ]
  },
  {
   "cell_type": "code",
   "execution_count": null,
   "metadata": {},
   "outputs": [],
   "source": []
  },
  {
   "cell_type": "code",
   "execution_count": null,
   "metadata": {},
   "outputs": [],
   "source": []
  },
  {
   "cell_type": "code",
   "execution_count": null,
   "metadata": {},
   "outputs": [],
   "source": []
  },
  {
   "cell_type": "code",
   "execution_count": 49,
   "metadata": {},
   "outputs": [],
   "source": [
    "from sklearn.metrics import auc\n",
    "from sklearn.metrics import precision_recall_curve"
   ]
  },
  {
   "cell_type": "code",
   "execution_count": 50,
   "metadata": {},
   "outputs": [],
   "source": [
    "tiklova_one_v_one = pd.DataFrame()\n",
    "tiklova_one_v_one['0v1'] = tiklova_0v1.neuro_ELBO_gain\n",
    "tiklova_one_v_one['0v2'] = tiklova_0v2.neuro_ELBO_gain\n",
    "tiklova_one_v_one['0v3'] = tiklova_0v3.neuro_ELBO_gain\n",
    "tiklova_one_v_one['0v4'] = tiklova_0v4.neuro_ELBO_gain\n",
    "tiklova_one_v_one['0v5'] = tiklova_0v5.neuro_ELBO_gain\n",
    "tiklova_ovo = tiklova_one_v_one.max(axis=1)"
   ]
  },
  {
   "cell_type": "code",
   "execution_count": 65,
   "metadata": {},
   "outputs": [
    {
     "name": "stderr",
     "output_type": "stream",
     "text": [
      "100%|██████████| 500/500 [00:08<00:00, 57.99it/s]\n"
     ]
    },
    {
     "data": {
      "text/plain": [
       "Text(0.5, 1.0, 'Method comparison, Tiklova dataset')"
      ]
     },
     "execution_count": 65,
     "metadata": {},
     "output_type": "execute_result"
    },
    {
     "data": {
      "image/png": "[encoded data removed]",
      "text/plain": [
       "<Figure size 432x288 with 1 Axes>"
      ]
     },
     "metadata": {
      "needs_background": "light"
     },
     "output_type": "display_data"
    }
   ],
   "source": [
    "\n",
    "\n",
    "weyn_pos = weyn_fdr.index[(weyn_ds.max(axis=1) >= 0.2) & (weyn_fdr.min(axis=1) <= 0.01)]\n",
    "weyn_neg = weyn_fdr.index[(weyn_ds.max(axis=1) < 0.01) | (weyn_fdr.min(axis=1) > 0.01)]\n",
    "\n",
    "exons = tiklova_psix.index\n",
    "exons_pos = weyn_pos & exons\n",
    "exons_neg = weyn_neg & exons\n",
    "\n",
    "\n",
    "kw_auc = []\n",
    "psix_auc = []\n",
    "gearyc_auc = []\n",
    "briep_auc = []\n",
    "brie_l_auc = []\n",
    "\n",
    "for sample in tqdm(range(500)):\n",
    "    pos_choice = np.random.choice(exons_pos, np.int(0.5*len(exons_pos)), replace=False)\n",
    "    neg_choice = np.random.choice(exons_neg, np.int(0.5*len(exons_neg)), replace=False)\n",
    "    \n",
    "    y = [1]*len(pd.Index(pos_choice) & tiklova_gearyc.index) + [0]*len(pd.Index(neg_choice) & tiklova_gearyc.index)\n",
    "    c_y = list(tiklova_gearyc.loc[pd.Index(pos_choice) & tiklova_gearyc.index].C_score) + list(tiklova_gearyc.loc[pd.Index(neg_choice) & tiklova_gearyc.index].C_score)\n",
    "    pre, rec, thres = precision_recall_curve(y, c_y)\n",
    "    gearyc_auc.append(auc(rec, pre))\n",
    "\n",
    "    y = [1]*len(pos_choice) + [0]*len(neg_choice)\n",
    "    psix_y = list(tiklova_psix.loc[pos_choice].psix_score) + list(tiklova_psix.loc[neg_choice].psix_score)\n",
    "    pre, rec, thres = precision_recall_curve(y, psix_y)\n",
    "    psix_auc.append(auc(rec, pre))\n",
    "    \n",
    "\n",
    "    kw_y = list(tiklova_kw.loc[pos_choice].KW_score) + list(tiklova_kw.loc[neg_choice].KW_score)\n",
    "    pre, rec, thres = precision_recall_curve(y, kw_y)\n",
    "    kw_auc.append(auc(rec, pre))\n",
    "    \n",
    "\n",
    "    r_y = list(tiklova_ovo.loc[[x for x in pos_choice if x in tiklova_ovo.index]]) + list(tiklova_ovo.loc[[x for x in neg_choice if x in tiklova_ovo.index]])\n",
    "    pre, rec, thres = precision_recall_curve([1]*len([x for x in pos_choice if x in tiklova_ovo.index]) + [0]*len([x for x in neg_choice if x in tiklova_ovo.index]), r_y)\n",
    "    brie_l_auc.append(auc(rec, pre))\n",
    "    #####\n",
    "\n",
    "tiklova_boxplots = [ psix_auc, gearyc_auc, kw_auc, brie_l_auc]\n",
    "\n",
    "# kw_auc = []\n",
    "# psix_auc = []\n",
    "# gearyc_auc = []\n",
    "# briep_auc = []\n",
    "# brie_l_auc = []\n",
    "\n",
    "bp = plt.boxplot(tiklova_boxplots)\n",
    "\n",
    "\n",
    "plt.xticks(np.arange(1, 5), \n",
    "           ['Psix', \"Geary's C\", 'KW', 'Brie2'], fontsize=14, rotation=90)\n",
    "\n",
    "plt.ylabel('AUC pre-rec curve', fontsize=14)\n",
    "# plt.xlabel('Method', fontsize=14)\n",
    "plt.title('Method comparison, Tiklova dataset', fontsize=14)\n"
   ]
  },
  {
   "cell_type": "code",
   "execution_count": 11,
   "metadata": {},
   "outputs": [
    {
     "name": "stderr",
     "output_type": "stream",
     "text": [
      "100%|██████████| 500/500 [00:09<00:00, 55.20it/s]\n"
     ]
    },
    {
     "data": {
      "text/plain": [
       "Text(0.5, 1.0, 'Method comparison, Tiklova dataset')"
      ]
     },
     "execution_count": 11,
     "metadata": {},
     "output_type": "execute_result"
    },
    {
     "data": {
      "image/png": "[encoded data removed]",
      "text/plain": [
       "<Figure size 432x288 with 1 Axes>"
      ]
     },
     "metadata": {
      "needs_background": "light"
     },
     "output_type": "display_data"
    }
   ],
   "source": [
    "\n",
    "\n",
    "weyn_pos = weyn_fdr.index[(weyn_ds.max(axis=1) >= 0.2) & (weyn_fdr.min(axis=1) <= 0.01)]\n",
    "weyn_neg = weyn_fdr.index[(weyn_ds.max(axis=1) < 0.2) | (weyn_fdr.min(axis=1) > 0.01)]\n",
    "\n",
    "exons = tiklova_psix.index\n",
    "exons_pos = weyn_pos & exons\n",
    "exons_neg = weyn_neg & exons\n",
    "\n",
    "\n",
    "kw_auc = []\n",
    "psix_auc = []\n",
    "gearyc_auc = []\n",
    "briep_auc = []\n",
    "brie_l_auc = []\n",
    "\n",
    "for sample in tqdm(range(500)):\n",
    "    pos_choice = np.random.choice(exons_pos, np.int(0.5*len(exons_pos)), replace=False)\n",
    "    neg_choice = np.random.choice(exons_neg, np.int(0.5*len(exons_neg)), replace=False)\n",
    "    \n",
    "    y = [1]*len(pd.Index(pos_choice) & tiklova_gearyc.index) + [0]*len(pd.Index(neg_choice) & tiklova_gearyc.index)\n",
    "    c_y = list(tiklova_gearyc.loc[pd.Index(pos_choice) & tiklova_gearyc.index].C_score) + list(tiklova_gearyc.loc[pd.Index(neg_choice) & tiklova_gearyc.index].C_score)\n",
    "    pre, rec, thres = precision_recall_curve(y, c_y)\n",
    "    gearyc_auc.append(auc(rec, pre))\n",
    "\n",
    "    y = [1]*len(pos_choice) + [0]*len(neg_choice)\n",
    "    psix_y = list(tiklova_psix.loc[pos_choice].psix_score) + list(tiklova_psix.loc[neg_choice].psix_score)\n",
    "    pre, rec, thres = precision_recall_curve(y, psix_y)\n",
    "    psix_auc.append(auc(rec, pre))\n",
    "    \n",
    "\n",
    "    kw_y = list(tiklova_kw.loc[pos_choice].KW_score) + list(tiklova_kw.loc[neg_choice].KW_score)\n",
    "    pre, rec, thres = precision_recall_curve(y, kw_y)\n",
    "    kw_auc.append(auc(rec, pre))\n",
    "    \n",
    "\n",
    "    r_y = list(tiklova_ovo.loc[[x for x in pos_choice if x in tiklova_ovo.index]]) + list(tiklova_ovo.loc[[x for x in neg_choice if x in tiklova_ovo.index]])\n",
    "    pre, rec, thres = precision_recall_curve([1]*len([x for x in pos_choice if x in tiklova_ovo.index]) + [0]*len([x for x in neg_choice if x in tiklova_ovo.index]), r_y)\n",
    "    brie_l_auc.append(auc(rec, pre))\n",
    "    #####\n",
    "\n",
    "tiklova_boxplots = [ psix_auc, gearyc_auc, kw_auc, brie_l_auc]\n",
    "\n",
    "# kw_auc = []\n",
    "# psix_auc = []\n",
    "# gearyc_auc = []\n",
    "# briep_auc = []\n",
    "# brie_l_auc = []\n",
    "\n",
    "bp = plt.boxplot(tiklova_boxplots)\n",
    "\n",
    "\n",
    "plt.xticks(np.arange(1, 5), \n",
    "           ['Psix', \"Geary's C\", 'KW', 'Brie2'], fontsize=14, rotation=90)\n",
    "\n",
    "plt.ylabel('AUC pre-rec curve', fontsize=14)\n",
    "# plt.xlabel('Method', fontsize=14)\n",
    "plt.title('Method comparison, Tiklova dataset', fontsize=14)\n"
   ]
  },
  {
   "cell_type": "code",
   "execution_count": null,
   "metadata": {},
   "outputs": [],
   "source": []
  }
 ],
 "metadata": {
  "kernelspec": {
   "display_name": "Python 3",
   "language": "python",
   "name": "python3"
  },
  "language_info": {
   "codemirror_mode": {
    "name": "ipython",
    "version": 3
   },
   "file_extension": ".py",
   "mimetype": "text/x-python",
   "name": "python",
   "nbconvert_exporter": "python",
   "pygments_lexer": "ipython3",
   "version": "3.7.6"
  }
 },
 "nbformat": 4,
 "nbformat_minor": 4
}
