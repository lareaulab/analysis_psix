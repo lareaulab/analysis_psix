{
 "cells": [
  {
   "cell_type": "code",
   "execution_count": 1,
   "metadata": {},
   "outputs": [],
   "source": [
    "import numpy as np\n",
    "import pandas as pd\n",
    "import psix"
   ]
  },
  {
   "cell_type": "code",
   "execution_count": 2,
   "metadata": {},
   "outputs": [],
   "source": [
    "# I had already ran a PCA of the normalized gene expression and filtered out some non-neuron cells. Here I am getting\n",
    "# this data to get a list of only neurons:\n",
    "\n",
    "neuron_cells = pd.read_csv('/mnt/lareaulab/cfbuenabadn/psix_project/analysis_psix/midbrain_development/data/pc3_rd.tab.gz', \n",
    "                     sep='\\t', index_col=0).index"
   ]
  },
  {
   "cell_type": "code",
   "execution_count": null,
   "metadata": {},
   "outputs": [
    {
     "name": "stdout",
     "output_type": "stream",
     "text": [
      "Processing STARsolo output. This might take a few minutes...\n"
     ]
    }
   ],
   "source": [
    "# Create an empty Psix object\n",
    "psix_object = psix.Psix()\n",
    "\n",
    "# Process STARsolo output into PSI and mRNA counts:\n",
    "# sj_dir: Directory with raw STARsolo SJ output\n",
    "# intron_file: Annotation, proivided in Psix github\n",
    "# tpm_file: gene x cells matrix of gene expression in TPM\n",
    "# cell_list: list of cells to keep. In this case, we only use neuron cells\n",
    "# save_files_in: will save psi and mrna tables in the specified location\n",
    "# solo = True: indicates that sj_dir has the output of STARsolo\n",
    "\n",
    "psix_object.junctions2psi(\n",
    "        sj_dir = '/mnt/lareaulab/cfbuenabadn/RNASeq/Mouse/Tiklova/STARsolo/star_output_NoDedup/Solo.out/SJ/raw',\n",
    "        intron_file = '/mnt/lareaulab/cfbuenabadn/Genomes/pipeline_files/mm10_introns.tab',\n",
    "        tpm_file = '/mnt/lareaulab/cfbuenabadn/psix_project/analysis_psix/midbrain_development/data/tpm.tab.gz',\n",
    "        cell_list = neuron_cells,\n",
    "        save_files_in='psix_solo_object/',\n",
    "        solo = True\n",
    "    )"
   ]
  },
  {
   "cell_type": "code",
   "execution_count": null,
   "metadata": {},
   "outputs": [],
   "source": [
    "# Running Psix on the pre-processed object\n",
    "\n",
    "# latent: a low dimensional representation of the cell-state (in this case, a PCA of normalized expression)\n",
    "# n_jobs: how many threads to use. Psix is slow, but using many threads speeds it up.\n",
    "\n",
    "psix_object.run_psix(latent='~/psix_project/analysis_psix/midbrain_development/data/pc3_rd.tab.gz', n_jobs=25)"
   ]
  },
  {
   "cell_type": "code",
   "execution_count": null,
   "metadata": {},
   "outputs": [],
   "source": [
    "# Exon scores and p-values\n",
    "psix_object.psix_results.head()"
   ]
  },
  {
   "cell_type": "code",
   "execution_count": null,
   "metadata": {},
   "outputs": [],
   "source": [
    "# Computing modules and plotting matrix of correlations\n",
    "\n",
    "# plot = True: plots the following matrix\n",
    "# plot_name: saves the plot on the specified location\n",
    "psix_object.compute_modules(plot = True, plot_name = 'exon_modules_solo.png')"
   ]
  },
  {
   "cell_type": "code",
   "execution_count": null,
   "metadata": {},
   "outputs": [],
   "source": [
    "# You can access the modules assigned for each exon here:\n",
    "psix_object.modules"
   ]
  },
  {
   "cell_type": "code",
   "execution_count": null,
   "metadata": {},
   "outputs": [],
   "source": []
  },
  {
   "cell_type": "code",
   "execution_count": 6,
   "metadata": {},
   "outputs": [],
   "source": [
    "# save psix object on specified location\n",
    "psix_object.save_psix_object(psix_dir = 'psix_solo_object/')"
   ]
  },
  {
   "cell_type": "code",
   "execution_count": 9,
   "metadata": {},
   "outputs": [],
   "source": [
    "# Next time you want to check your results, you can skip all the previous steps:\n",
    "psix_object = psix.Psix(psix_object = 'psix_solo_object/')"
   ]
  },
  {
   "cell_type": "code",
   "execution_count": null,
   "metadata": {},
   "outputs": [],
   "source": []
  }
 ],
 "metadata": {
  "kernelspec": {
   "display_name": "Python 3",
   "language": "python",
   "name": "python3"
  },
  "language_info": {
   "codemirror_mode": {
    "name": "ipython",
    "version": 3
   },
   "file_extension": ".py",
   "mimetype": "text/x-python",
   "name": "python",
   "nbconvert_exporter": "python",
   "pygments_lexer": "ipython3",
   "version": "3.7.6"
  }
 },
 "nbformat": 4,
 "nbformat_minor": 4
}
