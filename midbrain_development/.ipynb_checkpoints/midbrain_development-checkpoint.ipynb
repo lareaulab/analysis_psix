{
 "cells": [
  {
   "cell_type": "code",
   "execution_count": 1,
   "metadata": {},
   "outputs": [],
   "source": [
    "import numpy as np\n",
    "import pandas as pd\n",
    "from matplotlib import pyplot as plt\n",
    "import matplotlib as mpl\n",
    "import os\n",
    "import sys\n",
    "from tqdm import tqdm\n",
    "import psix\n",
    "\n",
    "cm = 1/2.54\n",
    "\n",
    "plt.rcParams[\"axes.edgecolor\"] = \"black\"\n",
    "plt.rcParams[\"axes.linewidth\"] = 1\n",
    "plt.rcParams[\"axes.facecolor\"] = 'white'\n",
    "\n",
    "mpl.rcParams[\"mathtext.fontset\"] = \"stix\"\n",
    "mpl.rcParams['pdf.fonttype'] = 42"
   ]
  },
  {
   "cell_type": "markdown",
   "metadata": {},
   "source": [
    "# Running Psix in mouse midbrain neurons\n",
    "\n",
    "Here we analyse a smart-seq2 dataset from [Tiklova et al (2019)](https://www.nature.com/articles/s41467-019-08453-1) that follows the development of brain neurons at different stages of development: E13.5, E15.5, E18.5, P0, P7, P15 and P90.\n",
    "\n",
    "This dataset originally consists of 1699 cells. However, after quality control and normalization, we removed many cells that either had poor coverage, or that were found to be non-neural cells (mostly oligodendrocytes). This left a total of 1067 single neurons. After preprocessing, we observe a clear trajectory of neuron development in this dataset:\n",
    "\n",
    "<img src=\"plots/PCA_neurogenesis3D_legend.png\" width=\"500\"/>"
   ]
  },
  {
   "cell_type": "markdown",
   "metadata": {},
   "source": [
    "We preprocessed the splice junctions and TPM counts with the following command:\n",
    "\n",
    "```python\n",
    "psix_object = psix.Psix()\n",
    "psix_object.junctions2psi(\n",
    "        '/mnt/lareaulab/cfbuenabadn/RNASeq/Mouse/Tiklova/SJ_tables/midbrain_neurons/',\n",
    "        '/mnt/lareaulab/cfbuenabadn/Genomes/pipeline_files/mm10_introns.tab',\n",
    "        '/mnt/lareaulab/cfbuenabadn/RNASeq/Mouse/Tiklova/tpm.tab.gz',\n",
    "        save_files_in='psix_output/'\n",
    "    )\n",
    "```\n",
    "\n",
    "The $\\hat{\\Psi}$ and mRNA counts per exon are found in \n",
    "```python \n",
    "'psix_output/psi.tab.gz'\n",
    "'psix_output/mrna.tab.gz'\n",
    "```\n",
    "\n",
    "We load it directly from github MAKE THIS HAPPEN ON GITHUB:"
   ]
  },
  {
   "cell_type": "code",
   "execution_count": 3,
   "metadata": {},
   "outputs": [
    {
     "name": "stdout",
     "output_type": "stream",
     "text": [
      "Collecting splice junctions...\n"
     ]
    },
    {
     "name": "stderr",
     "output_type": "stream",
     "text": [
      "100%|██████████| 1067/1067 [02:50<00:00,  6.26it/s]\n"
     ]
    },
    {
     "name": "stdout",
     "output_type": "stream",
     "text": [
      "Obtaining PSI tables...\n",
      "Reading TPM and transforming to mRNA counts...\n"
     ]
    },
    {
     "name": "stderr",
     "output_type": "stream",
     "text": [
      "100%|██████████| 1067/1067 [00:47<00:00, 22.47it/s]\n"
     ]
    },
    {
     "name": "stdout",
     "output_type": "stream",
     "text": [
      "Successfully processed RNA-seq data\n"
     ]
    }
   ],
   "source": [
    "# psix_object = psix.Psix()\n",
    "# psix_object.junctions2psi(\n",
    "#         '/mnt/lareaulab/cfbuenabadn/RNASeq/Mouse/Tiklova/SJ_tables/midbrain_neurons/',\n",
    "#         '/mnt/lareaulab/cfbuenabadn/Genomes/pipeline_files/mm10_introns.tab',\n",
    "#         '/mnt/lareaulab/cfbuenabadn/RNASeq/Mouse/Tiklova/tpm.tab.gz',\n",
    "#         save_files_in='psix_output/'\n",
    "#     )"
   ]
  },
  {
   "cell_type": "code",
   "execution_count": 2,
   "metadata": {},
   "outputs": [
    {
     "name": "stdout",
     "output_type": "stream",
     "text": [
      "Computing cell-cell metric...\n"
     ]
    },
    {
     "name": "stderr",
     "output_type": "stream",
     "text": [
      "100%|██████████| 1067/1067 [00:00<00:00, 1535.31it/s]"
     ]
    },
    {
     "name": "stdout",
     "output_type": "stream",
     "text": [
      "Successfully computed cell-cell metric\n",
      "Computing Psix score in 2087 exons\n"
     ]
    },
    {
     "name": "stderr",
     "output_type": "stream",
     "text": [
      "\n",
      "100%|██████████| 2087/2087 [00:19<00:00, 109.66it/s]\n"
     ]
    },
    {
     "name": "stdout",
     "output_type": "stream",
     "text": [
      "Successfully computed Psix score of exons.\n",
      "Estimating p-values. This might take a while...\n"
     ]
    },
    {
     "name": "stderr",
     "output_type": "stream",
     "text": [
      "100%|██████████| 25/25 [08:34<00:00, 20.58s/it]  \n"
     ]
    },
    {
     "name": "stdout",
     "output_type": "stream",
     "text": [
      "Successfully estimated p-values\n"
     ]
    }
   ],
   "source": [
    "psix_object = psix.Psix(psi_table = 'psix_output/psi.tab.gz',\n",
    "                        mrna_table = 'psix_output/mrna.tab.gz')\n",
    "\n",
    "psix_object.run_psix(latent='data/pc3_rd.tab.gz', n_jobs=25)"
   ]
  },
  {
   "cell_type": "markdown",
   "metadata": {},
   "source": [
    "These are the top scoring exons:"
   ]
  },
  {
   "cell_type": "code",
   "execution_count": 6,
   "metadata": {},
   "outputs": [
    {
     "data": {
      "text/html": [
       "<div>\n",
       "<style scoped>\n",
       "    .dataframe tbody tr th:only-of-type {\n",
       "        vertical-align: middle;\n",
       "    }\n",
       "\n",
       "    .dataframe tbody tr th {\n",
       "        vertical-align: top;\n",
       "    }\n",
       "\n",
       "    .dataframe thead th {\n",
       "        text-align: right;\n",
       "    }\n",
       "</style>\n",
       "<table border=\"1\" class=\"dataframe\">\n",
       "  <thead>\n",
       "    <tr style=\"text-align: right;\">\n",
       "      <th></th>\n",
       "      <th>psix_score</th>\n",
       "      <th>pvals</th>\n",
       "      <th>qvals</th>\n",
       "      <th>bins</th>\n",
       "    </tr>\n",
       "  </thead>\n",
       "  <tbody>\n",
       "    <tr>\n",
       "      <th>Mapt_1</th>\n",
       "      <td>2.709381</td>\n",
       "      <td>0.0005</td>\n",
       "      <td>0.001879</td>\n",
       "      <td>mean_4_var_4</td>\n",
       "    </tr>\n",
       "    <tr>\n",
       "      <th>Ndrg4_1</th>\n",
       "      <td>2.359093</td>\n",
       "      <td>0.0005</td>\n",
       "      <td>0.001879</td>\n",
       "      <td>mean_4_var_4</td>\n",
       "    </tr>\n",
       "    <tr>\n",
       "      <th>Dbn1_1</th>\n",
       "      <td>2.302729</td>\n",
       "      <td>0.0005</td>\n",
       "      <td>0.001879</td>\n",
       "      <td>mean_3_var_3</td>\n",
       "    </tr>\n",
       "    <tr>\n",
       "      <th>Mapt_3</th>\n",
       "      <td>1.964202</td>\n",
       "      <td>0.0005</td>\n",
       "      <td>0.001879</td>\n",
       "      <td>mean_4_var_1</td>\n",
       "    </tr>\n",
       "    <tr>\n",
       "      <th>Gabrg2_1</th>\n",
       "      <td>1.896363</td>\n",
       "      <td>0.0005</td>\n",
       "      <td>0.001879</td>\n",
       "      <td>mean_2_var_5</td>\n",
       "    </tr>\n",
       "    <tr>\n",
       "      <th>Cadm1_10</th>\n",
       "      <td>1.576869</td>\n",
       "      <td>0.0005</td>\n",
       "      <td>0.001879</td>\n",
       "      <td>mean_4_var_2</td>\n",
       "    </tr>\n",
       "    <tr>\n",
       "      <th>Ncam1_6</th>\n",
       "      <td>1.456006</td>\n",
       "      <td>0.0005</td>\n",
       "      <td>0.001879</td>\n",
       "      <td>mean_4_var_2</td>\n",
       "    </tr>\n",
       "    <tr>\n",
       "      <th>Dst_5</th>\n",
       "      <td>1.449287</td>\n",
       "      <td>0.0005</td>\n",
       "      <td>0.001879</td>\n",
       "      <td>mean_1_var_5</td>\n",
       "    </tr>\n",
       "    <tr>\n",
       "      <th>Cadm1_3</th>\n",
       "      <td>1.411169</td>\n",
       "      <td>0.0005</td>\n",
       "      <td>0.001879</td>\n",
       "      <td>mean_2_var_5</td>\n",
       "    </tr>\n",
       "    <tr>\n",
       "      <th>Morf4l2_7</th>\n",
       "      <td>1.363965</td>\n",
       "      <td>0.0005</td>\n",
       "      <td>0.001879</td>\n",
       "      <td>mean_3_var_3</td>\n",
       "    </tr>\n",
       "  </tbody>\n",
       "</table>\n",
       "</div>"
      ],
      "text/plain": [
       "           psix_score   pvals     qvals          bins\n",
       "Mapt_1       2.709381  0.0005  0.001879  mean_4_var_4\n",
       "Ndrg4_1      2.359093  0.0005  0.001879  mean_4_var_4\n",
       "Dbn1_1       2.302729  0.0005  0.001879  mean_3_var_3\n",
       "Mapt_3       1.964202  0.0005  0.001879  mean_4_var_1\n",
       "Gabrg2_1     1.896363  0.0005  0.001879  mean_2_var_5\n",
       "Cadm1_10     1.576869  0.0005  0.001879  mean_4_var_2\n",
       "Ncam1_6      1.456006  0.0005  0.001879  mean_4_var_2\n",
       "Dst_5        1.449287  0.0005  0.001879  mean_1_var_5\n",
       "Cadm1_3      1.411169  0.0005  0.001879  mean_2_var_5\n",
       "Morf4l2_7    1.363965  0.0005  0.001879  mean_3_var_3"
      ]
     },
     "execution_count": 6,
     "metadata": {},
     "output_type": "execute_result"
    }
   ],
   "source": [
    "psix_object.psix_results.head(n=10)"
   ]
  },
  {
   "cell_type": "code",
   "execution_count": 4,
   "metadata": {},
   "outputs": [
    {
     "name": "stderr",
     "output_type": "stream",
     "text": [
      "100%|██████████| 2087/2087 [00:11<00:00, 188.00it/s]\n"
     ]
    },
    {
     "data": {
      "image/png": "[encoded data removed]",
      "text/plain": [
       "<Figure size 226.772x141.732 with 1 Axes>"
      ]
     },
     "metadata": {
      "needs_background": "light"
     },
     "output_type": "display_data"
    }
   ],
   "source": [
    "psix_results = psix_object.psix_results\n",
    "psix_results['bins'] = ['']*len(psix_results.index)\n",
    "\n",
    "for mean in psix_object.bins.keys():\n",
    "    for var in psix_object.bins[mean].keys():\n",
    "        for exon in psix_object.bins[mean][var]:\n",
    "            psix_results.loc[exon, 'bins'] = mean +'_' + var\n",
    "            \n",
    "fig = plt.figure(figsize=(8*cm, 5*cm))\n",
    "ax  = plt.subplot(1,1,1)\n",
    "i = 1\n",
    "\n",
    "ax.scatter([100], [-0.05], c='gray', label='random exons', s=10)\n",
    "\n",
    "for mean_var in tqdm(psix_results.sort_values('psix_score')[::-1].bins):\n",
    "    mean = mean_var[:6]\n",
    "    var = mean_var[7:]\n",
    "    subset = np.random.choice(psix_object.random_scores[mean][var], 50, replace=False)\n",
    "    ax.scatter([i]*50, subset, c='gray', alpha=0.02, s=10, edgecolors='none')\n",
    "    i += 1\n",
    "\n",
    "\n",
    "plt.text(100, psix_results.loc['Mapt_1'].psix_score-0.05, 'Mapt, exon 10', c='black', fontsize=7)   \n",
    "ax.plot([20, 80], [psix_results.loc['Mapt_1'].psix_score, psix_results.loc['Mapt_1'].psix_score],c='black', linewidth=0.7)\n",
    "\n",
    "plt.text(101, psix_results.loc['Mapt_1'].psix_score-0.25, 'Ndrg4', c='black', fontsize=7)   \n",
    "ax.plot([20, 81], [psix_results.loc['Ndrg4_1'].psix_score, psix_results.loc['Mapt_1'].psix_score-0.2],c='black', linewidth=0.7)\n",
    "\n",
    "plt.text(102, psix_results.loc['Mapt_1'].psix_score-0.45, 'Dbn1', c='black', fontsize=7)   \n",
    "ax.plot([20, 82], [psix_results.loc['Dbn1_1'].psix_score, psix_results.loc['Mapt_1'].psix_score-0.4],c='black', linewidth=0.7)\n",
    "\n",
    "plt.text(103, psix_results.loc['Mapt_1'].psix_score-0.65, 'Mapt, exon 2', c='black', fontsize=7)    \n",
    "ax.plot([24, 83], [psix_results.loc['Mapt_3'].psix_score, psix_results.loc['Mapt_1'].psix_score-0.6],c='black', linewidth=0.7)\n",
    "\n",
    "plt.text(104, psix_results.loc['Mapt_1'].psix_score-0.85, 'Gabrg2', c='black', fontsize=7)   \n",
    "ax.plot([25, 84], [psix_results.loc['Gabrg2_1'].psix_score, psix_results.loc['Mapt_1'].psix_score-0.8],c='black', linewidth=0.7)\n",
    "\n",
    "plt.text(105, psix_results.loc['Mapt_1'].psix_score-1.05, 'Cadm1', c='black', fontsize=7)    \n",
    "ax.plot([24, 85], [psix_results.loc['Cadm1_10'].psix_score, psix_results.loc['Mapt_1'].psix_score-1],c='black', linewidth=0.7)\n",
    "\n",
    "plt.text(106, psix_results.loc['Mapt_1'].psix_score-1.25, 'Ncam', c='black', fontsize=7)   \n",
    "ax.plot([25, 86], [psix_results.loc['Ncam1_6'].psix_score, psix_results.loc['Mapt_1'].psix_score-1.2],c='black', linewidth=0.7)\n",
    "\n",
    "plt.text(107, psix_results.loc['Mapt_1'].psix_score-1.45, 'Dst', c='black', fontsize=7)    \n",
    "ax.plot([24, 87], [psix_results.loc['Dst_5'].psix_score, psix_results.loc['Mapt_1'].psix_score-1.4],c='black', linewidth=0.7)\n",
    "\n",
    "plt.text(109, psix_results.loc['Mapt_1'].psix_score-1.65, 'Morf4l2', c='black', fontsize=7)   \n",
    "ax.plot([25, 89], [psix_results.loc['Morf4l2_7'].psix_score, psix_results.loc['Mapt_1'].psix_score-1.6],c='black', linewidth=0.7)\n",
    "\n",
    "plt.text(129, psix_results.loc['Mapt_1'].psix_score-1.85, 'Cadps, exon 23', c='black', fontsize=7)   \n",
    "ax.plot([55, 109], [psix_results.loc['Cadps_7'].psix_score, psix_results.loc['Mapt_1'].psix_score-1.8],c='black', linewidth=0.7)\n",
    "\n",
    "\n",
    "plt.text(177, psix_results.loc['Mapt_1'].psix_score-2.05, 'Rpn2', c='black', fontsize=7)   \n",
    "ax.plot([65, 157], [psix_results.loc['Rpn2_3'].psix_score, psix_results.loc['Mapt_1'].psix_score-2],c='black', linewidth=0.7)\n",
    "\n",
    "plt.text(214, psix_results.loc['Mapt_1'].psix_score-2.25, 'Cadps, exon 20', c='black', fontsize=7)   \n",
    "ax.plot([105, 194], [psix_results.loc['Cadps_2'].psix_score, psix_results.loc['Mapt_1'].psix_score-2.2],c='black', linewidth=0.7)\n",
    "\n",
    "plt.text(331, psix_results.loc['Mapt_1'].psix_score-2.45, 'Tecr', c='black', fontsize=7)   \n",
    "ax.plot([125, 311], [psix_results.loc['Tecr_6'].psix_score, psix_results.loc['Mapt_1'].psix_score-2.4],c='black', linewidth=0.7)\n",
    "\n",
    "ax.scatter(np.arange(1, len(psix_results.index)+1), psix_results.sort_values('psix_score')[::-1].psix_score, c = 'navy',\n",
    "          label='exons', s=10, zorder=200, edgecolors='none')\n",
    "    \n",
    "plt.xlabel('Psix rank', fontsize=12)\n",
    "plt.ylabel(r'$\\Psi_{\\xi}$', fontsize=12)\n",
    "\n",
    "ax.spines[\"right\"].set_visible(False)\n",
    "ax.spines[\"top\"].set_visible(False)\n",
    "ax.tick_params(labelsize=12, length=5)\n",
    "plt.legend(frameon=False, fontsize=8)\n",
    "\n",
    "plt.savefig('plots/psix_scores.png', bbox_inches='tight', res=20000, dpi =2000)"
   ]
  },
  {
   "cell_type": "code",
   "execution_count": 5,
   "metadata": {},
   "outputs": [
    {
     "name": "stdout",
     "output_type": "stream",
     "text": [
      "Successfully computed neighbors\n"
     ]
    },
    {
     "data": {
      "image/png": "[encoded data removed]",
      "text/plain": [
       "<Figure size 240x270 with 4 Axes>"
      ]
     },
     "metadata": {
      "needs_background": "light"
     },
     "output_type": "display_data"
    }
   ],
   "source": [
    "psix_object.compute_modules(plot = True, plot_name = 'plots/exon_modules.png')"
   ]
  },
  {
   "cell_type": "code",
   "execution_count": 11,
   "metadata": {},
   "outputs": [],
   "source": [
    "psix_object.save_psix_object(psix_dir = 'psix_output', overwrite=True)"
   ]
  },
  {
   "cell_type": "code",
   "execution_count": 2,
   "metadata": {},
   "outputs": [
    {
     "ename": "AttributeError",
     "evalue": "'DataFrame' object has no attribute 'Modules'",
     "output_type": "error",
     "traceback": [
      "\u001b[0;31m---------------------------------------------------------------------------\u001b[0m",
      "\u001b[0;31mAttributeError\u001b[0m                            Traceback (most recent call last)",
      "\u001b[0;32m<ipython-input-2-f212b2e25098>\u001b[0m in \u001b[0;36m<module>\u001b[0;34m\u001b[0m\n\u001b[0;32m----> 1\u001b[0;31m \u001b[0mpsix_object\u001b[0m \u001b[0;34m=\u001b[0m \u001b[0mpsix\u001b[0m\u001b[0;34m.\u001b[0m\u001b[0mPsix\u001b[0m\u001b[0;34m(\u001b[0m\u001b[0mpsix_object\u001b[0m \u001b[0;34m=\u001b[0m \u001b[0;34m'psix_output'\u001b[0m\u001b[0;34m)\u001b[0m\u001b[0;34m\u001b[0m\u001b[0;34m\u001b[0m\u001b[0m\n\u001b[0m",
      "\u001b[0;32m~/anaconda3/lib/python3.7/site-packages/psix/psix.py\u001b[0m in \u001b[0;36m__init__\u001b[0;34m(self, psix_object, psi_table, mrna_table)\u001b[0m\n\u001b[1;32m     53\u001b[0m             \u001b[0mself\u001b[0m\u001b[0;34m.\u001b[0m\u001b[0madata\u001b[0m \u001b[0;34m=\u001b[0m \u001b[0manndata\u001b[0m\u001b[0;34m.\u001b[0m\u001b[0mread_h5ad\u001b[0m\u001b[0;34m(\u001b[0m\u001b[0mpsix_object\u001b[0m\u001b[0;34m+\u001b[0m\u001b[0;34m'/adata.gz'\u001b[0m\u001b[0;34m)\u001b[0m\u001b[0;34m\u001b[0m\u001b[0;34m\u001b[0m\u001b[0m\n\u001b[1;32m     54\u001b[0m             \u001b[0mself\u001b[0m\u001b[0;34m.\u001b[0m\u001b[0mpsix_results\u001b[0m \u001b[0;34m=\u001b[0m \u001b[0mpd\u001b[0m\u001b[0;34m.\u001b[0m\u001b[0mread_csv\u001b[0m\u001b[0;34m(\u001b[0m\u001b[0mpsix_object\u001b[0m\u001b[0;34m+\u001b[0m\u001b[0;34m'/psix_results.tab.gz'\u001b[0m\u001b[0;34m,\u001b[0m \u001b[0msep\u001b[0m\u001b[0;34m=\u001b[0m\u001b[0;34m'\\t'\u001b[0m\u001b[0;34m,\u001b[0m \u001b[0mindex_col\u001b[0m\u001b[0;34m=\u001b[0m\u001b[0;36m0\u001b[0m\u001b[0;34m)\u001b[0m\u001b[0;34m\u001b[0m\u001b[0;34m\u001b[0m\u001b[0m\n\u001b[0;32m---> 55\u001b[0;31m             \u001b[0mself\u001b[0m\u001b[0;34m.\u001b[0m\u001b[0mmodules\u001b[0m \u001b[0;34m=\u001b[0m \u001b[0mpd\u001b[0m\u001b[0;34m.\u001b[0m\u001b[0mread_csv\u001b[0m\u001b[0;34m(\u001b[0m\u001b[0mpsix_object\u001b[0m\u001b[0;34m+\u001b[0m\u001b[0;34m'/modules.tab.gz'\u001b[0m\u001b[0;34m,\u001b[0m \u001b[0msep\u001b[0m\u001b[0;34m=\u001b[0m\u001b[0;34m'\\t'\u001b[0m\u001b[0;34m,\u001b[0m \u001b[0mindex_col\u001b[0m\u001b[0;34m=\u001b[0m\u001b[0;36m0\u001b[0m\u001b[0;34m)\u001b[0m\u001b[0;34m.\u001b[0m\u001b[0mModules\u001b[0m\u001b[0;34m\u001b[0m\u001b[0;34m\u001b[0m\u001b[0m\n\u001b[0m\u001b[1;32m     56\u001b[0m \u001b[0;34m\u001b[0m\u001b[0m\n\u001b[1;32m     57\u001b[0m         \u001b[0;32melse\u001b[0m\u001b[0;34m:\u001b[0m\u001b[0;34m\u001b[0m\u001b[0;34m\u001b[0m\u001b[0m\n",
      "\u001b[0;32m~/.local/lib/python3.7/site-packages/pandas/core/generic.py\u001b[0m in \u001b[0;36m__getattr__\u001b[0;34m(self, name)\u001b[0m\n\u001b[1;32m   5272\u001b[0m             \u001b[0;32mif\u001b[0m \u001b[0mself\u001b[0m\u001b[0;34m.\u001b[0m\u001b[0m_info_axis\u001b[0m\u001b[0;34m.\u001b[0m\u001b[0m_can_hold_identifiers_and_holds_name\u001b[0m\u001b[0;34m(\u001b[0m\u001b[0mname\u001b[0m\u001b[0;34m)\u001b[0m\u001b[0;34m:\u001b[0m\u001b[0;34m\u001b[0m\u001b[0;34m\u001b[0m\u001b[0m\n\u001b[1;32m   5273\u001b[0m                 \u001b[0;32mreturn\u001b[0m \u001b[0mself\u001b[0m\u001b[0;34m[\u001b[0m\u001b[0mname\u001b[0m\u001b[0;34m]\u001b[0m\u001b[0;34m\u001b[0m\u001b[0;34m\u001b[0m\u001b[0m\n\u001b[0;32m-> 5274\u001b[0;31m             \u001b[0;32mreturn\u001b[0m \u001b[0mobject\u001b[0m\u001b[0;34m.\u001b[0m\u001b[0m__getattribute__\u001b[0m\u001b[0;34m(\u001b[0m\u001b[0mself\u001b[0m\u001b[0;34m,\u001b[0m \u001b[0mname\u001b[0m\u001b[0;34m)\u001b[0m\u001b[0;34m\u001b[0m\u001b[0;34m\u001b[0m\u001b[0m\n\u001b[0m\u001b[1;32m   5275\u001b[0m \u001b[0;34m\u001b[0m\u001b[0m\n\u001b[1;32m   5276\u001b[0m     \u001b[0;32mdef\u001b[0m \u001b[0m__setattr__\u001b[0m\u001b[0;34m(\u001b[0m\u001b[0mself\u001b[0m\u001b[0;34m,\u001b[0m \u001b[0mname\u001b[0m\u001b[0;34m:\u001b[0m \u001b[0mstr\u001b[0m\u001b[0;34m,\u001b[0m \u001b[0mvalue\u001b[0m\u001b[0;34m)\u001b[0m \u001b[0;34m->\u001b[0m \u001b[0;32mNone\u001b[0m\u001b[0;34m:\u001b[0m\u001b[0;34m\u001b[0m\u001b[0;34m\u001b[0m\u001b[0m\n",
      "\u001b[0;31mAttributeError\u001b[0m: 'DataFrame' object has no attribute 'Modules'"
     ]
    }
   ],
   "source": [
    "psix_object = psix.Psix(psix_object = 'psix_output')\n"
   ]
  },
  {
   "cell_type": "code",
   "execution_count": 12,
   "metadata": {},
   "outputs": [],
   "source": [
    "from scipy.stats import hypergeom\n",
    "from scipy.stats.mstats import zscore\n",
    "from scipy.stats import pearsonr, spearmanr\n",
    "import seaborn as sns\n",
    "\n",
    "def hyper_test(M, n, N, k):\n",
    "    '''\n",
    "    Calculates the hypergeometric test.\n",
    "    \n",
    "    Input:\n",
    "      M: Population size (total exons tested)\n",
    "      n: Successess in population (exons with p-value <= x)\n",
    "      N: Sample size (exons selected)\n",
    "      k: Successes in sample (selected exons with p-value <= x)\n",
    "    Output:\n",
    "      p_depleted: p-value of depletion from the hypergeometric test\n",
    "      p_enriched: p-value of enrichment from the hypergeometric test\n",
    "    '''\n",
    "    hpd = hypergeom(M, n, N) # Hypergeometric distribution\n",
    "    p_depleted = hpd.cdf(k)  # Get cummulative distribution up to k\n",
    "    p_enriched = hpd.sf(k-1) # Survival function up to k-1 (1 - cdf(k-1))\n",
    "    return p_depleted, p_enriched\n",
    "\n",
    "\n",
    "def test_enrichment(binding, exon_cluster):\n",
    "    M = len(binding)\n",
    "    n = binding.sum()\n",
    "    N = len(exon_cluster)\n",
    "    k = binding.loc[exon_cluster].sum()\n",
    "    p_depleted, p_enriched = hyper_test(M, n, N, k)\n",
    "    \n",
    "    enrichment = (k/N)/(n/M)\n",
    "    \n",
    "    if enrichment == 0:\n",
    "        log_enrich = -3\n",
    "    else:\n",
    "        log_enrich = np.log2(enrichment)\n",
    "        \n",
    "    \n",
    "    return p_enriched, p_depleted, log_enrich\n",
    "\n",
    "from sklearn.neighbors import NearestNeighbors\n",
    "from tqdm import tqdm\n"
   ]
  },
  {
   "cell_type": "code",
   "execution_count": 15,
   "metadata": {},
   "outputs": [],
   "source": [
    "norm_expression = pd.read_csv('data/scone_norm_tpm_extended.tab.gz', sep='\\t', index_col=0)[psix_object.latent.index]\n",
    "psi = psix_object.adata.uns['psi'].T\n",
    "modules = psix_object.modules.Modules\n",
    "clip_dir = 'data/'"
   ]
  },
  {
   "cell_type": "code",
   "execution_count": 16,
   "metadata": {},
   "outputs": [
    {
     "name": "stderr",
     "output_type": "stream",
     "text": [
      "100%|██████████| 20/20 [00:00<00:00, 64.24it/s]\n"
     ]
    },
    {
     "data": {
      "image/png": "[encoded data removed]",
      "text/plain": [
       "<Figure size 300x420 with 4 Axes>"
      ]
     },
     "metadata": {
      "needs_background": "light"
     },
     "output_type": "display_data"
    }
   ],
   "source": [
    "module_avg = pd.DataFrame()\n",
    "\n",
    "\n",
    "sf_list = ['Celf4', 'Cirbp', 'Fus', 'Lin28a', 'Mbnl1', 'Mbnl2', 'Nova1', 'Nova2', 'Ptbp1', 'Ptbp2',\n",
    "           'Rbfox1', 'Rbfox2', 'Rbfox3', 'Srsf1', 'Srsf2', 'Srsf3', 'Srsf4', 'Srsf6', 'Srsf7', 'Tardbp', 'U2af2']\n",
    "\n",
    "sf_list = [x for x in sf_list if x in norm_expression.index]\n",
    "\n",
    "for mod in range(1, 11):\n",
    "    module_avg['module_' + str(mod)] = np.nanmean(zscore(psi.loc[modules.index[modules == mod]], axis=1, \n",
    "                                             nan_policy='omit'), axis=0)\n",
    "    \n",
    "module_avg.index = psi.columns\n",
    "module_avg = module_avg.T\n",
    "\n",
    "\n",
    "module_avg_corr = pd.DataFrame(np.zeros((len(sf_list), len(module_avg.index))), \n",
    "                               index = sf_list, columns = module_avg.index)\n",
    "for sf in tqdm(sf_list):\n",
    "    for mod in module_avg.index:\n",
    "        module_avg_corr.loc[sf, mod] = pearsonr(module_avg.loc[mod],\n",
    "                                                norm_expression.loc[sf, module_avg.columns]\n",
    "        )[0]\n",
    "        \n",
    "mod_order = ['module_1', 'module_2', 'module_3', 'module_4', 'module_5',\n",
    "             'module_6', 'module_7', 'module_8', 'module_9', 'module_10']\n",
    "\n",
    "mod_cor = module_avg_corr.loc[sf_list, mod_order]\n",
    "mod_cor.columns = ['Mod 1', 'Mod 2', 'Mod 3', 'Mod 4', 'Mod 5',\n",
    "             'Mod 6', 'Mod 7', 'Mod 8', 'Mod 9', 'Mod 10']\n",
    "\n",
    "cg = sns.clustermap(mod_cor, \n",
    "               col_cluster=False,\n",
    "#               row_colors = gene_mod_colors, \n",
    "               row_cluster=True, vmin=-0.75, vmax=0.75, cmap='RdBu_r', figsize=(10/2.4, 14/2.4))\n",
    "\n",
    "cg.ax_row_dendrogram.set_visible(False)\n",
    "\n",
    "# plt.show()\n",
    "plt.savefig('plots/module_correlations.png', bbox_inches='tight', res=20000, dpi =2000)"
   ]
  },
  {
   "cell_type": "code",
   "execution_count": 60,
   "metadata": {},
   "outputs": [
    {
     "data": {
      "text/plain": [
       "array([], shape=(0, 1067), dtype=float64)"
      ]
     },
     "execution_count": 60,
     "metadata": {},
     "output_type": "execute_result"
    }
   ],
   "source": [
    "zscore(psi.loc[modules.index[modules == mod]], axis=1, \n",
    "                                             nan_policy='omit')"
   ]
  },
  {
   "cell_type": "code",
   "execution_count": 66,
   "metadata": {},
   "outputs": [
    {
     "data": {
      "text/html": [
       "<div>\n",
       "<style scoped>\n",
       "    .dataframe tbody tr th:only-of-type {\n",
       "        vertical-align: middle;\n",
       "    }\n",
       "\n",
       "    .dataframe tbody tr th {\n",
       "        vertical-align: top;\n",
       "    }\n",
       "\n",
       "    .dataframe thead th {\n",
       "        text-align: right;\n",
       "    }\n",
       "</style>\n",
       "<table border=\"1\" class=\"dataframe\">\n",
       "  <thead>\n",
       "    <tr style=\"text-align: right;\">\n",
       "      <th></th>\n",
       "      <th>SRR7408400</th>\n",
       "      <th>SRR7408401</th>\n",
       "      <th>SRR7408404</th>\n",
       "      <th>SRR7408413</th>\n",
       "      <th>SRR7408414</th>\n",
       "      <th>SRR7408418</th>\n",
       "      <th>SRR7408422</th>\n",
       "      <th>SRR7408424</th>\n",
       "      <th>SRR7408426</th>\n",
       "      <th>SRR7408427</th>\n",
       "      <th>...</th>\n",
       "      <th>SRR7410086</th>\n",
       "      <th>SRR7410088</th>\n",
       "      <th>SRR7410089</th>\n",
       "      <th>SRR7410090</th>\n",
       "      <th>SRR7410091</th>\n",
       "      <th>SRR7410092</th>\n",
       "      <th>SRR7410093</th>\n",
       "      <th>SRR7410094</th>\n",
       "      <th>SRR7410096</th>\n",
       "      <th>SRR7410097</th>\n",
       "    </tr>\n",
       "  </thead>\n",
       "  <tbody>\n",
       "    <tr>\n",
       "      <th>Mapt_1</th>\n",
       "      <td>0.0</td>\n",
       "      <td>0.0</td>\n",
       "      <td>0.0</td>\n",
       "      <td>0.000000</td>\n",
       "      <td>0.0</td>\n",
       "      <td>0.0</td>\n",
       "      <td>0.055556</td>\n",
       "      <td>0.000000</td>\n",
       "      <td>0.000000</td>\n",
       "      <td>0.068966</td>\n",
       "      <td>...</td>\n",
       "      <td>1.000000</td>\n",
       "      <td>1.000000</td>\n",
       "      <td>0.983333</td>\n",
       "      <td>1.000000</td>\n",
       "      <td>1.000000</td>\n",
       "      <td>1.000000</td>\n",
       "      <td>1.000000</td>\n",
       "      <td>1.000000</td>\n",
       "      <td>1.000000</td>\n",
       "      <td>1.000000</td>\n",
       "    </tr>\n",
       "    <tr>\n",
       "      <th>Ndrg4_1</th>\n",
       "      <td>NaN</td>\n",
       "      <td>0.0</td>\n",
       "      <td>0.0</td>\n",
       "      <td>0.000000</td>\n",
       "      <td>0.0</td>\n",
       "      <td>NaN</td>\n",
       "      <td>NaN</td>\n",
       "      <td>0.000000</td>\n",
       "      <td>0.000000</td>\n",
       "      <td>0.000000</td>\n",
       "      <td>...</td>\n",
       "      <td>0.771429</td>\n",
       "      <td>0.828571</td>\n",
       "      <td>0.909091</td>\n",
       "      <td>0.779070</td>\n",
       "      <td>0.888889</td>\n",
       "      <td>0.870130</td>\n",
       "      <td>0.609756</td>\n",
       "      <td>1.000000</td>\n",
       "      <td>0.751938</td>\n",
       "      <td>1.000000</td>\n",
       "    </tr>\n",
       "    <tr>\n",
       "      <th>Dbn1_1</th>\n",
       "      <td>0.0</td>\n",
       "      <td>0.0</td>\n",
       "      <td>0.0</td>\n",
       "      <td>0.047619</td>\n",
       "      <td>0.0</td>\n",
       "      <td>0.0</td>\n",
       "      <td>0.000000</td>\n",
       "      <td>0.000000</td>\n",
       "      <td>0.000000</td>\n",
       "      <td>0.000000</td>\n",
       "      <td>...</td>\n",
       "      <td>1.000000</td>\n",
       "      <td>1.000000</td>\n",
       "      <td>0.866667</td>\n",
       "      <td>NaN</td>\n",
       "      <td>1.000000</td>\n",
       "      <td>0.000000</td>\n",
       "      <td>0.636364</td>\n",
       "      <td>0.238095</td>\n",
       "      <td>0.000000</td>\n",
       "      <td>1.000000</td>\n",
       "    </tr>\n",
       "    <tr>\n",
       "      <th>Mapt_3</th>\n",
       "      <td>0.0</td>\n",
       "      <td>0.0</td>\n",
       "      <td>0.0</td>\n",
       "      <td>0.000000</td>\n",
       "      <td>0.0</td>\n",
       "      <td>0.0</td>\n",
       "      <td>0.000000</td>\n",
       "      <td>0.000000</td>\n",
       "      <td>0.025641</td>\n",
       "      <td>0.000000</td>\n",
       "      <td>...</td>\n",
       "      <td>0.428571</td>\n",
       "      <td>0.000000</td>\n",
       "      <td>0.454545</td>\n",
       "      <td>0.090909</td>\n",
       "      <td>0.555556</td>\n",
       "      <td>0.081081</td>\n",
       "      <td>0.000000</td>\n",
       "      <td>0.259259</td>\n",
       "      <td>0.600000</td>\n",
       "      <td>0.368421</td>\n",
       "    </tr>\n",
       "    <tr>\n",
       "      <th>Gabrg2_1</th>\n",
       "      <td>0.0</td>\n",
       "      <td>NaN</td>\n",
       "      <td>NaN</td>\n",
       "      <td>NaN</td>\n",
       "      <td>NaN</td>\n",
       "      <td>0.0</td>\n",
       "      <td>0.000000</td>\n",
       "      <td>0.000000</td>\n",
       "      <td>NaN</td>\n",
       "      <td>0.000000</td>\n",
       "      <td>...</td>\n",
       "      <td>0.750000</td>\n",
       "      <td>1.000000</td>\n",
       "      <td>1.000000</td>\n",
       "      <td>1.000000</td>\n",
       "      <td>1.000000</td>\n",
       "      <td>0.545455</td>\n",
       "      <td>1.000000</td>\n",
       "      <td>1.000000</td>\n",
       "      <td>1.000000</td>\n",
       "      <td>1.000000</td>\n",
       "    </tr>\n",
       "    <tr>\n",
       "      <th>...</th>\n",
       "      <td>...</td>\n",
       "      <td>...</td>\n",
       "      <td>...</td>\n",
       "      <td>...</td>\n",
       "      <td>...</td>\n",
       "      <td>...</td>\n",
       "      <td>...</td>\n",
       "      <td>...</td>\n",
       "      <td>...</td>\n",
       "      <td>...</td>\n",
       "      <td>...</td>\n",
       "      <td>...</td>\n",
       "      <td>...</td>\n",
       "      <td>...</td>\n",
       "      <td>...</td>\n",
       "      <td>...</td>\n",
       "      <td>...</td>\n",
       "      <td>...</td>\n",
       "      <td>...</td>\n",
       "      <td>...</td>\n",
       "      <td>...</td>\n",
       "    </tr>\n",
       "    <tr>\n",
       "      <th>Hnrnpll_nmdSE_1</th>\n",
       "      <td>NaN</td>\n",
       "      <td>NaN</td>\n",
       "      <td>0.0</td>\n",
       "      <td>NaN</td>\n",
       "      <td>0.0</td>\n",
       "      <td>NaN</td>\n",
       "      <td>0.000000</td>\n",
       "      <td>NaN</td>\n",
       "      <td>NaN</td>\n",
       "      <td>1.000000</td>\n",
       "      <td>...</td>\n",
       "      <td>0.000000</td>\n",
       "      <td>NaN</td>\n",
       "      <td>0.000000</td>\n",
       "      <td>0.000000</td>\n",
       "      <td>0.333333</td>\n",
       "      <td>1.000000</td>\n",
       "      <td>NaN</td>\n",
       "      <td>0.000000</td>\n",
       "      <td>0.000000</td>\n",
       "      <td>NaN</td>\n",
       "    </tr>\n",
       "    <tr>\n",
       "      <th>Eps15l1_5</th>\n",
       "      <td>NaN</td>\n",
       "      <td>NaN</td>\n",
       "      <td>NaN</td>\n",
       "      <td>NaN</td>\n",
       "      <td>NaN</td>\n",
       "      <td>NaN</td>\n",
       "      <td>NaN</td>\n",
       "      <td>NaN</td>\n",
       "      <td>NaN</td>\n",
       "      <td>NaN</td>\n",
       "      <td>...</td>\n",
       "      <td>1.000000</td>\n",
       "      <td>NaN</td>\n",
       "      <td>NaN</td>\n",
       "      <td>NaN</td>\n",
       "      <td>1.000000</td>\n",
       "      <td>NaN</td>\n",
       "      <td>NaN</td>\n",
       "      <td>NaN</td>\n",
       "      <td>NaN</td>\n",
       "      <td>1.000000</td>\n",
       "    </tr>\n",
       "    <tr>\n",
       "      <th>Nme3_1</th>\n",
       "      <td>1.0</td>\n",
       "      <td>0.0</td>\n",
       "      <td>1.0</td>\n",
       "      <td>NaN</td>\n",
       "      <td>NaN</td>\n",
       "      <td>NaN</td>\n",
       "      <td>NaN</td>\n",
       "      <td>0.428571</td>\n",
       "      <td>0.300000</td>\n",
       "      <td>1.000000</td>\n",
       "      <td>...</td>\n",
       "      <td>1.000000</td>\n",
       "      <td>NaN</td>\n",
       "      <td>1.000000</td>\n",
       "      <td>1.000000</td>\n",
       "      <td>0.692308</td>\n",
       "      <td>1.000000</td>\n",
       "      <td>1.000000</td>\n",
       "      <td>1.000000</td>\n",
       "      <td>1.000000</td>\n",
       "      <td>1.000000</td>\n",
       "    </tr>\n",
       "    <tr>\n",
       "      <th>Prpsap2_3</th>\n",
       "      <td>NaN</td>\n",
       "      <td>NaN</td>\n",
       "      <td>NaN</td>\n",
       "      <td>1.000000</td>\n",
       "      <td>NaN</td>\n",
       "      <td>NaN</td>\n",
       "      <td>1.000000</td>\n",
       "      <td>NaN</td>\n",
       "      <td>NaN</td>\n",
       "      <td>NaN</td>\n",
       "      <td>...</td>\n",
       "      <td>1.000000</td>\n",
       "      <td>NaN</td>\n",
       "      <td>0.692308</td>\n",
       "      <td>NaN</td>\n",
       "      <td>NaN</td>\n",
       "      <td>NaN</td>\n",
       "      <td>NaN</td>\n",
       "      <td>0.333333</td>\n",
       "      <td>NaN</td>\n",
       "      <td>NaN</td>\n",
       "    </tr>\n",
       "    <tr>\n",
       "      <th>Dlg4_3</th>\n",
       "      <td>NaN</td>\n",
       "      <td>NaN</td>\n",
       "      <td>NaN</td>\n",
       "      <td>NaN</td>\n",
       "      <td>NaN</td>\n",
       "      <td>NaN</td>\n",
       "      <td>NaN</td>\n",
       "      <td>NaN</td>\n",
       "      <td>NaN</td>\n",
       "      <td>NaN</td>\n",
       "      <td>...</td>\n",
       "      <td>NaN</td>\n",
       "      <td>NaN</td>\n",
       "      <td>1.000000</td>\n",
       "      <td>NaN</td>\n",
       "      <td>1.000000</td>\n",
       "      <td>1.000000</td>\n",
       "      <td>1.000000</td>\n",
       "      <td>0.000000</td>\n",
       "      <td>NaN</td>\n",
       "      <td>1.000000</td>\n",
       "    </tr>\n",
       "  </tbody>\n",
       "</table>\n",
       "<p>128 rows × 1067 columns</p>\n",
       "</div>"
      ],
      "text/plain": [
       "                 SRR7408400  SRR7408401  SRR7408404  SRR7408413  SRR7408414  \\\n",
       "Mapt_1                  0.0         0.0         0.0    0.000000         0.0   \n",
       "Ndrg4_1                 NaN         0.0         0.0    0.000000         0.0   \n",
       "Dbn1_1                  0.0         0.0         0.0    0.047619         0.0   \n",
       "Mapt_3                  0.0         0.0         0.0    0.000000         0.0   \n",
       "Gabrg2_1                0.0         NaN         NaN         NaN         NaN   \n",
       "...                     ...         ...         ...         ...         ...   \n",
       "Hnrnpll_nmdSE_1         NaN         NaN         0.0         NaN         0.0   \n",
       "Eps15l1_5               NaN         NaN         NaN         NaN         NaN   \n",
       "Nme3_1                  1.0         0.0         1.0         NaN         NaN   \n",
       "Prpsap2_3               NaN         NaN         NaN    1.000000         NaN   \n",
       "Dlg4_3                  NaN         NaN         NaN         NaN         NaN   \n",
       "\n",
       "                 SRR7408418  SRR7408422  SRR7408424  SRR7408426  SRR7408427  \\\n",
       "Mapt_1                  0.0    0.055556    0.000000    0.000000    0.068966   \n",
       "Ndrg4_1                 NaN         NaN    0.000000    0.000000    0.000000   \n",
       "Dbn1_1                  0.0    0.000000    0.000000    0.000000    0.000000   \n",
       "Mapt_3                  0.0    0.000000    0.000000    0.025641    0.000000   \n",
       "Gabrg2_1                0.0    0.000000    0.000000         NaN    0.000000   \n",
       "...                     ...         ...         ...         ...         ...   \n",
       "Hnrnpll_nmdSE_1         NaN    0.000000         NaN         NaN    1.000000   \n",
       "Eps15l1_5               NaN         NaN         NaN         NaN         NaN   \n",
       "Nme3_1                  NaN         NaN    0.428571    0.300000    1.000000   \n",
       "Prpsap2_3               NaN    1.000000         NaN         NaN         NaN   \n",
       "Dlg4_3                  NaN         NaN         NaN         NaN         NaN   \n",
       "\n",
       "                 ...  SRR7410086  SRR7410088  SRR7410089  SRR7410090  \\\n",
       "Mapt_1           ...    1.000000    1.000000    0.983333    1.000000   \n",
       "Ndrg4_1          ...    0.771429    0.828571    0.909091    0.779070   \n",
       "Dbn1_1           ...    1.000000    1.000000    0.866667         NaN   \n",
       "Mapt_3           ...    0.428571    0.000000    0.454545    0.090909   \n",
       "Gabrg2_1         ...    0.750000    1.000000    1.000000    1.000000   \n",
       "...              ...         ...         ...         ...         ...   \n",
       "Hnrnpll_nmdSE_1  ...    0.000000         NaN    0.000000    0.000000   \n",
       "Eps15l1_5        ...    1.000000         NaN         NaN         NaN   \n",
       "Nme3_1           ...    1.000000         NaN    1.000000    1.000000   \n",
       "Prpsap2_3        ...    1.000000         NaN    0.692308         NaN   \n",
       "Dlg4_3           ...         NaN         NaN    1.000000         NaN   \n",
       "\n",
       "                 SRR7410091  SRR7410092  SRR7410093  SRR7410094  SRR7410096  \\\n",
       "Mapt_1             1.000000    1.000000    1.000000    1.000000    1.000000   \n",
       "Ndrg4_1            0.888889    0.870130    0.609756    1.000000    0.751938   \n",
       "Dbn1_1             1.000000    0.000000    0.636364    0.238095    0.000000   \n",
       "Mapt_3             0.555556    0.081081    0.000000    0.259259    0.600000   \n",
       "Gabrg2_1           1.000000    0.545455    1.000000    1.000000    1.000000   \n",
       "...                     ...         ...         ...         ...         ...   \n",
       "Hnrnpll_nmdSE_1    0.333333    1.000000         NaN    0.000000    0.000000   \n",
       "Eps15l1_5          1.000000         NaN         NaN         NaN         NaN   \n",
       "Nme3_1             0.692308    1.000000    1.000000    1.000000    1.000000   \n",
       "Prpsap2_3               NaN         NaN         NaN    0.333333         NaN   \n",
       "Dlg4_3             1.000000    1.000000    1.000000    0.000000         NaN   \n",
       "\n",
       "                 SRR7410097  \n",
       "Mapt_1             1.000000  \n",
       "Ndrg4_1            1.000000  \n",
       "Dbn1_1             1.000000  \n",
       "Mapt_3             0.368421  \n",
       "Gabrg2_1           1.000000  \n",
       "...                     ...  \n",
       "Hnrnpll_nmdSE_1         NaN  \n",
       "Eps15l1_5          1.000000  \n",
       "Nme3_1             1.000000  \n",
       "Prpsap2_3               NaN  \n",
       "Dlg4_3             1.000000  \n",
       "\n",
       "[128 rows x 1067 columns]"
      ]
     },
     "execution_count": 66,
     "metadata": {},
     "output_type": "execute_result"
    }
   ],
   "source": [
    "psi.loc[modules.index[modules == 1]]"
   ]
  },
  {
   "cell_type": "code",
   "execution_count": 64,
   "metadata": {},
   "outputs": [
    {
     "data": {
      "text/plain": [
       "Series([], Name: Module, dtype: int64)"
      ]
     },
     "execution_count": 64,
     "metadata": {},
     "output_type": "execute_result"
    }
   ],
   "source": [
    "modules"
   ]
  },
  {
   "cell_type": "code",
   "execution_count": 8,
   "metadata": {},
   "outputs": [],
   "source": [
    "modules_old = pd.read_csv('~/psix_project/analysis_psix/Mouse_Midbrain_Development/psix_3D/modules_3D.tab.gz', sep='\\t', index_col=0).Module\n"
   ]
  },
  {
   "cell_type": "code",
   "execution_count": 9,
   "metadata": {},
   "outputs": [
    {
     "data": {
      "text/plain": [
       "Mapt_1            4\n",
       "Ndrg4_1           4\n",
       "Dbn1_1            4\n",
       "Mapt_3            4\n",
       "Gabrg2_1          4\n",
       "                 ..\n",
       "Dlg4_3            4\n",
       "Hnrnpd_nmdSE_1    5\n",
       "Oaz2_1            3\n",
       "Dmtf1_7           3\n",
       "Arfgap1_5         6\n",
       "Name: Module, Length: 798, dtype: int64"
      ]
     },
     "execution_count": 9,
     "metadata": {},
     "output_type": "execute_result"
    }
   ],
   "source": [
    "modules_old"
   ]
  },
  {
   "cell_type": "code",
   "execution_count": 10,
   "metadata": {},
   "outputs": [
    {
     "data": {
      "text/html": [
       "<div>\n",
       "<style scoped>\n",
       "    .dataframe tbody tr th:only-of-type {\n",
       "        vertical-align: middle;\n",
       "    }\n",
       "\n",
       "    .dataframe tbody tr th {\n",
       "        vertical-align: top;\n",
       "    }\n",
       "\n",
       "    .dataframe thead th {\n",
       "        text-align: right;\n",
       "    }\n",
       "</style>\n",
       "<table border=\"1\" class=\"dataframe\">\n",
       "  <thead>\n",
       "    <tr style=\"text-align: right;\">\n",
       "      <th></th>\n",
       "      <th>Modules</th>\n",
       "    </tr>\n",
       "  </thead>\n",
       "  <tbody>\n",
       "    <tr>\n",
       "      <th>Mapt_1</th>\n",
       "      <td>4</td>\n",
       "    </tr>\n",
       "    <tr>\n",
       "      <th>Ndrg4_1</th>\n",
       "      <td>4</td>\n",
       "    </tr>\n",
       "    <tr>\n",
       "      <th>Dbn1_1</th>\n",
       "      <td>4</td>\n",
       "    </tr>\n",
       "    <tr>\n",
       "      <th>Mapt_3</th>\n",
       "      <td>4</td>\n",
       "    </tr>\n",
       "    <tr>\n",
       "      <th>Gabrg2_1</th>\n",
       "      <td>4</td>\n",
       "    </tr>\n",
       "    <tr>\n",
       "      <th>...</th>\n",
       "      <td>...</td>\n",
       "    </tr>\n",
       "    <tr>\n",
       "      <th>Dlg4_3</th>\n",
       "      <td>4</td>\n",
       "    </tr>\n",
       "    <tr>\n",
       "      <th>Hnrnpd_nmdSE_1</th>\n",
       "      <td>5</td>\n",
       "    </tr>\n",
       "    <tr>\n",
       "      <th>Oaz2_1</th>\n",
       "      <td>3</td>\n",
       "    </tr>\n",
       "    <tr>\n",
       "      <th>Dmtf1_7</th>\n",
       "      <td>3</td>\n",
       "    </tr>\n",
       "    <tr>\n",
       "      <th>Arfgap1_5</th>\n",
       "      <td>6</td>\n",
       "    </tr>\n",
       "  </tbody>\n",
       "</table>\n",
       "<p>798 rows × 1 columns</p>\n",
       "</div>"
      ],
      "text/plain": [
       "                Modules\n",
       "Mapt_1                4\n",
       "Ndrg4_1               4\n",
       "Dbn1_1                4\n",
       "Mapt_3                4\n",
       "Gabrg2_1              4\n",
       "...                 ...\n",
       "Dlg4_3                4\n",
       "Hnrnpd_nmdSE_1        5\n",
       "Oaz2_1                3\n",
       "Dmtf1_7               3\n",
       "Arfgap1_5             6\n",
       "\n",
       "[798 rows x 1 columns]"
      ]
     },
     "execution_count": 10,
     "metadata": {},
     "output_type": "execute_result"
    }
   ],
   "source": [
    "psix_object.modules.loc[modules_old.index]"
   ]
  },
  {
   "cell_type": "code",
   "execution_count": 8,
   "metadata": {},
   "outputs": [
    {
     "data": {
      "text/plain": [
       "0    0\n",
       "1    1\n",
       "2    2\n",
       "dtype: int64"
      ]
     },
     "execution_count": 8,
     "metadata": {},
     "output_type": "execute_result"
    }
   ],
   "source": [
    "pd.Series([0, 1, 2])"
   ]
  },
  {
   "cell_type": "code",
   "execution_count": 77,
   "metadata": {},
   "outputs": [
    {
     "data": {
      "text/plain": [
       "<matplotlib.collections.PathCollection at 0x7f82f01ccbd0>"
      ]
     },
     "execution_count": 77,
     "metadata": {},
     "output_type": "execute_result"
    },
    {
     "data": {
      "image/png": "[encoded data removed]",
      "text/plain": [
       "<Figure size 432x288 with 1 Axes>"
      ]
     },
     "metadata": {
      "needs_background": "light"
     },
     "output_type": "display_data"
    }
   ],
   "source": [
    "plt.scatter(psix_object.latent.PC_1, psix_object.latent.PC_2, c=psi.loc[modules.loc[modules == 4].index].mean(axis=0))"
   ]
  },
  {
   "cell_type": "code",
   "execution_count": 75,
   "metadata": {},
   "outputs": [
    {
     "data": {
      "text/html": [
       "<div>\n",
       "<style scoped>\n",
       "    .dataframe tbody tr th:only-of-type {\n",
       "        vertical-align: middle;\n",
       "    }\n",
       "\n",
       "    .dataframe tbody tr th {\n",
       "        vertical-align: top;\n",
       "    }\n",
       "\n",
       "    .dataframe thead th {\n",
       "        text-align: right;\n",
       "    }\n",
       "</style>\n",
       "<table border=\"1\" class=\"dataframe\">\n",
       "  <thead>\n",
       "    <tr style=\"text-align: right;\">\n",
       "      <th></th>\n",
       "      <th>PC_1</th>\n",
       "      <th>PC_2</th>\n",
       "      <th>PC_3</th>\n",
       "    </tr>\n",
       "  </thead>\n",
       "  <tbody>\n",
       "    <tr>\n",
       "      <th>SRR7408400</th>\n",
       "      <td>-6.240327</td>\n",
       "      <td>-4.277249</td>\n",
       "      <td>-0.403321</td>\n",
       "    </tr>\n",
       "    <tr>\n",
       "      <th>SRR7408401</th>\n",
       "      <td>-7.372577</td>\n",
       "      <td>-6.025102</td>\n",
       "      <td>0.572265</td>\n",
       "    </tr>\n",
       "    <tr>\n",
       "      <th>SRR7408404</th>\n",
       "      <td>-8.782844</td>\n",
       "      <td>-7.293380</td>\n",
       "      <td>1.115419</td>\n",
       "    </tr>\n",
       "    <tr>\n",
       "      <th>SRR7408413</th>\n",
       "      <td>-9.185802</td>\n",
       "      <td>-5.875190</td>\n",
       "      <td>0.845184</td>\n",
       "    </tr>\n",
       "    <tr>\n",
       "      <th>SRR7408414</th>\n",
       "      <td>-9.207630</td>\n",
       "      <td>-6.888072</td>\n",
       "      <td>2.156382</td>\n",
       "    </tr>\n",
       "    <tr>\n",
       "      <th>...</th>\n",
       "      <td>...</td>\n",
       "      <td>...</td>\n",
       "      <td>...</td>\n",
       "    </tr>\n",
       "    <tr>\n",
       "      <th>SRR7410092</th>\n",
       "      <td>10.090269</td>\n",
       "      <td>2.371391</td>\n",
       "      <td>5.405968</td>\n",
       "    </tr>\n",
       "    <tr>\n",
       "      <th>SRR7410093</th>\n",
       "      <td>12.939758</td>\n",
       "      <td>-2.156893</td>\n",
       "      <td>-2.627012</td>\n",
       "    </tr>\n",
       "    <tr>\n",
       "      <th>SRR7410094</th>\n",
       "      <td>10.024644</td>\n",
       "      <td>1.577898</td>\n",
       "      <td>9.207924</td>\n",
       "    </tr>\n",
       "    <tr>\n",
       "      <th>SRR7410096</th>\n",
       "      <td>12.644380</td>\n",
       "      <td>-3.522850</td>\n",
       "      <td>-1.078903</td>\n",
       "    </tr>\n",
       "    <tr>\n",
       "      <th>SRR7410097</th>\n",
       "      <td>9.996798</td>\n",
       "      <td>-0.077873</td>\n",
       "      <td>-0.546511</td>\n",
       "    </tr>\n",
       "  </tbody>\n",
       "</table>\n",
       "<p>1067 rows × 3 columns</p>\n",
       "</div>"
      ],
      "text/plain": [
       "                 PC_1      PC_2      PC_3\n",
       "SRR7408400  -6.240327 -4.277249 -0.403321\n",
       "SRR7408401  -7.372577 -6.025102  0.572265\n",
       "SRR7408404  -8.782844 -7.293380  1.115419\n",
       "SRR7408413  -9.185802 -5.875190  0.845184\n",
       "SRR7408414  -9.207630 -6.888072  2.156382\n",
       "...               ...       ...       ...\n",
       "SRR7410092  10.090269  2.371391  5.405968\n",
       "SRR7410093  12.939758 -2.156893 -2.627012\n",
       "SRR7410094  10.024644  1.577898  9.207924\n",
       "SRR7410096  12.644380 -3.522850 -1.078903\n",
       "SRR7410097   9.996798 -0.077873 -0.546511\n",
       "\n",
       "[1067 rows x 3 columns]"
      ]
     },
     "execution_count": 75,
     "metadata": {},
     "output_type": "execute_result"
    }
   ],
   "source": [
    "psix_object.latent"
   ]
  },
  {
   "cell_type": "code",
   "execution_count": null,
   "metadata": {},
   "outputs": [],
   "source": []
  }
 ],
 "metadata": {
  "kernelspec": {
   "display_name": "Python 3",
   "language": "python",
   "name": "python3"
  },
  "language_info": {
   "codemirror_mode": {
    "name": "ipython",
    "version": 3
   },
   "file_extension": ".py",
   "mimetype": "text/x-python",
   "name": "python",
   "nbconvert_exporter": "python",
   "pygments_lexer": "ipython3",
   "version": "3.7.6"
  }
 },
 "nbformat": 4,
 "nbformat_minor": 4
}
