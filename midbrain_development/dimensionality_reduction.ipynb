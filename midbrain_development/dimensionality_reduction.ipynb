{
 "cells": [
  {
   "cell_type": "code",
   "execution_count": 1,
   "metadata": {},
   "outputs": [],
   "source": [
    "import numpy as np\n",
    "import pandas as pd\n",
    "from matplotlib import pyplot as plt\n",
    "import os\n",
    "from sklearn.decomposition import PCA\n",
    "from sklearn.neighbors import NearestNeighbors\n",
    "from tqdm import tqdm\n",
    "from sklearn.preprocessing import StandardScaler\n",
    "\n",
    "\n",
    "cm = 1/2.54\n",
    "\n",
    "plt.rcParams[\"axes.edgecolor\"] = \"black\"\n",
    "plt.rcParams[\"axes.linewidth\"] = 1\n",
    "plt.rcParams[\"axes.facecolor\"] = 'white'\n",
    "\n",
    "import matplotlib as mpl\n",
    "import numpy as np\n",
    "from matplotlib import pyplot as plt\n",
    "\n",
    "mpl.rcParams[\"mathtext.fontset\"] = \"stix\"\n",
    "mpl.rcParams['pdf.fonttype'] = 42"
   ]
  },
  {
   "cell_type": "code",
   "execution_count": 3,
   "metadata": {},
   "outputs": [],
   "source": [
    "norm_tpm = pd.read_csv('data/scone_norm_tpm.tab.gz', sep='\\t', index_col=0)\n",
    "glia = norm_tpm.columns[(norm_tpm.loc['Hepacam'] >= 1) | (norm_tpm.loc['Ednrb'] >= 1)  | (norm_tpm.loc['Olig1'] >= 1) | (norm_tpm.loc['Ramp1'] >= 1) | (norm_tpm.loc['Aldh1l1'] >= 1)]\n",
    "neurogenesis_cells = [x for x in norm_tpm.columns if x not in glia]\n",
    "norm_tpm_neuro = norm_tpm[neurogenesis_cells]\n",
    "\n",
    "high_expression = norm_tpm_neuro.index[norm_tpm_neuro.mean(axis=1) >= 0.1]\n",
    "fano = (norm_tpm_neuro.loc[high_expression].var(axis=1)/norm_tpm_neuro.loc[high_expression].mean(axis=1)).sort_values()\n",
    "pca_norm_tiklova = PCA(n_components=30)\n",
    "\n",
    "scaled_counts = pd.DataFrame(StandardScaler().fit_transform(norm_tpm_neuro.loc[fano.index[-1000:]].T).T,\n",
    "                             index = fano.index[-1000:], columns = norm_tpm_neuro.columns)\n",
    "\n",
    "# pca_norm_tiklova = pca_norm_tiklova.fit(norm_tpm_neuro.loc[var_genes & norm_tpm_neuro.index].T)\n",
    "\n",
    "# pca_norm_tiklova = pca_norm_tiklova.fit_transform(norm_tpm_neuro.loc[var_genes & norm_tpm_neuro.index].T)\n",
    "\n",
    "pca_norm_tiklova = pca_norm_tiklova.fit_transform(scaled_counts.T)\n",
    "\n",
    "\n",
    "rd = pd.DataFrame()\n",
    "for i in range(30):\n",
    "    rd['PC_' + str(i+1)] = pca_norm_tiklova.T[i]\n",
    "\n",
    "rd.index = neurogenesis_cells\n",
    "rd.PC_2 = - rd.PC_2\n"
   ]
  },
  {
   "cell_type": "code",
   "execution_count": 8,
   "metadata": {},
   "outputs": [
    {
     "data": {
      "text/plain": [
       "<Figure size 432x288 with 0 Axes>"
      ]
     },
     "metadata": {},
     "output_type": "display_data"
    },
    {
     "data": {
      "image/png": "[encoded data removed]",
      "text/plain": [
       "<Figure size 255.118x191.339 with 1 Axes>"
      ]
     },
     "metadata": {
      "needs_background": "light"
     },
     "output_type": "display_data"
    }
   ],
   "source": [
    "\n",
    "meta = pd.read_csv('data/preprocess/SraRunTable.txt.gz', index_col=0)\n",
    "\n",
    "from matplotlib import pyplot as plt\n",
    "colores = []\n",
    "for cell in meta.loc[rd.index].Age:\n",
    "    if cell == 'embryonic day 13.5':\n",
    "        colores.append('darkred')\n",
    "    if cell == 'embryonic day 15.5':\n",
    "        colores.append('darkorange')\n",
    "    if cell == 'embryonic day 18.5':\n",
    "        colores.append('forestgreen')\n",
    "    if cell == 'postnatal day 1':\n",
    "        colores.append('skyblue')\n",
    "    if cell == 'postnatal day 7':\n",
    "        colores.append('indigo')\n",
    "    if cell == 'postnatal day 90':\n",
    "        colores.append('navy')\n",
    "        \n",
    "# meta = pd.read_csv('../SraRunTable.txt.gz', index_col=0)\n",
    "# rd = pd.read_csv('tables/pc3_rd.tab.gz', sep='\\t', index_col=0)\n",
    "\n",
    "# from matplotlib import rcParams\n",
    "# rcParams.update({'figure.autolayout': True})\n",
    "\n",
    "\n",
    "from matplotlib import pyplot as plt\n",
    "colores = []\n",
    "for cell in meta.loc[rd.index].Age:\n",
    "    if cell == 'embryonic day 13.5':\n",
    "        colores.append('darkred')\n",
    "    if cell == 'embryonic day 15.5':\n",
    "        colores.append('darkorange')\n",
    "    if cell == 'embryonic day 18.5':\n",
    "        colores.append('forestgreen')\n",
    "    if cell == 'postnatal day 1':\n",
    "        colores.append('skyblue')\n",
    "    if cell == 'postnatal day 7':\n",
    "        colores.append('indigo')\n",
    "    if cell == 'postnatal day 90':\n",
    "        colores.append('navy')\n",
    "        \n",
    "from matplotlib.gridspec import GridSpec\n",
    "plt.tight_layout()\n",
    "fig = plt.figure(figsize=(9*cm, 6.75*cm))\n",
    "ax = fig.add_subplot(111, projection='3d')\n",
    "# gs = GridSpec(1,5)\n",
    "# gs.update(wspace=0.05, hspace=0.10)\n",
    "# ax = fig.add_subplot(gs[0,0:4], projection='3d')\n",
    "# ax_2 = fig.add_subplot(gs[0,4])\n",
    "ax.grid(False)\n",
    "ax.scatter(rd.PC_1, rd.PC_2, rd.PC_3, c=colores, s=10, linewidth=0, alpha=0.8)\n",
    "# ax.scatter(rd.PC_1, rd.PC_3, c=colores)\n",
    "ax.set_yticks([-10, -5, 0, 5, 10])\n",
    "ax.tick_params(labelsize=8, length=5)#, direction=\"in\", pad=-22)\n",
    "ax.tick_params(axis='y',labelsize=8, length=5, direction=\"in\", pad=-15)\n",
    "ax.tick_params(axis='x',labelsize=8, length=5, direction=\"out\", pad=-5)\n",
    "ax.tick_params(axis='z',labelsize=8, length=5, direction=\"out\", pad=-4)\n",
    "\n",
    "\n",
    "# ax.set_title('Mouse neurogenesis', fontsize=12)\n",
    "ax.set_xlabel('PC 1', fontsize=12,labelpad=-5)\n",
    "ax.set_ylabel('PC 2', fontsize=12,labelpad=-5)\n",
    "ax.set_zlabel('PC 3', fontsize=12,labelpad=-8, rotation=90)\n",
    "ax.spines[\"right\"].set_visible(False)\n",
    "ax.spines[\"top\"].set_visible(False)\n",
    "\n",
    "\n",
    "ax.xaxis.pane.fill = False\n",
    "ax.yaxis.pane.fill = False\n",
    "ax.zaxis.pane.fill = False\n",
    "\n",
    "# Now set color to white (or whatever is \"invisible\")\n",
    "ax.xaxis.pane.set_edgecolor('w')\n",
    "ax.yaxis.pane.set_edgecolor('w')\n",
    "ax.zaxis.pane.set_edgecolor('w')\n",
    "\n",
    "plt.show()\n",
    "# plt.savefig('../../plots/PCA_neurogenesis3D.png', bbox_inches='tight', res=20000, dpi =2000)\n"
   ]
  },
  {
   "cell_type": "code",
   "execution_count": null,
   "metadata": {},
   "outputs": [],
   "source": []
  }
 ],
 "metadata": {
  "kernelspec": {
   "display_name": "Python 3",
   "language": "python",
   "name": "python3"
  },
  "language_info": {
   "codemirror_mode": {
    "name": "ipython",
    "version": 3
   },
   "file_extension": ".py",
   "mimetype": "text/x-python",
   "name": "python",
   "nbconvert_exporter": "python",
   "pygments_lexer": "ipython3",
   "version": "3.7.6"
  }
 },
 "nbformat": 4,
 "nbformat_minor": 4
}
