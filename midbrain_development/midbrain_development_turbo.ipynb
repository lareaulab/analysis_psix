{
 "cells": [
  {
   "cell_type": "code",
   "execution_count": 53,
   "metadata": {},
   "outputs": [],
   "source": [
    "import numpy as np\n",
    "import psix\n",
    "from scipy.stats import pearsonr, spearmanr\n",
    "from matplotlib import pyplot as plt\n",
    "from time import time"
   ]
  },
  {
   "cell_type": "markdown",
   "metadata": {},
   "source": [
    "## Psix turbo runtime is ~20 times faster than regular Psix\n",
    "\n",
    "Psix turbo uses look-up tables to assign scores to each exon for each cell. As a result, it is much faster than regular Psix. "
   ]
  },
  {
   "cell_type": "code",
   "execution_count": 67,
   "metadata": {},
   "outputs": [
    {
     "name": "stderr",
     "output_type": "stream",
     "text": [
      "100%|██████████| 20/20 [00:00<00:00, 67.14it/s]"
     ]
    },
    {
     "name": "stdout",
     "output_type": "stream",
     "text": [
      "Computing cell-cell metric...\n"
     ]
    },
    {
     "name": "stderr",
     "output_type": "stream",
     "text": [
      "\n",
      "100%|██████████| 1067/1067 [00:00<00:00, 7136.67it/s]"
     ]
    },
    {
     "name": "stdout",
     "output_type": "stream",
     "text": [
      "Successfully computed cell-cell metric\n",
      "Computing Psix score in 2087 exons\n"
     ]
    },
    {
     "name": "stderr",
     "output_type": "stream",
     "text": [
      "\n",
      "100%|██████████| 2087/2087 [00:10<00:00, 197.36it/s]"
     ]
    },
    {
     "name": "stdout",
     "output_type": "stream",
     "text": [
      "Successfully computed Psix score of exons.\n",
      "Estimating p-values. This might take a while...\n"
     ]
    },
    {
     "name": "stderr",
     "output_type": "stream",
     "text": [
      "\n",
      "100%|██████████| 25/25 [03:53<00:00,  9.33s/it]\n"
     ]
    },
    {
     "name": "stdout",
     "output_type": "stream",
     "text": [
      "Successfully estimated p-values\n",
      "Psix turbo total run time (one thread, 2000 random exons):\n",
      "4.13 minutes\n"
     ]
    }
   ],
   "source": [
    "psix_object_turbo = psix.Psix(psi_table = 'psix_output/psix_object/psi.tab.gz',\n",
    "                        mrna_table = 'psix_output/psix_object/mrna.tab.gz')\n",
    "\n",
    "t = time()\n",
    "psix_object_turbo.run_psix(latent='data/pc3_rd.tab.gz', n_jobs=1, n_random_exons = 2000,\n",
    "                     turbo='/mnt/lareaulab/cfbuenabadn/psix_project/psix/psix/psix_turbo/')\n",
    "t_turbo = time()\n",
    "print('Psix turbo total run time (one thread, 2000 random exons):')\n",
    "print(str(round((t_turbo-t)/60, 2)) + ' minutes')"
   ]
  },
  {
   "cell_type": "code",
   "execution_count": 68,
   "metadata": {},
   "outputs": [
    {
     "name": "stdout",
     "output_type": "stream",
     "text": [
      "Computing cell-cell metric...\n"
     ]
    },
    {
     "name": "stderr",
     "output_type": "stream",
     "text": [
      "100%|██████████| 1067/1067 [00:00<00:00, 7062.23it/s]"
     ]
    },
    {
     "name": "stdout",
     "output_type": "stream",
     "text": [
      "Successfully computed cell-cell metric\n",
      "Computing Psix score in 2087 exons\n"
     ]
    },
    {
     "name": "stderr",
     "output_type": "stream",
     "text": [
      "\n",
      "100%|██████████| 2087/2087 [04:18<00:00,  8.08it/s]"
     ]
    },
    {
     "name": "stdout",
     "output_type": "stream",
     "text": [
      "Successfully computed Psix score of exons.\n",
      "Estimating p-values. This might take a while...\n"
     ]
    },
    {
     "name": "stderr",
     "output_type": "stream",
     "text": [
      "\n",
      "100%|██████████| 25/25 [1:39:43<00:00, 239.34s/it]  \n"
     ]
    },
    {
     "name": "stdout",
     "output_type": "stream",
     "text": [
      "Successfully estimated p-values\n",
      "Psix total run time (one thread, 2000 random exons):\n",
      "104.09 minutes\n"
     ]
    }
   ],
   "source": [
    "psix_object = psix.Psix(psi_table = 'psix_output/psix_object/psi.tab.gz',\n",
    "                        mrna_table = 'psix_output/psix_object/mrna.tab.gz')\n",
    "t1 = time()\n",
    "psix_object.run_psix(latent='data/pc3_rd.tab.gz', n_jobs=1, n_random_exons = 2000)\n",
    "time_normal = time()\n",
    "print('Psix total run time (one thread, 2000 random exons):')\n",
    "print(str(round((time_normal-t1)/60, 2)) + ' minutes')"
   ]
  },
  {
   "cell_type": "markdown",
   "metadata": {},
   "source": [
    "## Multi-threading considerable speeds up Psix and Psix turbo"
   ]
  },
  {
   "cell_type": "code",
   "execution_count": 70,
   "metadata": {},
   "outputs": [
    {
     "name": "stderr",
     "output_type": "stream",
     "text": [
      "100%|██████████| 20/20 [00:00<00:00, 60.47it/s]"
     ]
    },
    {
     "name": "stdout",
     "output_type": "stream",
     "text": [
      "Computing cell-cell metric...\n"
     ]
    },
    {
     "name": "stderr",
     "output_type": "stream",
     "text": [
      "\n",
      "100%|██████████| 1067/1067 [00:00<00:00, 5548.59it/s]"
     ]
    },
    {
     "name": "stdout",
     "output_type": "stream",
     "text": [
      "Successfully computed cell-cell metric\n",
      "Computing Psix score in 2087 exons\n"
     ]
    },
    {
     "name": "stderr",
     "output_type": "stream",
     "text": [
      "\n",
      "100%|██████████| 2087/2087 [00:02<00:00, 874.56it/s]\n"
     ]
    },
    {
     "name": "stdout",
     "output_type": "stream",
     "text": [
      "Successfully computed Psix score of exons.\n",
      "Estimating p-values. This might take a while...\n"
     ]
    },
    {
     "name": "stderr",
     "output_type": "stream",
     "text": [
      "100%|██████████| 25/25 [00:22<00:00,  1.14it/s]\n"
     ]
    },
    {
     "name": "stdout",
     "output_type": "stream",
     "text": [
      "Successfully estimated p-values\n",
      "Psix turbo total run time (one thread, 2000 random exons):\n",
      "0.49 minutes\n"
     ]
    }
   ],
   "source": [
    "psix_object_turbo = psix.Psix(psi_table = 'psix_output/psix_object/psi.tab.gz',\n",
    "                        mrna_table = 'psix_output/psix_object/mrna.tab.gz')\n",
    "\n",
    "t = time()\n",
    "psix_object_turbo.run_psix(latent='data/pc3_rd.tab.gz', n_jobs=25, n_random_exons = 2000,\n",
    "                     turbo='/mnt/lareaulab/cfbuenabadn/psix_project/psix/psix/psix_turbo/')\n",
    "t_turbo = time()\n",
    "print('Psix turbo total run time (one thread, 2000 random exons):')\n",
    "print(str(round((t_turbo-t)/60, 2)) + ' minutes')"
   ]
  },
  {
   "cell_type": "code",
   "execution_count": 71,
   "metadata": {},
   "outputs": [
    {
     "name": "stdout",
     "output_type": "stream",
     "text": [
      "Computing cell-cell metric...\n"
     ]
    },
    {
     "name": "stderr",
     "output_type": "stream",
     "text": [
      "100%|██████████| 1067/1067 [00:00<00:00, 6948.86it/s]"
     ]
    },
    {
     "name": "stdout",
     "output_type": "stream",
     "text": [
      "Successfully computed cell-cell metric\n",
      "Computing Psix score in 2087 exons\n"
     ]
    },
    {
     "name": "stderr",
     "output_type": "stream",
     "text": [
      "\n",
      "100%|██████████| 2087/2087 [00:17<00:00, 121.68it/s]"
     ]
    },
    {
     "name": "stdout",
     "output_type": "stream",
     "text": [
      "Successfully computed Psix score of exons.\n",
      "Estimating p-values. This might take a while...\n"
     ]
    },
    {
     "name": "stderr",
     "output_type": "stream",
     "text": [
      "\n",
      "100%|██████████| 25/25 [08:31<00:00, 20.47s/it]  \n"
     ]
    },
    {
     "name": "stdout",
     "output_type": "stream",
     "text": [
      "Successfully estimated p-values\n",
      "Psix total run time (one thread, 2000 random exons):\n",
      "8.9 minutes\n"
     ]
    }
   ],
   "source": [
    "psix_object = psix.Psix(psi_table = 'psix_output/psix_object/psi.tab.gz',\n",
    "                        mrna_table = 'psix_output/psix_object/mrna.tab.gz')\n",
    "t1 = time()\n",
    "psix_object.run_psix(latent='data/pc3_rd.tab.gz', n_jobs=25, n_random_exons = 2000)\n",
    "time_normal = time()\n",
    "print('Psix total run time (one thread, 2000 random exons):')\n",
    "print(str(round((time_normal-t1)/60, 2)) + ' minutes')"
   ]
  },
  {
   "cell_type": "markdown",
   "metadata": {},
   "source": [
    "## Score correlation\n",
    "\n",
    "Psix turbo comes with a slight penaty on score accuracy. Psix turbo has a maximum cap in the number of mRNAs that it considers per observation; by default, 20 mRNAs. Any observation with more than 20 mRNAs (or another assigned cap) will be considered as having 20 mRNAs. As a result, the score in some exons will deviate from the score of regular Psix. Nonetheless, the scores are highly correlated, with the set of significant exons very similar."
   ]
  },
  {
   "cell_type": "code",
   "execution_count": 64,
   "metadata": {},
   "outputs": [
    {
     "data": {
      "image/png": "[encoded data removed]",
      "text/plain": [
       "<Figure size 324x216 with 1 Axes>"
      ]
     },
     "metadata": {
      "needs_background": "light"
     },
     "output_type": "display_data"
    }
   ],
   "source": [
    "fig = plt.figure(figsize=(4.5, 3))\n",
    "ax = fig.add_subplot(111)\n",
    "ax.scatter(psix_object.psix_results.psix_score, \n",
    "            psix_object_turbo.psix_results.loc[psix_object.psix_results.psix_score.index].psix_score)\n",
    "\n",
    "pr = round(pearsonr(psix_object.psix_results.psix_score, \n",
    "            psix_object_turbo.psix_results.loc[psix_object.psix_results.psix_score.index].psix_score)[0], 2)\n",
    "sr = round(spearmanr(psix_object.psix_results.psix_score, \n",
    "            psix_object_turbo.psix_results.loc[psix_object.psix_results.psix_score.index].psix_score)[0], 2)\n",
    "\n",
    "plt.text(1.8, 0.5, 'Pearson r: ' + str(pr))\n",
    "plt.text(1.8, 0.25, 'Spearman r: ' + str(sr))\n",
    "\n",
    "\n",
    "ax.set_xlabel(r'Psix $\\Psi_\\xi$', size=16)\n",
    "ax.set_ylabel(r'Psix turbo $\\Psi_\\xi$', size=16)\n",
    "ax.spines[\"right\"].set_visible(False)\n",
    "ax.spines[\"top\"].set_visible(False)"
   ]
  },
  {
   "cell_type": "markdown",
   "metadata": {},
   "source": [
    "#### Overlap of significant exons"
   ]
  },
  {
   "cell_type": "code",
   "execution_count": 66,
   "metadata": {},
   "outputs": [
    {
     "data": {
      "text/plain": [
       "0.8849449204406364"
      ]
     },
     "execution_count": 66,
     "metadata": {},
     "output_type": "execute_result"
    }
   ],
   "source": [
    "from sklearn.metrics import jaccard_score\n",
    "jaccard_score(psix_object.psix_results.qvals < 0.05, \n",
    "              psix_object_turbo.psix_results.loc[psix_object.psix_results.index].qvals < 0.05)"
   ]
  },
  {
   "cell_type": "code",
   "execution_count": null,
   "metadata": {},
   "outputs": [],
   "source": []
  }
 ],
 "metadata": {
  "kernelspec": {
   "display_name": "Python 3",
   "language": "python",
   "name": "python3"
  },
  "language_info": {
   "codemirror_mode": {
    "name": "ipython",
    "version": 3
   },
   "file_extension": ".py",
   "mimetype": "text/x-python",
   "name": "python",
   "nbconvert_exporter": "python",
   "pygments_lexer": "ipython3",
   "version": "3.7.9"
  }
 },
 "nbformat": 4,
 "nbformat_minor": 4
}
